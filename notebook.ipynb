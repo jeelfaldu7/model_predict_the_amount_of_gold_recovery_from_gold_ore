{
 "cells": [
  {
   "cell_type": "markdown",
   "metadata": {},
   "source": [
    "# A Model to Predict the Amount of Gold Recovery from Gold Ore"
   ]
  },
  {
   "cell_type": "markdown",
   "metadata": {
    "vscode": {
     "languageId": "plaintext"
    }
   },
   "source": [
    "## Introduction"
   ]
  },
  {
   "cell_type": "markdown",
   "metadata": {
    "vscode": {
     "languageId": "plaintext"
    }
   },
   "source": [
    "The project is based on the extraction and purfication data from Zyfra, a gold mining company to develop a prototype of a machine learning model to predict the amount of gold recovered from gold ore. "
   ]
  },
  {
   "cell_type": "markdown",
   "metadata": {},
   "source": [
    "## Data Overview"
   ]
  },
  {
   "cell_type": "code",
   "execution_count": 1,
   "metadata": {},
   "outputs": [],
   "source": [
    "# Important necessary libraries\n",
    "import pandas as pd\n",
    "from matplotlib import pyplot as plt\n",
    "import seaborn as sns\n",
    "import numpy as np\n",
    "from scipy import stats as st\n",
    "\n",
    "from sklearn.metrics import mean_absolute_error, make_scorer\n",
    "from sklearn.model_selection import train_test_split, cross_val_score, GridSearchCV\n",
    "from sklearn.ensemble import RandomForestRegressor\n",
    "from sklearn.tree import DecisionTreeRegressor"
   ]
  },
  {
   "cell_type": "markdown",
   "metadata": {},
   "source": [
    "### Open the files and look into the data"
   ]
  },
  {
   "cell_type": "code",
   "execution_count": 2,
   "metadata": {},
   "outputs": [
    {
     "data": {
      "text/html": [
       "<div>\n",
       "<style scoped>\n",
       "    .dataframe tbody tr th:only-of-type {\n",
       "        vertical-align: middle;\n",
       "    }\n",
       "\n",
       "    .dataframe tbody tr th {\n",
       "        vertical-align: top;\n",
       "    }\n",
       "\n",
       "    .dataframe thead th {\n",
       "        text-align: right;\n",
       "    }\n",
       "</style>\n",
       "<table border=\"1\" class=\"dataframe\">\n",
       "  <thead>\n",
       "    <tr style=\"text-align: right;\">\n",
       "      <th></th>\n",
       "      <th>date</th>\n",
       "      <th>final.output.concentrate_ag</th>\n",
       "      <th>final.output.concentrate_pb</th>\n",
       "      <th>final.output.concentrate_sol</th>\n",
       "      <th>final.output.concentrate_au</th>\n",
       "      <th>final.output.recovery</th>\n",
       "      <th>final.output.tail_ag</th>\n",
       "      <th>final.output.tail_pb</th>\n",
       "      <th>final.output.tail_sol</th>\n",
       "      <th>final.output.tail_au</th>\n",
       "      <th>...</th>\n",
       "      <th>secondary_cleaner.state.floatbank4_a_air</th>\n",
       "      <th>secondary_cleaner.state.floatbank4_a_level</th>\n",
       "      <th>secondary_cleaner.state.floatbank4_b_air</th>\n",
       "      <th>secondary_cleaner.state.floatbank4_b_level</th>\n",
       "      <th>secondary_cleaner.state.floatbank5_a_air</th>\n",
       "      <th>secondary_cleaner.state.floatbank5_a_level</th>\n",
       "      <th>secondary_cleaner.state.floatbank5_b_air</th>\n",
       "      <th>secondary_cleaner.state.floatbank5_b_level</th>\n",
       "      <th>secondary_cleaner.state.floatbank6_a_air</th>\n",
       "      <th>secondary_cleaner.state.floatbank6_a_level</th>\n",
       "    </tr>\n",
       "  </thead>\n",
       "  <tbody>\n",
       "    <tr>\n",
       "      <th>0</th>\n",
       "      <td>2016-01-15 00:00:00</td>\n",
       "      <td>6.055403</td>\n",
       "      <td>9.889648</td>\n",
       "      <td>5.507324</td>\n",
       "      <td>42.192020</td>\n",
       "      <td>70.541216</td>\n",
       "      <td>10.411962</td>\n",
       "      <td>0.895447</td>\n",
       "      <td>16.904297</td>\n",
       "      <td>2.143149</td>\n",
       "      <td>...</td>\n",
       "      <td>14.016835</td>\n",
       "      <td>-502.488007</td>\n",
       "      <td>12.099931</td>\n",
       "      <td>-504.715942</td>\n",
       "      <td>9.925633</td>\n",
       "      <td>-498.310211</td>\n",
       "      <td>8.079666</td>\n",
       "      <td>-500.470978</td>\n",
       "      <td>14.151341</td>\n",
       "      <td>-605.841980</td>\n",
       "    </tr>\n",
       "    <tr>\n",
       "      <th>1</th>\n",
       "      <td>2016-01-15 01:00:00</td>\n",
       "      <td>6.029369</td>\n",
       "      <td>9.968944</td>\n",
       "      <td>5.257781</td>\n",
       "      <td>42.701629</td>\n",
       "      <td>69.266198</td>\n",
       "      <td>10.462676</td>\n",
       "      <td>0.927452</td>\n",
       "      <td>16.634514</td>\n",
       "      <td>2.224930</td>\n",
       "      <td>...</td>\n",
       "      <td>13.992281</td>\n",
       "      <td>-505.503262</td>\n",
       "      <td>11.950531</td>\n",
       "      <td>-501.331529</td>\n",
       "      <td>10.039245</td>\n",
       "      <td>-500.169983</td>\n",
       "      <td>7.984757</td>\n",
       "      <td>-500.582168</td>\n",
       "      <td>13.998353</td>\n",
       "      <td>-599.787184</td>\n",
       "    </tr>\n",
       "    <tr>\n",
       "      <th>2</th>\n",
       "      <td>2016-01-15 02:00:00</td>\n",
       "      <td>6.055926</td>\n",
       "      <td>10.213995</td>\n",
       "      <td>5.383759</td>\n",
       "      <td>42.657501</td>\n",
       "      <td>68.116445</td>\n",
       "      <td>10.507046</td>\n",
       "      <td>0.953716</td>\n",
       "      <td>16.208849</td>\n",
       "      <td>2.257889</td>\n",
       "      <td>...</td>\n",
       "      <td>14.015015</td>\n",
       "      <td>-502.520901</td>\n",
       "      <td>11.912783</td>\n",
       "      <td>-501.133383</td>\n",
       "      <td>10.070913</td>\n",
       "      <td>-500.129135</td>\n",
       "      <td>8.013877</td>\n",
       "      <td>-500.517572</td>\n",
       "      <td>14.028663</td>\n",
       "      <td>-601.427363</td>\n",
       "    </tr>\n",
       "    <tr>\n",
       "      <th>3</th>\n",
       "      <td>2016-01-15 03:00:00</td>\n",
       "      <td>6.047977</td>\n",
       "      <td>9.977019</td>\n",
       "      <td>4.858634</td>\n",
       "      <td>42.689819</td>\n",
       "      <td>68.347543</td>\n",
       "      <td>10.422762</td>\n",
       "      <td>0.883763</td>\n",
       "      <td>16.532835</td>\n",
       "      <td>2.146849</td>\n",
       "      <td>...</td>\n",
       "      <td>14.036510</td>\n",
       "      <td>-500.857308</td>\n",
       "      <td>11.999550</td>\n",
       "      <td>-501.193686</td>\n",
       "      <td>9.970366</td>\n",
       "      <td>-499.201640</td>\n",
       "      <td>7.977324</td>\n",
       "      <td>-500.255908</td>\n",
       "      <td>14.005551</td>\n",
       "      <td>-599.996129</td>\n",
       "    </tr>\n",
       "    <tr>\n",
       "      <th>4</th>\n",
       "      <td>2016-01-15 04:00:00</td>\n",
       "      <td>6.148599</td>\n",
       "      <td>10.142511</td>\n",
       "      <td>4.939416</td>\n",
       "      <td>42.774141</td>\n",
       "      <td>66.927016</td>\n",
       "      <td>10.360302</td>\n",
       "      <td>0.792826</td>\n",
       "      <td>16.525686</td>\n",
       "      <td>2.055292</td>\n",
       "      <td>...</td>\n",
       "      <td>14.027298</td>\n",
       "      <td>-499.838632</td>\n",
       "      <td>11.953070</td>\n",
       "      <td>-501.053894</td>\n",
       "      <td>9.925709</td>\n",
       "      <td>-501.686727</td>\n",
       "      <td>7.894242</td>\n",
       "      <td>-500.356035</td>\n",
       "      <td>13.996647</td>\n",
       "      <td>-601.496691</td>\n",
       "    </tr>\n",
       "    <tr>\n",
       "      <th>...</th>\n",
       "      <td>...</td>\n",
       "      <td>...</td>\n",
       "      <td>...</td>\n",
       "      <td>...</td>\n",
       "      <td>...</td>\n",
       "      <td>...</td>\n",
       "      <td>...</td>\n",
       "      <td>...</td>\n",
       "      <td>...</td>\n",
       "      <td>...</td>\n",
       "      <td>...</td>\n",
       "      <td>...</td>\n",
       "      <td>...</td>\n",
       "      <td>...</td>\n",
       "      <td>...</td>\n",
       "      <td>...</td>\n",
       "      <td>...</td>\n",
       "      <td>...</td>\n",
       "      <td>...</td>\n",
       "      <td>...</td>\n",
       "      <td>...</td>\n",
       "    </tr>\n",
       "    <tr>\n",
       "      <th>16855</th>\n",
       "      <td>2018-08-18 06:59:59</td>\n",
       "      <td>3.224920</td>\n",
       "      <td>11.356233</td>\n",
       "      <td>6.803482</td>\n",
       "      <td>46.713954</td>\n",
       "      <td>73.755150</td>\n",
       "      <td>8.769645</td>\n",
       "      <td>3.141541</td>\n",
       "      <td>10.403181</td>\n",
       "      <td>1.529220</td>\n",
       "      <td>...</td>\n",
       "      <td>23.031497</td>\n",
       "      <td>-501.167942</td>\n",
       "      <td>20.007571</td>\n",
       "      <td>-499.740028</td>\n",
       "      <td>18.006038</td>\n",
       "      <td>-499.834374</td>\n",
       "      <td>13.001114</td>\n",
       "      <td>-500.155694</td>\n",
       "      <td>20.007840</td>\n",
       "      <td>-501.296428</td>\n",
       "    </tr>\n",
       "    <tr>\n",
       "      <th>16856</th>\n",
       "      <td>2018-08-18 07:59:59</td>\n",
       "      <td>3.195978</td>\n",
       "      <td>11.349355</td>\n",
       "      <td>6.862249</td>\n",
       "      <td>46.866780</td>\n",
       "      <td>69.049291</td>\n",
       "      <td>8.897321</td>\n",
       "      <td>3.130493</td>\n",
       "      <td>10.549470</td>\n",
       "      <td>1.612542</td>\n",
       "      <td>...</td>\n",
       "      <td>22.960095</td>\n",
       "      <td>-501.612783</td>\n",
       "      <td>20.035660</td>\n",
       "      <td>-500.251357</td>\n",
       "      <td>17.998535</td>\n",
       "      <td>-500.395178</td>\n",
       "      <td>12.954048</td>\n",
       "      <td>-499.895163</td>\n",
       "      <td>19.968498</td>\n",
       "      <td>-501.041608</td>\n",
       "    </tr>\n",
       "    <tr>\n",
       "      <th>16857</th>\n",
       "      <td>2018-08-18 08:59:59</td>\n",
       "      <td>3.109998</td>\n",
       "      <td>11.434366</td>\n",
       "      <td>6.886013</td>\n",
       "      <td>46.795691</td>\n",
       "      <td>67.002189</td>\n",
       "      <td>8.529606</td>\n",
       "      <td>2.911418</td>\n",
       "      <td>11.115147</td>\n",
       "      <td>1.596616</td>\n",
       "      <td>...</td>\n",
       "      <td>23.015718</td>\n",
       "      <td>-501.711599</td>\n",
       "      <td>19.951231</td>\n",
       "      <td>-499.857027</td>\n",
       "      <td>18.019543</td>\n",
       "      <td>-500.451156</td>\n",
       "      <td>13.023431</td>\n",
       "      <td>-499.914391</td>\n",
       "      <td>19.990885</td>\n",
       "      <td>-501.518452</td>\n",
       "    </tr>\n",
       "    <tr>\n",
       "      <th>16858</th>\n",
       "      <td>2018-08-18 09:59:59</td>\n",
       "      <td>3.367241</td>\n",
       "      <td>11.625587</td>\n",
       "      <td>6.799433</td>\n",
       "      <td>46.408188</td>\n",
       "      <td>65.523246</td>\n",
       "      <td>8.777171</td>\n",
       "      <td>2.819214</td>\n",
       "      <td>10.463847</td>\n",
       "      <td>1.602879</td>\n",
       "      <td>...</td>\n",
       "      <td>23.024963</td>\n",
       "      <td>-501.153409</td>\n",
       "      <td>20.054122</td>\n",
       "      <td>-500.314711</td>\n",
       "      <td>17.979515</td>\n",
       "      <td>-499.272871</td>\n",
       "      <td>12.992404</td>\n",
       "      <td>-499.976268</td>\n",
       "      <td>20.013986</td>\n",
       "      <td>-500.625471</td>\n",
       "    </tr>\n",
       "    <tr>\n",
       "      <th>16859</th>\n",
       "      <td>2018-08-18 10:59:59</td>\n",
       "      <td>3.598375</td>\n",
       "      <td>11.737832</td>\n",
       "      <td>6.717509</td>\n",
       "      <td>46.299438</td>\n",
       "      <td>70.281454</td>\n",
       "      <td>8.406690</td>\n",
       "      <td>2.517518</td>\n",
       "      <td>10.652193</td>\n",
       "      <td>1.389434</td>\n",
       "      <td>...</td>\n",
       "      <td>23.018622</td>\n",
       "      <td>-500.492702</td>\n",
       "      <td>20.020205</td>\n",
       "      <td>-500.220296</td>\n",
       "      <td>17.963512</td>\n",
       "      <td>-499.939490</td>\n",
       "      <td>12.990306</td>\n",
       "      <td>-500.080993</td>\n",
       "      <td>19.990336</td>\n",
       "      <td>-499.191575</td>\n",
       "    </tr>\n",
       "  </tbody>\n",
       "</table>\n",
       "<p>16860 rows × 87 columns</p>\n",
       "</div>"
      ],
      "text/plain": [
       "                      date  final.output.concentrate_ag  \\\n",
       "0      2016-01-15 00:00:00                     6.055403   \n",
       "1      2016-01-15 01:00:00                     6.029369   \n",
       "2      2016-01-15 02:00:00                     6.055926   \n",
       "3      2016-01-15 03:00:00                     6.047977   \n",
       "4      2016-01-15 04:00:00                     6.148599   \n",
       "...                    ...                          ...   \n",
       "16855  2018-08-18 06:59:59                     3.224920   \n",
       "16856  2018-08-18 07:59:59                     3.195978   \n",
       "16857  2018-08-18 08:59:59                     3.109998   \n",
       "16858  2018-08-18 09:59:59                     3.367241   \n",
       "16859  2018-08-18 10:59:59                     3.598375   \n",
       "\n",
       "       final.output.concentrate_pb  final.output.concentrate_sol  \\\n",
       "0                         9.889648                      5.507324   \n",
       "1                         9.968944                      5.257781   \n",
       "2                        10.213995                      5.383759   \n",
       "3                         9.977019                      4.858634   \n",
       "4                        10.142511                      4.939416   \n",
       "...                            ...                           ...   \n",
       "16855                    11.356233                      6.803482   \n",
       "16856                    11.349355                      6.862249   \n",
       "16857                    11.434366                      6.886013   \n",
       "16858                    11.625587                      6.799433   \n",
       "16859                    11.737832                      6.717509   \n",
       "\n",
       "       final.output.concentrate_au  final.output.recovery  \\\n",
       "0                        42.192020              70.541216   \n",
       "1                        42.701629              69.266198   \n",
       "2                        42.657501              68.116445   \n",
       "3                        42.689819              68.347543   \n",
       "4                        42.774141              66.927016   \n",
       "...                            ...                    ...   \n",
       "16855                    46.713954              73.755150   \n",
       "16856                    46.866780              69.049291   \n",
       "16857                    46.795691              67.002189   \n",
       "16858                    46.408188              65.523246   \n",
       "16859                    46.299438              70.281454   \n",
       "\n",
       "       final.output.tail_ag  final.output.tail_pb  final.output.tail_sol  \\\n",
       "0                 10.411962              0.895447              16.904297   \n",
       "1                 10.462676              0.927452              16.634514   \n",
       "2                 10.507046              0.953716              16.208849   \n",
       "3                 10.422762              0.883763              16.532835   \n",
       "4                 10.360302              0.792826              16.525686   \n",
       "...                     ...                   ...                    ...   \n",
       "16855              8.769645              3.141541              10.403181   \n",
       "16856              8.897321              3.130493              10.549470   \n",
       "16857              8.529606              2.911418              11.115147   \n",
       "16858              8.777171              2.819214              10.463847   \n",
       "16859              8.406690              2.517518              10.652193   \n",
       "\n",
       "       final.output.tail_au  ...  secondary_cleaner.state.floatbank4_a_air  \\\n",
       "0                  2.143149  ...                                 14.016835   \n",
       "1                  2.224930  ...                                 13.992281   \n",
       "2                  2.257889  ...                                 14.015015   \n",
       "3                  2.146849  ...                                 14.036510   \n",
       "4                  2.055292  ...                                 14.027298   \n",
       "...                     ...  ...                                       ...   \n",
       "16855              1.529220  ...                                 23.031497   \n",
       "16856              1.612542  ...                                 22.960095   \n",
       "16857              1.596616  ...                                 23.015718   \n",
       "16858              1.602879  ...                                 23.024963   \n",
       "16859              1.389434  ...                                 23.018622   \n",
       "\n",
       "       secondary_cleaner.state.floatbank4_a_level  \\\n",
       "0                                     -502.488007   \n",
       "1                                     -505.503262   \n",
       "2                                     -502.520901   \n",
       "3                                     -500.857308   \n",
       "4                                     -499.838632   \n",
       "...                                           ...   \n",
       "16855                                 -501.167942   \n",
       "16856                                 -501.612783   \n",
       "16857                                 -501.711599   \n",
       "16858                                 -501.153409   \n",
       "16859                                 -500.492702   \n",
       "\n",
       "       secondary_cleaner.state.floatbank4_b_air  \\\n",
       "0                                     12.099931   \n",
       "1                                     11.950531   \n",
       "2                                     11.912783   \n",
       "3                                     11.999550   \n",
       "4                                     11.953070   \n",
       "...                                         ...   \n",
       "16855                                 20.007571   \n",
       "16856                                 20.035660   \n",
       "16857                                 19.951231   \n",
       "16858                                 20.054122   \n",
       "16859                                 20.020205   \n",
       "\n",
       "       secondary_cleaner.state.floatbank4_b_level  \\\n",
       "0                                     -504.715942   \n",
       "1                                     -501.331529   \n",
       "2                                     -501.133383   \n",
       "3                                     -501.193686   \n",
       "4                                     -501.053894   \n",
       "...                                           ...   \n",
       "16855                                 -499.740028   \n",
       "16856                                 -500.251357   \n",
       "16857                                 -499.857027   \n",
       "16858                                 -500.314711   \n",
       "16859                                 -500.220296   \n",
       "\n",
       "       secondary_cleaner.state.floatbank5_a_air  \\\n",
       "0                                      9.925633   \n",
       "1                                     10.039245   \n",
       "2                                     10.070913   \n",
       "3                                      9.970366   \n",
       "4                                      9.925709   \n",
       "...                                         ...   \n",
       "16855                                 18.006038   \n",
       "16856                                 17.998535   \n",
       "16857                                 18.019543   \n",
       "16858                                 17.979515   \n",
       "16859                                 17.963512   \n",
       "\n",
       "       secondary_cleaner.state.floatbank5_a_level  \\\n",
       "0                                     -498.310211   \n",
       "1                                     -500.169983   \n",
       "2                                     -500.129135   \n",
       "3                                     -499.201640   \n",
       "4                                     -501.686727   \n",
       "...                                           ...   \n",
       "16855                                 -499.834374   \n",
       "16856                                 -500.395178   \n",
       "16857                                 -500.451156   \n",
       "16858                                 -499.272871   \n",
       "16859                                 -499.939490   \n",
       "\n",
       "       secondary_cleaner.state.floatbank5_b_air  \\\n",
       "0                                      8.079666   \n",
       "1                                      7.984757   \n",
       "2                                      8.013877   \n",
       "3                                      7.977324   \n",
       "4                                      7.894242   \n",
       "...                                         ...   \n",
       "16855                                 13.001114   \n",
       "16856                                 12.954048   \n",
       "16857                                 13.023431   \n",
       "16858                                 12.992404   \n",
       "16859                                 12.990306   \n",
       "\n",
       "       secondary_cleaner.state.floatbank5_b_level  \\\n",
       "0                                     -500.470978   \n",
       "1                                     -500.582168   \n",
       "2                                     -500.517572   \n",
       "3                                     -500.255908   \n",
       "4                                     -500.356035   \n",
       "...                                           ...   \n",
       "16855                                 -500.155694   \n",
       "16856                                 -499.895163   \n",
       "16857                                 -499.914391   \n",
       "16858                                 -499.976268   \n",
       "16859                                 -500.080993   \n",
       "\n",
       "       secondary_cleaner.state.floatbank6_a_air  \\\n",
       "0                                     14.151341   \n",
       "1                                     13.998353   \n",
       "2                                     14.028663   \n",
       "3                                     14.005551   \n",
       "4                                     13.996647   \n",
       "...                                         ...   \n",
       "16855                                 20.007840   \n",
       "16856                                 19.968498   \n",
       "16857                                 19.990885   \n",
       "16858                                 20.013986   \n",
       "16859                                 19.990336   \n",
       "\n",
       "       secondary_cleaner.state.floatbank6_a_level  \n",
       "0                                     -605.841980  \n",
       "1                                     -599.787184  \n",
       "2                                     -601.427363  \n",
       "3                                     -599.996129  \n",
       "4                                     -601.496691  \n",
       "...                                           ...  \n",
       "16855                                 -501.296428  \n",
       "16856                                 -501.041608  \n",
       "16857                                 -501.518452  \n",
       "16858                                 -500.625471  \n",
       "16859                                 -499.191575  \n",
       "\n",
       "[16860 rows x 87 columns]"
      ]
     },
     "metadata": {},
     "output_type": "display_data"
    },
    {
     "data": {
      "text/html": [
       "<div>\n",
       "<style scoped>\n",
       "    .dataframe tbody tr th:only-of-type {\n",
       "        vertical-align: middle;\n",
       "    }\n",
       "\n",
       "    .dataframe tbody tr th {\n",
       "        vertical-align: top;\n",
       "    }\n",
       "\n",
       "    .dataframe thead th {\n",
       "        text-align: right;\n",
       "    }\n",
       "</style>\n",
       "<table border=\"1\" class=\"dataframe\">\n",
       "  <thead>\n",
       "    <tr style=\"text-align: right;\">\n",
       "      <th></th>\n",
       "      <th>date</th>\n",
       "      <th>primary_cleaner.input.sulfate</th>\n",
       "      <th>primary_cleaner.input.depressant</th>\n",
       "      <th>primary_cleaner.input.feed_size</th>\n",
       "      <th>primary_cleaner.input.xanthate</th>\n",
       "      <th>primary_cleaner.state.floatbank8_a_air</th>\n",
       "      <th>primary_cleaner.state.floatbank8_a_level</th>\n",
       "      <th>primary_cleaner.state.floatbank8_b_air</th>\n",
       "      <th>primary_cleaner.state.floatbank8_b_level</th>\n",
       "      <th>primary_cleaner.state.floatbank8_c_air</th>\n",
       "      <th>...</th>\n",
       "      <th>secondary_cleaner.state.floatbank4_a_air</th>\n",
       "      <th>secondary_cleaner.state.floatbank4_a_level</th>\n",
       "      <th>secondary_cleaner.state.floatbank4_b_air</th>\n",
       "      <th>secondary_cleaner.state.floatbank4_b_level</th>\n",
       "      <th>secondary_cleaner.state.floatbank5_a_air</th>\n",
       "      <th>secondary_cleaner.state.floatbank5_a_level</th>\n",
       "      <th>secondary_cleaner.state.floatbank5_b_air</th>\n",
       "      <th>secondary_cleaner.state.floatbank5_b_level</th>\n",
       "      <th>secondary_cleaner.state.floatbank6_a_air</th>\n",
       "      <th>secondary_cleaner.state.floatbank6_a_level</th>\n",
       "    </tr>\n",
       "  </thead>\n",
       "  <tbody>\n",
       "    <tr>\n",
       "      <th>0</th>\n",
       "      <td>2016-09-01 00:59:59</td>\n",
       "      <td>210.800909</td>\n",
       "      <td>14.993118</td>\n",
       "      <td>8.080000</td>\n",
       "      <td>1.005021</td>\n",
       "      <td>1398.981301</td>\n",
       "      <td>-500.225577</td>\n",
       "      <td>1399.144926</td>\n",
       "      <td>-499.919735</td>\n",
       "      <td>1400.102998</td>\n",
       "      <td>...</td>\n",
       "      <td>12.023554</td>\n",
       "      <td>-497.795834</td>\n",
       "      <td>8.016656</td>\n",
       "      <td>-501.289139</td>\n",
       "      <td>7.946562</td>\n",
       "      <td>-432.317850</td>\n",
       "      <td>4.872511</td>\n",
       "      <td>-500.037437</td>\n",
       "      <td>26.705889</td>\n",
       "      <td>-499.709414</td>\n",
       "    </tr>\n",
       "    <tr>\n",
       "      <th>1</th>\n",
       "      <td>2016-09-01 01:59:59</td>\n",
       "      <td>215.392455</td>\n",
       "      <td>14.987471</td>\n",
       "      <td>8.080000</td>\n",
       "      <td>0.990469</td>\n",
       "      <td>1398.777912</td>\n",
       "      <td>-500.057435</td>\n",
       "      <td>1398.055362</td>\n",
       "      <td>-499.778182</td>\n",
       "      <td>1396.151033</td>\n",
       "      <td>...</td>\n",
       "      <td>12.058140</td>\n",
       "      <td>-498.695773</td>\n",
       "      <td>8.130979</td>\n",
       "      <td>-499.634209</td>\n",
       "      <td>7.958270</td>\n",
       "      <td>-525.839648</td>\n",
       "      <td>4.878850</td>\n",
       "      <td>-500.162375</td>\n",
       "      <td>25.019940</td>\n",
       "      <td>-499.819438</td>\n",
       "    </tr>\n",
       "    <tr>\n",
       "      <th>2</th>\n",
       "      <td>2016-09-01 02:59:59</td>\n",
       "      <td>215.259946</td>\n",
       "      <td>12.884934</td>\n",
       "      <td>7.786667</td>\n",
       "      <td>0.996043</td>\n",
       "      <td>1398.493666</td>\n",
       "      <td>-500.868360</td>\n",
       "      <td>1398.860436</td>\n",
       "      <td>-499.764529</td>\n",
       "      <td>1398.075709</td>\n",
       "      <td>...</td>\n",
       "      <td>11.962366</td>\n",
       "      <td>-498.767484</td>\n",
       "      <td>8.096893</td>\n",
       "      <td>-500.827423</td>\n",
       "      <td>8.071056</td>\n",
       "      <td>-500.801673</td>\n",
       "      <td>4.905125</td>\n",
       "      <td>-499.828510</td>\n",
       "      <td>24.994862</td>\n",
       "      <td>-500.622559</td>\n",
       "    </tr>\n",
       "    <tr>\n",
       "      <th>3</th>\n",
       "      <td>2016-09-01 03:59:59</td>\n",
       "      <td>215.336236</td>\n",
       "      <td>12.006805</td>\n",
       "      <td>7.640000</td>\n",
       "      <td>0.863514</td>\n",
       "      <td>1399.618111</td>\n",
       "      <td>-498.863574</td>\n",
       "      <td>1397.440120</td>\n",
       "      <td>-499.211024</td>\n",
       "      <td>1400.129303</td>\n",
       "      <td>...</td>\n",
       "      <td>12.033091</td>\n",
       "      <td>-498.350935</td>\n",
       "      <td>8.074946</td>\n",
       "      <td>-499.474407</td>\n",
       "      <td>7.897085</td>\n",
       "      <td>-500.868509</td>\n",
       "      <td>4.931400</td>\n",
       "      <td>-499.963623</td>\n",
       "      <td>24.948919</td>\n",
       "      <td>-498.709987</td>\n",
       "    </tr>\n",
       "    <tr>\n",
       "      <th>4</th>\n",
       "      <td>2016-09-01 04:59:59</td>\n",
       "      <td>199.099327</td>\n",
       "      <td>10.682530</td>\n",
       "      <td>7.530000</td>\n",
       "      <td>0.805575</td>\n",
       "      <td>1401.268123</td>\n",
       "      <td>-500.808305</td>\n",
       "      <td>1398.128818</td>\n",
       "      <td>-499.504543</td>\n",
       "      <td>1402.172226</td>\n",
       "      <td>...</td>\n",
       "      <td>12.025367</td>\n",
       "      <td>-500.786497</td>\n",
       "      <td>8.054678</td>\n",
       "      <td>-500.397500</td>\n",
       "      <td>8.107890</td>\n",
       "      <td>-509.526725</td>\n",
       "      <td>4.957674</td>\n",
       "      <td>-500.360026</td>\n",
       "      <td>25.003331</td>\n",
       "      <td>-500.856333</td>\n",
       "    </tr>\n",
       "    <tr>\n",
       "      <th>...</th>\n",
       "      <td>...</td>\n",
       "      <td>...</td>\n",
       "      <td>...</td>\n",
       "      <td>...</td>\n",
       "      <td>...</td>\n",
       "      <td>...</td>\n",
       "      <td>...</td>\n",
       "      <td>...</td>\n",
       "      <td>...</td>\n",
       "      <td>...</td>\n",
       "      <td>...</td>\n",
       "      <td>...</td>\n",
       "      <td>...</td>\n",
       "      <td>...</td>\n",
       "      <td>...</td>\n",
       "      <td>...</td>\n",
       "      <td>...</td>\n",
       "      <td>...</td>\n",
       "      <td>...</td>\n",
       "      <td>...</td>\n",
       "      <td>...</td>\n",
       "    </tr>\n",
       "    <tr>\n",
       "      <th>5851</th>\n",
       "      <td>2017-12-31 19:59:59</td>\n",
       "      <td>173.957757</td>\n",
       "      <td>15.963399</td>\n",
       "      <td>8.070000</td>\n",
       "      <td>0.896701</td>\n",
       "      <td>1401.930554</td>\n",
       "      <td>-499.728848</td>\n",
       "      <td>1401.441445</td>\n",
       "      <td>-499.193423</td>\n",
       "      <td>1399.810313</td>\n",
       "      <td>...</td>\n",
       "      <td>13.995957</td>\n",
       "      <td>-500.157454</td>\n",
       "      <td>12.069155</td>\n",
       "      <td>-499.673279</td>\n",
       "      <td>7.977259</td>\n",
       "      <td>-499.516126</td>\n",
       "      <td>5.933319</td>\n",
       "      <td>-499.965973</td>\n",
       "      <td>8.987171</td>\n",
       "      <td>-499.755909</td>\n",
       "    </tr>\n",
       "    <tr>\n",
       "      <th>5852</th>\n",
       "      <td>2017-12-31 20:59:59</td>\n",
       "      <td>172.910270</td>\n",
       "      <td>16.002605</td>\n",
       "      <td>8.070000</td>\n",
       "      <td>0.896519</td>\n",
       "      <td>1447.075722</td>\n",
       "      <td>-494.716823</td>\n",
       "      <td>1448.851892</td>\n",
       "      <td>-465.963026</td>\n",
       "      <td>1443.890424</td>\n",
       "      <td>...</td>\n",
       "      <td>16.749781</td>\n",
       "      <td>-496.031539</td>\n",
       "      <td>13.365371</td>\n",
       "      <td>-499.122723</td>\n",
       "      <td>9.288553</td>\n",
       "      <td>-496.892967</td>\n",
       "      <td>7.372897</td>\n",
       "      <td>-499.942956</td>\n",
       "      <td>8.986832</td>\n",
       "      <td>-499.903761</td>\n",
       "    </tr>\n",
       "    <tr>\n",
       "      <th>5853</th>\n",
       "      <td>2017-12-31 21:59:59</td>\n",
       "      <td>171.135718</td>\n",
       "      <td>15.993669</td>\n",
       "      <td>8.070000</td>\n",
       "      <td>1.165996</td>\n",
       "      <td>1498.836182</td>\n",
       "      <td>-501.770403</td>\n",
       "      <td>1499.572353</td>\n",
       "      <td>-495.516347</td>\n",
       "      <td>1502.749213</td>\n",
       "      <td>...</td>\n",
       "      <td>19.994130</td>\n",
       "      <td>-499.791312</td>\n",
       "      <td>15.101425</td>\n",
       "      <td>-499.936252</td>\n",
       "      <td>10.989181</td>\n",
       "      <td>-498.347898</td>\n",
       "      <td>9.020944</td>\n",
       "      <td>-500.040448</td>\n",
       "      <td>8.982038</td>\n",
       "      <td>-497.789882</td>\n",
       "    </tr>\n",
       "    <tr>\n",
       "      <th>5854</th>\n",
       "      <td>2017-12-31 22:59:59</td>\n",
       "      <td>179.697158</td>\n",
       "      <td>15.438979</td>\n",
       "      <td>8.070000</td>\n",
       "      <td>1.501068</td>\n",
       "      <td>1498.466243</td>\n",
       "      <td>-500.483984</td>\n",
       "      <td>1497.986986</td>\n",
       "      <td>-519.200340</td>\n",
       "      <td>1496.569047</td>\n",
       "      <td>...</td>\n",
       "      <td>19.958760</td>\n",
       "      <td>-499.958750</td>\n",
       "      <td>15.026853</td>\n",
       "      <td>-499.723143</td>\n",
       "      <td>11.011607</td>\n",
       "      <td>-499.985046</td>\n",
       "      <td>9.009783</td>\n",
       "      <td>-499.937902</td>\n",
       "      <td>9.012660</td>\n",
       "      <td>-500.154284</td>\n",
       "    </tr>\n",
       "    <tr>\n",
       "      <th>5855</th>\n",
       "      <td>2017-12-31 23:59:59</td>\n",
       "      <td>181.556856</td>\n",
       "      <td>14.995850</td>\n",
       "      <td>8.070000</td>\n",
       "      <td>1.623454</td>\n",
       "      <td>1498.096303</td>\n",
       "      <td>-499.796922</td>\n",
       "      <td>1501.743791</td>\n",
       "      <td>-505.146931</td>\n",
       "      <td>1499.535978</td>\n",
       "      <td>...</td>\n",
       "      <td>20.034715</td>\n",
       "      <td>-500.728588</td>\n",
       "      <td>14.914199</td>\n",
       "      <td>-499.948518</td>\n",
       "      <td>10.986607</td>\n",
       "      <td>-500.658027</td>\n",
       "      <td>8.989497</td>\n",
       "      <td>-500.337588</td>\n",
       "      <td>8.988632</td>\n",
       "      <td>-500.764937</td>\n",
       "    </tr>\n",
       "  </tbody>\n",
       "</table>\n",
       "<p>5856 rows × 53 columns</p>\n",
       "</div>"
      ],
      "text/plain": [
       "                     date  primary_cleaner.input.sulfate  \\\n",
       "0     2016-09-01 00:59:59                     210.800909   \n",
       "1     2016-09-01 01:59:59                     215.392455   \n",
       "2     2016-09-01 02:59:59                     215.259946   \n",
       "3     2016-09-01 03:59:59                     215.336236   \n",
       "4     2016-09-01 04:59:59                     199.099327   \n",
       "...                   ...                            ...   \n",
       "5851  2017-12-31 19:59:59                     173.957757   \n",
       "5852  2017-12-31 20:59:59                     172.910270   \n",
       "5853  2017-12-31 21:59:59                     171.135718   \n",
       "5854  2017-12-31 22:59:59                     179.697158   \n",
       "5855  2017-12-31 23:59:59                     181.556856   \n",
       "\n",
       "      primary_cleaner.input.depressant  primary_cleaner.input.feed_size  \\\n",
       "0                            14.993118                         8.080000   \n",
       "1                            14.987471                         8.080000   \n",
       "2                            12.884934                         7.786667   \n",
       "3                            12.006805                         7.640000   \n",
       "4                            10.682530                         7.530000   \n",
       "...                                ...                              ...   \n",
       "5851                         15.963399                         8.070000   \n",
       "5852                         16.002605                         8.070000   \n",
       "5853                         15.993669                         8.070000   \n",
       "5854                         15.438979                         8.070000   \n",
       "5855                         14.995850                         8.070000   \n",
       "\n",
       "      primary_cleaner.input.xanthate  primary_cleaner.state.floatbank8_a_air  \\\n",
       "0                           1.005021                             1398.981301   \n",
       "1                           0.990469                             1398.777912   \n",
       "2                           0.996043                             1398.493666   \n",
       "3                           0.863514                             1399.618111   \n",
       "4                           0.805575                             1401.268123   \n",
       "...                              ...                                     ...   \n",
       "5851                        0.896701                             1401.930554   \n",
       "5852                        0.896519                             1447.075722   \n",
       "5853                        1.165996                             1498.836182   \n",
       "5854                        1.501068                             1498.466243   \n",
       "5855                        1.623454                             1498.096303   \n",
       "\n",
       "      primary_cleaner.state.floatbank8_a_level  \\\n",
       "0                                  -500.225577   \n",
       "1                                  -500.057435   \n",
       "2                                  -500.868360   \n",
       "3                                  -498.863574   \n",
       "4                                  -500.808305   \n",
       "...                                        ...   \n",
       "5851                               -499.728848   \n",
       "5852                               -494.716823   \n",
       "5853                               -501.770403   \n",
       "5854                               -500.483984   \n",
       "5855                               -499.796922   \n",
       "\n",
       "      primary_cleaner.state.floatbank8_b_air  \\\n",
       "0                                1399.144926   \n",
       "1                                1398.055362   \n",
       "2                                1398.860436   \n",
       "3                                1397.440120   \n",
       "4                                1398.128818   \n",
       "...                                      ...   \n",
       "5851                             1401.441445   \n",
       "5852                             1448.851892   \n",
       "5853                             1499.572353   \n",
       "5854                             1497.986986   \n",
       "5855                             1501.743791   \n",
       "\n",
       "      primary_cleaner.state.floatbank8_b_level  \\\n",
       "0                                  -499.919735   \n",
       "1                                  -499.778182   \n",
       "2                                  -499.764529   \n",
       "3                                  -499.211024   \n",
       "4                                  -499.504543   \n",
       "...                                        ...   \n",
       "5851                               -499.193423   \n",
       "5852                               -465.963026   \n",
       "5853                               -495.516347   \n",
       "5854                               -519.200340   \n",
       "5855                               -505.146931   \n",
       "\n",
       "      primary_cleaner.state.floatbank8_c_air  ...  \\\n",
       "0                                1400.102998  ...   \n",
       "1                                1396.151033  ...   \n",
       "2                                1398.075709  ...   \n",
       "3                                1400.129303  ...   \n",
       "4                                1402.172226  ...   \n",
       "...                                      ...  ...   \n",
       "5851                             1399.810313  ...   \n",
       "5852                             1443.890424  ...   \n",
       "5853                             1502.749213  ...   \n",
       "5854                             1496.569047  ...   \n",
       "5855                             1499.535978  ...   \n",
       "\n",
       "      secondary_cleaner.state.floatbank4_a_air  \\\n",
       "0                                    12.023554   \n",
       "1                                    12.058140   \n",
       "2                                    11.962366   \n",
       "3                                    12.033091   \n",
       "4                                    12.025367   \n",
       "...                                        ...   \n",
       "5851                                 13.995957   \n",
       "5852                                 16.749781   \n",
       "5853                                 19.994130   \n",
       "5854                                 19.958760   \n",
       "5855                                 20.034715   \n",
       "\n",
       "      secondary_cleaner.state.floatbank4_a_level  \\\n",
       "0                                    -497.795834   \n",
       "1                                    -498.695773   \n",
       "2                                    -498.767484   \n",
       "3                                    -498.350935   \n",
       "4                                    -500.786497   \n",
       "...                                          ...   \n",
       "5851                                 -500.157454   \n",
       "5852                                 -496.031539   \n",
       "5853                                 -499.791312   \n",
       "5854                                 -499.958750   \n",
       "5855                                 -500.728588   \n",
       "\n",
       "      secondary_cleaner.state.floatbank4_b_air  \\\n",
       "0                                     8.016656   \n",
       "1                                     8.130979   \n",
       "2                                     8.096893   \n",
       "3                                     8.074946   \n",
       "4                                     8.054678   \n",
       "...                                        ...   \n",
       "5851                                 12.069155   \n",
       "5852                                 13.365371   \n",
       "5853                                 15.101425   \n",
       "5854                                 15.026853   \n",
       "5855                                 14.914199   \n",
       "\n",
       "      secondary_cleaner.state.floatbank4_b_level  \\\n",
       "0                                    -501.289139   \n",
       "1                                    -499.634209   \n",
       "2                                    -500.827423   \n",
       "3                                    -499.474407   \n",
       "4                                    -500.397500   \n",
       "...                                          ...   \n",
       "5851                                 -499.673279   \n",
       "5852                                 -499.122723   \n",
       "5853                                 -499.936252   \n",
       "5854                                 -499.723143   \n",
       "5855                                 -499.948518   \n",
       "\n",
       "      secondary_cleaner.state.floatbank5_a_air  \\\n",
       "0                                     7.946562   \n",
       "1                                     7.958270   \n",
       "2                                     8.071056   \n",
       "3                                     7.897085   \n",
       "4                                     8.107890   \n",
       "...                                        ...   \n",
       "5851                                  7.977259   \n",
       "5852                                  9.288553   \n",
       "5853                                 10.989181   \n",
       "5854                                 11.011607   \n",
       "5855                                 10.986607   \n",
       "\n",
       "      secondary_cleaner.state.floatbank5_a_level  \\\n",
       "0                                    -432.317850   \n",
       "1                                    -525.839648   \n",
       "2                                    -500.801673   \n",
       "3                                    -500.868509   \n",
       "4                                    -509.526725   \n",
       "...                                          ...   \n",
       "5851                                 -499.516126   \n",
       "5852                                 -496.892967   \n",
       "5853                                 -498.347898   \n",
       "5854                                 -499.985046   \n",
       "5855                                 -500.658027   \n",
       "\n",
       "      secondary_cleaner.state.floatbank5_b_air  \\\n",
       "0                                     4.872511   \n",
       "1                                     4.878850   \n",
       "2                                     4.905125   \n",
       "3                                     4.931400   \n",
       "4                                     4.957674   \n",
       "...                                        ...   \n",
       "5851                                  5.933319   \n",
       "5852                                  7.372897   \n",
       "5853                                  9.020944   \n",
       "5854                                  9.009783   \n",
       "5855                                  8.989497   \n",
       "\n",
       "      secondary_cleaner.state.floatbank5_b_level  \\\n",
       "0                                    -500.037437   \n",
       "1                                    -500.162375   \n",
       "2                                    -499.828510   \n",
       "3                                    -499.963623   \n",
       "4                                    -500.360026   \n",
       "...                                          ...   \n",
       "5851                                 -499.965973   \n",
       "5852                                 -499.942956   \n",
       "5853                                 -500.040448   \n",
       "5854                                 -499.937902   \n",
       "5855                                 -500.337588   \n",
       "\n",
       "      secondary_cleaner.state.floatbank6_a_air  \\\n",
       "0                                    26.705889   \n",
       "1                                    25.019940   \n",
       "2                                    24.994862   \n",
       "3                                    24.948919   \n",
       "4                                    25.003331   \n",
       "...                                        ...   \n",
       "5851                                  8.987171   \n",
       "5852                                  8.986832   \n",
       "5853                                  8.982038   \n",
       "5854                                  9.012660   \n",
       "5855                                  8.988632   \n",
       "\n",
       "      secondary_cleaner.state.floatbank6_a_level  \n",
       "0                                    -499.709414  \n",
       "1                                    -499.819438  \n",
       "2                                    -500.622559  \n",
       "3                                    -498.709987  \n",
       "4                                    -500.856333  \n",
       "...                                          ...  \n",
       "5851                                 -499.755909  \n",
       "5852                                 -499.903761  \n",
       "5853                                 -497.789882  \n",
       "5854                                 -500.154284  \n",
       "5855                                 -500.764937  \n",
       "\n",
       "[5856 rows x 53 columns]"
      ]
     },
     "metadata": {},
     "output_type": "display_data"
    },
    {
     "data": {
      "text/html": [
       "<div>\n",
       "<style scoped>\n",
       "    .dataframe tbody tr th:only-of-type {\n",
       "        vertical-align: middle;\n",
       "    }\n",
       "\n",
       "    .dataframe tbody tr th {\n",
       "        vertical-align: top;\n",
       "    }\n",
       "\n",
       "    .dataframe thead th {\n",
       "        text-align: right;\n",
       "    }\n",
       "</style>\n",
       "<table border=\"1\" class=\"dataframe\">\n",
       "  <thead>\n",
       "    <tr style=\"text-align: right;\">\n",
       "      <th></th>\n",
       "      <th>date</th>\n",
       "      <th>final.output.concentrate_ag</th>\n",
       "      <th>final.output.concentrate_pb</th>\n",
       "      <th>final.output.concentrate_sol</th>\n",
       "      <th>final.output.concentrate_au</th>\n",
       "      <th>final.output.recovery</th>\n",
       "      <th>final.output.tail_ag</th>\n",
       "      <th>final.output.tail_pb</th>\n",
       "      <th>final.output.tail_sol</th>\n",
       "      <th>final.output.tail_au</th>\n",
       "      <th>...</th>\n",
       "      <th>secondary_cleaner.state.floatbank4_a_air</th>\n",
       "      <th>secondary_cleaner.state.floatbank4_a_level</th>\n",
       "      <th>secondary_cleaner.state.floatbank4_b_air</th>\n",
       "      <th>secondary_cleaner.state.floatbank4_b_level</th>\n",
       "      <th>secondary_cleaner.state.floatbank5_a_air</th>\n",
       "      <th>secondary_cleaner.state.floatbank5_a_level</th>\n",
       "      <th>secondary_cleaner.state.floatbank5_b_air</th>\n",
       "      <th>secondary_cleaner.state.floatbank5_b_level</th>\n",
       "      <th>secondary_cleaner.state.floatbank6_a_air</th>\n",
       "      <th>secondary_cleaner.state.floatbank6_a_level</th>\n",
       "    </tr>\n",
       "  </thead>\n",
       "  <tbody>\n",
       "    <tr>\n",
       "      <th>0</th>\n",
       "      <td>2016-01-15 00:00:00</td>\n",
       "      <td>6.055403</td>\n",
       "      <td>9.889648</td>\n",
       "      <td>5.507324</td>\n",
       "      <td>42.192020</td>\n",
       "      <td>70.541216</td>\n",
       "      <td>10.411962</td>\n",
       "      <td>0.895447</td>\n",
       "      <td>16.904297</td>\n",
       "      <td>2.143149</td>\n",
       "      <td>...</td>\n",
       "      <td>14.016835</td>\n",
       "      <td>-502.488007</td>\n",
       "      <td>12.099931</td>\n",
       "      <td>-504.715942</td>\n",
       "      <td>9.925633</td>\n",
       "      <td>-498.310211</td>\n",
       "      <td>8.079666</td>\n",
       "      <td>-500.470978</td>\n",
       "      <td>14.151341</td>\n",
       "      <td>-605.841980</td>\n",
       "    </tr>\n",
       "    <tr>\n",
       "      <th>1</th>\n",
       "      <td>2016-01-15 01:00:00</td>\n",
       "      <td>6.029369</td>\n",
       "      <td>9.968944</td>\n",
       "      <td>5.257781</td>\n",
       "      <td>42.701629</td>\n",
       "      <td>69.266198</td>\n",
       "      <td>10.462676</td>\n",
       "      <td>0.927452</td>\n",
       "      <td>16.634514</td>\n",
       "      <td>2.224930</td>\n",
       "      <td>...</td>\n",
       "      <td>13.992281</td>\n",
       "      <td>-505.503262</td>\n",
       "      <td>11.950531</td>\n",
       "      <td>-501.331529</td>\n",
       "      <td>10.039245</td>\n",
       "      <td>-500.169983</td>\n",
       "      <td>7.984757</td>\n",
       "      <td>-500.582168</td>\n",
       "      <td>13.998353</td>\n",
       "      <td>-599.787184</td>\n",
       "    </tr>\n",
       "    <tr>\n",
       "      <th>2</th>\n",
       "      <td>2016-01-15 02:00:00</td>\n",
       "      <td>6.055926</td>\n",
       "      <td>10.213995</td>\n",
       "      <td>5.383759</td>\n",
       "      <td>42.657501</td>\n",
       "      <td>68.116445</td>\n",
       "      <td>10.507046</td>\n",
       "      <td>0.953716</td>\n",
       "      <td>16.208849</td>\n",
       "      <td>2.257889</td>\n",
       "      <td>...</td>\n",
       "      <td>14.015015</td>\n",
       "      <td>-502.520901</td>\n",
       "      <td>11.912783</td>\n",
       "      <td>-501.133383</td>\n",
       "      <td>10.070913</td>\n",
       "      <td>-500.129135</td>\n",
       "      <td>8.013877</td>\n",
       "      <td>-500.517572</td>\n",
       "      <td>14.028663</td>\n",
       "      <td>-601.427363</td>\n",
       "    </tr>\n",
       "    <tr>\n",
       "      <th>3</th>\n",
       "      <td>2016-01-15 03:00:00</td>\n",
       "      <td>6.047977</td>\n",
       "      <td>9.977019</td>\n",
       "      <td>4.858634</td>\n",
       "      <td>42.689819</td>\n",
       "      <td>68.347543</td>\n",
       "      <td>10.422762</td>\n",
       "      <td>0.883763</td>\n",
       "      <td>16.532835</td>\n",
       "      <td>2.146849</td>\n",
       "      <td>...</td>\n",
       "      <td>14.036510</td>\n",
       "      <td>-500.857308</td>\n",
       "      <td>11.999550</td>\n",
       "      <td>-501.193686</td>\n",
       "      <td>9.970366</td>\n",
       "      <td>-499.201640</td>\n",
       "      <td>7.977324</td>\n",
       "      <td>-500.255908</td>\n",
       "      <td>14.005551</td>\n",
       "      <td>-599.996129</td>\n",
       "    </tr>\n",
       "    <tr>\n",
       "      <th>4</th>\n",
       "      <td>2016-01-15 04:00:00</td>\n",
       "      <td>6.148599</td>\n",
       "      <td>10.142511</td>\n",
       "      <td>4.939416</td>\n",
       "      <td>42.774141</td>\n",
       "      <td>66.927016</td>\n",
       "      <td>10.360302</td>\n",
       "      <td>0.792826</td>\n",
       "      <td>16.525686</td>\n",
       "      <td>2.055292</td>\n",
       "      <td>...</td>\n",
       "      <td>14.027298</td>\n",
       "      <td>-499.838632</td>\n",
       "      <td>11.953070</td>\n",
       "      <td>-501.053894</td>\n",
       "      <td>9.925709</td>\n",
       "      <td>-501.686727</td>\n",
       "      <td>7.894242</td>\n",
       "      <td>-500.356035</td>\n",
       "      <td>13.996647</td>\n",
       "      <td>-601.496691</td>\n",
       "    </tr>\n",
       "  </tbody>\n",
       "</table>\n",
       "<p>5 rows × 87 columns</p>\n",
       "</div>"
      ],
      "text/plain": [
       "                  date  final.output.concentrate_ag  \\\n",
       "0  2016-01-15 00:00:00                     6.055403   \n",
       "1  2016-01-15 01:00:00                     6.029369   \n",
       "2  2016-01-15 02:00:00                     6.055926   \n",
       "3  2016-01-15 03:00:00                     6.047977   \n",
       "4  2016-01-15 04:00:00                     6.148599   \n",
       "\n",
       "   final.output.concentrate_pb  final.output.concentrate_sol  \\\n",
       "0                     9.889648                      5.507324   \n",
       "1                     9.968944                      5.257781   \n",
       "2                    10.213995                      5.383759   \n",
       "3                     9.977019                      4.858634   \n",
       "4                    10.142511                      4.939416   \n",
       "\n",
       "   final.output.concentrate_au  final.output.recovery  final.output.tail_ag  \\\n",
       "0                    42.192020              70.541216             10.411962   \n",
       "1                    42.701629              69.266198             10.462676   \n",
       "2                    42.657501              68.116445             10.507046   \n",
       "3                    42.689819              68.347543             10.422762   \n",
       "4                    42.774141              66.927016             10.360302   \n",
       "\n",
       "   final.output.tail_pb  final.output.tail_sol  final.output.tail_au  ...  \\\n",
       "0              0.895447              16.904297              2.143149  ...   \n",
       "1              0.927452              16.634514              2.224930  ...   \n",
       "2              0.953716              16.208849              2.257889  ...   \n",
       "3              0.883763              16.532835              2.146849  ...   \n",
       "4              0.792826              16.525686              2.055292  ...   \n",
       "\n",
       "   secondary_cleaner.state.floatbank4_a_air  \\\n",
       "0                                 14.016835   \n",
       "1                                 13.992281   \n",
       "2                                 14.015015   \n",
       "3                                 14.036510   \n",
       "4                                 14.027298   \n",
       "\n",
       "   secondary_cleaner.state.floatbank4_a_level  \\\n",
       "0                                 -502.488007   \n",
       "1                                 -505.503262   \n",
       "2                                 -502.520901   \n",
       "3                                 -500.857308   \n",
       "4                                 -499.838632   \n",
       "\n",
       "   secondary_cleaner.state.floatbank4_b_air  \\\n",
       "0                                 12.099931   \n",
       "1                                 11.950531   \n",
       "2                                 11.912783   \n",
       "3                                 11.999550   \n",
       "4                                 11.953070   \n",
       "\n",
       "   secondary_cleaner.state.floatbank4_b_level  \\\n",
       "0                                 -504.715942   \n",
       "1                                 -501.331529   \n",
       "2                                 -501.133383   \n",
       "3                                 -501.193686   \n",
       "4                                 -501.053894   \n",
       "\n",
       "   secondary_cleaner.state.floatbank5_a_air  \\\n",
       "0                                  9.925633   \n",
       "1                                 10.039245   \n",
       "2                                 10.070913   \n",
       "3                                  9.970366   \n",
       "4                                  9.925709   \n",
       "\n",
       "   secondary_cleaner.state.floatbank5_a_level  \\\n",
       "0                                 -498.310211   \n",
       "1                                 -500.169983   \n",
       "2                                 -500.129135   \n",
       "3                                 -499.201640   \n",
       "4                                 -501.686727   \n",
       "\n",
       "   secondary_cleaner.state.floatbank5_b_air  \\\n",
       "0                                  8.079666   \n",
       "1                                  7.984757   \n",
       "2                                  8.013877   \n",
       "3                                  7.977324   \n",
       "4                                  7.894242   \n",
       "\n",
       "   secondary_cleaner.state.floatbank5_b_level  \\\n",
       "0                                 -500.470978   \n",
       "1                                 -500.582168   \n",
       "2                                 -500.517572   \n",
       "3                                 -500.255908   \n",
       "4                                 -500.356035   \n",
       "\n",
       "   secondary_cleaner.state.floatbank6_a_air  \\\n",
       "0                                 14.151341   \n",
       "1                                 13.998353   \n",
       "2                                 14.028663   \n",
       "3                                 14.005551   \n",
       "4                                 13.996647   \n",
       "\n",
       "   secondary_cleaner.state.floatbank6_a_level  \n",
       "0                                 -605.841980  \n",
       "1                                 -599.787184  \n",
       "2                                 -601.427363  \n",
       "3                                 -599.996129  \n",
       "4                                 -601.496691  \n",
       "\n",
       "[5 rows x 87 columns]"
      ]
     },
     "metadata": {},
     "output_type": "display_data"
    }
   ],
   "source": [
    "# Load all the datasets\n",
    "train = pd.read_csv('datasets/gold_recovery_train.csv')\n",
    "test = pd.read_csv('datasets/gold_recovery_test.csv')\n",
    "full = pd.read_csv('datasets/gold_recovery_full.csv')\n",
    "\n",
    "# Display the first few rows of the dataset\n",
    "display(train, test, full.head(5))"
   ]
  },
  {
   "cell_type": "markdown",
   "metadata": {},
   "source": [
    "### Check that recovery is calculated correctly. Using the training set, calculate recovery for the rougher.output.recovery feature. Find the MAE between your calculations and the feature values. Provide findings."
   ]
  },
  {
   "cell_type": "code",
   "execution_count": 3,
   "metadata": {},
   "outputs": [
    {
     "data": {
      "text/html": [
       "<div>\n",
       "<style scoped>\n",
       "    .dataframe tbody tr th:only-of-type {\n",
       "        vertical-align: middle;\n",
       "    }\n",
       "\n",
       "    .dataframe tbody tr th {\n",
       "        vertical-align: top;\n",
       "    }\n",
       "\n",
       "    .dataframe thead th {\n",
       "        text-align: right;\n",
       "    }\n",
       "</style>\n",
       "<table border=\"1\" class=\"dataframe\">\n",
       "  <thead>\n",
       "    <tr style=\"text-align: right;\">\n",
       "      <th></th>\n",
       "      <th>rougher.output.concentrate_au</th>\n",
       "      <th>rougher.input.feed_au</th>\n",
       "      <th>rougher.output.tail_au</th>\n",
       "    </tr>\n",
       "  </thead>\n",
       "  <tbody>\n",
       "    <tr>\n",
       "      <th>0</th>\n",
       "      <td>19.793808</td>\n",
       "      <td>6.486150</td>\n",
       "      <td>1.170244</td>\n",
       "    </tr>\n",
       "    <tr>\n",
       "      <th>1</th>\n",
       "      <td>20.050975</td>\n",
       "      <td>6.478583</td>\n",
       "      <td>1.184827</td>\n",
       "    </tr>\n",
       "    <tr>\n",
       "      <th>2</th>\n",
       "      <td>19.737170</td>\n",
       "      <td>6.362222</td>\n",
       "      <td>1.162562</td>\n",
       "    </tr>\n",
       "    <tr>\n",
       "      <th>3</th>\n",
       "      <td>19.320810</td>\n",
       "      <td>6.118189</td>\n",
       "      <td>1.079755</td>\n",
       "    </tr>\n",
       "    <tr>\n",
       "      <th>4</th>\n",
       "      <td>19.216101</td>\n",
       "      <td>5.663707</td>\n",
       "      <td>1.012642</td>\n",
       "    </tr>\n",
       "  </tbody>\n",
       "</table>\n",
       "</div>"
      ],
      "text/plain": [
       "   rougher.output.concentrate_au  rougher.input.feed_au  \\\n",
       "0                      19.793808               6.486150   \n",
       "1                      20.050975               6.478583   \n",
       "2                      19.737170               6.362222   \n",
       "3                      19.320810               6.118189   \n",
       "4                      19.216101               5.663707   \n",
       "\n",
       "   rougher.output.tail_au  \n",
       "0                1.170244  \n",
       "1                1.184827  \n",
       "2                1.162562  \n",
       "3                1.079755  \n",
       "4                1.012642  "
      ]
     },
     "metadata": {},
     "output_type": "display_data"
    }
   ],
   "source": [
    "# Display key columns from the training dataset related to gold concentration at various stages.\n",
    "display(train[['rougher.output.concentrate_au', \n",
    "               'rougher.input.feed_au', \n",
    "               'rougher.output.tail_au'\n",
    "               ]].head())"
   ]
  },
  {
   "cell_type": "code",
   "execution_count": 4,
   "metadata": {},
   "outputs": [],
   "source": [
    "# Remove all rows with missing values from the training, test, and full datasets\n",
    "train_data = train.dropna()\n",
    "test_data = test.dropna()\n",
    "full_data = full.dropna()"
   ]
  },
  {
   "cell_type": "code",
   "execution_count": 5,
   "metadata": {},
   "outputs": [],
   "source": [
    "# This function calculates the recovery efficiency of gold during the rougher flotation stage.\n",
    "def calculate_recovery(data):\n",
    "    C = data['rougher.output.concentrate_au']\n",
    "    F= data['rougher.input.feed_au']\n",
    "    T= data['rougher.output.tail_au']\n",
    "    if F==0 or C==0:\n",
    "        return 0\n",
    "    return (C * (F - T)) / (F * (C - T)) * 100"
   ]
  },
  {
   "cell_type": "code",
   "execution_count": null,
   "metadata": {},
   "outputs": [
    {
     "name": "stdout",
     "output_type": "stream",
     "text": [
      "0    87.107763\n",
      "1    86.843261\n",
      "2    86.842308\n",
      "3    87.226430\n",
      "4    86.688794\n",
      "Name: calculated_recovery, dtype: float64\n"
     ]
    },
    {
     "name": "stderr",
     "output_type": "stream",
     "text": [
      "C:\\Users\\jeelf\\AppData\\Local\\Temp\\ipykernel_38780\\1529490582.py:2: SettingWithCopyWarning: \n",
      "A value is trying to be set on a copy of a slice from a DataFrame.\n",
      "Try using .loc[row_indexer,col_indexer] = value instead\n",
      "\n",
      "See the caveats in the documentation: https://pandas.pydata.org/pandas-docs/stable/user_guide/indexing.html#returning-a-view-versus-a-copy\n",
      "  train_data['calculated_recovery'] = train_data.apply(calculate_recovery, axis=1)\n"
     ]
    }
   ],
   "source": [
    "# Apply the calculate_recovery function to each each row to calcuate gold recovery for train DataFrame\n",
    "train_data['calculated_recovery'] = train_data.apply(calculate_recovery, axis=1)\n",
    "print(train_data['calculated_recovery'].head())"
   ]
  },
  {
   "cell_type": "code",
   "execution_count": null,
   "metadata": {},
   "outputs": [
    {
     "data": {
      "text/plain": [
       "9.460144184559453e-15"
      ]
     },
     "metadata": {},
     "output_type": "display_data"
    }
   ],
   "source": [
    "# Calculate the Mean Absolute Error (MAE) between actual and calculated recovery values\n",
    "train_mae = mean_absolute_error(train_data['rougher.output.recovery'], \n",
    "                                train_data['calculated_recovery'])\n",
    "\n",
    "# Display the MAE to determine the accuracy of the calculated recovery values\n",
    "display(train_mae)"
   ]
  },
  {
   "cell_type": "markdown",
   "metadata": {},
   "source": [
    "train_mae', a mean absolute error (MAE) is a regression evaluation metric to measure the average absolute difference between the 'rougher.output.recovery' and 'calculated_recovery'. 'train_mae' is 9.46e-15, lower MAE which means that on average the calcuated recovery are closer to the actual rougher.output.recovery values, which indicates better performance. As MAE is 9.46e-15, it shows that on average the predictions are off by 9.46e-15 units. "
   ]
  },
  {
   "cell_type": "markdown",
   "metadata": {},
   "source": [
    "### Analyze the features not available in the test set. What are these parameters? What is their type?"
   ]
  },
  {
   "cell_type": "code",
   "execution_count": 8,
   "metadata": {},
   "outputs": [
    {
     "data": {
      "text/plain": [
       "(16860, 87)"
      ]
     },
     "execution_count": 8,
     "metadata": {},
     "output_type": "execute_result"
    }
   ],
   "source": [
    "# Check the shape of the training dataset\n",
    "train.shape"
   ]
  },
  {
   "cell_type": "code",
   "execution_count": 9,
   "metadata": {},
   "outputs": [
    {
     "name": "stdout",
     "output_type": "stream",
     "text": [
      "Features in training but not in test with their data types:\n",
      "primary_cleaner.output.tail_sol: float64\n",
      "primary_cleaner.output.tail_pb: float64\n",
      "primary_cleaner.output.concentrate_sol: float64\n",
      "rougher.calculation.sulfate_to_au_concentrate: float64\n",
      "rougher.calculation.floatbank11_sulfate_to_au_feed: float64\n",
      "rougher.output.tail_pb: float64\n",
      "secondary_cleaner.output.tail_au: float64\n",
      "final.output.tail_au: float64\n",
      "primary_cleaner.output.concentrate_ag: float64\n",
      "rougher.output.concentrate_ag: float64\n",
      "rougher.calculation.floatbank10_sulfate_to_au_feed: float64\n",
      "primary_cleaner.output.concentrate_pb: float64\n",
      "rougher.output.tail_sol: float64\n",
      "final.output.tail_sol: float64\n",
      "final.output.concentrate_au: float64\n",
      "primary_cleaner.output.tail_au: float64\n",
      "final.output.tail_ag: float64\n",
      "rougher.output.tail_au: float64\n",
      "final.output.tail_pb: float64\n",
      "primary_cleaner.output.tail_ag: float64\n",
      "rougher.output.concentrate_pb: float64\n",
      "primary_cleaner.output.concentrate_au: float64\n",
      "final.output.concentrate_sol: float64\n",
      "secondary_cleaner.output.tail_sol: float64\n",
      "rougher.calculation.au_pb_ratio: float64\n",
      "final.output.concentrate_pb: float64\n",
      "secondary_cleaner.output.tail_ag: float64\n",
      "rougher.output.concentrate_sol: float64\n",
      "final.output.concentrate_ag: float64\n",
      "final.output.recovery: float64\n",
      "secondary_cleaner.output.tail_pb: float64\n",
      "rougher.output.tail_ag: float64\n",
      "rougher.output.recovery: float64\n",
      "rougher.output.concentrate_au: float64\n"
     ]
    }
   ],
   "source": [
    "# Identify features that are present in train but missing in test\n",
    "feature_columns_train = set(train.columns)\n",
    "feature_columns_test = set(test.columns)\n",
    "features_missing_in_test = feature_columns_train - feature_columns_test\n",
    "\n",
    "# Print data types of the missing features\n",
    "print(\"Features in training but not in test with their data types:\")\n",
    "for feature in features_missing_in_test:\n",
    "    print(f\"{feature}: {train_data[feature].dtype}\")"
   ]
  },
  {
   "cell_type": "code",
   "execution_count": 10,
   "metadata": {},
   "outputs": [
    {
     "name": "stdout",
     "output_type": "stream",
     "text": [
      "Number of missing columns in test dataset: 34\n"
     ]
    }
   ],
   "source": [
    "# Count and print the number of missing features in test\n",
    "num_missing_columns = len(features_missing_in_test)\n",
    "print(\"Number of missing columns in test dataset:\", num_missing_columns)"
   ]
  },
  {
   "cell_type": "markdown",
   "metadata": {},
   "source": [
    "There are 34 features in the train set which are not available in test set. Most of the features are from tehnological process such as cleaner process, rougher au, and final au. Along with it all the features are from stages such as rougher, primary_cleaner, and final except secondary_cleaner. Lastly, those features are from parameter type such as output, state, and calculation except input. "
   ]
  },
  {
   "cell_type": "markdown",
   "metadata": {},
   "source": [
    "### Perform data preprocessing"
   ]
  },
  {
   "cell_type": "code",
   "execution_count": 11,
   "metadata": {},
   "outputs": [
    {
     "name": "stdout",
     "output_type": "stream",
     "text": [
      "The DataFrame has 16860 rows and 87 columns\n",
      "The DataFrame has 5856 rows and 53 columns\n",
      "The DataFrame has 22716 rows and 87 columns\n"
     ]
    }
   ],
   "source": [
    "# Checking the shape of train, test, and full datasets\n",
    "n_rows, n_cols = train.shape\n",
    "print(f\"The DataFrame has {n_rows} rows and {n_cols} columns\")\n",
    "\n",
    "n_rows, n_cols = test.shape\n",
    "print(f\"The DataFrame has {n_rows} rows and {n_cols} columns\")\n",
    "\n",
    "n_rows, n_cols = full.shape\n",
    "print(f\"The DataFrame has {n_rows} rows and {n_cols} columns\")"
   ]
  },
  {
   "cell_type": "code",
   "execution_count": 12,
   "metadata": {},
   "outputs": [],
   "source": [
    "# Convert date column to numeric format for train dataset\n",
    "train['date'] = pd.to_datetime(train['date'])\n",
    "train['date'] = pd.to_numeric(train['date'])/ 100000000000"
   ]
  },
  {
   "cell_type": "markdown",
   "metadata": {},
   "source": [
    "Yes, without doing this, the value doesn't look like a date."
   ]
  },
  {
   "cell_type": "code",
   "execution_count": 13,
   "metadata": {},
   "outputs": [],
   "source": [
    "# Convert date column to numeric format for test dataset\n",
    "test['date'] = pd.to_datetime(test['date'])\n",
    "test['date'] = pd.to_numeric(test['date']) / 100000000000"
   ]
  },
  {
   "cell_type": "code",
   "execution_count": 14,
   "metadata": {},
   "outputs": [],
   "source": [
    "# Convert date column to numeric format for full dataset\n",
    "full['date'] = pd.to_datetime(full['date'])\n",
    "full['date'] = pd.to_numeric(full['date']) / 100000000000"
   ]
  },
  {
   "cell_type": "markdown",
   "metadata": {},
   "source": [
    "#### Duplicates"
   ]
  },
  {
   "cell_type": "code",
   "execution_count": 15,
   "metadata": {},
   "outputs": [],
   "source": [
    "# Create a dictionary to process all datasets together\n",
    "data = {\n",
    "    'train': train,\n",
    "    'test': test,\n",
    "     'full': full}"
   ]
  },
  {
   "cell_type": "code",
   "execution_count": 16,
   "metadata": {},
   "outputs": [
    {
     "name": "stdout",
     "output_type": "stream",
     "text": [
      "Number of duplicated rows in train: 0\n",
      "Number of duplicated rows in test: 0\n",
      "Number of duplicated rows in full: 0\n"
     ]
    }
   ],
   "source": [
    "# Define a function to find duplicates and report count in each dataset\n",
    "def find_remove_duplicates(data):\n",
    "    duplicates = data[data.duplicated()]\n",
    "    return duplicates\n",
    "\n",
    "# Apply duplicate detection function and print result for each dataset\n",
    "for key, df in data.items():\n",
    "    duplicates = find_remove_duplicates(df)\n",
    "    print(f\"Number of duplicated rows in {key}: {duplicates.shape[0]}\")"
   ]
  },
  {
   "cell_type": "code",
   "execution_count": 17,
   "metadata": {},
   "outputs": [
    {
     "data": {
      "text/plain": [
       "rougher.output.recovery                               2573\n",
       "rougher.output.tail_ag                                2250\n",
       "rougher.output.tail_sol                               2249\n",
       "rougher.output.tail_au                                2249\n",
       "secondary_cleaner.output.tail_sol                     1986\n",
       "                                                      ... \n",
       "primary_cleaner.state.floatbank8_d_level                27\n",
       "rougher.calculation.floatbank10_sulfate_to_au_feed      27\n",
       "rougher.calculation.floatbank11_sulfate_to_au_feed      27\n",
       "primary_cleaner.input.feed_size                          0\n",
       "date                                                     0\n",
       "Length: 87, dtype: int64"
      ]
     },
     "execution_count": 17,
     "metadata": {},
     "output_type": "execute_result"
    }
   ],
   "source": [
    "# Check for missing values in train dataset\n",
    "train.isna().sum().sort_values(ascending=False)"
   ]
  },
  {
   "cell_type": "code",
   "execution_count": 18,
   "metadata": {},
   "outputs": [
    {
     "data": {
      "text/plain": [
       "rougher.input.floatbank11_xanthate            353\n",
       "primary_cleaner.input.sulfate                 302\n",
       "primary_cleaner.input.depressant              284\n",
       "rougher.input.floatbank10_sulfate             257\n",
       "primary_cleaner.input.xanthate                166\n",
       "rougher.input.floatbank10_xanthate            123\n",
       "rougher.input.feed_sol                         67\n",
       "rougher.input.floatbank11_sulfate              55\n",
       "rougher.input.feed_rate                        40\n",
       "secondary_cleaner.state.floatbank3_a_air       34\n",
       "secondary_cleaner.state.floatbank2_b_air       23\n",
       "rougher.input.feed_size                        22\n",
       "secondary_cleaner.state.floatbank2_a_air       20\n",
       "rougher.state.floatbank10_a_air                17\n",
       "rougher.state.floatbank10_c_air                17\n",
       "rougher.state.floatbank10_d_air                17\n",
       "rougher.state.floatbank10_e_air                17\n",
       "rougher.state.floatbank10_b_air                17\n",
       "rougher.state.floatbank10_f_air                17\n",
       "secondary_cleaner.state.floatbank3_a_level     16\n",
       "secondary_cleaner.state.floatbank3_b_air       16\n",
       "secondary_cleaner.state.floatbank3_b_level     16\n",
       "secondary_cleaner.state.floatbank4_a_air       16\n",
       "secondary_cleaner.state.floatbank4_a_level     16\n",
       "secondary_cleaner.state.floatbank4_b_air       16\n",
       "secondary_cleaner.state.floatbank4_b_level     16\n",
       "secondary_cleaner.state.floatbank5_a_air       16\n",
       "secondary_cleaner.state.floatbank5_a_level     16\n",
       "secondary_cleaner.state.floatbank2_b_level     16\n",
       "secondary_cleaner.state.floatbank5_b_air       16\n",
       "secondary_cleaner.state.floatbank5_b_level     16\n",
       "secondary_cleaner.state.floatbank6_a_air       16\n",
       "secondary_cleaner.state.floatbank2_a_level     16\n",
       "rougher.state.floatbank10_b_level              16\n",
       "secondary_cleaner.state.floatbank6_a_level     16\n",
       "rougher.state.floatbank10_f_level              16\n",
       "rougher.state.floatbank10_e_level              16\n",
       "primary_cleaner.state.floatbank8_a_air         16\n",
       "primary_cleaner.state.floatbank8_a_level       16\n",
       "primary_cleaner.state.floatbank8_b_air         16\n",
       "primary_cleaner.state.floatbank8_b_level       16\n",
       "primary_cleaner.state.floatbank8_c_air         16\n",
       "primary_cleaner.state.floatbank8_c_level       16\n",
       "primary_cleaner.state.floatbank8_d_air         16\n",
       "primary_cleaner.state.floatbank8_d_level       16\n",
       "rougher.input.feed_ag                          16\n",
       "rougher.input.feed_pb                          16\n",
       "rougher.input.feed_au                          16\n",
       "rougher.state.floatbank10_a_level              16\n",
       "rougher.state.floatbank10_c_level              16\n",
       "rougher.state.floatbank10_d_level              16\n",
       "primary_cleaner.input.feed_size                 0\n",
       "date                                            0\n",
       "dtype: int64"
      ]
     },
     "execution_count": 18,
     "metadata": {},
     "output_type": "execute_result"
    }
   ],
   "source": [
    "# Check for missing values in test dataset\n",
    "test.isna().sum().sort_values(ascending=False)"
   ]
  },
  {
   "cell_type": "code",
   "execution_count": 19,
   "metadata": {},
   "outputs": [
    {
     "data": {
      "text/plain": [
       "rougher.output.recovery                     3119\n",
       "rougher.output.tail_ag                      2737\n",
       "rougher.output.tail_au                      2736\n",
       "rougher.output.tail_sol                     2736\n",
       "rougher.input.floatbank11_xanthate          2257\n",
       "                                            ... \n",
       "primary_cleaner.state.floatbank8_b_level      43\n",
       "primary_cleaner.state.floatbank8_c_level      43\n",
       "primary_cleaner.state.floatbank8_d_level      43\n",
       "primary_cleaner.input.feed_size                0\n",
       "date                                           0\n",
       "Length: 87, dtype: int64"
      ]
     },
     "execution_count": 19,
     "metadata": {},
     "output_type": "execute_result"
    }
   ],
   "source": [
    "# Check for missing values in full dataset\n",
    "full.isna().sum().sort_values(ascending=False)"
   ]
  },
  {
   "cell_type": "markdown",
   "metadata": {},
   "source": [
    "## Data Analysis"
   ]
  },
  {
   "cell_type": "markdown",
   "metadata": {},
   "source": [
    "### Take note of how the concentrations of metals (Au, Ag, Pb) change depending on the purification stage."
   ]
  },
  {
   "cell_type": "code",
   "execution_count": null,
   "metadata": {},
   "outputs": [],
   "source": [
    "# Extract gold, silver, and lead concentrations at various processing stages\n",
    "\n",
    "au_stage_concentration_change = full[['primary_cleaner.output.concentrate_au', \n",
    "                                      'rougher.output.concentrate_au', \n",
    "                                      'final.output.concentrate_au']]\n",
    "\n",
    "ag_stage_concentration_change = full[['primary_cleaner.output.concentrate_ag', \n",
    "                                      'rougher.output.concentrate_ag', \n",
    "                                      'final.output.concentrate_ag']]\n",
    "\n",
    "pb_stage_concentration_change = full[['primary_cleaner.output.concentrate_pb', \n",
    "                                      'rougher.output.concentrate_pb', \n",
    "                                      'final.output.concentrate_pb']]"
   ]
  },
  {
   "cell_type": "code",
   "execution_count": null,
   "metadata": {},
   "outputs": [
    {
     "data": {
      "image/png": "[encoded data removed]",
      "text/plain": [
       "<Figure size 1000x800 with 1 Axes>"
      ]
     },
     "metadata": {},
     "output_type": "display_data"
    }
   ],
   "source": [
    "# Plot histograms of gold concentrations across stages\n",
    "au_stage_concentration_change = full[['primary_cleaner.output.concentrate_au', \n",
    "                                      'rougher.output.concentrate_au', \n",
    "                                      'final.output.concentrate_au']]\n",
    "\n",
    "plt.figure(figsize=(10, 8))  \n",
    "plt.hist(au_stage_concentration_change['rougher.output.concentrate_au'], \n",
    "         bins=30, \n",
    "         alpha=0.7, \n",
    "         label='Rougher Au')\n",
    "plt.hist(au_stage_concentration_change['primary_cleaner.output.concentrate_au'], \n",
    "         bins=30, \n",
    "         alpha=0.7, \n",
    "         label='Primary Cleaner Au')\n",
    "plt.hist(au_stage_concentration_change['final.output.concentrate_au'], \n",
    "         bins=30, \n",
    "         alpha=0.7, \n",
    "         label='Final Au')\n",
    "plt.title('Histogram of Gold Concentrations Across Stages')\n",
    "plt.xlabel('Concentrations')\n",
    "plt.ylabel('Frequency')\n",
    "plt.legend()\n",
    "plt.show()"
   ]
  },
  {
   "cell_type": "markdown",
   "metadata": {},
   "source": [
    "The histogram above shows the distribution of gold concentrations across three processing stages in a ore purification process: Primary Cleaner, Rougher metal concentration and Final metal concentration. Rougher Gold (Au) indicates the inital stage of procession and shows its histogram shows lower gold concentrations with a peak around 30-32 units. Primary Cleaner Gold (Au) represents the intermediate stage after the rougher process. Thus, the concentrations are more centralized and slightly higher compared to the rougher stage. Lastly, Final Gold (Au) represents the final stage of ore purification process. The distribution shows significantly higher concentrations of gold with peaks around 45 units. Overall, it can be known that rougher gold genrally have lower concentratrions of gold as its the starting stage which might have other metals or raw materials. Primary Cleaner Gold shows an increase in gold concentration compared to the rougher stage indicating the efficiency of the cleaning stage. Lastly, Final Gold has the highest concentrations demonstrating that the ore purification process works effectively as most of the gold content is concentrated at the end. "
   ]
  },
  {
   "cell_type": "code",
   "execution_count": null,
   "metadata": {},
   "outputs": [
    {
     "data": {
      "image/png": "[encoded data removed]",
      "text/plain": [
       "<Figure size 1000x800 with 1 Axes>"
      ]
     },
     "metadata": {},
     "output_type": "display_data"
    }
   ],
   "source": [
    "# Plot histograms of silver concentrations across stages\n",
    "ag_stage_concentration_change = full[['primary_cleaner.output.concentrate_ag', \n",
    "                                      'rougher.output.concentrate_ag', \n",
    "                                      'final.output.concentrate_ag']]\n",
    "\n",
    "plt.figure(figsize=(10, 8))  \n",
    "\n",
    "plt.hist(ag_stage_concentration_change['rougher.output.concentrate_ag'], \n",
    "         bins=30, \n",
    "         alpha=0.7, \n",
    "         label='Rougher Ag')\n",
    "plt.hist(ag_stage_concentration_change['primary_cleaner.output.concentrate_ag'], \n",
    "         bins=30, \n",
    "         alpha=0.7, \n",
    "         label='Primary Cleaner Ag')\n",
    "plt.hist(ag_stage_concentration_change['final.output.concentrate_ag'], \n",
    "         bins=30, \n",
    "         alpha=0.7, \n",
    "         label='Final Ag')\n",
    "plt.title('Histogram of Silver Concentrations Across Stages')\n",
    "plt.xlabel('Concentrations')\n",
    "plt.ylabel('Frequency')\n",
    "plt.legend()\n",
    "plt.show()"
   ]
  },
  {
   "cell_type": "markdown",
   "metadata": {},
   "source": [
    "The histogram above shows the distribution of silver concentrations across three processing stages in a ore purification process: Primary Cleaner, Rougher metal concentration and Final metal concentration. Rougher Silver (Ag) is the initial stage of processing. The silver concentrations are broadly distributed, with a peak around 9-12 units. Primary Cleaner Silver (Ag) represents the intermediate stage after the rougher process. The silver concentrations are concentrated in a range around 6-11 units. A noticable shift, to the right compared to the rougher stage, indicating a moderate increase in silver concentration during this stage. Lastly, Final silver (Ag) represents the final stage of processing. Silver concentrations are clustered and significantly lower, peaking around 4-7 units. This might shows that silver content decreases in the final stage due to losses in refining for gold. It can be seen that during all three stages, there are some lower concentrations (closer to 0) present, likely representing unprocessed raw materials or loss during the early process. Overall, unlike like the gold histogram, silver concentrations declines in the final stage as the primary focus is to purify gold in this ore purification process. "
   ]
  },
  {
   "cell_type": "code",
   "execution_count": null,
   "metadata": {},
   "outputs": [
    {
     "data": {
      "image/png": "[encoded data removed]",
      "text/plain": [
       "<Figure size 1000x800 with 1 Axes>"
      ]
     },
     "metadata": {},
     "output_type": "display_data"
    }
   ],
   "source": [
    "# Plot histograms of lead concentrations across stages\n",
    "pb_stage_concentration_change = full[['primary_cleaner.output.concentrate_pb', \n",
    "                                      'rougher.output.concentrate_pb', \n",
    "                                      'final.output.concentrate_pb']]\n",
    "\n",
    "plt.figure(figsize=(10, 8))  \n",
    "plt.hist(pb_stage_concentration_change['rougher.output.concentrate_pb'], \n",
    "         bins=30, \n",
    "         alpha=0.7, \n",
    "         label='Rougher Pb')\n",
    "plt.hist(pb_stage_concentration_change['primary_cleaner.output.concentrate_pb'], \n",
    "         bins=30, \n",
    "         alpha=0.7, \n",
    "         label='Primary Cleaner Pb')\n",
    "plt.hist(pb_stage_concentration_change['final.output.concentrate_pb'], \n",
    "         bins=30, \n",
    "         alpha=0.7, \n",
    "         label='Final Pb')\n",
    "plt.title('Histogram of Lead Concentrations Across Stages')\n",
    "plt.xlabel('Concentrations')\n",
    "plt.ylabel('Frequency')\n",
    "plt.legend()\n",
    "plt.show()"
   ]
  },
  {
   "cell_type": "markdown",
   "metadata": {},
   "source": [
    "The histogram above shows the distribution of lead concentrations across three processing stages in a ore purification process: Primary Cleaner, Rougher metal concentration and Final metal concentration. Rougher Lead (Pb) is the initial stage of processing. The distribution peaks around 7-9 units and is more compact compared to the other stages. Primary Cleaner Lead (Pb) represents the intermediate stage after the rougher process. The concentration distribution is more spread out and peaks around 10-12 units. This stage seems to improve lead concentration compared to the rougher stage. Lastly, Final Lead (Pb) represents the final processing stage. Concentrations peak around 9-11 units, with a tigher distributions compared to the Primary Cleaner stage. But, lead concentrations in the final stage are better than that in primary cleaner stage which might mean that during the purification process lead is purified too when trying to purify gold."
   ]
  },
  {
   "cell_type": "markdown",
   "metadata": {},
   "source": [
    "### Compare the feed particle size distributions in the training set and in the test set. If the distributions vary significantly, the model evaluation will be incorrect."
   ]
  },
  {
   "cell_type": "code",
   "execution_count": null,
   "metadata": {},
   "outputs": [],
   "source": [
    "# Compare feed size distribution between train and test datasets\n",
    "train_feed_size = train['rougher.input.feed_size'] + train['primary_cleaner.input.feed_size']\n",
    "test_feed_size = test['rougher.input.feed_size'] + test['primary_cleaner.input.feed_size']"
   ]
  },
  {
   "cell_type": "code",
   "execution_count": null,
   "metadata": {},
   "outputs": [
    {
     "data": {
      "image/png": "[encoded data removed]",
      "text/plain": [
       "<Figure size 1000x600 with 1 Axes>"
      ]
     },
     "metadata": {},
     "output_type": "display_data"
    }
   ],
   "source": [
    "# Plot histograms to compare feed size distribution between train and test datasets\n",
    "plt.figure(figsize=(10, 6))\n",
    "sns.histplot(train_feed_size, \n",
    "             label='Training Feed Size', \n",
    "             color='blue', \n",
    "             fill=True, \n",
    "             alpha=0.5)\n",
    "sns.histplot(test_feed_size, \n",
    "             label='Test Feed Size', \n",
    "             color='orange', \n",
    "             fill=True, \n",
    "             alpha=0.5)\n",
    "plt.title('Feed Particle Size Distribution')\n",
    "plt.xlabel('Feed Size')\n",
    "plt.ylabel('Density')\n",
    "plt.legend()\n",
    "plt.show()\n"
   ]
  },
  {
   "cell_type": "markdown",
   "metadata": {},
   "source": [
    "The above graph represents the feed particle size distribution (including both rougher.input.feed_size and primary.cleaner.input.feed_size) for both training and test datasets. The distributions for training and test dataset overlap significantly suggesting that both datasets have similar particle size characteristics. The overlap indicates consistency between both datasets, which supports the validity of any models trained on this data. Both datasets have a sharp peak in density at approximately 50-75 feed size units representing the most common particle size range. This indicates that the majority of particles are within this size range. Both distributions are extended to larger particle sizes upto 500 units, but the density of these regions is much lower. This suggests that larger particles are present in both but mostly in train datasets but occur infrequently. "
   ]
  },
  {
   "cell_type": "code",
   "execution_count": 26,
   "metadata": {},
   "outputs": [],
   "source": [
    "# Compare individual rougher and primary cleaner feed size distributions among train and test datasets. \n",
    "train_rougher_feed_size = train['rougher.input.feed_size'] \n",
    "train_primary_cleaner_feed_size = train['primary_cleaner.input.feed_size']\n",
    "\n",
    "test_rougher_feed_size = test['rougher.input.feed_size'] \n",
    "test_primary_cleaner_feed_size = test['primary_cleaner.input.feed_size']"
   ]
  },
  {
   "cell_type": "code",
   "execution_count": null,
   "metadata": {},
   "outputs": [
    {
     "data": {
      "image/png": "[encoded data removed]",
      "text/plain": [
       "<Figure size 1000x600 with 1 Axes>"
      ]
     },
     "metadata": {},
     "output_type": "display_data"
    }
   ],
   "source": [
    "# Plot histograms to compare individual rougher feed particle size distribution between train and test dataset.\n",
    "plt.figure(figsize=(10, 6))\n",
    "sns.histplot(train_rougher_feed_size, \n",
    "             label='Training Rougher Feed Size', \n",
    "             color='blue', \n",
    "             fill=True, \n",
    "             alpha=0.5)\n",
    "sns.histplot(test_rougher_feed_size, \n",
    "             label='Test Rougher Feed Size', \n",
    "             color='orange', \n",
    "             fill=True, \n",
    "             alpha=0.5)\n",
    "plt.title('Rougher Feed Particle Size Distribution')\n",
    "plt.xlabel('Feed Size')\n",
    "plt.ylabel('Density')\n",
    "plt.legend()\n",
    "plt.show()\n"
   ]
  },
  {
   "cell_type": "markdown",
   "metadata": {},
   "source": [
    "The above graph represents the  rougher feed particle size distribution for both training and test datasets. The distributions for training and test dataset overlap significantly, especially in the smaller feed size range suggesting that both datasets have similar particle size characteristics. The overlap indicates consistency between both datasets, which supports the validity of any models trained on this data. Both datasets have a sharp peak in density at approximately 50-75 feed size units representing the most common particle size range. This indicates that the majority of particles are within this size range. The test dataset has slightly less density than the training dataset in some parts of the distribution. Both distributions are extended to larger particle sizes upto 500 units, but the density of these regions is much lower. This suggests that larger particles are present in both but mostly in train datasets but occur infrequently."
   ]
  },
  {
   "cell_type": "code",
   "execution_count": null,
   "metadata": {},
   "outputs": [
    {
     "data": {
      "image/png": "[encoded data removed]",
      "text/plain": [
       "<Figure size 1000x600 with 1 Axes>"
      ]
     },
     "metadata": {},
     "output_type": "display_data"
    }
   ],
   "source": [
    "# Plot histograms to compare individual primary cleaner feed particle size distribution between train and test dataset.\n",
    "plt.figure(figsize=(10, 6))\n",
    "sns.histplot(train_primary_cleaner_feed_size, \n",
    "             label='Training Primary Cleaner Feed Size', \n",
    "             color='red', \n",
    "             fill=True, \n",
    "             alpha=0.5)\n",
    "sns.histplot(test_primary_cleaner_feed_size, \n",
    "             label='Test Primary Cleaner Feed Size', \n",
    "             color='green', \n",
    "             fill=True, \n",
    "             alpha=0.5)\n",
    "plt.title('Primary Cleaner Feed Particle Size Distribution')\n",
    "plt.xlabel('Feed Size')\n",
    "plt.ylabel('Density')\n",
    "plt.legend()\n",
    "plt.show()\n"
   ]
  },
  {
   "cell_type": "markdown",
   "metadata": {},
   "source": [
    "The above graph represents the primary cleaner feed particle size distribution for both training and test datasets. The distributions for training and test dataset overlap significantly, especially in the smaller feed size range (6-8) suggesting that both datasets have similar particle size characteristics. The overlap indicates consistency between both datasets, which supports the validity of any models trained on this data. Both datasets have a sharp peak in density at approximately 7-8 feed size units representing the most common particle size range. This indicates that the majority of particles are within this size range. The test dataset has slightly less density than the training dataset in some parts of the distribution. Both distributions are limited to smaller particle sizes upto 16 units, but the density of the regions after feed size 9 is much lower."
   ]
  },
  {
   "cell_type": "markdown",
   "metadata": {},
   "source": [
    "### Consider the total concentrations of all substances at different stages: raw feed, rougher concentrate, and final concentrate. Do you notice any abnormal values in the total distribution? If you do, is it worth removing such values from both samples? Describe the findings and eliminate anomalies. "
   ]
  },
  {
   "cell_type": "code",
   "execution_count": null,
   "metadata": {},
   "outputs": [],
   "source": [
    "# Calculate total metal concentration in raw feed by summing \n",
    "# the concentrations of silver (Ag), gold (Au), and lead (Pb)\n",
    "total_concentrations_raw_feed = (\n",
    "    full['rougher.input.feed_ag'] + \n",
    "    full['rougher.input.feed_au'] + \n",
    "    full['rougher.input.feed_pb']\n",
    "    )\n"
   ]
  },
  {
   "cell_type": "code",
   "execution_count": null,
   "metadata": {},
   "outputs": [
    {
     "data": {
      "image/png": "[encoded data removed]",
      "text/plain": [
       "<Figure size 1000x800 with 1 Axes>"
      ]
     },
     "metadata": {},
     "output_type": "display_data"
    }
   ],
   "source": [
    "# Graph histogram to compare total metal concentrations across raw feed stage\n",
    "\n",
    "plt.figure(figsize=(10, 8))  \n",
    "plt.hist(total_concentrations_raw_feed, \n",
    "         bins=30, \n",
    "         alpha=0.7, \n",
    "         label='Total Concentrations at Raw Feed Stage')\n",
    "plt.title('Histogram of Total Concentrations Across Raw Feed Stage')\n",
    "plt.xlabel('Concentrations')\n",
    "plt.ylabel('Frequency')\n",
    "plt.show()"
   ]
  },
  {
   "cell_type": "markdown",
   "metadata": {},
   "source": [
    "The above histogram is displaying the distribution of \"Total Concentration\" across \"Raw Feed\" stage. There is a high frequency at 0 concentration suggesting the raw materials in which there are no metals such as Gold, Silver, and Lead present. Other than this, majority of the data points are concentrated between 15 to 30 forming a peak around 18-20. This represents the typical range of concentrations observed at the raw feed stage. There are some outliers which have higher concentrations above 30 which shows that extremely high concentrationbs are rare. Overall, the histogram shows a right-skewed distribution with most data points concentrated in a central range with few outliers at higher concentrations. "
   ]
  },
  {
   "cell_type": "code",
   "execution_count": null,
   "metadata": {},
   "outputs": [],
   "source": [
    "# Calculate total metal concentration in rougher concentrate by summing \n",
    "# the concentrations of silver (Ag), gold (Au), and lead (Pb)\n",
    "total_concentrations_rougher_concentrate = (\n",
    "    full['rougher.output.concentrate_ag'] + \n",
    "    full['rougher.output.concentrate_au'] + \n",
    "    full['rougher.output.concentrate_pb']\n",
    "    )"
   ]
  },
  {
   "cell_type": "code",
   "execution_count": 32,
   "metadata": {},
   "outputs": [
    {
     "data": {
      "image/png": "[encoded data removed]",
      "text/plain": [
       "<Figure size 1000x800 with 1 Axes>"
      ]
     },
     "metadata": {},
     "output_type": "display_data"
    }
   ],
   "source": [
    "# Graph histogram to compare total metal concentrations across rougher concentrate stage\n",
    "plt.figure(figsize=(10, 8))  \n",
    "\n",
    "\n",
    "plt.hist(total_concentrations_rougher_concentrate, bins=30, alpha=0.7, label='Total Concentrations at Rougher Concentrate Stage')\n",
    "plt.title('Histogram of Total Concentrations Across Rougher Concentrate Stage')\n",
    "plt.xlabel('Concentrations')\n",
    "plt.ylabel('Frequency')\n",
    "plt.show()"
   ]
  },
  {
   "cell_type": "markdown",
   "metadata": {},
   "source": [
    "The above histogram is displaying the distribution of \"Total Concentrations\" across \"Rougher Concentrate\" stage. There is a high frequency at 0 concentration suggesting the raw materials in which there are no metals such as Gold, Silver, and Lead present. Other than this, majority of the data points are concentrated between 30 and 50 forming a peak around 40-45. This represents the typical range of concentrations observed during rougher concentrate stage likely representing the expected or normal performance of the rougher concentrate process. There are few outliers which have higher concentrations above 50 which shows that extremely high concentrationbs are rare. Overall, the histogram shows a right-skewed distribution with most data points concentrated in a central range which have higher metal concentrations when compared to that of inraw feed stage with few outliers at higher concentrations."
   ]
  },
  {
   "cell_type": "code",
   "execution_count": null,
   "metadata": {},
   "outputs": [],
   "source": [
    "# Calculate total metal concentration in final concentrate by summing \n",
    "# the concentrations of silver (Ag), gold (Au), and lead (Pb)\n",
    "total_concentrations_final_concentrate = (\n",
    "    full['final.output.concentrate_ag'] + \n",
    "    full['final.output.concentrate_au'] + \n",
    "    full['final.output.concentrate_pb']\n",
    "    )"
   ]
  },
  {
   "cell_type": "code",
   "execution_count": null,
   "metadata": {},
   "outputs": [
    {
     "data": {
      "image/png": "[encoded data removed]",
      "text/plain": [
       "<Figure size 1000x800 with 1 Axes>"
      ]
     },
     "metadata": {},
     "output_type": "display_data"
    }
   ],
   "source": [
    "# Graph histogram to compare total metal concentrations across final concentrate stage\n",
    "plt.figure(figsize=(10, 8))  \n",
    "plt.hist(total_concentrations_final_concentrate, \n",
    "         bins=30, \n",
    "         alpha=0.7, \n",
    "         label='Total Concentrations at Rougher Concentrate Stage')\n",
    "plt.title('Histogram of Total Concentrations Across Final Concentrate Stage')\n",
    "plt.xlabel('Concentrations')\n",
    "plt.ylabel('Frequency')\n",
    "plt.show()"
   ]
  },
  {
   "cell_type": "markdown",
   "metadata": {},
   "source": [
    "The above histogram is displaying the distribution of \"Total Concentration\" across \"Final Concentragte\" stage. There is a low frequency at 0 concentration suggesting the raw materials in which there are no metals such as Gold, Silver, and Lead present. The frequency at 0 concentration is much lower when compared it with that during Raw Feed and Rougher Concentrate stages. Other than this, majority of the data points are concentrated between 55 to 62 forming a peak around 58-60. This represents the typical range of concentrations observed at the final concentrate stage. There are some outliers which have higher concentrations above 62 which shows that extremely high concentrationbs are rare. Overall, the histogram shows a right-skewed distribution with most data points concentrated in a central range with few outliers at higher concentrations."
   ]
  },
  {
   "cell_type": "markdown",
   "metadata": {},
   "source": [
    "Overall, all these three graphs represents the total metal concentrations during raw feed, rougher conentrate and final concentrate stages respectively. Comparing all three graphs together represents that the higher frequency at 0 concentrations is decreasing from stages to stages starting from raw feed to final concentrate. Following this all graphs are right skewed but the concentration range of most data points in these stages is increasing from stages to stages which represents that during the purification process the total concentrations of metals which includes gold, silver and, lead is increasing as they are purified by removing the waste raw materials. The abnormal values I saw among all three graphs are the frequency at 0 concentrations. But, I think it is worth removing those data points as those are disrupting data resulting into NaN values. "
   ]
  },
  {
   "cell_type": "markdown",
   "metadata": {},
   "source": [
    "## Dealing with NA and missing values"
   ]
  },
  {
   "cell_type": "markdown",
   "metadata": {},
   "source": [
    "### Training Set"
   ]
  },
  {
   "cell_type": "code",
   "execution_count": 35,
   "metadata": {},
   "outputs": [
    {
     "data": {
      "text/plain": [
       "(16860, 87)"
      ]
     },
     "execution_count": 35,
     "metadata": {},
     "output_type": "execute_result"
    }
   ],
   "source": [
    "# Check the shape of train dataset before removing features not present in test dataset.\n",
    "train.shape"
   ]
  },
  {
   "cell_type": "code",
   "execution_count": 36,
   "metadata": {},
   "outputs": [
    {
     "data": {
      "text/plain": [
       "(16860, 55)"
      ]
     },
     "execution_count": 36,
     "metadata": {},
     "output_type": "execute_result"
    }
   ],
   "source": [
    "# Remove the features not present in test dataset\n",
    "\n",
    "target_columns = ['rougher.output.recovery', 'final.output.recovery']\n",
    "\n",
    "feature_columns_train = set(train.columns) - set(target_columns)\n",
    "features_missing_in_test = feature_columns_train - feature_columns_test\n",
    "\n",
    "train = train.drop(columns=features_missing_in_test)\n",
    "\n",
    "train.shape"
   ]
  },
  {
   "cell_type": "markdown",
   "metadata": {},
   "source": [
    "I dropped the feature columns which are missing in test set but present in train set as the model won't fit if the columns in both sets are not same. So, I dropped all those 34 columns and thus both test and train dataset will have same features. "
   ]
  },
  {
   "cell_type": "code",
   "execution_count": null,
   "metadata": {},
   "outputs": [
    {
     "data": {
      "text/plain": [
       "(15701, 55)"
      ]
     },
     "execution_count": 37,
     "metadata": {},
     "output_type": "execute_result"
    }
   ],
   "source": [
    "# Remove rows with zero or values in key input columns from the dataset\n",
    "train_zero = (\n",
    "    train['rougher.input.feed_ag'] == 0) | (\n",
    "        train['rougher.input.feed_pb'] == 0) | (\n",
    "            train['rougher.input.feed_au'] == 0\n",
    "            )\n",
    "\n",
    "train = train[~train_zero]\n",
    "train.shape"
   ]
  },
  {
   "cell_type": "markdown",
   "metadata": {},
   "source": [
    "In both datasets, there are some columns such as rough.input.feed_au with 0 vas its values. Running this kind of datasets will result in NaN values for the targets of recovery so it is important to drop or not include them from the datasets. "
   ]
  },
  {
   "cell_type": "code",
   "execution_count": null,
   "metadata": {},
   "outputs": [
    {
     "data": {
      "text/plain": [
       "(15123, 55)"
      ]
     },
     "execution_count": 38,
     "metadata": {},
     "output_type": "execute_result"
    }
   ],
   "source": [
    "# Removing rows with values less than 1 in key input columns from train dataset\n",
    "train_min = (\n",
    "    train['rougher.input.feed_ag'] <= 1) | (\n",
    "    train['rougher.input.feed_pb'] <= 1) | (\n",
    "        train['rougher.input.feed_au'] <= 1)\n",
    "\n",
    "train = train[~train_min]\n",
    "train.shape"
   ]
  },
  {
   "cell_type": "code",
   "execution_count": null,
   "metadata": {},
   "outputs": [
    {
     "data": {
      "text/plain": [
       "(14029, 55)"
      ]
     },
     "execution_count": 39,
     "metadata": {},
     "output_type": "execute_result"
    }
   ],
   "source": [
    "# Dropping the missing values from target columns\n",
    "train.dropna(\n",
    "    subset=['rougher.output.recovery', \n",
    "            'final.output.recovery'], \n",
    "            inplace=True)\n",
    "\n",
    "# Checking the shape of train dataset after dropping the missing values\n",
    "train.shape"
   ]
  },
  {
   "cell_type": "code",
   "execution_count": null,
   "metadata": {},
   "outputs": [
    {
     "data": {
      "text/plain": [
       "rougher.input.feed_ag    2.215688\n",
       "rougher.input.feed_pb    1.006168\n",
       "rougher.input.feed_au    1.009195\n",
       "dtype: float64"
      ]
     },
     "execution_count": 40,
     "metadata": {},
     "output_type": "execute_result"
    }
   ],
   "source": [
    "# Determining the min values in the concentrations of metal in rougher stage. \n",
    "\n",
    "train[\n",
    "    [\n",
    "        'rougher.input.feed_ag',\n",
    "        'rougher.input.feed_pb', \n",
    "        'rougher.input.feed_au'\n",
    "        ]\n",
    "        ].min()"
   ]
  },
  {
   "cell_type": "code",
   "execution_count": null,
   "metadata": {},
   "outputs": [
    {
     "data": {
      "text/html": [
       "<div>\n",
       "<style scoped>\n",
       "    .dataframe tbody tr th:only-of-type {\n",
       "        vertical-align: middle;\n",
       "    }\n",
       "\n",
       "    .dataframe tbody tr th {\n",
       "        vertical-align: top;\n",
       "    }\n",
       "\n",
       "    .dataframe thead th {\n",
       "        text-align: right;\n",
       "    }\n",
       "</style>\n",
       "<table border=\"1\" class=\"dataframe\">\n",
       "  <thead>\n",
       "    <tr style=\"text-align: right;\">\n",
       "      <th></th>\n",
       "      <th>rougher.input.feed_ag</th>\n",
       "      <th>rougher.input.feed_pb</th>\n",
       "      <th>rougher.input.feed_au</th>\n",
       "    </tr>\n",
       "  </thead>\n",
       "  <tbody>\n",
       "    <tr>\n",
       "      <th>count</th>\n",
       "      <td>14029.000000</td>\n",
       "      <td>13943.000000</td>\n",
       "      <td>14029.000000</td>\n",
       "    </tr>\n",
       "    <tr>\n",
       "      <th>mean</th>\n",
       "      <td>8.594526</td>\n",
       "      <td>3.544617</td>\n",
       "      <td>7.902166</td>\n",
       "    </tr>\n",
       "    <tr>\n",
       "      <th>std</th>\n",
       "      <td>1.882520</td>\n",
       "      <td>1.047427</td>\n",
       "      <td>1.880940</td>\n",
       "    </tr>\n",
       "    <tr>\n",
       "      <th>min</th>\n",
       "      <td>2.215688</td>\n",
       "      <td>1.006168</td>\n",
       "      <td>1.009195</td>\n",
       "    </tr>\n",
       "    <tr>\n",
       "      <th>25%</th>\n",
       "      <td>7.139330</td>\n",
       "      <td>2.796315</td>\n",
       "      <td>6.625490</td>\n",
       "    </tr>\n",
       "    <tr>\n",
       "      <th>50%</th>\n",
       "      <td>8.164230</td>\n",
       "      <td>3.432047</td>\n",
       "      <td>7.670383</td>\n",
       "    </tr>\n",
       "    <tr>\n",
       "      <th>75%</th>\n",
       "      <td>9.929421</td>\n",
       "      <td>4.234237</td>\n",
       "      <td>9.086265</td>\n",
       "    </tr>\n",
       "    <tr>\n",
       "      <th>max</th>\n",
       "      <td>14.596026</td>\n",
       "      <td>7.142594</td>\n",
       "      <td>13.126043</td>\n",
       "    </tr>\n",
       "  </tbody>\n",
       "</table>\n",
       "</div>"
      ],
      "text/plain": [
       "       rougher.input.feed_ag  rougher.input.feed_pb  rougher.input.feed_au\n",
       "count           14029.000000           13943.000000           14029.000000\n",
       "mean                8.594526               3.544617               7.902166\n",
       "std                 1.882520               1.047427               1.880940\n",
       "min                 2.215688               1.006168               1.009195\n",
       "25%                 7.139330               2.796315               6.625490\n",
       "50%                 8.164230               3.432047               7.670383\n",
       "75%                 9.929421               4.234237               9.086265\n",
       "max                14.596026               7.142594              13.126043"
      ]
     },
     "execution_count": 41,
     "metadata": {},
     "output_type": "execute_result"
    }
   ],
   "source": [
    "# Display the descriptive statistics of the columns mentioned below from train dataset\n",
    "train[\n",
    "    [\n",
    "        'rougher.input.feed_ag', \n",
    "        'rougher.input.feed_pb', \n",
    "        'rougher.input.feed_au']\n",
    "        ].describe()"
   ]
  },
  {
   "cell_type": "code",
   "execution_count": 42,
   "metadata": {},
   "outputs": [
    {
     "name": "stdout",
     "output_type": "stream",
     "text": [
      "date                                          0\n",
      "final.output.recovery                         0\n",
      "primary_cleaner.input.sulfate                 0\n",
      "primary_cleaner.input.depressant              0\n",
      "primary_cleaner.input.feed_size               0\n",
      "primary_cleaner.input.xanthate                0\n",
      "primary_cleaner.state.floatbank8_a_air        0\n",
      "primary_cleaner.state.floatbank8_a_level      0\n",
      "primary_cleaner.state.floatbank8_b_air        0\n",
      "primary_cleaner.state.floatbank8_b_level      0\n",
      "primary_cleaner.state.floatbank8_c_air        0\n",
      "primary_cleaner.state.floatbank8_c_level      0\n",
      "primary_cleaner.state.floatbank8_d_air        0\n",
      "primary_cleaner.state.floatbank8_d_level      0\n",
      "rougher.input.feed_ag                         0\n",
      "rougher.input.feed_pb                         0\n",
      "rougher.input.feed_rate                       0\n",
      "rougher.input.feed_size                       0\n",
      "rougher.input.feed_sol                        0\n",
      "rougher.input.feed_au                         0\n",
      "rougher.input.floatbank10_sulfate             0\n",
      "rougher.input.floatbank10_xanthate            0\n",
      "rougher.input.floatbank11_sulfate             0\n",
      "rougher.input.floatbank11_xanthate            0\n",
      "rougher.output.recovery                       0\n",
      "rougher.state.floatbank10_a_air               0\n",
      "rougher.state.floatbank10_a_level             0\n",
      "rougher.state.floatbank10_b_air               0\n",
      "rougher.state.floatbank10_b_level             0\n",
      "rougher.state.floatbank10_c_air               0\n",
      "rougher.state.floatbank10_c_level             0\n",
      "rougher.state.floatbank10_d_air               0\n",
      "rougher.state.floatbank10_d_level             0\n",
      "rougher.state.floatbank10_e_air               0\n",
      "rougher.state.floatbank10_e_level             0\n",
      "rougher.state.floatbank10_f_air               0\n",
      "rougher.state.floatbank10_f_level             0\n",
      "secondary_cleaner.state.floatbank2_a_air      0\n",
      "secondary_cleaner.state.floatbank2_a_level    0\n",
      "secondary_cleaner.state.floatbank2_b_air      0\n",
      "secondary_cleaner.state.floatbank2_b_level    0\n",
      "secondary_cleaner.state.floatbank3_a_air      0\n",
      "secondary_cleaner.state.floatbank3_a_level    0\n",
      "secondary_cleaner.state.floatbank3_b_air      0\n",
      "secondary_cleaner.state.floatbank3_b_level    0\n",
      "secondary_cleaner.state.floatbank4_a_air      0\n",
      "secondary_cleaner.state.floatbank4_a_level    0\n",
      "secondary_cleaner.state.floatbank4_b_air      0\n",
      "secondary_cleaner.state.floatbank4_b_level    0\n",
      "secondary_cleaner.state.floatbank5_a_air      0\n",
      "secondary_cleaner.state.floatbank5_a_level    0\n",
      "secondary_cleaner.state.floatbank5_b_air      0\n",
      "secondary_cleaner.state.floatbank5_b_level    0\n",
      "secondary_cleaner.state.floatbank6_a_air      0\n",
      "secondary_cleaner.state.floatbank6_a_level    0\n",
      "dtype: int64\n"
     ]
    }
   ],
   "source": [
    "# Fill missing values in train dataset\n",
    "train = train.ffill()\n",
    "print(train.isna().sum())"
   ]
  },
  {
   "cell_type": "markdown",
   "metadata": {},
   "source": [
    "### Test Set"
   ]
  },
  {
   "cell_type": "code",
   "execution_count": null,
   "metadata": {},
   "outputs": [],
   "source": [
    "# Add target columns to test from full using date\n",
    "test = pd.merge(test, full[['date', \n",
    "                            'rougher.output.recovery', \n",
    "                            'final.output.recovery']], on='date', how='left')"
   ]
  },
  {
   "cell_type": "code",
   "execution_count": 44,
   "metadata": {},
   "outputs": [
    {
     "data": {
      "text/plain": [
       "(5856, 55)"
      ]
     },
     "execution_count": 44,
     "metadata": {},
     "output_type": "execute_result"
    }
   ],
   "source": [
    "# Check the shape of train dataset before removing features not present in test dataset.\n",
    "test.shape"
   ]
  },
  {
   "cell_type": "code",
   "execution_count": null,
   "metadata": {},
   "outputs": [
    {
     "data": {
      "text/plain": [
       "(5487, 55)"
      ]
     },
     "execution_count": 45,
     "metadata": {},
     "output_type": "execute_result"
    }
   ],
   "source": [
    "# Removing rows with values less than 0 in key input columns from test dataset\n",
    "test_zero = (\n",
    "    test['rougher.input.feed_ag'] == 0) | (\n",
    "        test['rougher.input.feed_pb'] == 0) | (\n",
    "            test['rougher.input.feed_au'] == 0\n",
    "            )\n",
    "\n",
    "test = test[~test_zero]\n",
    "test.shape"
   ]
  },
  {
   "cell_type": "markdown",
   "metadata": {},
   "source": [
    "In both datasets, there are some columns such as rough.input.feed_au with 0 vas its values. Running this kind of datasets will result in NaN values for the targets of recovery so it is important to drop or not include them from the datasets. "
   ]
  },
  {
   "cell_type": "code",
   "execution_count": null,
   "metadata": {},
   "outputs": [
    {
     "data": {
      "text/plain": [
       "(5453, 55)"
      ]
     },
     "execution_count": 46,
     "metadata": {},
     "output_type": "execute_result"
    }
   ],
   "source": [
    "# Removing rows with values less than 1 in key input columns from test dataset\n",
    "test_min = (\n",
    "    test['rougher.input.feed_ag'] <= 1) | (\n",
    "        test['rougher.input.feed_pb'] <= 1) | (\n",
    "            test['rougher.input.feed_au'] <= 1\n",
    "            )\n",
    "\n",
    "test = test[~test_min]\n",
    "test.shape"
   ]
  },
  {
   "cell_type": "code",
   "execution_count": null,
   "metadata": {},
   "outputs": [
    {
     "data": {
      "text/plain": [
       "(5276, 55)"
      ]
     },
     "execution_count": 47,
     "metadata": {},
     "output_type": "execute_result"
    }
   ],
   "source": [
    "# Dropping the missing values from target columns\n",
    "test.dropna(subset=['rougher.output.recovery', \n",
    "                    'final.output.recovery'], \n",
    "                    inplace=True)\n",
    "test.shape"
   ]
  },
  {
   "cell_type": "code",
   "execution_count": null,
   "metadata": {},
   "outputs": [
    {
     "data": {
      "text/plain": [
       "rougher.input.feed_ag    2.667444\n",
       "rougher.input.feed_pb    1.011167\n",
       "rougher.input.feed_au    2.764981\n",
       "dtype: float64"
      ]
     },
     "execution_count": 48,
     "metadata": {},
     "output_type": "execute_result"
    }
   ],
   "source": [
    "# Determining the min values in the concentrations of metal in rougher stage. \n",
    "test[['rougher.input.feed_ag', \n",
    "      'rougher.input.feed_pb', \n",
    "      'rougher.input.feed_au']].min()"
   ]
  },
  {
   "cell_type": "code",
   "execution_count": 49,
   "metadata": {},
   "outputs": [
    {
     "name": "stdout",
     "output_type": "stream",
     "text": [
      "date                                          0\n",
      "primary_cleaner.input.sulfate                 0\n",
      "primary_cleaner.input.depressant              0\n",
      "primary_cleaner.input.feed_size               0\n",
      "primary_cleaner.input.xanthate                0\n",
      "primary_cleaner.state.floatbank8_a_air        0\n",
      "primary_cleaner.state.floatbank8_a_level      0\n",
      "primary_cleaner.state.floatbank8_b_air        0\n",
      "primary_cleaner.state.floatbank8_b_level      0\n",
      "primary_cleaner.state.floatbank8_c_air        0\n",
      "primary_cleaner.state.floatbank8_c_level      0\n",
      "primary_cleaner.state.floatbank8_d_air        0\n",
      "primary_cleaner.state.floatbank8_d_level      0\n",
      "rougher.input.feed_ag                         0\n",
      "rougher.input.feed_pb                         0\n",
      "rougher.input.feed_rate                       0\n",
      "rougher.input.feed_size                       0\n",
      "rougher.input.feed_sol                        0\n",
      "rougher.input.feed_au                         0\n",
      "rougher.input.floatbank10_sulfate             0\n",
      "rougher.input.floatbank10_xanthate            0\n",
      "rougher.input.floatbank11_sulfate             0\n",
      "rougher.input.floatbank11_xanthate            0\n",
      "rougher.state.floatbank10_a_air               0\n",
      "rougher.state.floatbank10_a_level             0\n",
      "rougher.state.floatbank10_b_air               0\n",
      "rougher.state.floatbank10_b_level             0\n",
      "rougher.state.floatbank10_c_air               0\n",
      "rougher.state.floatbank10_c_level             0\n",
      "rougher.state.floatbank10_d_air               0\n",
      "rougher.state.floatbank10_d_level             0\n",
      "rougher.state.floatbank10_e_air               0\n",
      "rougher.state.floatbank10_e_level             0\n",
      "rougher.state.floatbank10_f_air               0\n",
      "rougher.state.floatbank10_f_level             0\n",
      "secondary_cleaner.state.floatbank2_a_air      0\n",
      "secondary_cleaner.state.floatbank2_a_level    0\n",
      "secondary_cleaner.state.floatbank2_b_air      0\n",
      "secondary_cleaner.state.floatbank2_b_level    0\n",
      "secondary_cleaner.state.floatbank3_a_air      0\n",
      "secondary_cleaner.state.floatbank3_a_level    0\n",
      "secondary_cleaner.state.floatbank3_b_air      0\n",
      "secondary_cleaner.state.floatbank3_b_level    0\n",
      "secondary_cleaner.state.floatbank4_a_air      0\n",
      "secondary_cleaner.state.floatbank4_a_level    0\n",
      "secondary_cleaner.state.floatbank4_b_air      0\n",
      "secondary_cleaner.state.floatbank4_b_level    0\n",
      "secondary_cleaner.state.floatbank5_a_air      0\n",
      "secondary_cleaner.state.floatbank5_a_level    0\n",
      "secondary_cleaner.state.floatbank5_b_air      0\n",
      "secondary_cleaner.state.floatbank5_b_level    0\n",
      "secondary_cleaner.state.floatbank6_a_air      0\n",
      "secondary_cleaner.state.floatbank6_a_level    0\n",
      "rougher.output.recovery                       0\n",
      "final.output.recovery                         0\n",
      "dtype: int64\n"
     ]
    }
   ],
   "source": [
    "# Fill missing values in test dataset\n",
    "test = test.ffill()\n",
    "print(test.isna().sum())"
   ]
  },
  {
   "cell_type": "markdown",
   "metadata": {},
   "source": [
    "Here I used 'ffill', to fill the missing values in all three datasets, train, test and full respectively. Along with it if there are any missing values in the target values, there will be errors as the model will not able to proceed  and dropped in missing values in target columns. So, now there are no missing values in any of the datasets. "
   ]
  },
  {
   "cell_type": "code",
   "execution_count": 50,
   "metadata": {},
   "outputs": [],
   "source": [
    "train = train[test.columns]"
   ]
  },
  {
   "cell_type": "markdown",
   "metadata": {},
   "source": [
    "## Build the Model"
   ]
  },
  {
   "cell_type": "markdown",
   "metadata": {},
   "source": [
    "#### Rougher"
   ]
  },
  {
   "cell_type": "code",
   "execution_count": 51,
   "metadata": {},
   "outputs": [
    {
     "name": "stdout",
     "output_type": "stream",
     "text": [
      "(14029, 55)\n",
      "(5276, 55)\n"
     ]
    }
   ],
   "source": [
    "# Checking the shape of the train and test dataset before building the model\n",
    "print(train.shape)\n",
    "print(test.shape)"
   ]
  },
  {
   "cell_type": "code",
   "execution_count": null,
   "metadata": {},
   "outputs": [],
   "source": [
    "# Split features and targets for training dataset\n",
    "features_train = train.drop(['rougher.output.recovery', \n",
    "                             'final.output.recovery'], \n",
    "                             axis=1)\n",
    "\n",
    "target_train_rougher = train['rougher.output.recovery']\n",
    "target_train_final = train['final.output.recovery']\n"
   ]
  },
  {
   "cell_type": "code",
   "execution_count": 53,
   "metadata": {},
   "outputs": [
    {
     "data": {
      "text/plain": [
       "(14029, 53)"
      ]
     },
     "metadata": {},
     "output_type": "display_data"
    },
    {
     "data": {
      "text/plain": [
       "(14029,)"
      ]
     },
     "metadata": {},
     "output_type": "display_data"
    },
    {
     "data": {
      "text/plain": [
       "(14029,)"
      ]
     },
     "metadata": {},
     "output_type": "display_data"
    }
   ],
   "source": [
    "# Display the shape of features and target of the train dataset\n",
    "display(features_train.shape)\n",
    "display(target_train_rougher.shape)\n",
    "display(target_train_final.shape)"
   ]
  },
  {
   "cell_type": "code",
   "execution_count": null,
   "metadata": {},
   "outputs": [
    {
     "data": {
      "text/plain": [
       "(5276, 53)"
      ]
     },
     "metadata": {},
     "output_type": "display_data"
    },
    {
     "data": {
      "text/plain": [
       "(5276,)"
      ]
     },
     "metadata": {},
     "output_type": "display_data"
    },
    {
     "data": {
      "text/plain": [
       "(5276,)"
      ]
     },
     "metadata": {},
     "output_type": "display_data"
    }
   ],
   "source": [
    "# Split features and targets for test dataset\n",
    "features_test = test.drop(['rougher.output.recovery', \n",
    "                           'final.output.recovery'], \n",
    "                           axis=1)\n",
    "\n",
    "target_test_rougher = test['rougher.output.recovery']\n",
    "target_test_final = test['final.output.recovery']\n",
    "\n",
    "# Display the shape of features and target of the test dataset\n",
    "display(features_test.shape)\n",
    "display(target_test_rougher.shape)\n",
    "display(target_test_final.shape)"
   ]
  },
  {
   "cell_type": "markdown",
   "metadata": {},
   "source": [
    "### Write a function to calculate the final sMAPE value."
   ]
  },
  {
   "cell_type": "code",
   "execution_count": null,
   "metadata": {},
   "outputs": [],
   "source": [
    "# Define sMAPE metric and final combined metric\n",
    "def smape(target, predict):\n",
    "    num = np.abs(target - predict)\n",
    "    den = (np.abs(target) + np.abs(predict)) / 2\n",
    "    return np.mean(num/den) * 100\n",
    "\n",
    "def final_smape(target_rougher, \n",
    "                predict_rougher, \n",
    "                target_final, \n",
    "                predict_final):\n",
    "    smape_rougher = smape(target_rougher, predict_rougher)\n",
    "    smape_final = smape(target_final, predict_final)\n",
    "    return 0.25 * smape_rougher + 0.75 * smape_final "
   ]
  },
  {
   "cell_type": "code",
   "execution_count": 56,
   "metadata": {},
   "outputs": [],
   "source": [
    "# Wrap sMAPE as a scorer for model tuning\n",
    "def smape_scorer(y_true, y_pred):\n",
    "    return 100 * (abs(y_true - y_pred) / ((abs(y_true) + abs(y_pred)) / 2)).mean()\n",
    "\n",
    "smape_scorer = make_scorer(smape_scorer, greater_is_better=False)"
   ]
  },
  {
   "cell_type": "markdown",
   "metadata": {},
   "source": [
    "### Train different models. Evaluate them using cross-validation. Pick the best model and test it using the test sample. Provide findings."
   ]
  },
  {
   "cell_type": "markdown",
   "metadata": {},
   "source": [
    "#### Decision Tree Regression"
   ]
  },
  {
   "cell_type": "code",
   "execution_count": 57,
   "metadata": {},
   "outputs": [],
   "source": [
    "# Define the hyperparameter grid for GridSearchCV to tune the Random Forest Regressor. \n",
    "param_grid_dtr = {\n",
    "    'max_depth': [None, 5, 10, 20, 30],\n",
    "    'min_samples_split': [2, 5, 10, 20],\n",
    "    'min_samples_leaf': [1, 2, 5, 10],\n",
    "}\n",
    "\n",
    "# Initialize a Decision Tree Regressor with a fixed random seed for reproducibility\n",
    "model_dtr = DecisionTreeRegressor(random_state=7)\n",
    "\n",
    "# Perform hyperparameter tuning using GridSearchCV\n",
    "grid_search = GridSearchCV(\n",
    "    estimator=model_dtr,\n",
    "    param_grid=param_grid_dtr,\n",
    "    scoring=smape_scorer,\n",
    "    cv=4\n",
    ")"
   ]
  },
  {
   "cell_type": "code",
   "execution_count": 58,
   "metadata": {},
   "outputs": [
    {
     "name": "stdout",
     "output_type": "stream",
     "text": [
      "Best Hyperparameters for Rougher: {'max_depth': 5, 'min_samples_leaf': 2, 'min_samples_split': 20}\n",
      "Rougher sMAPE: 9.284121078995895\n"
     ]
    }
   ],
   "source": [
    "# Fit the GridSearchCV to the training data for the rougher output\n",
    "grid_search.fit(features_train, target_train_rougher)\n",
    "\n",
    "# Extract the best hyperparameters found during grid search\n",
    "best_params_rougher = grid_search.best_params_\n",
    "\n",
    "# Retrieve the best estimator (model) from the grid search\n",
    "best_dtr_rougher = grid_search.best_estimator_\n",
    "\n",
    "# Use the best model to make predictions on the training data\n",
    "pred_rougher_output_recovery_train = best_dtr_rougher.predict(features_train)\n",
    "\n",
    "# Calculate the sMAPE for the rougher output\n",
    "smape_rougher_dtr = smape(target_train_rougher, pred_rougher_output_recovery_train)\n",
    "\n",
    "# Print the best hyperparameters and the corresponding sMAPE score\n",
    "print(f\"Best Hyperparameters for Rougher: {best_params_rougher}\")\n",
    "print(f\"Rougher sMAPE: {smape_rougher_dtr}\")"
   ]
  },
  {
   "cell_type": "markdown",
   "metadata": {},
   "source": [
    "The sMAPE for Rougher train dataset based on the best hyperparameters of decision tree regression : {'max_depth': 5, 'min_samples_leaf': 2, 'min_samples_split': 20} is 9.284121078995895."
   ]
  },
  {
   "cell_type": "code",
   "execution_count": 59,
   "metadata": {},
   "outputs": [
    {
     "name": "stdout",
     "output_type": "stream",
     "text": [
      "Best Hyperparameters for Final: {'max_depth': 5, 'min_samples_leaf': 5, 'min_samples_split': 2}\n",
      "Final sMAPE: 8.414827587769008\n"
     ]
    }
   ],
   "source": [
    "# Fit the GridSearchCV to the training data for the final output\n",
    "grid_search.fit(features_train, target_train_final)\n",
    "\n",
    "# Extract the best hyperparameters found during grid search\n",
    "best_params_final = grid_search.best_params_\n",
    "\n",
    "\n",
    "# Retrieve the best estimator (model) from the grid search\n",
    "best_dtr_final = grid_search.best_estimator_\n",
    "\n",
    "# Use the best model to make predictions on the training data\n",
    "pred_final_output_recovery_train = best_dtr_final.predict(features_train)\n",
    "\n",
    "# Calculate the sMAPE for the final output\n",
    "smape_final_dtr = smape(target_train_final, pred_final_output_recovery_train)\n",
    "\n",
    "# Print the best hyperparameters and the corresponding sMAPE score\n",
    "print(f\"Best Hyperparameters for Final: {best_params_final}\")\n",
    "print(f\"Final sMAPE: {smape_final_dtr}\")"
   ]
  },
  {
   "cell_type": "markdown",
   "metadata": {},
   "source": [
    "The sMAPE for Final train dataset based on the best hyperparameters of decision tree regression : {'max_depth': 5, 'min_samples_leaf': 5, 'min_samples_split': 2} is 8.414827587769008."
   ]
  },
  {
   "cell_type": "code",
   "execution_count": 60,
   "metadata": {},
   "outputs": [
    {
     "name": "stdout",
     "output_type": "stream",
     "text": [
      "Final sMAPE: 8.632150960575729\n"
     ]
    }
   ],
   "source": [
    "# Calculate the final sMAPE score using the weighted average of sMAPE for rougher and final outputs\n",
    "final_smape_value_dtr = final_smape(\n",
    "    target_train_rougher, pred_rougher_output_recovery_train,\n",
    "    target_train_final, pred_final_output_recovery_train\n",
    ")\n",
    "print(f\"Final sMAPE: {final_smape_value_dtr}\")\n"
   ]
  },
  {
   "cell_type": "markdown",
   "metadata": {},
   "source": [
    "The Final sMAPE using decision tree regression model is 8.632150960575729."
   ]
  },
  {
   "cell_type": "markdown",
   "metadata": {},
   "source": [
    "These sMAPE values indicate the accuracy of the model's predictions for different datasets. Rougher train dataset sMAPE is 9.69 which suggests that the model has some error in predicting the rougher process but is performing relatively well. While the sMAPE of final dataset is 8.17, which is lower than that of rougher process indicating that the model is performing better than that of rougher process. Lastly, the overall sMAPE value for train dataset represents the model's performance on the entire dataset which is 8.55 suggesting the overall model has a moderate prediction error."
   ]
  },
  {
   "cell_type": "markdown",
   "metadata": {},
   "source": [
    "#### Random Forest Regression"
   ]
  },
  {
   "cell_type": "code",
   "execution_count": 61,
   "metadata": {},
   "outputs": [],
   "source": [
    "# Define the hyperparameter grid for GridSearchCV to tune the Random Forest Regressor. \n",
    "param_grid = {\n",
    "    'n_estimators': [50, 100],\n",
    "    'max_depth': [10, 20],\n",
    "    'min_samples_split': [2, 5],\n",
    "    'min_samples_leaf': [1, 2]\n",
    "}\n",
    "\n",
    "# Initialize a Random Forest Regressor with a fixed random seed for reproducibility\n",
    "model_rfr = RandomForestRegressor(random_state=7)\n",
    "\n",
    "# Perform hyperparameter tuning using GridSearchCV\n",
    "grid_search = GridSearchCV(\n",
    "    estimator=model_rfr,\n",
    "    param_grid=param_grid,\n",
    "    scoring=smape_scorer,\n",
    "    cv=4\n",
    ")"
   ]
  },
  {
   "cell_type": "code",
   "execution_count": null,
   "metadata": {},
   "outputs": [],
   "source": [
    "# Fit the GridSearchCV to the training data for the rougher output\n",
    "grid_search.fit(features_train, target_train_rougher)\n",
    "\n",
    "# Extract the best hyperparameters found during grid search\n",
    "best_params_rougher = grid_search.best_params_\n",
    "\n",
    "# Retrieve the best estimator (model) from the grid search\n",
    "best_rfr_rougher = grid_search.best_estimator_\n",
    "\n",
    "# Use the best model to make predictions on the training data\n",
    "pred_rougher_output_recovery_train = best_rfr_rougher.predict(features_train)\n",
    "\n",
    "# Calculate the sMAPE  for the rougher output\n",
    "smape_rougher_rfr = smape(target_train_rougher, pred_rougher_output_recovery_train)\n",
    "\n",
    "# Print the best hyperparameters and the corresponding sMAPE score\n",
    "print(f\"Best Hyperparameters for Rougher: {best_params_rougher}\")\n",
    "print(f\"Rougher sMAPE: {smape_rougher_rfr}\")"
   ]
  },
  {
   "cell_type": "markdown",
   "metadata": {},
   "source": [
    "The sMAPE for Rougher train dataset based on the best hyperparameters of random forest regression : {'max_depth': 10, 'min_samples_leaf': 2, 'min_samples_split': 2, 'n_estimators': 50} is 7.222414285410688"
   ]
  },
  {
   "cell_type": "code",
   "execution_count": null,
   "metadata": {},
   "outputs": [
    {
     "name": "stdout",
     "output_type": "stream",
     "text": [
      "Best Hyperparameters for Final: {'max_depth': 10, 'min_samples_leaf': 2, 'min_samples_split': 2, 'n_estimators': 100}\n",
      "Final sMAPE: 6.285639488856175\n"
     ]
    }
   ],
   "source": [
    "# Fit the GridSearchCV to the training data for the final output\n",
    "grid_search.fit(features_train, target_train_final)\n",
    "\n",
    "# Extract the best hyperparameters found during grid search\n",
    "best_params_final = grid_search.best_params_\n",
    "\n",
    "\n",
    "# Retrieve the best estimator (model) from the grid search\n",
    "best_rfr_final = grid_search.best_estimator_\n",
    "\n",
    "\n",
    "# Use the best model to make predictions on the training data\n",
    "pred_final_output_recovery_train = best_rfr_final.predict(features_train)\n",
    "\n",
    "\n",
    "# Calculate the sMAPE  for the final output\n",
    "smape_final_rfr = smape(target_train_final, pred_final_output_recovery_train)\n",
    "\n",
    "\n",
    "# Print the best hyperparameters and the corresponding sMAPE score\n",
    "print(f\"Best Hyperparameters for Final: {best_params_final}\")\n",
    "print(f\"Final sMAPE: {smape_final_rfr}\")"
   ]
  },
  {
   "cell_type": "markdown",
   "metadata": {},
   "source": [
    "The sMAPE for Final train dataset based on the best hyperparameters of random forest regression: {'max_depth': 10, 'min_samples_leaf': 2, 'min_samples_split': 2, 'n_estimators': 100} is 6.285639488856175"
   ]
  },
  {
   "cell_type": "code",
   "execution_count": null,
   "metadata": {},
   "outputs": [
    {
     "name": "stdout",
     "output_type": "stream",
     "text": [
      "Final sMAPE: 6.519833187994802\n"
     ]
    }
   ],
   "source": [
    "# Calculate the final sMAPE score using the weighted average of sMAPE for rougher and final outputs\n",
    "final_smape_value_rfr = final_smape(\n",
    "    target_train_rougher, \n",
    "    pred_rougher_output_recovery_train,\n",
    "    target_train_final, \n",
    "    pred_final_output_recovery_train\n",
    ")\n",
    "print(f\"Final sMAPE: {final_smape_value_rfr}\")\n"
   ]
  },
  {
   "cell_type": "markdown",
   "metadata": {},
   "source": [
    "The Final sMAPE using random forest regression model for train dataset is 6.519833187994802."
   ]
  },
  {
   "cell_type": "markdown",
   "metadata": {},
   "source": [
    "Based on the evaluation using cross-validation, among both models - Decision Tree Regression, and Random Forest Regression, Random Forest Regression is giving low error based on the smape scorer. But, Random Forest Regression is taking forever to run the code, so I choose Decision Tree Regression as the best models among those two. "
   ]
  },
  {
   "cell_type": "markdown",
   "metadata": {},
   "source": [
    "## Final model"
   ]
  },
  {
   "cell_type": "code",
   "execution_count": null,
   "metadata": {},
   "outputs": [
    {
     "name": "stdout",
     "output_type": "stream",
     "text": [
      "sMAPE for Rougher test dataset: 9.204073612542519\n"
     ]
    }
   ],
   "source": [
    "# Use the best rougher model to make predictions on the test dataset\n",
    "pred_rougher_output_recovery_test = best_dtr_rougher.predict(features_test)\n",
    "\n",
    "# Calculate the sMAPE for the rougher output on the test dataset\n",
    "smape_rougher_dtr_test = smape(target_test_rougher, pred_rougher_output_recovery_test)\n",
    "\n",
    "# Print the sMAPE score for the rougher test dataset\n",
    "print(f\"sMAPE for Rougher test dataset: {smape_rougher_dtr_test}\")"
   ]
  },
  {
   "cell_type": "markdown",
   "metadata": {},
   "source": [
    "The sMAPE for Rougher test dataset based on the best hyperparameters of decision tree regression : {'max_depth': 5, 'min_samples_leaf': 10, 'min_samples_split': 2} is 9.204073612542519."
   ]
  },
  {
   "cell_type": "code",
   "execution_count": null,
   "metadata": {},
   "outputs": [
    {
     "name": "stdout",
     "output_type": "stream",
     "text": [
      "sMAPE for Final test dataset: 10.267992898631267\n"
     ]
    }
   ],
   "source": [
    "# Use the best final model (Decision Tree Regressor) to make predictions on the test dataset\n",
    "pred_final_output_recovery_test = best_dtr_final.predict(features_test)\n",
    "\n",
    "# Calculate the sMAPE for the final output on the test dataset\n",
    "\n",
    "smape_final_dtr_test = smape(target_test_final, pred_final_output_recovery_test)\n",
    "\n",
    "# Print the sMAPE score for the final test dataset\n",
    "print(f\"sMAPE for Final test dataset: {smape_final_dtr_test}\")"
   ]
  },
  {
   "cell_type": "markdown",
   "metadata": {},
   "source": [
    "The sMAPE for Final test dataset based on the best hyperparameters of decision tree regression : {'max_depth': 5, 'min_samples_leaf': 10, 'min_samples_split': 2} is 10.267992898631267."
   ]
  },
  {
   "cell_type": "code",
   "execution_count": null,
   "metadata": {},
   "outputs": [
    {
     "name": "stdout",
     "output_type": "stream",
     "text": [
      "Final sMAPE: 10.00201307710908\n"
     ]
    }
   ],
   "source": [
    "# Calculate the final sMAPE score by combining rougher and final output predictions on the test set\n",
    "final_smape_value = final_smape(\n",
    "    target_test_rougher, \n",
    "    pred_rougher_output_recovery_test,\n",
    "    target_test_final, \n",
    "    pred_final_output_recovery_test\n",
    ")\n",
    "\n",
    "# Print the final sMAPE score for model evaluation\n",
    "print(f\"Final sMAPE: {final_smape_value}\")\n"
   ]
  },
  {
   "cell_type": "markdown",
   "metadata": {},
   "source": [
    "The Final sMAPE using decision tree regression model for train dataset is 10.00201307710908."
   ]
  },
  {
   "cell_type": "markdown",
   "metadata": {},
   "source": [
    "These sMAPE values indicate the accuracy of the model's predictions for different datasets. Rougher test dataset sMAPE is 8.87 which suggests that the model has some error in predicting the rougher process but is performing relatively well. While the sMAPE of final dataset is 8.6, which is lower than that of rougher process indicating that the model is performing better than that of rougher process. Lastly, the overall sMAPE value for test dataset represents the model's performance on the entire dataset which is 8.67 suggesting the overall model has a moderate prediction error."
   ]
  },
  {
   "cell_type": "markdown",
   "metadata": {},
   "source": [
    "## Conclusion"
   ]
  },
  {
   "cell_type": "markdown",
   "metadata": {},
   "source": [
    "The project was from a gold mining sector of a compansy named Zyfra which develops efficiency solutions for heavy industry. For this company, the task given was to develop a prototype of a machine learning model by Zyfra. The model should predict the amount of gold recovered from gold ore. The dataset on extraction and purification was used to develop the model which will help to optimize the production and eliminate unprofitable parameters. \n",
    "\n",
    "Firstly, after opening the files, the recovery was calcuated based on the train dataset to determine the mean absolute error of rougher.output. recovery and calcuated_recovery. A mean absolute error (MAE) is a regression evaluation metric to measure the average absolute difference between the 'rougher.output.recovery' and 'calculated_recovery'. 'train_mae' is 9.46e-15, lower MAE which means that on average the calcuated recovery are closer to the actual rougher.output.recovery values, which indicates better performance. As MAE is 9.46e-15, it shows that on average the predictions are off by 9.46e-15 units. \n",
    "\n",
    "Following this it was determined that there are 34 features which are present in train set but missing in test set. Those features were dropped from the train datasets as it will result in an error when trying to run the model. Later, data pre-processing was done and the all the datasets were cleaned. There were no duplicates in the datasets while missing values were filled using ffill after dropping the missing rows if they had missing values in the target columns. So, by the end of the data pre-processing, the data was cleaned and there were no missing values in the datasets. \n",
    "\n",
    "From doing data analysis, it was known that the concentrations of metals (Au, Ag, Pb) were changing depending on the purification stages in such a way that the concentrations of the metals were increasing when moving from stage to stage. Based on that metal concentrations were highest during final concentrate stage followed by rougher concentrate stage and lastly in primary cleaner stage. This shows that all the metals are getting purified when passing though the purification process. As the purification process was based on gold, among all metals highest concentration was of gold followed by silver and lastly lead. Also, it was known that during all three stages, there were some lower concentrations (close to zero) present which are likely representing unprocessed raw materials or loss during the early process. Secondly, the feed particle size distributions in the training and test sets were analyzed. When analyzing, it was known that the feed size during input and primary clearer in both datasets were similar as both both datasets were significantly overlapping representing that both datasets have similar feed particle size distribution. During rougher set, there was a density at approximately 50-75 feed units while that of in primary cleaner was at 6-8 feed units. Among both stages. the test dataset has slighlty less density than the training dataset in some parts of the distribution. Lastly, the total concentrations of all substances at different stages - raw feed, rougher concentrate, and final concentrate were analyzed. A majority of the data points are concentrated between 15 to 30 forming a peak around 18-20 which represents the typical range of concentrations observed at the raw feed stage. During rougher concentrate stage, a majority of the data points are concentrated between 30 and 50 forming a peak around 40-45. This represents the typical range of concentrations observed during rougher concentrate stage likely representing the expected or normal performance of the rougher concentrate process. Lastly, during final concentrate stage, majority of the data points are concentrated between 55 to 62 forming a peak around 58-60. This represents the typical range of concentrations observed at the final concentrate stage. Overall, among all stages some frequency at 0 concentrations were found which were decreasing when moving from stage to stage. Thus, final concentrate stage had the lowest frequency among all stages. Thus those 0 concentrations seem to be abnormal valaues which might distrupt the data resulting into Nan values and so it is worth removing those data points form the dataset. \n",
    "\n",
    "After cleaning the data, to build a model as the target dataset has no target columns, full and test dataset were merged and it was named test dataset. Following this, the train and test datasets were divided into two groups - rougher and final datasets based on the columns names. Then rougher and final datasets were divided into their features and target columns. \n",
    "\n",
    "sMAPE and final sMAPE functions were used to calcuate the sMAPE and final sMAPE values for both, decision tree regression and random forest regression models. Using gridsearch - which also used cross-validation to evaluate the best model. The sMAPE values indicate the accuracy of the decision tree regression model's predictions for both datasets. Rougher train dataset sMAPE is 9.69 which suggests that the model has some error in predicting the rougher process but is performing relatively well. While the sMAPE of final dataset is 8.17, which is lower than that of rougher process indicating that the model is performing better than that of rougher process. Lastly, the overall sMAPE value for train dataset represents the model's performance on the entire dataset which is 8.55 suggesting the overall model has a moderate prediction error. For random forest regression, Rougher train dataset sMAPE is 7.22 which suggests that the model has some error in predicting the rougher process but is performing relatively well. While the sMAPE of final dataset is 6.28, which is much lower than that of rougher process indicating that the model is performing better than that of rougher process. Lastly, the overall sMAPE value for train dataset represents the model's performance on the entire dataset which is 6.51 suggesting the overall model has a better prediction error when compared to that of decision tree regression model.\n",
    "\n",
    "Among those two, the best model was random forest regression model as it has lower sMAPE errors for both rougher train and final train dataset, but it took really long time to run the code. So, for the test datasets, I used decision tree regression as a best models and run through the test dataset. Based on the decision tree regression model, the sMAPE for test dataset is 8.87The project was from a gold mining sector of a compansy named Zyfra which develops efficiency solutions for heavy industry. For this company, the task given was to develop a prototype of a machine learning model by Zyfra. The model should predict the amount of gold recovered from gold ore. The dataset on extraction and purification was used to develop the model which will help to optimize the production and eliminate unprofitable parameters. \n",
    "\n",
    "Firstly, after opening the files, the recovery was calcuated based on the train dataset to determine the mean absolute error of rougher.output. recovery and calcuated_recovery. A mean absolute error (MAE) is a regression evaluation metric to measure the average absolute difference between the 'rougher.output.recovery' and 'calculated_recovery'. 'train_mae' is 9.46e-15, lower MAE which means that on average the calcuated recovery are closer to the actual rougher.output.recovery values, which indicates better performance. As MAE is 9.46e-15, it shows that on average the predictions are off by 9.46e-15 units. \n",
    "\n",
    "Following this it was determined that there are 34 features which are present in train set but missing in test set. Those features were dropped from the train datasets as it will result in an error when trying to run the model. Later, data pre-processing was done and the all the datasets were cleaned. There were no duplicates in the datasets while missing values were filled using ffill after dropping the missing rows if they had missing values in the target columns. So, by the end of the data pre-processing, the data was cleaned and there were no missing values in the datasets. \n",
    "\n",
    "From doing data analysis, it was known that the concentrations of metals (Au, Ag, Pb) were changing depending on the purification stages in such a way that the concentrations of the metals were increasing when moving from stage to stage. Based on that metal concentrations were highest during final concentrate stage followed by rougher concentrate stage and lastly in primary cleaner stage. This shows that all the metals are getting purified when passing though the purification process. As the purification process was based on gold, among all metals highest concentration was of gold followed by silver and lastly lead. Also, it was known that during all three stages, there were some lower concentrations (close to zero) present which are likely representing unprocessed raw materials or loss during the early process. Secondly, the feed particle size distributions in the training and test sets were analyzed. When analyzing, it was known that the feed size during input and primary clearer in both datasets were similar as both both datasets were significantly overlapping representing that both datasets have similar feed particle size distribution. During rougher set, there was a density at approximately 50-75 feed units while that of in primary cleaner was at 6-8 feed units. Among both stages. the test dataset has slighlty less density than the training dataset in some parts of the distribution. Lastly, the total concentrations of all substances at different stages - raw feed, rougher concentrate, and final concentrate were analyzed. A majority of the data points are concentrated between 15 to 30 forming a peak around 18-20 which represents the typical range of concentrations observed at the raw feed stage. During rougher concentrate stage, a majority of the data points are concentrated between 30 and 50 forming a peak around 40-45. This represents the typical range of concentrations observed during rougher concentrate stage likely representing the expected or normal performance of the rougher concentrate process. Lastly, during final concentrate stage, majority of the data points are concentrated between 55 to 62 forming a peak around 58-60. This represents the typical range of concentrations observed at the final concentrate stage. Overall, among all stages some frequency at 0 concentrations were found which were decreasing when moving from stage to stage. Thus, final concentrate stage had the lowest frequency among all stages. Thus those 0 concentrations seem to be abnormal valaues which might distrupt the data resulting into Nan values and so it is worth removing those data points form the dataset. \n",
    "\n",
    "After cleaning the data, to build a model as the target dataset has no target columns, full and test dataset were merged and it was named test dataset. Following this, the train and test datasets were divided into two groups - rougher and final datasets based on the columns names. Then rougher and final datasets were divided into their features and target columns. \n",
    "\n",
    "sMAPE and final sMAPE functions were used to calcuate the sMAPE and final sMAPE values for both, decision tree regression and random forest regression models. Using gridsearch - which also used cross-validation to evaluate the best model. The sMAPE values indicate the accuracy of the decision tree regression model's predictions for both datasets. Rougher train dataset sMAPE is 9.28 which suggests that the model has some error in predicting the rougher process but is performing relatively well. While the sMAPE of final dataset is 8.41, which is lower than that of rougher process indicating that the model is performing better than that of rougher process. Lastly, the overall sMAPE value for train dataset represents the model's performance on the entire dataset which is 8.63 suggesting the overall model has a moderate prediction error. For random forest regression, Rougher train dataset sMAPE is 7.68 which suggests that the model has some error in predicting the rougher process but is performing relatively well. While the sMAPE of final dataset is 5.90, which is much lower than that of rougher process indicating that the model is performing better than that of rougher process. Lastly, the overall sMAPE value for train dataset represents the model's performance on the entire dataset which is 6.37 suggesting the overall model has a better prediction error when compared to that of decision tree regression model.\n",
    "\n",
    "Among those two, the best model was random forest regression model as it has lower sMAPE errors for both rougher train and final train dataset, but it took really long time to run the code. So, for the test datasets, I used decision tree regression as a best models and run through the test dataset. Based on the decision tree regression model, the sMAPE for rougher test dataset is 9.20, and that of final test dataset is 10.2 and final smape for test dataset is 10.00. This indicates that, the best model's performance is similar among both train and test datasets. Thus, it looks like that this model is good but is moderate in predicting errors. "
   ]
  }
 ],
 "metadata": {
  "ExecuteTimeLog": [
   {
    "duration": 779,
    "start_time": "2025-01-13T03:31:48.733Z"
   },
   {
    "duration": 175,
    "start_time": "2025-01-13T03:31:49.514Z"
   },
   {
    "duration": 764,
    "start_time": "2025-01-13T03:31:49.691Z"
   },
   {
    "duration": 0,
    "start_time": "2025-01-13T03:31:50.458Z"
   },
   {
    "duration": 0,
    "start_time": "2025-01-13T03:31:50.459Z"
   },
   {
    "duration": 0,
    "start_time": "2025-01-13T03:31:50.460Z"
   },
   {
    "duration": 0,
    "start_time": "2025-01-13T03:31:50.470Z"
   },
   {
    "duration": 0,
    "start_time": "2025-01-13T03:31:50.471Z"
   },
   {
    "duration": 0,
    "start_time": "2025-01-13T03:31:50.473Z"
   },
   {
    "duration": 0,
    "start_time": "2025-01-13T03:31:50.474Z"
   },
   {
    "duration": 0,
    "start_time": "2025-01-13T03:31:50.475Z"
   },
   {
    "duration": 0,
    "start_time": "2025-01-13T03:31:50.476Z"
   },
   {
    "duration": 0,
    "start_time": "2025-01-13T03:31:50.477Z"
   },
   {
    "duration": 0,
    "start_time": "2025-01-13T03:31:50.478Z"
   },
   {
    "duration": 0,
    "start_time": "2025-01-13T03:31:50.479Z"
   },
   {
    "duration": 0,
    "start_time": "2025-01-13T03:31:50.480Z"
   },
   {
    "duration": 0,
    "start_time": "2025-01-13T03:31:50.482Z"
   },
   {
    "duration": 0,
    "start_time": "2025-01-13T03:31:50.483Z"
   },
   {
    "duration": 0,
    "start_time": "2025-01-13T03:31:50.484Z"
   },
   {
    "duration": 0,
    "start_time": "2025-01-13T03:31:50.485Z"
   },
   {
    "duration": 0,
    "start_time": "2025-01-13T03:31:50.486Z"
   },
   {
    "duration": 469,
    "start_time": "2025-01-13T03:32:04.163Z"
   },
   {
    "duration": 794,
    "start_time": "2025-01-13T03:32:10.454Z"
   },
   {
    "duration": 173,
    "start_time": "2025-01-13T03:32:11.250Z"
   },
   {
    "duration": 484,
    "start_time": "2025-01-13T03:32:11.425Z"
   },
   {
    "duration": 62,
    "start_time": "2025-01-13T03:32:11.910Z"
   },
   {
    "duration": 5,
    "start_time": "2025-01-13T03:32:11.974Z"
   },
   {
    "duration": 4,
    "start_time": "2025-01-13T03:32:11.980Z"
   },
   {
    "duration": 3,
    "start_time": "2025-01-13T03:32:11.986Z"
   },
   {
    "duration": 190,
    "start_time": "2025-01-13T03:32:11.990Z"
   },
   {
    "duration": 4,
    "start_time": "2025-01-13T03:32:12.182Z"
   },
   {
    "duration": 8,
    "start_time": "2025-01-13T03:32:12.188Z"
   },
   {
    "duration": 7,
    "start_time": "2025-01-13T03:32:12.197Z"
   },
   {
    "duration": 4,
    "start_time": "2025-01-13T03:32:12.206Z"
   },
   {
    "duration": 23,
    "start_time": "2025-01-13T03:32:12.211Z"
   },
   {
    "duration": 11,
    "start_time": "2025-01-13T03:32:12.271Z"
   },
   {
    "duration": 3,
    "start_time": "2025-01-13T03:32:12.283Z"
   },
   {
    "duration": 6,
    "start_time": "2025-01-13T03:32:12.288Z"
   },
   {
    "duration": 2,
    "start_time": "2025-01-13T03:32:12.296Z"
   },
   {
    "duration": 9,
    "start_time": "2025-01-13T03:32:12.300Z"
   },
   {
    "duration": 3,
    "start_time": "2025-01-13T03:32:12.310Z"
   },
   {
    "duration": 234,
    "start_time": "2025-01-13T03:32:12.315Z"
   },
   {
    "duration": 5,
    "start_time": "2025-01-13T03:32:12.551Z"
   },
   {
    "duration": 2,
    "start_time": "2025-01-13T03:48:30.350Z"
   },
   {
    "duration": 788,
    "start_time": "2025-01-13T03:52:58.140Z"
   },
   {
    "duration": 166,
    "start_time": "2025-01-13T03:52:58.930Z"
   },
   {
    "duration": 540,
    "start_time": "2025-01-13T03:52:59.098Z"
   },
   {
    "duration": 55,
    "start_time": "2025-01-13T03:52:59.640Z"
   },
   {
    "duration": 8,
    "start_time": "2025-01-13T03:52:59.697Z"
   },
   {
    "duration": 3,
    "start_time": "2025-01-13T03:52:59.707Z"
   },
   {
    "duration": 247,
    "start_time": "2025-01-13T03:52:59.712Z"
   },
   {
    "duration": 0,
    "start_time": "2025-01-13T03:52:59.962Z"
   },
   {
    "duration": 0,
    "start_time": "2025-01-13T03:52:59.963Z"
   },
   {
    "duration": 0,
    "start_time": "2025-01-13T03:52:59.965Z"
   },
   {
    "duration": 0,
    "start_time": "2025-01-13T03:52:59.970Z"
   },
   {
    "duration": 0,
    "start_time": "2025-01-13T03:52:59.971Z"
   },
   {
    "duration": 0,
    "start_time": "2025-01-13T03:52:59.972Z"
   },
   {
    "duration": 0,
    "start_time": "2025-01-13T03:52:59.973Z"
   },
   {
    "duration": 0,
    "start_time": "2025-01-13T03:52:59.974Z"
   },
   {
    "duration": 0,
    "start_time": "2025-01-13T03:52:59.975Z"
   },
   {
    "duration": 0,
    "start_time": "2025-01-13T03:52:59.976Z"
   },
   {
    "duration": 0,
    "start_time": "2025-01-13T03:52:59.978Z"
   },
   {
    "duration": 0,
    "start_time": "2025-01-13T03:52:59.978Z"
   },
   {
    "duration": 0,
    "start_time": "2025-01-13T03:52:59.979Z"
   },
   {
    "duration": 2,
    "start_time": "2025-01-13T03:53:42.419Z"
   },
   {
    "duration": 2,
    "start_time": "2025-01-13T03:53:42.589Z"
   },
   {
    "duration": 503,
    "start_time": "2025-01-13T03:53:42.924Z"
   },
   {
    "duration": 57,
    "start_time": "2025-01-13T03:53:43.430Z"
   },
   {
    "duration": 8,
    "start_time": "2025-01-13T03:53:43.508Z"
   },
   {
    "duration": 3,
    "start_time": "2025-01-13T03:53:43.700Z"
   },
   {
    "duration": 196,
    "start_time": "2025-01-13T03:53:43.917Z"
   },
   {
    "duration": 112,
    "start_time": "2025-01-13T03:53:44.121Z"
   },
   {
    "duration": 203,
    "start_time": "2025-01-13T03:53:50.567Z"
   },
   {
    "duration": 53,
    "start_time": "2025-01-13T03:53:52.582Z"
   },
   {
    "duration": 21,
    "start_time": "2025-01-13T04:03:54.906Z"
   },
   {
    "duration": 3,
    "start_time": "2025-01-13T04:04:01.779Z"
   },
   {
    "duration": 131,
    "start_time": "2025-01-13T04:04:13.110Z"
   },
   {
    "duration": 126,
    "start_time": "2025-01-13T04:04:17.279Z"
   },
   {
    "duration": 5,
    "start_time": "2025-01-13T04:04:27.830Z"
   },
   {
    "duration": 10,
    "start_time": "2025-01-13T04:09:04.865Z"
   },
   {
    "duration": 3,
    "start_time": "2025-01-13T04:09:08.533Z"
   },
   {
    "duration": 16,
    "start_time": "2025-01-13T04:09:42.751Z"
   },
   {
    "duration": 779,
    "start_time": "2025-01-13T04:09:51.825Z"
   },
   {
    "duration": 165,
    "start_time": "2025-01-13T04:09:52.606Z"
   },
   {
    "duration": 500,
    "start_time": "2025-01-13T04:09:52.773Z"
   },
   {
    "duration": 48,
    "start_time": "2025-01-13T04:09:53.275Z"
   },
   {
    "duration": 8,
    "start_time": "2025-01-13T04:09:53.325Z"
   },
   {
    "duration": 40,
    "start_time": "2025-01-13T04:09:53.334Z"
   },
   {
    "duration": 4,
    "start_time": "2025-01-13T04:09:53.376Z"
   },
   {
    "duration": 140,
    "start_time": "2025-01-13T04:09:53.382Z"
   },
   {
    "duration": 5,
    "start_time": "2025-01-13T04:09:53.524Z"
   },
   {
    "duration": 2,
    "start_time": "2025-01-13T04:09:53.532Z"
   },
   {
    "duration": 4,
    "start_time": "2025-01-13T04:09:53.536Z"
   },
   {
    "duration": 182,
    "start_time": "2025-01-13T04:09:53.542Z"
   },
   {
    "duration": 3,
    "start_time": "2025-01-13T04:09:53.726Z"
   },
   {
    "duration": 7,
    "start_time": "2025-01-13T04:09:53.731Z"
   },
   {
    "duration": 30,
    "start_time": "2025-01-13T04:09:53.740Z"
   },
   {
    "duration": 4,
    "start_time": "2025-01-13T04:09:53.771Z"
   },
   {
    "duration": 12,
    "start_time": "2025-01-13T04:09:53.777Z"
   },
   {
    "duration": 3,
    "start_time": "2025-01-13T04:09:53.790Z"
   },
   {
    "duration": 5,
    "start_time": "2025-01-13T04:09:53.795Z"
   },
   {
    "duration": 3,
    "start_time": "2025-01-13T04:09:53.801Z"
   },
   {
    "duration": 11,
    "start_time": "2025-01-13T04:10:35.272Z"
   },
   {
    "duration": 4,
    "start_time": "2025-01-13T04:10:44.459Z"
   },
   {
    "duration": 4093,
    "start_time": "2025-01-13T18:58:58.512Z"
   },
   {
    "duration": 188,
    "start_time": "2025-01-13T18:59:02.607Z"
   },
   {
    "duration": 861,
    "start_time": "2025-01-13T18:59:02.797Z"
   },
   {
    "duration": 76,
    "start_time": "2025-01-13T18:59:03.661Z"
   },
   {
    "duration": 11,
    "start_time": "2025-01-13T18:59:03.738Z"
   },
   {
    "duration": 24,
    "start_time": "2025-01-13T18:59:03.751Z"
   },
   {
    "duration": 4,
    "start_time": "2025-01-13T18:59:03.777Z"
   },
   {
    "duration": 233,
    "start_time": "2025-01-13T18:59:03.782Z"
   },
   {
    "duration": 7,
    "start_time": "2025-01-13T18:59:04.019Z"
   },
   {
    "duration": 6,
    "start_time": "2025-01-13T18:59:04.031Z"
   },
   {
    "duration": 5,
    "start_time": "2025-01-13T18:59:04.039Z"
   },
   {
    "duration": 232,
    "start_time": "2025-01-13T18:59:04.045Z"
   },
   {
    "duration": 4,
    "start_time": "2025-01-13T18:59:04.279Z"
   },
   {
    "duration": 11,
    "start_time": "2025-01-13T18:59:04.285Z"
   },
   {
    "duration": 10,
    "start_time": "2025-01-13T18:59:04.313Z"
   },
   {
    "duration": 4,
    "start_time": "2025-01-13T18:59:04.325Z"
   },
   {
    "duration": 16,
    "start_time": "2025-01-13T18:59:04.331Z"
   },
   {
    "duration": 2,
    "start_time": "2025-01-13T18:59:04.349Z"
   },
   {
    "duration": 273,
    "start_time": "2025-01-13T19:02:55.707Z"
   },
   {
    "duration": 4,
    "start_time": "2025-01-13T19:03:01.364Z"
   },
   {
    "duration": 15,
    "start_time": "2025-01-13T19:03:10.355Z"
   },
   {
    "duration": 21,
    "start_time": "2025-01-13T19:17:16.683Z"
   },
   {
    "duration": 19,
    "start_time": "2025-01-13T19:17:22.374Z"
   },
   {
    "duration": 15,
    "start_time": "2025-01-13T19:17:26.177Z"
   },
   {
    "duration": 879,
    "start_time": "2025-01-13T19:17:45.621Z"
   },
   {
    "duration": 220,
    "start_time": "2025-01-13T19:17:46.502Z"
   },
   {
    "duration": 526,
    "start_time": "2025-01-13T19:17:46.724Z"
   },
   {
    "duration": 66,
    "start_time": "2025-01-13T19:17:47.253Z"
   },
   {
    "duration": 11,
    "start_time": "2025-01-13T19:17:47.322Z"
   },
   {
    "duration": 20,
    "start_time": "2025-01-13T19:17:47.335Z"
   },
   {
    "duration": 4,
    "start_time": "2025-01-13T19:17:47.357Z"
   },
   {
    "duration": 208,
    "start_time": "2025-01-13T19:17:47.363Z"
   },
   {
    "duration": 5,
    "start_time": "2025-01-13T19:17:47.574Z"
   },
   {
    "duration": 4,
    "start_time": "2025-01-13T19:17:47.582Z"
   },
   {
    "duration": 3,
    "start_time": "2025-01-13T19:17:47.588Z"
   },
   {
    "duration": 169,
    "start_time": "2025-01-13T19:17:47.612Z"
   },
   {
    "duration": 4,
    "start_time": "2025-01-13T19:17:47.783Z"
   },
   {
    "duration": 23,
    "start_time": "2025-01-13T19:17:47.789Z"
   },
   {
    "duration": 8,
    "start_time": "2025-01-13T19:17:47.815Z"
   },
   {
    "duration": 4,
    "start_time": "2025-01-13T19:17:47.824Z"
   },
   {
    "duration": 11,
    "start_time": "2025-01-13T19:17:47.830Z"
   },
   {
    "duration": 5,
    "start_time": "2025-01-13T19:17:47.842Z"
   },
   {
    "duration": 15,
    "start_time": "2025-01-13T19:17:47.849Z"
   },
   {
    "duration": 5,
    "start_time": "2025-01-13T19:18:08.627Z"
   },
   {
    "duration": 5,
    "start_time": "2025-01-13T19:18:53.413Z"
   },
   {
    "duration": 3,
    "start_time": "2025-01-13T19:20:13.224Z"
   },
   {
    "duration": 220,
    "start_time": "2025-01-13T19:21:15.734Z"
   },
   {
    "duration": 16,
    "start_time": "2025-01-13T19:21:40.628Z"
   },
   {
    "duration": 3,
    "start_time": "2025-01-13T19:21:52.356Z"
   },
   {
    "duration": 4,
    "start_time": "2025-01-13T19:21:54.141Z"
   },
   {
    "duration": 14,
    "start_time": "2025-01-13T19:22:41.467Z"
   },
   {
    "duration": 13,
    "start_time": "2025-01-13T19:22:47.330Z"
   },
   {
    "duration": 14,
    "start_time": "2025-01-13T19:22:51.207Z"
   },
   {
    "duration": 13,
    "start_time": "2025-01-13T19:22:59.070Z"
   },
   {
    "duration": 14,
    "start_time": "2025-01-13T19:26:59.433Z"
   },
   {
    "duration": 5,
    "start_time": "2025-01-17T04:27:46.918Z"
   },
   {
    "duration": 2475,
    "start_time": "2025-01-17T04:27:55.424Z"
   },
   {
    "duration": 139,
    "start_time": "2025-01-17T04:27:57.902Z"
   },
   {
    "duration": 593,
    "start_time": "2025-01-17T04:27:58.043Z"
   },
   {
    "duration": 50,
    "start_time": "2025-01-17T04:27:58.637Z"
   },
   {
    "duration": 7,
    "start_time": "2025-01-17T04:27:58.690Z"
   },
   {
    "duration": 18,
    "start_time": "2025-01-17T04:27:58.699Z"
   },
   {
    "duration": 24,
    "start_time": "2025-01-17T04:27:58.719Z"
   },
   {
    "duration": 144,
    "start_time": "2025-01-17T04:27:58.744Z"
   },
   {
    "duration": 6,
    "start_time": "2025-01-17T04:27:58.889Z"
   },
   {
    "duration": 2,
    "start_time": "2025-01-17T04:27:58.897Z"
   },
   {
    "duration": 2,
    "start_time": "2025-01-17T04:27:58.901Z"
   },
   {
    "duration": 4,
    "start_time": "2025-01-17T04:27:58.904Z"
   },
   {
    "duration": 3,
    "start_time": "2025-01-17T04:27:58.909Z"
   },
   {
    "duration": 177,
    "start_time": "2025-01-17T04:27:58.944Z"
   },
   {
    "duration": 5,
    "start_time": "2025-01-17T04:27:59.123Z"
   },
   {
    "duration": 16,
    "start_time": "2025-01-17T04:27:59.130Z"
   },
   {
    "duration": 7,
    "start_time": "2025-01-17T04:27:59.148Z"
   },
   {
    "duration": 4,
    "start_time": "2025-01-17T04:27:59.157Z"
   },
   {
    "duration": 11,
    "start_time": "2025-01-17T04:27:59.163Z"
   },
   {
    "duration": 3,
    "start_time": "2025-01-17T04:27:59.175Z"
   },
   {
    "duration": 15,
    "start_time": "2025-01-17T04:27:59.179Z"
   },
   {
    "duration": 2,
    "start_time": "2025-01-17T04:28:50.519Z"
   },
   {
    "duration": 3,
    "start_time": "2025-01-17T04:29:03.777Z"
   },
   {
    "duration": 5,
    "start_time": "2025-01-17T04:29:23.634Z"
   },
   {
    "duration": 3,
    "start_time": "2025-01-17T04:30:06.941Z"
   },
   {
    "duration": 2,
    "start_time": "2025-01-17T04:30:26.600Z"
   },
   {
    "duration": 8,
    "start_time": "2025-01-17T04:30:38.626Z"
   },
   {
    "duration": 12,
    "start_time": "2025-01-17T04:31:08.847Z"
   },
   {
    "duration": 7,
    "start_time": "2025-01-17T04:31:27.094Z"
   },
   {
    "duration": 2607,
    "start_time": "2025-01-17T18:09:19.450Z"
   },
   {
    "duration": 132,
    "start_time": "2025-01-17T18:09:22.060Z"
   },
   {
    "duration": 629,
    "start_time": "2025-01-17T18:09:22.193Z"
   },
   {
    "duration": 56,
    "start_time": "2025-01-17T18:09:22.824Z"
   },
   {
    "duration": 11,
    "start_time": "2025-01-17T18:09:22.881Z"
   },
   {
    "duration": 41,
    "start_time": "2025-01-17T18:09:22.894Z"
   },
   {
    "duration": 4,
    "start_time": "2025-01-17T18:09:22.937Z"
   },
   {
    "duration": 155,
    "start_time": "2025-01-17T18:09:22.942Z"
   },
   {
    "duration": 4,
    "start_time": "2025-01-17T18:09:23.099Z"
   },
   {
    "duration": 2,
    "start_time": "2025-01-17T18:09:23.107Z"
   },
   {
    "duration": 3,
    "start_time": "2025-01-17T18:09:23.111Z"
   },
   {
    "duration": 3,
    "start_time": "2025-01-17T18:09:23.131Z"
   },
   {
    "duration": 3,
    "start_time": "2025-01-17T18:09:23.136Z"
   },
   {
    "duration": 3,
    "start_time": "2025-01-17T18:09:23.141Z"
   },
   {
    "duration": 3,
    "start_time": "2025-01-17T18:09:23.145Z"
   },
   {
    "duration": 8,
    "start_time": "2025-01-17T18:09:23.149Z"
   },
   {
    "duration": 4,
    "start_time": "2025-01-17T18:09:23.159Z"
   },
   {
    "duration": 4,
    "start_time": "2025-01-17T18:09:23.164Z"
   },
   {
    "duration": 2,
    "start_time": "2025-01-17T18:09:23.170Z"
   },
   {
    "duration": 222,
    "start_time": "2025-01-17T18:09:23.173Z"
   },
   {
    "duration": 4,
    "start_time": "2025-01-17T18:09:23.396Z"
   },
   {
    "duration": 8,
    "start_time": "2025-01-17T18:09:23.401Z"
   },
   {
    "duration": 22,
    "start_time": "2025-01-17T18:09:23.410Z"
   },
   {
    "duration": 5,
    "start_time": "2025-01-17T18:09:23.433Z"
   },
   {
    "duration": 10,
    "start_time": "2025-01-17T18:09:23.439Z"
   },
   {
    "duration": 3,
    "start_time": "2025-01-17T18:09:23.450Z"
   },
   {
    "duration": 14,
    "start_time": "2025-01-17T18:09:23.455Z"
   },
   {
    "duration": 282,
    "start_time": "2025-01-17T18:59:08.774Z"
   },
   {
    "duration": 13,
    "start_time": "2025-01-17T18:59:15.228Z"
   },
   {
    "duration": 13,
    "start_time": "2025-01-17T18:59:39.850Z"
   },
   {
    "duration": 15,
    "start_time": "2025-01-17T18:59:48.232Z"
   },
   {
    "duration": 429,
    "start_time": "2025-01-17T19:00:12.512Z"
   },
   {
    "duration": 793,
    "start_time": "2025-01-17T19:00:23.520Z"
   },
   {
    "duration": 189,
    "start_time": "2025-01-17T19:00:24.316Z"
   },
   {
    "duration": 493,
    "start_time": "2025-01-17T19:00:24.507Z"
   },
   {
    "duration": 58,
    "start_time": "2025-01-17T19:00:25.002Z"
   },
   {
    "duration": 10,
    "start_time": "2025-01-17T19:00:25.062Z"
   },
   {
    "duration": 20,
    "start_time": "2025-01-17T19:00:25.073Z"
   },
   {
    "duration": 3,
    "start_time": "2025-01-17T19:00:25.095Z"
   },
   {
    "duration": 173,
    "start_time": "2025-01-17T19:00:25.100Z"
   },
   {
    "duration": 5,
    "start_time": "2025-01-17T19:00:25.275Z"
   },
   {
    "duration": 2,
    "start_time": "2025-01-17T19:00:25.284Z"
   },
   {
    "duration": 4,
    "start_time": "2025-01-17T19:00:25.288Z"
   },
   {
    "duration": 2,
    "start_time": "2025-01-17T19:00:25.294Z"
   },
   {
    "duration": 34,
    "start_time": "2025-01-17T19:00:25.298Z"
   },
   {
    "duration": 661,
    "start_time": "2025-01-17T19:00:25.335Z"
   },
   {
    "duration": 0,
    "start_time": "2025-01-17T19:00:25.998Z"
   },
   {
    "duration": 0,
    "start_time": "2025-01-17T19:00:25.999Z"
   },
   {
    "duration": 0,
    "start_time": "2025-01-17T19:00:26.000Z"
   },
   {
    "duration": 0,
    "start_time": "2025-01-17T19:00:26.001Z"
   },
   {
    "duration": 0,
    "start_time": "2025-01-17T19:00:26.002Z"
   },
   {
    "duration": 0,
    "start_time": "2025-01-17T19:00:26.003Z"
   },
   {
    "duration": 0,
    "start_time": "2025-01-17T19:00:26.004Z"
   },
   {
    "duration": 0,
    "start_time": "2025-01-17T19:00:26.005Z"
   },
   {
    "duration": 0,
    "start_time": "2025-01-17T19:00:26.006Z"
   },
   {
    "duration": 0,
    "start_time": "2025-01-17T19:00:26.007Z"
   },
   {
    "duration": 4,
    "start_time": "2025-01-17T19:02:03.643Z"
   },
   {
    "duration": 880,
    "start_time": "2025-01-17T19:02:27.542Z"
   },
   {
    "duration": 179,
    "start_time": "2025-01-17T19:02:28.424Z"
   },
   {
    "duration": 495,
    "start_time": "2025-01-17T19:02:28.604Z"
   },
   {
    "duration": 61,
    "start_time": "2025-01-17T19:02:29.101Z"
   },
   {
    "duration": 9,
    "start_time": "2025-01-17T19:02:29.164Z"
   },
   {
    "duration": 20,
    "start_time": "2025-01-17T19:02:29.175Z"
   },
   {
    "duration": 3,
    "start_time": "2025-01-17T19:02:29.197Z"
   },
   {
    "duration": 158,
    "start_time": "2025-01-17T19:02:29.202Z"
   },
   {
    "duration": 5,
    "start_time": "2025-01-17T19:02:29.362Z"
   },
   {
    "duration": 2,
    "start_time": "2025-01-17T19:02:29.370Z"
   },
   {
    "duration": 3,
    "start_time": "2025-01-17T19:02:29.373Z"
   },
   {
    "duration": 2,
    "start_time": "2025-01-17T19:02:29.378Z"
   },
   {
    "duration": 3,
    "start_time": "2025-01-17T19:02:29.382Z"
   },
   {
    "duration": 5,
    "start_time": "2025-01-17T19:02:29.387Z"
   },
   {
    "duration": 39,
    "start_time": "2025-01-17T19:02:29.393Z"
   },
   {
    "duration": 3,
    "start_time": "2025-01-17T19:02:29.433Z"
   },
   {
    "duration": 178,
    "start_time": "2025-01-17T19:02:29.437Z"
   },
   {
    "duration": 4,
    "start_time": "2025-01-17T19:02:29.617Z"
   },
   {
    "duration": 7,
    "start_time": "2025-01-17T19:02:29.631Z"
   },
   {
    "duration": 7,
    "start_time": "2025-01-17T19:02:29.639Z"
   },
   {
    "duration": 4,
    "start_time": "2025-01-17T19:02:29.648Z"
   },
   {
    "duration": 13,
    "start_time": "2025-01-17T19:02:29.653Z"
   },
   {
    "duration": 3,
    "start_time": "2025-01-17T19:02:29.668Z"
   },
   {
    "duration": 16,
    "start_time": "2025-01-17T19:02:29.673Z"
   },
   {
    "duration": 237,
    "start_time": "2025-01-17T19:48:49.638Z"
   },
   {
    "duration": 15,
    "start_time": "2025-01-17T19:49:00.654Z"
   },
   {
    "duration": 3,
    "start_time": "2025-01-17T19:49:17.512Z"
   },
   {
    "duration": 3,
    "start_time": "2025-01-17T19:49:28.210Z"
   },
   {
    "duration": 3,
    "start_time": "2025-01-17T19:50:21.841Z"
   },
   {
    "duration": 439,
    "start_time": "2025-01-17T19:51:26.487Z"
   },
   {
    "duration": 4,
    "start_time": "2025-01-17T19:51:34.256Z"
   },
   {
    "duration": 5,
    "start_time": "2025-01-17T19:51:47.861Z"
   },
   {
    "duration": 3,
    "start_time": "2025-01-17T19:53:09.407Z"
   },
   {
    "duration": 4,
    "start_time": "2025-01-17T19:54:03.171Z"
   },
   {
    "duration": 5,
    "start_time": "2025-01-17T19:55:06.176Z"
   },
   {
    "duration": 6,
    "start_time": "2025-01-17T19:55:24.111Z"
   },
   {
    "duration": 4,
    "start_time": "2025-01-17T19:55:30.834Z"
   },
   {
    "duration": 4,
    "start_time": "2025-01-17T19:55:33.406Z"
   },
   {
    "duration": 4,
    "start_time": "2025-01-17T19:56:19.869Z"
   },
   {
    "duration": 2530,
    "start_time": "2025-01-18T04:56:44.408Z"
   },
   {
    "duration": 130,
    "start_time": "2025-01-18T04:56:46.940Z"
   },
   {
    "duration": 611,
    "start_time": "2025-01-18T04:56:47.072Z"
   },
   {
    "duration": 54,
    "start_time": "2025-01-18T04:56:47.686Z"
   },
   {
    "duration": 8,
    "start_time": "2025-01-18T04:56:47.741Z"
   },
   {
    "duration": 19,
    "start_time": "2025-01-18T04:56:47.751Z"
   },
   {
    "duration": 3,
    "start_time": "2025-01-18T04:56:47.771Z"
   },
   {
    "duration": 161,
    "start_time": "2025-01-18T04:56:47.775Z"
   },
   {
    "duration": 6,
    "start_time": "2025-01-18T04:56:47.938Z"
   },
   {
    "duration": 2,
    "start_time": "2025-01-18T04:56:47.947Z"
   },
   {
    "duration": 3,
    "start_time": "2025-01-18T04:56:47.951Z"
   },
   {
    "duration": 2,
    "start_time": "2025-01-18T04:56:47.956Z"
   },
   {
    "duration": 4,
    "start_time": "2025-01-18T04:56:47.959Z"
   },
   {
    "duration": 4,
    "start_time": "2025-01-18T04:56:47.965Z"
   },
   {
    "duration": 34,
    "start_time": "2025-01-18T04:56:47.971Z"
   },
   {
    "duration": 5,
    "start_time": "2025-01-18T04:56:48.007Z"
   },
   {
    "duration": 180,
    "start_time": "2025-01-18T04:56:48.013Z"
   },
   {
    "duration": 12,
    "start_time": "2025-01-18T04:56:48.194Z"
   },
   {
    "duration": 7,
    "start_time": "2025-01-18T04:56:48.207Z"
   },
   {
    "duration": 6,
    "start_time": "2025-01-18T04:56:48.216Z"
   },
   {
    "duration": 4,
    "start_time": "2025-01-18T04:56:48.224Z"
   },
   {
    "duration": 10,
    "start_time": "2025-01-18T04:56:48.229Z"
   },
   {
    "duration": 4,
    "start_time": "2025-01-18T04:56:48.241Z"
   },
   {
    "duration": 4,
    "start_time": "2025-01-18T04:56:48.246Z"
   },
   {
    "duration": 4,
    "start_time": "2025-01-18T04:56:48.251Z"
   },
   {
    "duration": 4,
    "start_time": "2025-01-18T04:56:48.257Z"
   },
   {
    "duration": 284,
    "start_time": "2025-01-18T05:05:09.831Z"
   },
   {
    "duration": 14,
    "start_time": "2025-01-18T05:06:04.958Z"
   },
   {
    "duration": 3,
    "start_time": "2025-01-18T05:08:34.966Z"
   },
   {
    "duration": 783,
    "start_time": "2025-01-18T05:10:34.782Z"
   },
   {
    "duration": 126,
    "start_time": "2025-01-18T05:10:59.386Z"
   },
   {
    "duration": 3,
    "start_time": "2025-01-18T05:14:38.674Z"
   },
   {
    "duration": 95,
    "start_time": "2025-01-18T05:14:41.187Z"
   },
   {
    "duration": 91,
    "start_time": "2025-01-18T05:15:02.550Z"
   },
   {
    "duration": 3,
    "start_time": "2025-01-18T05:25:10.445Z"
   },
   {
    "duration": 3,
    "start_time": "2025-01-18T05:26:19.679Z"
   },
   {
    "duration": 85,
    "start_time": "2025-01-18T05:26:44.384Z"
   },
   {
    "duration": 90,
    "start_time": "2025-01-18T05:27:08.222Z"
   },
   {
    "duration": 264,
    "start_time": "2025-01-18T05:29:34.170Z"
   },
   {
    "duration": 9,
    "start_time": "2025-01-18T05:38:43.968Z"
   },
   {
    "duration": 2481,
    "start_time": "2025-01-18T08:06:45.790Z"
   },
   {
    "duration": 133,
    "start_time": "2025-01-18T08:06:48.273Z"
   },
   {
    "duration": 606,
    "start_time": "2025-01-18T08:06:48.408Z"
   },
   {
    "duration": 54,
    "start_time": "2025-01-18T08:06:49.017Z"
   },
   {
    "duration": 8,
    "start_time": "2025-01-18T08:06:49.073Z"
   },
   {
    "duration": 40,
    "start_time": "2025-01-18T08:06:49.084Z"
   },
   {
    "duration": 3,
    "start_time": "2025-01-18T08:06:49.126Z"
   },
   {
    "duration": 148,
    "start_time": "2025-01-18T08:06:49.131Z"
   },
   {
    "duration": 5,
    "start_time": "2025-01-18T08:06:49.281Z"
   },
   {
    "duration": 2,
    "start_time": "2025-01-18T08:06:49.289Z"
   },
   {
    "duration": 3,
    "start_time": "2025-01-18T08:06:49.292Z"
   },
   {
    "duration": 26,
    "start_time": "2025-01-18T08:06:49.298Z"
   },
   {
    "duration": 4,
    "start_time": "2025-01-18T08:06:49.326Z"
   },
   {
    "duration": 5,
    "start_time": "2025-01-18T08:06:49.332Z"
   },
   {
    "duration": 3,
    "start_time": "2025-01-18T08:06:49.339Z"
   },
   {
    "duration": 3,
    "start_time": "2025-01-18T08:06:49.344Z"
   },
   {
    "duration": 190,
    "start_time": "2025-01-18T08:06:49.349Z"
   },
   {
    "duration": 3,
    "start_time": "2025-01-18T08:06:49.541Z"
   },
   {
    "duration": 8,
    "start_time": "2025-01-18T08:06:49.546Z"
   },
   {
    "duration": 8,
    "start_time": "2025-01-18T08:06:49.555Z"
   },
   {
    "duration": 4,
    "start_time": "2025-01-18T08:06:49.565Z"
   },
   {
    "duration": 12,
    "start_time": "2025-01-18T08:06:49.570Z"
   },
   {
    "duration": 2,
    "start_time": "2025-01-18T08:06:49.584Z"
   },
   {
    "duration": 38,
    "start_time": "2025-01-18T08:06:49.588Z"
   },
   {
    "duration": 4,
    "start_time": "2025-01-18T08:06:49.628Z"
   },
   {
    "duration": 5,
    "start_time": "2025-01-18T08:06:49.634Z"
   },
   {
    "duration": 2,
    "start_time": "2025-01-18T08:06:49.641Z"
   },
   {
    "duration": 121,
    "start_time": "2025-01-18T08:06:49.646Z"
   },
   {
    "duration": 3,
    "start_time": "2025-01-18T08:06:49.769Z"
   },
   {
    "duration": 94,
    "start_time": "2025-01-18T08:06:49.774Z"
   },
   {
    "duration": 4,
    "start_time": "2025-01-18T08:06:49.869Z"
   },
   {
    "duration": 159,
    "start_time": "2025-01-18T08:06:49.874Z"
   },
   {
    "duration": 9,
    "start_time": "2025-01-18T08:06:50.035Z"
   },
   {
    "duration": 3,
    "start_time": "2025-01-18T08:09:16.880Z"
   },
   {
    "duration": 631,
    "start_time": "2025-01-18T08:09:54.732Z"
   },
   {
    "duration": 2,
    "start_time": "2025-01-18T08:10:13.305Z"
   },
   {
    "duration": 2,
    "start_time": "2025-01-18T08:12:46.292Z"
   },
   {
    "duration": 112,
    "start_time": "2025-01-18T08:23:54.512Z"
   },
   {
    "duration": 103,
    "start_time": "2025-01-18T08:24:10.005Z"
   },
   {
    "duration": 112,
    "start_time": "2025-01-18T08:24:17.220Z"
   },
   {
    "duration": 655,
    "start_time": "2025-01-18T08:25:02.032Z"
   },
   {
    "duration": 804,
    "start_time": "2025-01-18T08:27:59.991Z"
   },
   {
    "duration": 175,
    "start_time": "2025-01-18T08:28:00.798Z"
   },
   {
    "duration": 525,
    "start_time": "2025-01-18T08:28:00.975Z"
   },
   {
    "duration": 53,
    "start_time": "2025-01-18T08:28:01.502Z"
   },
   {
    "duration": 8,
    "start_time": "2025-01-18T08:28:01.557Z"
   },
   {
    "duration": 19,
    "start_time": "2025-01-18T08:28:01.567Z"
   },
   {
    "duration": 5,
    "start_time": "2025-01-18T08:28:01.587Z"
   },
   {
    "duration": 159,
    "start_time": "2025-01-18T08:28:01.593Z"
   },
   {
    "duration": 4,
    "start_time": "2025-01-18T08:28:01.755Z"
   },
   {
    "duration": 2,
    "start_time": "2025-01-18T08:28:01.762Z"
   },
   {
    "duration": 3,
    "start_time": "2025-01-18T08:28:01.766Z"
   },
   {
    "duration": 3,
    "start_time": "2025-01-18T08:28:01.770Z"
   },
   {
    "duration": 3,
    "start_time": "2025-01-18T08:28:01.775Z"
   },
   {
    "duration": 5,
    "start_time": "2025-01-18T08:28:01.780Z"
   },
   {
    "duration": 40,
    "start_time": "2025-01-18T08:28:01.787Z"
   },
   {
    "duration": 5,
    "start_time": "2025-01-18T08:28:01.828Z"
   },
   {
    "duration": 172,
    "start_time": "2025-01-18T08:28:01.835Z"
   },
   {
    "duration": 4,
    "start_time": "2025-01-18T08:28:02.009Z"
   },
   {
    "duration": 7,
    "start_time": "2025-01-18T08:28:02.023Z"
   },
   {
    "duration": 6,
    "start_time": "2025-01-18T08:28:02.032Z"
   },
   {
    "duration": 4,
    "start_time": "2025-01-18T08:28:02.040Z"
   },
   {
    "duration": 18,
    "start_time": "2025-01-18T08:28:02.046Z"
   },
   {
    "duration": 3,
    "start_time": "2025-01-18T08:28:02.065Z"
   },
   {
    "duration": 4,
    "start_time": "2025-01-18T08:28:02.070Z"
   },
   {
    "duration": 4,
    "start_time": "2025-01-18T08:28:02.075Z"
   },
   {
    "duration": 43,
    "start_time": "2025-01-18T08:28:02.081Z"
   },
   {
    "duration": 3,
    "start_time": "2025-01-18T08:28:02.125Z"
   },
   {
    "duration": 99,
    "start_time": "2025-01-18T08:28:02.132Z"
   },
   {
    "duration": 3,
    "start_time": "2025-01-18T08:28:02.233Z"
   },
   {
    "duration": 108,
    "start_time": "2025-01-18T08:28:02.238Z"
   },
   {
    "duration": 3,
    "start_time": "2025-01-18T08:28:02.348Z"
   },
   {
    "duration": 103,
    "start_time": "2025-01-18T08:28:02.353Z"
   },
   {
    "duration": 3,
    "start_time": "2025-01-18T08:28:02.458Z"
   },
   {
    "duration": 99,
    "start_time": "2025-01-18T08:28:02.462Z"
   },
   {
    "duration": 119,
    "start_time": "2025-01-18T08:28:45.212Z"
   },
   {
    "duration": 108,
    "start_time": "2025-01-18T08:29:12.382Z"
   },
   {
    "duration": 229,
    "start_time": "2025-01-18T08:29:21.352Z"
   },
   {
    "duration": 16,
    "start_time": "2025-01-18T08:29:29.076Z"
   },
   {
    "duration": 570,
    "start_time": "2025-01-18T08:35:24.363Z"
   },
   {
    "duration": 502,
    "start_time": "2025-01-18T08:44:16.522Z"
   },
   {
    "duration": 465,
    "start_time": "2025-01-18T08:44:27.876Z"
   },
   {
    "duration": 442,
    "start_time": "2025-01-18T08:44:40.100Z"
   },
   {
    "duration": 514,
    "start_time": "2025-01-18T08:44:50.323Z"
   },
   {
    "duration": 2563,
    "start_time": "2025-01-19T03:08:25.885Z"
   },
   {
    "duration": 131,
    "start_time": "2025-01-19T03:08:28.451Z"
   },
   {
    "duration": 621,
    "start_time": "2025-01-19T03:08:28.583Z"
   },
   {
    "duration": 53,
    "start_time": "2025-01-19T03:08:29.207Z"
   },
   {
    "duration": 8,
    "start_time": "2025-01-19T03:08:29.263Z"
   },
   {
    "duration": 36,
    "start_time": "2025-01-19T03:08:29.272Z"
   },
   {
    "duration": 3,
    "start_time": "2025-01-19T03:08:29.310Z"
   },
   {
    "duration": 143,
    "start_time": "2025-01-19T03:08:29.315Z"
   },
   {
    "duration": 5,
    "start_time": "2025-01-19T03:08:29.459Z"
   },
   {
    "duration": 2,
    "start_time": "2025-01-19T03:08:29.468Z"
   },
   {
    "duration": 3,
    "start_time": "2025-01-19T03:08:29.472Z"
   },
   {
    "duration": 3,
    "start_time": "2025-01-19T03:08:29.476Z"
   },
   {
    "duration": 3,
    "start_time": "2025-01-19T03:08:29.505Z"
   },
   {
    "duration": 5,
    "start_time": "2025-01-19T03:08:29.510Z"
   },
   {
    "duration": 4,
    "start_time": "2025-01-19T03:08:29.517Z"
   },
   {
    "duration": 3,
    "start_time": "2025-01-19T03:08:29.523Z"
   },
   {
    "duration": 195,
    "start_time": "2025-01-19T03:08:29.528Z"
   },
   {
    "duration": 4,
    "start_time": "2025-01-19T03:08:29.725Z"
   },
   {
    "duration": 8,
    "start_time": "2025-01-19T03:08:29.731Z"
   },
   {
    "duration": 6,
    "start_time": "2025-01-19T03:08:29.741Z"
   },
   {
    "duration": 4,
    "start_time": "2025-01-19T03:08:29.749Z"
   },
   {
    "duration": 11,
    "start_time": "2025-01-19T03:08:29.754Z"
   },
   {
    "duration": 40,
    "start_time": "2025-01-19T03:08:29.767Z"
   },
   {
    "duration": 4,
    "start_time": "2025-01-19T03:08:29.809Z"
   },
   {
    "duration": 4,
    "start_time": "2025-01-19T03:08:29.815Z"
   },
   {
    "duration": 5,
    "start_time": "2025-01-19T03:08:29.820Z"
   },
   {
    "duration": 3,
    "start_time": "2025-01-19T03:08:29.826Z"
   },
   {
    "duration": 127,
    "start_time": "2025-01-19T03:08:29.833Z"
   },
   {
    "duration": 3,
    "start_time": "2025-01-19T03:08:29.961Z"
   },
   {
    "duration": 97,
    "start_time": "2025-01-19T03:08:29.966Z"
   },
   {
    "duration": 4,
    "start_time": "2025-01-19T03:08:30.065Z"
   },
   {
    "duration": 108,
    "start_time": "2025-01-19T03:08:30.070Z"
   },
   {
    "duration": 2,
    "start_time": "2025-01-19T03:08:30.180Z"
   },
   {
    "duration": 520,
    "start_time": "2025-01-19T03:08:30.184Z"
   },
   {
    "duration": 15,
    "start_time": "2025-01-19T03:09:34.518Z"
   },
   {
    "duration": 4,
    "start_time": "2025-01-19T03:24:37.963Z"
   },
   {
    "duration": 694,
    "start_time": "2025-01-19T03:45:00.096Z"
   },
   {
    "duration": 3,
    "start_time": "2025-01-19T03:45:32.382Z"
   },
   {
    "duration": 14,
    "start_time": "2025-01-19T03:46:01.339Z"
   },
   {
    "duration": 5,
    "start_time": "2025-01-19T03:46:07.055Z"
   },
   {
    "duration": 5,
    "start_time": "2025-01-19T03:46:44.806Z"
   },
   {
    "duration": 5,
    "start_time": "2025-01-19T03:46:58.369Z"
   },
   {
    "duration": 44,
    "start_time": "2025-01-19T03:47:39.158Z"
   },
   {
    "duration": 43,
    "start_time": "2025-01-19T03:47:45.636Z"
   },
   {
    "duration": 48,
    "start_time": "2025-01-19T03:53:44.378Z"
   },
   {
    "duration": 11,
    "start_time": "2025-01-19T03:54:32.221Z"
   },
   {
    "duration": 7,
    "start_time": "2025-01-19T03:55:08.231Z"
   },
   {
    "duration": 10,
    "start_time": "2025-01-19T03:57:35.950Z"
   },
   {
    "duration": 14,
    "start_time": "2025-01-19T04:03:49.758Z"
   },
   {
    "duration": 15,
    "start_time": "2025-01-19T04:05:12.485Z"
   },
   {
    "duration": 9,
    "start_time": "2025-01-19T04:05:29.655Z"
   },
   {
    "duration": 9,
    "start_time": "2025-01-19T04:05:44.469Z"
   },
   {
    "duration": 9,
    "start_time": "2025-01-19T04:05:52.180Z"
   },
   {
    "duration": 104,
    "start_time": "2025-01-19T04:08:47.691Z"
   },
   {
    "duration": 118,
    "start_time": "2025-01-19T04:09:33.815Z"
   },
   {
    "duration": 823,
    "start_time": "2025-01-19T04:10:57.732Z"
   },
   {
    "duration": 158,
    "start_time": "2025-01-19T04:10:58.558Z"
   },
   {
    "duration": 514,
    "start_time": "2025-01-19T04:10:58.718Z"
   },
   {
    "duration": 48,
    "start_time": "2025-01-19T04:10:59.234Z"
   },
   {
    "duration": 8,
    "start_time": "2025-01-19T04:10:59.284Z"
   },
   {
    "duration": 20,
    "start_time": "2025-01-19T04:10:59.304Z"
   },
   {
    "duration": 3,
    "start_time": "2025-01-19T04:10:59.325Z"
   },
   {
    "duration": 157,
    "start_time": "2025-01-19T04:10:59.330Z"
   },
   {
    "duration": 4,
    "start_time": "2025-01-19T04:10:59.489Z"
   },
   {
    "duration": 3,
    "start_time": "2025-01-19T04:10:59.504Z"
   },
   {
    "duration": 3,
    "start_time": "2025-01-19T04:10:59.508Z"
   },
   {
    "duration": 2,
    "start_time": "2025-01-19T04:10:59.513Z"
   },
   {
    "duration": 4,
    "start_time": "2025-01-19T04:10:59.517Z"
   },
   {
    "duration": 6,
    "start_time": "2025-01-19T04:10:59.522Z"
   },
   {
    "duration": 4,
    "start_time": "2025-01-19T04:10:59.529Z"
   },
   {
    "duration": 2,
    "start_time": "2025-01-19T04:10:59.535Z"
   },
   {
    "duration": 204,
    "start_time": "2025-01-19T04:10:59.539Z"
   },
   {
    "duration": 4,
    "start_time": "2025-01-19T04:10:59.745Z"
   },
   {
    "duration": 8,
    "start_time": "2025-01-19T04:10:59.751Z"
   },
   {
    "duration": 7,
    "start_time": "2025-01-19T04:10:59.760Z"
   },
   {
    "duration": 4,
    "start_time": "2025-01-19T04:10:59.769Z"
   },
   {
    "duration": 11,
    "start_time": "2025-01-19T04:10:59.805Z"
   },
   {
    "duration": 3,
    "start_time": "2025-01-19T04:10:59.819Z"
   },
   {
    "duration": 5,
    "start_time": "2025-01-19T04:10:59.823Z"
   },
   {
    "duration": 5,
    "start_time": "2025-01-19T04:10:59.829Z"
   },
   {
    "duration": 4,
    "start_time": "2025-01-19T04:10:59.836Z"
   },
   {
    "duration": 3,
    "start_time": "2025-01-19T04:10:59.842Z"
   },
   {
    "duration": 132,
    "start_time": "2025-01-19T04:10:59.850Z"
   },
   {
    "duration": 3,
    "start_time": "2025-01-19T04:10:59.983Z"
   },
   {
    "duration": 101,
    "start_time": "2025-01-19T04:10:59.988Z"
   },
   {
    "duration": 3,
    "start_time": "2025-01-19T04:11:00.091Z"
   },
   {
    "duration": 101,
    "start_time": "2025-01-19T04:11:00.106Z"
   },
   {
    "duration": 5,
    "start_time": "2025-01-19T04:11:00.208Z"
   },
   {
    "duration": 502,
    "start_time": "2025-01-19T04:11:00.215Z"
   },
   {
    "duration": 15,
    "start_time": "2025-01-19T04:11:00.718Z"
   },
   {
    "duration": 131,
    "start_time": "2025-01-19T04:11:00.734Z"
   },
   {
    "duration": 13,
    "start_time": "2025-01-19T04:11:00.868Z"
   },
   {
    "duration": 25,
    "start_time": "2025-01-19T04:11:00.883Z"
   },
   {
    "duration": 855,
    "start_time": "2025-01-19T04:14:11.327Z"
   },
   {
    "duration": 185,
    "start_time": "2025-01-19T04:14:12.184Z"
   },
   {
    "duration": 505,
    "start_time": "2025-01-19T04:14:12.371Z"
   },
   {
    "duration": 55,
    "start_time": "2025-01-19T04:14:12.878Z"
   },
   {
    "duration": 9,
    "start_time": "2025-01-19T04:14:12.935Z"
   },
   {
    "duration": 20,
    "start_time": "2025-01-19T04:14:12.946Z"
   },
   {
    "duration": 4,
    "start_time": "2025-01-19T04:14:12.967Z"
   },
   {
    "duration": 162,
    "start_time": "2025-01-19T04:14:12.972Z"
   },
   {
    "duration": 5,
    "start_time": "2025-01-19T04:14:13.135Z"
   },
   {
    "duration": 2,
    "start_time": "2025-01-19T04:14:13.143Z"
   },
   {
    "duration": 2,
    "start_time": "2025-01-19T04:14:13.147Z"
   },
   {
    "duration": 3,
    "start_time": "2025-01-19T04:14:13.151Z"
   },
   {
    "duration": 4,
    "start_time": "2025-01-19T04:14:13.155Z"
   },
   {
    "duration": 4,
    "start_time": "2025-01-19T04:14:13.160Z"
   },
   {
    "duration": 3,
    "start_time": "2025-01-19T04:14:13.166Z"
   },
   {
    "duration": 2,
    "start_time": "2025-01-19T04:14:13.206Z"
   },
   {
    "duration": 176,
    "start_time": "2025-01-19T04:14:13.210Z"
   },
   {
    "duration": 4,
    "start_time": "2025-01-19T04:14:13.387Z"
   },
   {
    "duration": 8,
    "start_time": "2025-01-19T04:14:13.405Z"
   },
   {
    "duration": 7,
    "start_time": "2025-01-19T04:14:13.415Z"
   },
   {
    "duration": 4,
    "start_time": "2025-01-19T04:14:13.424Z"
   },
   {
    "duration": 11,
    "start_time": "2025-01-19T04:14:13.430Z"
   },
   {
    "duration": 3,
    "start_time": "2025-01-19T04:14:13.443Z"
   },
   {
    "duration": 5,
    "start_time": "2025-01-19T04:14:13.448Z"
   },
   {
    "duration": 5,
    "start_time": "2025-01-19T04:14:13.454Z"
   },
   {
    "duration": 46,
    "start_time": "2025-01-19T04:14:13.461Z"
   },
   {
    "duration": 4,
    "start_time": "2025-01-19T04:14:13.508Z"
   },
   {
    "duration": 110,
    "start_time": "2025-01-19T04:14:13.516Z"
   },
   {
    "duration": 3,
    "start_time": "2025-01-19T04:14:13.628Z"
   },
   {
    "duration": 104,
    "start_time": "2025-01-19T04:14:13.633Z"
   },
   {
    "duration": 2,
    "start_time": "2025-01-19T04:14:13.739Z"
   },
   {
    "duration": 104,
    "start_time": "2025-01-19T04:14:13.743Z"
   },
   {
    "duration": 2,
    "start_time": "2025-01-19T04:14:13.849Z"
   },
   {
    "duration": 469,
    "start_time": "2025-01-19T04:14:13.853Z"
   },
   {
    "duration": 13,
    "start_time": "2025-01-19T04:14:14.324Z"
   },
   {
    "duration": 173,
    "start_time": "2025-01-19T04:14:14.339Z"
   },
   {
    "duration": 14,
    "start_time": "2025-01-19T04:14:14.513Z"
   },
   {
    "duration": 12,
    "start_time": "2025-01-19T04:14:14.529Z"
   },
   {
    "duration": 157,
    "start_time": "2025-01-19T04:14:46.714Z"
   },
   {
    "duration": 165,
    "start_time": "2025-01-19T04:15:35.097Z"
   },
   {
    "duration": 222,
    "start_time": "2025-01-19T04:16:08.641Z"
   },
   {
    "duration": 165,
    "start_time": "2025-01-19T04:16:32.496Z"
   },
   {
    "duration": 154,
    "start_time": "2025-01-19T04:17:41.261Z"
   },
   {
    "duration": 242,
    "start_time": "2025-01-19T04:18:24.339Z"
   },
   {
    "duration": 181,
    "start_time": "2025-01-19T04:18:41.740Z"
   },
   {
    "duration": 191,
    "start_time": "2025-01-19T04:18:51.905Z"
   },
   {
    "duration": 187,
    "start_time": "2025-01-19T04:19:01.178Z"
   },
   {
    "duration": 165,
    "start_time": "2025-01-19T04:19:09.021Z"
   },
   {
    "duration": 162,
    "start_time": "2025-01-19T04:19:18.666Z"
   },
   {
    "duration": 2582,
    "start_time": "2025-01-19T19:38:29.608Z"
   },
   {
    "duration": 133,
    "start_time": "2025-01-19T19:38:32.193Z"
   },
   {
    "duration": 608,
    "start_time": "2025-01-19T19:38:32.328Z"
   },
   {
    "duration": 50,
    "start_time": "2025-01-19T19:38:32.939Z"
   },
   {
    "duration": 9,
    "start_time": "2025-01-19T19:38:32.991Z"
   },
   {
    "duration": 36,
    "start_time": "2025-01-19T19:38:33.002Z"
   },
   {
    "duration": 3,
    "start_time": "2025-01-19T19:38:33.040Z"
   },
   {
    "duration": 148,
    "start_time": "2025-01-19T19:38:33.045Z"
   },
   {
    "duration": 5,
    "start_time": "2025-01-19T19:38:33.195Z"
   },
   {
    "duration": 2,
    "start_time": "2025-01-19T19:38:33.203Z"
   },
   {
    "duration": 3,
    "start_time": "2025-01-19T19:38:33.223Z"
   },
   {
    "duration": 4,
    "start_time": "2025-01-19T19:38:33.227Z"
   },
   {
    "duration": 3,
    "start_time": "2025-01-19T19:38:33.233Z"
   },
   {
    "duration": 5,
    "start_time": "2025-01-19T19:38:33.237Z"
   },
   {
    "duration": 5,
    "start_time": "2025-01-19T19:38:33.243Z"
   },
   {
    "duration": 3,
    "start_time": "2025-01-19T19:38:33.249Z"
   },
   {
    "duration": 195,
    "start_time": "2025-01-19T19:38:33.253Z"
   },
   {
    "duration": 3,
    "start_time": "2025-01-19T19:38:33.450Z"
   },
   {
    "duration": 7,
    "start_time": "2025-01-19T19:38:33.455Z"
   },
   {
    "duration": 7,
    "start_time": "2025-01-19T19:38:33.464Z"
   },
   {
    "duration": 4,
    "start_time": "2025-01-19T19:38:33.473Z"
   },
   {
    "duration": 11,
    "start_time": "2025-01-19T19:38:33.478Z"
   },
   {
    "duration": 3,
    "start_time": "2025-01-19T19:38:33.523Z"
   },
   {
    "duration": 5,
    "start_time": "2025-01-19T19:38:33.528Z"
   },
   {
    "duration": 5,
    "start_time": "2025-01-19T19:38:33.534Z"
   },
   {
    "duration": 4,
    "start_time": "2025-01-19T19:38:33.541Z"
   },
   {
    "duration": 3,
    "start_time": "2025-01-19T19:38:33.547Z"
   },
   {
    "duration": 127,
    "start_time": "2025-01-19T19:38:33.553Z"
   },
   {
    "duration": 3,
    "start_time": "2025-01-19T19:38:33.682Z"
   },
   {
    "duration": 98,
    "start_time": "2025-01-19T19:38:33.687Z"
   },
   {
    "duration": 4,
    "start_time": "2025-01-19T19:38:33.787Z"
   },
   {
    "duration": 117,
    "start_time": "2025-01-19T19:38:33.792Z"
   },
   {
    "duration": 2,
    "start_time": "2025-01-19T19:38:33.911Z"
   },
   {
    "duration": 513,
    "start_time": "2025-01-19T19:38:33.924Z"
   },
   {
    "duration": 14,
    "start_time": "2025-01-19T19:38:34.439Z"
   },
   {
    "duration": 235,
    "start_time": "2025-01-19T19:38:34.455Z"
   },
   {
    "duration": 15,
    "start_time": "2025-01-19T19:38:34.691Z"
   },
   {
    "duration": 22,
    "start_time": "2025-01-19T19:38:34.707Z"
   },
   {
    "duration": 4,
    "start_time": "2025-01-19T19:38:34.731Z"
   },
   {
    "duration": 7,
    "start_time": "2025-01-19T19:53:24.238Z"
   },
   {
    "duration": 244,
    "start_time": "2025-01-19T19:53:31.361Z"
   },
   {
    "duration": 3,
    "start_time": "2025-01-19T19:53:40.588Z"
   },
   {
    "duration": 2545,
    "start_time": "2025-01-19T21:47:54.016Z"
   },
   {
    "duration": 143,
    "start_time": "2025-01-19T21:47:56.564Z"
   },
   {
    "duration": 617,
    "start_time": "2025-01-19T21:47:56.709Z"
   },
   {
    "duration": 57,
    "start_time": "2025-01-19T21:47:57.328Z"
   },
   {
    "duration": 8,
    "start_time": "2025-01-19T21:47:57.387Z"
   },
   {
    "duration": 44,
    "start_time": "2025-01-19T21:47:57.397Z"
   },
   {
    "duration": 3,
    "start_time": "2025-01-19T21:47:57.443Z"
   },
   {
    "duration": 161,
    "start_time": "2025-01-19T21:47:57.448Z"
   },
   {
    "duration": 13,
    "start_time": "2025-01-19T21:47:57.611Z"
   },
   {
    "duration": 7,
    "start_time": "2025-01-19T21:47:57.626Z"
   },
   {
    "duration": 4,
    "start_time": "2025-01-19T21:47:57.634Z"
   },
   {
    "duration": 3,
    "start_time": "2025-01-19T21:47:57.640Z"
   },
   {
    "duration": 3,
    "start_time": "2025-01-19T21:47:57.644Z"
   },
   {
    "duration": 5,
    "start_time": "2025-01-19T21:47:57.650Z"
   },
   {
    "duration": 3,
    "start_time": "2025-01-19T21:47:57.656Z"
   },
   {
    "duration": 3,
    "start_time": "2025-01-19T21:47:57.661Z"
   },
   {
    "duration": 197,
    "start_time": "2025-01-19T21:47:57.665Z"
   },
   {
    "duration": 3,
    "start_time": "2025-01-19T21:47:57.864Z"
   },
   {
    "duration": 7,
    "start_time": "2025-01-19T21:47:57.869Z"
   },
   {
    "duration": 7,
    "start_time": "2025-01-19T21:47:57.878Z"
   },
   {
    "duration": 4,
    "start_time": "2025-01-19T21:47:57.888Z"
   },
   {
    "duration": 36,
    "start_time": "2025-01-19T21:47:57.894Z"
   },
   {
    "duration": 4,
    "start_time": "2025-01-19T21:47:57.932Z"
   },
   {
    "duration": 6,
    "start_time": "2025-01-19T21:47:57.938Z"
   },
   {
    "duration": 5,
    "start_time": "2025-01-19T21:47:57.946Z"
   },
   {
    "duration": 5,
    "start_time": "2025-01-19T21:47:57.953Z"
   },
   {
    "duration": 3,
    "start_time": "2025-01-19T21:47:57.960Z"
   },
   {
    "duration": 127,
    "start_time": "2025-01-19T21:47:57.965Z"
   },
   {
    "duration": 3,
    "start_time": "2025-01-19T21:47:58.094Z"
   },
   {
    "duration": 98,
    "start_time": "2025-01-19T21:47:58.099Z"
   },
   {
    "duration": 3,
    "start_time": "2025-01-19T21:47:58.199Z"
   },
   {
    "duration": 104,
    "start_time": "2025-01-19T21:47:58.204Z"
   },
   {
    "duration": 14,
    "start_time": "2025-01-19T21:47:58.310Z"
   },
   {
    "duration": 507,
    "start_time": "2025-01-19T21:47:58.325Z"
   },
   {
    "duration": 15,
    "start_time": "2025-01-19T21:47:58.834Z"
   },
   {
    "duration": 174,
    "start_time": "2025-01-19T21:47:58.852Z"
   },
   {
    "duration": 14,
    "start_time": "2025-01-19T21:47:59.028Z"
   },
   {
    "duration": 14,
    "start_time": "2025-01-19T21:47:59.044Z"
   },
   {
    "duration": 1004,
    "start_time": "2025-01-19T22:12:37.210Z"
   },
   {
    "duration": 5,
    "start_time": "2025-01-19T22:12:55.675Z"
   },
   {
    "duration": 94,
    "start_time": "2025-01-19T22:14:32.678Z"
   },
   {
    "duration": 5,
    "start_time": "2025-01-19T22:14:40.863Z"
   },
   {
    "duration": 6,
    "start_time": "2025-01-19T22:16:04.214Z"
   },
   {
    "duration": 4,
    "start_time": "2025-01-19T22:17:33.802Z"
   },
   {
    "duration": 5,
    "start_time": "2025-01-19T22:17:50.955Z"
   },
   {
    "duration": 3,
    "start_time": "2025-01-19T22:17:59.516Z"
   },
   {
    "duration": 11,
    "start_time": "2025-01-19T22:27:57.474Z"
   },
   {
    "duration": 19,
    "start_time": "2025-01-19T22:30:16.824Z"
   },
   {
    "duration": 3,
    "start_time": "2025-01-19T23:12:14.553Z"
   },
   {
    "duration": 3,
    "start_time": "2025-01-19T23:15:56.947Z"
   },
   {
    "duration": 2,
    "start_time": "2025-01-19T23:20:29.965Z"
   },
   {
    "duration": 73,
    "start_time": "2025-01-19T23:55:36.973Z"
   },
   {
    "duration": 901,
    "start_time": "2025-01-19T23:55:57.442Z"
   },
   {
    "duration": 189,
    "start_time": "2025-01-19T23:55:58.345Z"
   },
   {
    "duration": 514,
    "start_time": "2025-01-19T23:55:58.536Z"
   },
   {
    "duration": 50,
    "start_time": "2025-01-19T23:55:59.052Z"
   },
   {
    "duration": 23,
    "start_time": "2025-01-19T23:55:59.105Z"
   },
   {
    "duration": 22,
    "start_time": "2025-01-19T23:55:59.130Z"
   },
   {
    "duration": 4,
    "start_time": "2025-01-19T23:55:59.153Z"
   },
   {
    "duration": 206,
    "start_time": "2025-01-19T23:55:59.159Z"
   },
   {
    "duration": 5,
    "start_time": "2025-01-19T23:55:59.366Z"
   },
   {
    "duration": 3,
    "start_time": "2025-01-19T23:55:59.372Z"
   },
   {
    "duration": 3,
    "start_time": "2025-01-19T23:55:59.376Z"
   },
   {
    "duration": 3,
    "start_time": "2025-01-19T23:55:59.381Z"
   },
   {
    "duration": 3,
    "start_time": "2025-01-19T23:55:59.386Z"
   },
   {
    "duration": 4,
    "start_time": "2025-01-19T23:55:59.392Z"
   },
   {
    "duration": 4,
    "start_time": "2025-01-19T23:55:59.424Z"
   },
   {
    "duration": 3,
    "start_time": "2025-01-19T23:55:59.429Z"
   },
   {
    "duration": 196,
    "start_time": "2025-01-19T23:55:59.434Z"
   },
   {
    "duration": 4,
    "start_time": "2025-01-19T23:55:59.632Z"
   },
   {
    "duration": 10,
    "start_time": "2025-01-19T23:55:59.638Z"
   },
   {
    "duration": 9,
    "start_time": "2025-01-19T23:55:59.649Z"
   },
   {
    "duration": 5,
    "start_time": "2025-01-19T23:55:59.660Z"
   },
   {
    "duration": 13,
    "start_time": "2025-01-19T23:55:59.666Z"
   },
   {
    "duration": 3,
    "start_time": "2025-01-19T23:55:59.681Z"
   },
   {
    "duration": 5,
    "start_time": "2025-01-19T23:55:59.724Z"
   },
   {
    "duration": 4,
    "start_time": "2025-01-19T23:55:59.731Z"
   },
   {
    "duration": 5,
    "start_time": "2025-01-19T23:55:59.736Z"
   },
   {
    "duration": 3,
    "start_time": "2025-01-19T23:55:59.742Z"
   },
   {
    "duration": 149,
    "start_time": "2025-01-19T23:55:59.747Z"
   },
   {
    "duration": 3,
    "start_time": "2025-01-19T23:55:59.898Z"
   },
   {
    "duration": 96,
    "start_time": "2025-01-19T23:55:59.903Z"
   },
   {
    "duration": 3,
    "start_time": "2025-01-19T23:56:00.001Z"
   },
   {
    "duration": 123,
    "start_time": "2025-01-19T23:56:00.006Z"
   },
   {
    "duration": 2,
    "start_time": "2025-01-19T23:56:00.131Z"
   },
   {
    "duration": 484,
    "start_time": "2025-01-19T23:56:00.135Z"
   },
   {
    "duration": 15,
    "start_time": "2025-01-19T23:56:00.624Z"
   },
   {
    "duration": 174,
    "start_time": "2025-01-19T23:56:00.642Z"
   },
   {
    "duration": 16,
    "start_time": "2025-01-19T23:56:00.823Z"
   },
   {
    "duration": 16,
    "start_time": "2025-01-19T23:56:00.841Z"
   },
   {
    "duration": 6,
    "start_time": "2025-01-19T23:56:00.861Z"
   },
   {
    "duration": 26,
    "start_time": "2025-01-19T23:56:00.870Z"
   },
   {
    "duration": 24,
    "start_time": "2025-01-19T23:56:00.901Z"
   },
   {
    "duration": 3,
    "start_time": "2025-01-19T23:56:00.927Z"
   },
   {
    "duration": 227,
    "start_time": "2025-01-19T23:56:00.932Z"
   },
   {
    "duration": 5,
    "start_time": "2025-01-20T00:09:20.863Z"
   },
   {
    "duration": 1021,
    "start_time": "2025-01-20T00:09:30.048Z"
   },
   {
    "duration": 216,
    "start_time": "2025-01-20T00:09:31.072Z"
   },
   {
    "duration": 558,
    "start_time": "2025-01-20T00:09:31.289Z"
   },
   {
    "duration": 55,
    "start_time": "2025-01-20T00:09:31.850Z"
   },
   {
    "duration": 22,
    "start_time": "2025-01-20T00:09:31.907Z"
   },
   {
    "duration": 20,
    "start_time": "2025-01-20T00:09:31.932Z"
   },
   {
    "duration": 4,
    "start_time": "2025-01-20T00:09:31.954Z"
   },
   {
    "duration": 164,
    "start_time": "2025-01-20T00:09:31.960Z"
   },
   {
    "duration": 6,
    "start_time": "2025-01-20T00:09:32.126Z"
   },
   {
    "duration": 3,
    "start_time": "2025-01-20T00:09:32.135Z"
   },
   {
    "duration": 2,
    "start_time": "2025-01-20T00:09:32.140Z"
   },
   {
    "duration": 3,
    "start_time": "2025-01-20T00:09:32.144Z"
   },
   {
    "duration": 3,
    "start_time": "2025-01-20T00:09:32.149Z"
   },
   {
    "duration": 5,
    "start_time": "2025-01-20T00:09:32.154Z"
   },
   {
    "duration": 4,
    "start_time": "2025-01-20T00:09:32.160Z"
   },
   {
    "duration": 3,
    "start_time": "2025-01-20T00:09:32.166Z"
   },
   {
    "duration": 211,
    "start_time": "2025-01-20T00:09:32.171Z"
   },
   {
    "duration": 4,
    "start_time": "2025-01-20T00:09:32.384Z"
   },
   {
    "duration": 8,
    "start_time": "2025-01-20T00:09:32.390Z"
   },
   {
    "duration": 9,
    "start_time": "2025-01-20T00:09:32.423Z"
   },
   {
    "duration": 5,
    "start_time": "2025-01-20T00:09:32.435Z"
   },
   {
    "duration": 12,
    "start_time": "2025-01-20T00:09:32.442Z"
   },
   {
    "duration": 3,
    "start_time": "2025-01-20T00:09:32.456Z"
   },
   {
    "duration": 5,
    "start_time": "2025-01-20T00:09:32.461Z"
   },
   {
    "duration": 270,
    "start_time": "2025-01-20T00:09:32.468Z"
   },
   {
    "duration": 1,
    "start_time": "2025-01-20T00:09:32.741Z"
   },
   {
    "duration": 0,
    "start_time": "2025-01-20T00:09:32.743Z"
   },
   {
    "duration": 0,
    "start_time": "2025-01-20T00:09:32.744Z"
   },
   {
    "duration": 0,
    "start_time": "2025-01-20T00:09:32.745Z"
   },
   {
    "duration": 0,
    "start_time": "2025-01-20T00:09:32.746Z"
   },
   {
    "duration": 0,
    "start_time": "2025-01-20T00:09:32.747Z"
   },
   {
    "duration": 0,
    "start_time": "2025-01-20T00:09:32.748Z"
   },
   {
    "duration": 0,
    "start_time": "2025-01-20T00:09:32.749Z"
   },
   {
    "duration": 0,
    "start_time": "2025-01-20T00:09:32.750Z"
   },
   {
    "duration": 0,
    "start_time": "2025-01-20T00:09:32.751Z"
   },
   {
    "duration": 0,
    "start_time": "2025-01-20T00:09:32.752Z"
   },
   {
    "duration": 0,
    "start_time": "2025-01-20T00:09:32.753Z"
   },
   {
    "duration": 0,
    "start_time": "2025-01-20T00:09:32.754Z"
   },
   {
    "duration": 0,
    "start_time": "2025-01-20T00:09:32.757Z"
   },
   {
    "duration": 0,
    "start_time": "2025-01-20T00:09:32.758Z"
   },
   {
    "duration": 0,
    "start_time": "2025-01-20T00:09:32.759Z"
   },
   {
    "duration": 0,
    "start_time": "2025-01-20T00:09:32.760Z"
   },
   {
    "duration": 0,
    "start_time": "2025-01-20T00:09:32.761Z"
   },
   {
    "duration": 0,
    "start_time": "2025-01-20T00:09:32.762Z"
   },
   {
    "duration": 17,
    "start_time": "2025-01-20T00:09:50.585Z"
   },
   {
    "duration": 8,
    "start_time": "2025-01-20T00:13:26.306Z"
   },
   {
    "duration": 3,
    "start_time": "2025-01-20T00:17:27.235Z"
   },
   {
    "duration": 2,
    "start_time": "2025-01-20T00:17:27.243Z"
   },
   {
    "duration": 516,
    "start_time": "2025-01-20T00:17:27.247Z"
   },
   {
    "duration": 62,
    "start_time": "2025-01-20T00:17:27.765Z"
   },
   {
    "duration": 13,
    "start_time": "2025-01-20T00:17:27.830Z"
   },
   {
    "duration": 18,
    "start_time": "2025-01-20T00:17:27.846Z"
   },
   {
    "duration": 3,
    "start_time": "2025-01-20T00:17:27.866Z"
   },
   {
    "duration": 146,
    "start_time": "2025-01-20T00:17:27.871Z"
   },
   {
    "duration": 7,
    "start_time": "2025-01-20T00:17:30.565Z"
   },
   {
    "duration": 8,
    "start_time": "2025-01-20T00:18:58.451Z"
   },
   {
    "duration": 9,
    "start_time": "2025-01-20T00:19:01.351Z"
   },
   {
    "duration": 5,
    "start_time": "2025-01-20T00:20:26.886Z"
   },
   {
    "duration": 3,
    "start_time": "2025-01-20T00:20:43.444Z"
   },
   {
    "duration": 3,
    "start_time": "2025-01-20T00:20:43.453Z"
   },
   {
    "duration": 532,
    "start_time": "2025-01-20T00:20:43.458Z"
   },
   {
    "duration": 48,
    "start_time": "2025-01-20T00:20:43.994Z"
   },
   {
    "duration": 9,
    "start_time": "2025-01-20T00:20:44.044Z"
   },
   {
    "duration": 21,
    "start_time": "2025-01-20T00:20:44.056Z"
   },
   {
    "duration": 4,
    "start_time": "2025-01-20T00:20:44.080Z"
   },
   {
    "duration": 162,
    "start_time": "2025-01-20T00:20:44.085Z"
   },
   {
    "duration": 5,
    "start_time": "2025-01-20T00:20:44.249Z"
   },
   {
    "duration": 2,
    "start_time": "2025-01-20T00:20:44.256Z"
   },
   {
    "duration": 3,
    "start_time": "2025-01-20T00:20:44.260Z"
   },
   {
    "duration": 3,
    "start_time": "2025-01-20T00:20:44.264Z"
   },
   {
    "duration": 4,
    "start_time": "2025-01-20T00:20:44.268Z"
   },
   {
    "duration": 5,
    "start_time": "2025-01-20T00:20:44.274Z"
   },
   {
    "duration": 3,
    "start_time": "2025-01-20T00:20:44.284Z"
   },
   {
    "duration": 4,
    "start_time": "2025-01-20T00:20:44.327Z"
   },
   {
    "duration": 165,
    "start_time": "2025-01-20T00:20:44.334Z"
   },
   {
    "duration": 5,
    "start_time": "2025-01-20T00:20:44.502Z"
   },
   {
    "duration": 24,
    "start_time": "2025-01-20T00:20:44.508Z"
   },
   {
    "duration": 10,
    "start_time": "2025-01-20T00:20:44.534Z"
   },
   {
    "duration": 11,
    "start_time": "2025-01-20T00:20:44.546Z"
   },
   {
    "duration": 3,
    "start_time": "2025-01-20T00:20:44.559Z"
   },
   {
    "duration": 8,
    "start_time": "2025-01-20T00:20:44.564Z"
   },
   {
    "duration": 16,
    "start_time": "2025-01-20T00:20:46.243Z"
   },
   {
    "duration": 17,
    "start_time": "2025-01-20T00:21:18.977Z"
   },
   {
    "duration": 16,
    "start_time": "2025-01-20T00:21:22.773Z"
   },
   {
    "duration": 5,
    "start_time": "2025-01-20T00:21:41.990Z"
   },
   {
    "duration": 5,
    "start_time": "2025-01-20T00:22:05.582Z"
   },
   {
    "duration": 19,
    "start_time": "2025-01-20T00:22:19.315Z"
   },
   {
    "duration": 6,
    "start_time": "2025-01-20T00:22:51.741Z"
   },
   {
    "duration": 6,
    "start_time": "2025-01-20T00:23:03.239Z"
   },
   {
    "duration": 5,
    "start_time": "2025-01-20T00:23:12.933Z"
   },
   {
    "duration": 3,
    "start_time": "2025-01-20T00:23:19.214Z"
   },
   {
    "duration": 123,
    "start_time": "2025-01-20T00:23:24.577Z"
   },
   {
    "duration": 4,
    "start_time": "2025-01-20T00:23:27.549Z"
   },
   {
    "duration": 87,
    "start_time": "2025-01-20T00:23:29.175Z"
   },
   {
    "duration": 4,
    "start_time": "2025-01-20T00:23:31.723Z"
   },
   {
    "duration": 107,
    "start_time": "2025-01-20T00:23:33.660Z"
   },
   {
    "duration": 20,
    "start_time": "2025-01-20T00:23:36.351Z"
   },
   {
    "duration": 2,
    "start_time": "2025-01-20T00:24:04.908Z"
   },
   {
    "duration": 3,
    "start_time": "2025-01-20T00:24:04.919Z"
   },
   {
    "duration": 563,
    "start_time": "2025-01-20T00:24:04.924Z"
   },
   {
    "duration": 57,
    "start_time": "2025-01-20T00:24:05.489Z"
   },
   {
    "duration": 9,
    "start_time": "2025-01-20T00:24:05.548Z"
   },
   {
    "duration": 22,
    "start_time": "2025-01-20T00:24:05.559Z"
   },
   {
    "duration": 3,
    "start_time": "2025-01-20T00:24:05.583Z"
   },
   {
    "duration": 157,
    "start_time": "2025-01-20T00:24:05.588Z"
   },
   {
    "duration": 5,
    "start_time": "2025-01-20T00:24:05.748Z"
   },
   {
    "duration": 2,
    "start_time": "2025-01-20T00:24:05.755Z"
   },
   {
    "duration": 3,
    "start_time": "2025-01-20T00:24:05.759Z"
   },
   {
    "duration": 3,
    "start_time": "2025-01-20T00:24:05.764Z"
   },
   {
    "duration": 4,
    "start_time": "2025-01-20T00:24:05.768Z"
   },
   {
    "duration": 5,
    "start_time": "2025-01-20T00:24:05.773Z"
   },
   {
    "duration": 41,
    "start_time": "2025-01-20T00:24:05.782Z"
   },
   {
    "duration": 3,
    "start_time": "2025-01-20T00:24:05.826Z"
   },
   {
    "duration": 164,
    "start_time": "2025-01-20T00:24:05.831Z"
   },
   {
    "duration": 4,
    "start_time": "2025-01-20T00:24:05.997Z"
   },
   {
    "duration": 22,
    "start_time": "2025-01-20T00:24:06.003Z"
   },
   {
    "duration": 8,
    "start_time": "2025-01-20T00:24:06.026Z"
   },
   {
    "duration": 9,
    "start_time": "2025-01-20T00:24:06.036Z"
   },
   {
    "duration": 2,
    "start_time": "2025-01-20T00:24:06.047Z"
   },
   {
    "duration": 4,
    "start_time": "2025-01-20T00:24:06.051Z"
   },
   {
    "duration": 6,
    "start_time": "2025-01-20T00:24:06.057Z"
   },
   {
    "duration": 4,
    "start_time": "2025-01-20T00:24:06.066Z"
   },
   {
    "duration": 4,
    "start_time": "2025-01-20T00:24:06.071Z"
   },
   {
    "duration": 126,
    "start_time": "2025-01-20T00:24:06.076Z"
   },
   {
    "duration": 3,
    "start_time": "2025-01-20T00:24:06.204Z"
   },
   {
    "duration": 203,
    "start_time": "2025-01-20T00:24:06.208Z"
   },
   {
    "duration": 10,
    "start_time": "2025-01-20T00:24:06.413Z"
   },
   {
    "duration": 121,
    "start_time": "2025-01-20T00:24:06.425Z"
   },
   {
    "duration": 4,
    "start_time": "2025-01-20T00:24:16.166Z"
   },
   {
    "duration": 486,
    "start_time": "2025-01-20T00:24:21.099Z"
   },
   {
    "duration": 14,
    "start_time": "2025-01-20T00:24:43.107Z"
   },
   {
    "duration": 222,
    "start_time": "2025-01-20T00:24:48.830Z"
   },
   {
    "duration": 13,
    "start_time": "2025-01-20T00:25:10.458Z"
   },
   {
    "duration": 14,
    "start_time": "2025-01-20T00:25:27.271Z"
   },
   {
    "duration": 5,
    "start_time": "2025-01-20T00:25:32.232Z"
   },
   {
    "duration": 18,
    "start_time": "2025-01-20T00:25:42.233Z"
   },
   {
    "duration": 4,
    "start_time": "2025-01-20T00:25:49.801Z"
   },
   {
    "duration": 3,
    "start_time": "2025-01-20T00:25:51.433Z"
   },
   {
    "duration": 69,
    "start_time": "2025-01-20T00:25:53.098Z"
   },
   {
    "duration": 20,
    "start_time": "2025-01-20T00:33:22.766Z"
   },
   {
    "duration": 26,
    "start_time": "2025-01-20T00:33:27.634Z"
   },
   {
    "duration": 21,
    "start_time": "2025-01-20T00:33:45.262Z"
   },
   {
    "duration": 27,
    "start_time": "2025-01-20T00:33:51.668Z"
   },
   {
    "duration": 862,
    "start_time": "2025-01-20T00:34:05.953Z"
   },
   {
    "duration": 203,
    "start_time": "2025-01-20T00:34:06.817Z"
   },
   {
    "duration": 549,
    "start_time": "2025-01-20T00:34:07.022Z"
   },
   {
    "duration": 65,
    "start_time": "2025-01-20T00:34:07.574Z"
   },
   {
    "duration": 9,
    "start_time": "2025-01-20T00:34:07.641Z"
   },
   {
    "duration": 20,
    "start_time": "2025-01-20T00:34:07.652Z"
   },
   {
    "duration": 4,
    "start_time": "2025-01-20T00:34:07.674Z"
   },
   {
    "duration": 174,
    "start_time": "2025-01-20T00:34:07.680Z"
   },
   {
    "duration": 5,
    "start_time": "2025-01-20T00:34:07.856Z"
   },
   {
    "duration": 2,
    "start_time": "2025-01-20T00:34:07.864Z"
   },
   {
    "duration": 3,
    "start_time": "2025-01-20T00:34:07.868Z"
   },
   {
    "duration": 3,
    "start_time": "2025-01-20T00:34:07.873Z"
   },
   {
    "duration": 3,
    "start_time": "2025-01-20T00:34:07.877Z"
   },
   {
    "duration": 5,
    "start_time": "2025-01-20T00:34:07.881Z"
   },
   {
    "duration": 39,
    "start_time": "2025-01-20T00:34:07.888Z"
   },
   {
    "duration": 6,
    "start_time": "2025-01-20T00:34:07.929Z"
   },
   {
    "duration": 176,
    "start_time": "2025-01-20T00:34:07.938Z"
   },
   {
    "duration": 8,
    "start_time": "2025-01-20T00:34:08.116Z"
   },
   {
    "duration": 12,
    "start_time": "2025-01-20T00:34:08.126Z"
   },
   {
    "duration": 8,
    "start_time": "2025-01-20T00:34:08.140Z"
   },
   {
    "duration": 10,
    "start_time": "2025-01-20T00:34:08.149Z"
   },
   {
    "duration": 21,
    "start_time": "2025-01-20T00:34:08.161Z"
   },
   {
    "duration": 7,
    "start_time": "2025-01-20T00:34:08.186Z"
   },
   {
    "duration": 32,
    "start_time": "2025-01-20T00:34:08.195Z"
   },
   {
    "duration": 6,
    "start_time": "2025-01-20T00:34:08.231Z"
   },
   {
    "duration": 3,
    "start_time": "2025-01-20T00:34:08.239Z"
   },
   {
    "duration": 123,
    "start_time": "2025-01-20T00:34:08.244Z"
   },
   {
    "duration": 4,
    "start_time": "2025-01-20T00:34:08.371Z"
   },
   {
    "duration": 117,
    "start_time": "2025-01-20T00:34:08.377Z"
   },
   {
    "duration": 4,
    "start_time": "2025-01-20T00:34:08.496Z"
   },
   {
    "duration": 109,
    "start_time": "2025-01-20T00:34:08.502Z"
   },
   {
    "duration": 3,
    "start_time": "2025-01-20T00:34:08.613Z"
   },
   {
    "duration": 516,
    "start_time": "2025-01-20T00:34:08.618Z"
   },
   {
    "duration": 16,
    "start_time": "2025-01-20T00:34:09.136Z"
   },
   {
    "duration": 179,
    "start_time": "2025-01-20T00:34:09.153Z"
   },
   {
    "duration": 15,
    "start_time": "2025-01-20T00:34:09.334Z"
   },
   {
    "duration": 15,
    "start_time": "2025-01-20T00:34:09.351Z"
   },
   {
    "duration": 5,
    "start_time": "2025-01-20T00:34:09.368Z"
   },
   {
    "duration": 51,
    "start_time": "2025-01-20T00:34:09.375Z"
   },
   {
    "duration": 5,
    "start_time": "2025-01-20T00:34:09.428Z"
   },
   {
    "duration": 3,
    "start_time": "2025-01-20T00:34:09.435Z"
   },
   {
    "duration": 226,
    "start_time": "2025-01-20T00:34:09.440Z"
   },
   {
    "duration": 5,
    "start_time": "2025-01-20T00:34:47.806Z"
   },
   {
    "duration": 17,
    "start_time": "2025-01-20T00:34:48.902Z"
   },
   {
    "duration": 864,
    "start_time": "2025-01-20T00:35:03.442Z"
   },
   {
    "duration": 187,
    "start_time": "2025-01-20T00:35:04.308Z"
   },
   {
    "duration": 523,
    "start_time": "2025-01-20T00:35:04.497Z"
   },
   {
    "duration": 63,
    "start_time": "2025-01-20T00:35:05.023Z"
   },
   {
    "duration": 8,
    "start_time": "2025-01-20T00:35:05.089Z"
   },
   {
    "duration": 41,
    "start_time": "2025-01-20T00:35:05.099Z"
   },
   {
    "duration": 5,
    "start_time": "2025-01-20T00:35:05.142Z"
   },
   {
    "duration": 145,
    "start_time": "2025-01-20T00:35:05.149Z"
   },
   {
    "duration": 4,
    "start_time": "2025-01-20T00:35:05.299Z"
   },
   {
    "duration": 2,
    "start_time": "2025-01-20T00:35:05.305Z"
   },
   {
    "duration": 2,
    "start_time": "2025-01-20T00:35:05.309Z"
   },
   {
    "duration": 2,
    "start_time": "2025-01-20T00:35:05.324Z"
   },
   {
    "duration": 4,
    "start_time": "2025-01-20T00:35:05.328Z"
   },
   {
    "duration": 4,
    "start_time": "2025-01-20T00:35:05.336Z"
   },
   {
    "duration": 4,
    "start_time": "2025-01-20T00:35:05.342Z"
   },
   {
    "duration": 3,
    "start_time": "2025-01-20T00:35:05.347Z"
   },
   {
    "duration": 199,
    "start_time": "2025-01-20T00:35:05.352Z"
   },
   {
    "duration": 3,
    "start_time": "2025-01-20T00:35:05.554Z"
   },
   {
    "duration": 9,
    "start_time": "2025-01-20T00:35:05.559Z"
   },
   {
    "duration": 8,
    "start_time": "2025-01-20T00:35:05.569Z"
   },
   {
    "duration": 14,
    "start_time": "2025-01-20T00:35:05.579Z"
   },
   {
    "duration": 50,
    "start_time": "2025-01-20T00:35:05.594Z"
   },
   {
    "duration": 5,
    "start_time": "2025-01-20T00:35:05.647Z"
   },
   {
    "duration": 4,
    "start_time": "2025-01-20T00:35:05.654Z"
   },
   {
    "duration": 4,
    "start_time": "2025-01-20T00:35:05.660Z"
   },
   {
    "duration": 3,
    "start_time": "2025-01-20T00:35:05.665Z"
   },
   {
    "duration": 132,
    "start_time": "2025-01-20T00:35:05.670Z"
   },
   {
    "duration": 4,
    "start_time": "2025-01-20T00:35:05.804Z"
   },
   {
    "duration": 103,
    "start_time": "2025-01-20T00:35:05.811Z"
   },
   {
    "duration": 7,
    "start_time": "2025-01-20T00:35:05.918Z"
   },
   {
    "duration": 125,
    "start_time": "2025-01-20T00:35:05.927Z"
   },
   {
    "duration": 3,
    "start_time": "2025-01-20T00:35:06.054Z"
   },
   {
    "duration": 501,
    "start_time": "2025-01-20T00:35:06.058Z"
   },
   {
    "duration": 15,
    "start_time": "2025-01-20T00:35:06.562Z"
   },
   {
    "duration": 186,
    "start_time": "2025-01-20T00:35:06.579Z"
   },
   {
    "duration": 15,
    "start_time": "2025-01-20T00:35:06.767Z"
   },
   {
    "duration": 14,
    "start_time": "2025-01-20T00:35:06.784Z"
   },
   {
    "duration": 24,
    "start_time": "2025-01-20T00:35:06.800Z"
   },
   {
    "duration": 24,
    "start_time": "2025-01-20T00:35:06.826Z"
   },
   {
    "duration": 4,
    "start_time": "2025-01-20T00:35:06.852Z"
   },
   {
    "duration": 3,
    "start_time": "2025-01-20T00:35:06.861Z"
   },
   {
    "duration": 285,
    "start_time": "2025-01-20T00:35:06.865Z"
   },
   {
    "duration": 67,
    "start_time": "2025-01-20T00:40:02.032Z"
   },
   {
    "duration": 14,
    "start_time": "2025-01-20T00:41:19.774Z"
   },
   {
    "duration": 2,
    "start_time": "2025-01-20T00:48:41.463Z"
   },
   {
    "duration": 2,
    "start_time": "2025-01-20T00:48:41.469Z"
   },
   {
    "duration": 548,
    "start_time": "2025-01-20T00:48:41.473Z"
   },
   {
    "duration": 58,
    "start_time": "2025-01-20T00:48:42.024Z"
   },
   {
    "duration": 9,
    "start_time": "2025-01-20T00:48:42.084Z"
   },
   {
    "duration": 33,
    "start_time": "2025-01-20T00:48:42.096Z"
   },
   {
    "duration": 3,
    "start_time": "2025-01-20T00:48:42.131Z"
   },
   {
    "duration": 145,
    "start_time": "2025-01-20T00:48:42.136Z"
   },
   {
    "duration": 5,
    "start_time": "2025-01-20T00:48:42.284Z"
   },
   {
    "duration": 2,
    "start_time": "2025-01-20T00:48:42.291Z"
   },
   {
    "duration": 4,
    "start_time": "2025-01-20T00:48:42.295Z"
   },
   {
    "duration": 3,
    "start_time": "2025-01-20T00:48:42.301Z"
   },
   {
    "duration": 3,
    "start_time": "2025-01-20T00:48:42.325Z"
   },
   {
    "duration": 5,
    "start_time": "2025-01-20T00:48:42.331Z"
   },
   {
    "duration": 6,
    "start_time": "2025-01-20T00:48:42.338Z"
   },
   {
    "duration": 3,
    "start_time": "2025-01-20T00:48:42.347Z"
   },
   {
    "duration": 193,
    "start_time": "2025-01-20T00:48:42.351Z"
   },
   {
    "duration": 3,
    "start_time": "2025-01-20T00:48:42.546Z"
   },
   {
    "duration": 10,
    "start_time": "2025-01-20T00:48:42.551Z"
   },
   {
    "duration": 9,
    "start_time": "2025-01-20T00:48:42.562Z"
   },
   {
    "duration": 12,
    "start_time": "2025-01-20T00:48:42.572Z"
   },
   {
    "duration": 5,
    "start_time": "2025-01-20T00:48:42.586Z"
   },
   {
    "duration": 34,
    "start_time": "2025-01-20T00:48:42.593Z"
   },
   {
    "duration": 5,
    "start_time": "2025-01-20T00:48:42.629Z"
   },
   {
    "duration": 3,
    "start_time": "2025-01-20T00:48:42.636Z"
   },
   {
    "duration": 114,
    "start_time": "2025-01-20T00:48:42.640Z"
   },
   {
    "duration": 5,
    "start_time": "2025-01-20T00:48:42.756Z"
   },
   {
    "duration": 102,
    "start_time": "2025-01-20T00:48:42.762Z"
   },
   {
    "duration": 4,
    "start_time": "2025-01-20T00:48:42.866Z"
   },
   {
    "duration": 114,
    "start_time": "2025-01-20T00:48:42.874Z"
   },
   {
    "duration": 3,
    "start_time": "2025-01-20T00:48:42.990Z"
   },
   {
    "duration": 530,
    "start_time": "2025-01-20T00:48:42.995Z"
   },
   {
    "duration": 15,
    "start_time": "2025-01-20T00:48:43.526Z"
   },
   {
    "duration": 174,
    "start_time": "2025-01-20T00:48:43.543Z"
   },
   {
    "duration": 17,
    "start_time": "2025-01-20T00:48:43.719Z"
   },
   {
    "duration": 11,
    "start_time": "2025-01-20T00:48:43.738Z"
   },
   {
    "duration": 15,
    "start_time": "2025-01-20T00:48:48.820Z"
   },
   {
    "duration": 137,
    "start_time": "2025-01-20T00:49:06.688Z"
   },
   {
    "duration": 4,
    "start_time": "2025-01-20T00:49:11.736Z"
   },
   {
    "duration": 6,
    "start_time": "2025-01-20T01:18:35.161Z"
   },
   {
    "duration": 3,
    "start_time": "2025-01-20T01:18:44.317Z"
   },
   {
    "duration": 8,
    "start_time": "2025-01-20T01:18:44.328Z"
   },
   {
    "duration": 733,
    "start_time": "2025-01-20T01:18:44.339Z"
   },
   {
    "duration": 92,
    "start_time": "2025-01-20T01:18:45.074Z"
   },
   {
    "duration": 16,
    "start_time": "2025-01-20T01:18:45.172Z"
   },
   {
    "duration": 30,
    "start_time": "2025-01-20T01:18:45.196Z"
   },
   {
    "duration": 6,
    "start_time": "2025-01-20T01:18:45.233Z"
   },
   {
    "duration": 242,
    "start_time": "2025-01-20T01:18:45.246Z"
   },
   {
    "duration": 8,
    "start_time": "2025-01-20T01:18:45.494Z"
   },
   {
    "duration": 3,
    "start_time": "2025-01-20T01:18:45.508Z"
   },
   {
    "duration": 2,
    "start_time": "2025-01-20T01:18:45.514Z"
   },
   {
    "duration": 3,
    "start_time": "2025-01-20T01:18:45.518Z"
   },
   {
    "duration": 6,
    "start_time": "2025-01-20T01:18:45.523Z"
   },
   {
    "duration": 12,
    "start_time": "2025-01-20T01:18:45.531Z"
   },
   {
    "duration": 3,
    "start_time": "2025-01-20T01:18:45.547Z"
   },
   {
    "duration": 7,
    "start_time": "2025-01-20T01:18:45.552Z"
   },
   {
    "duration": 228,
    "start_time": "2025-01-20T01:18:45.560Z"
   },
   {
    "duration": 10,
    "start_time": "2025-01-20T01:18:45.790Z"
   },
   {
    "duration": 12,
    "start_time": "2025-01-20T01:18:45.803Z"
   },
   {
    "duration": 15,
    "start_time": "2025-01-20T01:18:45.818Z"
   },
   {
    "duration": 16,
    "start_time": "2025-01-20T01:18:45.836Z"
   },
   {
    "duration": 7,
    "start_time": "2025-01-20T01:18:45.855Z"
   },
   {
    "duration": 6,
    "start_time": "2025-01-20T01:18:45.866Z"
   },
   {
    "duration": 6,
    "start_time": "2025-01-20T01:18:45.876Z"
   },
   {
    "duration": 5,
    "start_time": "2025-01-20T01:18:45.886Z"
   },
   {
    "duration": 121,
    "start_time": "2025-01-20T01:18:45.896Z"
   },
   {
    "duration": 5,
    "start_time": "2025-01-20T01:18:46.020Z"
   },
   {
    "duration": 115,
    "start_time": "2025-01-20T01:18:46.026Z"
   },
   {
    "duration": 4,
    "start_time": "2025-01-20T01:18:46.143Z"
   },
   {
    "duration": 132,
    "start_time": "2025-01-20T01:18:46.149Z"
   },
   {
    "duration": 3,
    "start_time": "2025-01-20T01:18:46.283Z"
   },
   {
    "duration": 517,
    "start_time": "2025-01-20T01:18:46.288Z"
   },
   {
    "duration": 19,
    "start_time": "2025-01-20T01:18:46.807Z"
   },
   {
    "duration": 262,
    "start_time": "2025-01-20T01:18:46.832Z"
   },
   {
    "duration": 17,
    "start_time": "2025-01-20T01:18:47.100Z"
   },
   {
    "duration": 20,
    "start_time": "2025-01-20T01:18:47.121Z"
   },
   {
    "duration": 4,
    "start_time": "2025-01-20T01:18:47.144Z"
   },
   {
    "duration": 6,
    "start_time": "2025-01-20T01:22:37.990Z"
   },
   {
    "duration": 8,
    "start_time": "2025-01-20T01:22:39.890Z"
   },
   {
    "duration": 24,
    "start_time": "2025-01-20T01:22:42.082Z"
   },
   {
    "duration": 7,
    "start_time": "2025-01-20T01:23:08.009Z"
   },
   {
    "duration": 12,
    "start_time": "2025-01-20T01:23:14.567Z"
   },
   {
    "duration": 9,
    "start_time": "2025-01-20T01:23:17.453Z"
   },
   {
    "duration": 6,
    "start_time": "2025-01-20T01:23:18.640Z"
   },
   {
    "duration": 104,
    "start_time": "2025-01-20T01:23:20.229Z"
   },
   {
    "duration": 2724,
    "start_time": "2025-01-20T02:49:29.962Z"
   },
   {
    "duration": 149,
    "start_time": "2025-01-20T02:49:32.689Z"
   },
   {
    "duration": 680,
    "start_time": "2025-01-20T02:49:32.840Z"
   },
   {
    "duration": 65,
    "start_time": "2025-01-20T02:49:33.525Z"
   },
   {
    "duration": 9,
    "start_time": "2025-01-20T02:49:33.594Z"
   },
   {
    "duration": 22,
    "start_time": "2025-01-20T02:49:33.625Z"
   },
   {
    "duration": 3,
    "start_time": "2025-01-20T02:49:33.649Z"
   },
   {
    "duration": 150,
    "start_time": "2025-01-20T02:49:33.655Z"
   },
   {
    "duration": 17,
    "start_time": "2025-01-20T02:49:33.807Z"
   },
   {
    "duration": 3,
    "start_time": "2025-01-20T02:49:33.826Z"
   },
   {
    "duration": 2,
    "start_time": "2025-01-20T02:49:33.831Z"
   },
   {
    "duration": 2,
    "start_time": "2025-01-20T02:49:33.836Z"
   },
   {
    "duration": 4,
    "start_time": "2025-01-20T02:49:33.840Z"
   },
   {
    "duration": 5,
    "start_time": "2025-01-20T02:49:33.848Z"
   },
   {
    "duration": 4,
    "start_time": "2025-01-20T02:49:33.855Z"
   },
   {
    "duration": 3,
    "start_time": "2025-01-20T02:49:33.860Z"
   },
   {
    "duration": 208,
    "start_time": "2025-01-20T02:49:33.868Z"
   },
   {
    "duration": 4,
    "start_time": "2025-01-20T02:49:34.079Z"
   },
   {
    "duration": 10,
    "start_time": "2025-01-20T02:49:34.084Z"
   },
   {
    "duration": 8,
    "start_time": "2025-01-20T02:49:34.095Z"
   },
   {
    "duration": 14,
    "start_time": "2025-01-20T02:49:34.124Z"
   },
   {
    "duration": 5,
    "start_time": "2025-01-20T02:49:34.139Z"
   },
   {
    "duration": 6,
    "start_time": "2025-01-20T02:49:34.147Z"
   },
   {
    "duration": 5,
    "start_time": "2025-01-20T02:49:34.154Z"
   },
   {
    "duration": 3,
    "start_time": "2025-01-20T02:49:34.160Z"
   },
   {
    "duration": 188,
    "start_time": "2025-01-20T02:49:34.165Z"
   },
   {
    "duration": 4,
    "start_time": "2025-01-20T02:49:34.355Z"
   },
   {
    "duration": 95,
    "start_time": "2025-01-20T02:49:34.361Z"
   },
   {
    "duration": 3,
    "start_time": "2025-01-20T02:49:34.458Z"
   },
   {
    "duration": 119,
    "start_time": "2025-01-20T02:49:34.463Z"
   },
   {
    "duration": 4,
    "start_time": "2025-01-20T02:49:34.583Z"
   },
   {
    "duration": 502,
    "start_time": "2025-01-20T02:49:34.589Z"
   },
   {
    "duration": 16,
    "start_time": "2025-01-20T02:49:35.093Z"
   },
   {
    "duration": 184,
    "start_time": "2025-01-20T02:49:35.111Z"
   },
   {
    "duration": 15,
    "start_time": "2025-01-20T02:49:35.298Z"
   },
   {
    "duration": 24,
    "start_time": "2025-01-20T02:49:35.315Z"
   },
   {
    "duration": 9,
    "start_time": "2025-01-20T02:49:35.341Z"
   },
   {
    "duration": 6,
    "start_time": "2025-01-20T02:49:35.352Z"
   },
   {
    "duration": 6,
    "start_time": "2025-01-20T02:49:35.360Z"
   },
   {
    "duration": 14,
    "start_time": "2025-01-20T02:49:35.368Z"
   },
   {
    "duration": 3,
    "start_time": "2025-01-20T02:49:35.387Z"
   },
   {
    "duration": 3,
    "start_time": "2025-01-20T02:49:35.392Z"
   },
   {
    "duration": 18,
    "start_time": "2025-01-20T02:49:35.426Z"
   },
   {
    "duration": 30,
    "start_time": "2025-01-20T02:57:19.327Z"
   },
   {
    "duration": 250,
    "start_time": "2025-01-20T03:07:40.632Z"
   },
   {
    "duration": 22,
    "start_time": "2025-01-20T03:08:05.400Z"
   },
   {
    "duration": 2793,
    "start_time": "2025-01-20T03:08:10.381Z"
   },
   {
    "duration": 19,
    "start_time": "2025-01-20T03:11:18.199Z"
   },
   {
    "duration": 5,
    "start_time": "2025-01-20T03:11:39.219Z"
   },
   {
    "duration": 434,
    "start_time": "2025-01-20T03:11:45.626Z"
   },
   {
    "duration": 3,
    "start_time": "2025-01-20T03:17:47.458Z"
   },
   {
    "duration": 350,
    "start_time": "2025-01-20T03:22:33.765Z"
   },
   {
    "duration": 141,
    "start_time": "2025-01-20T03:23:11.696Z"
   },
   {
    "duration": 3,
    "start_time": "2025-01-20T03:23:19.645Z"
   },
   {
    "duration": 3,
    "start_time": "2025-01-20T03:23:19.653Z"
   },
   {
    "duration": 520,
    "start_time": "2025-01-20T03:23:19.658Z"
   },
   {
    "duration": 62,
    "start_time": "2025-01-20T03:23:20.180Z"
   },
   {
    "duration": 12,
    "start_time": "2025-01-20T03:23:20.245Z"
   },
   {
    "duration": 24,
    "start_time": "2025-01-20T03:23:20.259Z"
   },
   {
    "duration": 4,
    "start_time": "2025-01-20T03:23:20.285Z"
   },
   {
    "duration": 144,
    "start_time": "2025-01-20T03:23:20.291Z"
   },
   {
    "duration": 7,
    "start_time": "2025-01-20T03:23:20.437Z"
   },
   {
    "duration": 3,
    "start_time": "2025-01-20T03:23:20.445Z"
   },
   {
    "duration": 3,
    "start_time": "2025-01-20T03:23:20.450Z"
   },
   {
    "duration": 3,
    "start_time": "2025-01-20T03:23:20.455Z"
   },
   {
    "duration": 4,
    "start_time": "2025-01-20T03:23:20.460Z"
   },
   {
    "duration": 6,
    "start_time": "2025-01-20T03:23:20.465Z"
   },
   {
    "duration": 4,
    "start_time": "2025-01-20T03:23:20.475Z"
   },
   {
    "duration": 44,
    "start_time": "2025-01-20T03:23:20.481Z"
   },
   {
    "duration": 164,
    "start_time": "2025-01-20T03:23:20.527Z"
   },
   {
    "duration": 6,
    "start_time": "2025-01-20T03:23:20.694Z"
   },
   {
    "duration": 9,
    "start_time": "2025-01-20T03:23:20.701Z"
   },
   {
    "duration": 8,
    "start_time": "2025-01-20T03:23:20.724Z"
   },
   {
    "duration": 9,
    "start_time": "2025-01-20T03:23:20.734Z"
   },
   {
    "duration": 5,
    "start_time": "2025-01-20T03:23:20.745Z"
   },
   {
    "duration": 5,
    "start_time": "2025-01-20T03:23:20.752Z"
   },
   {
    "duration": 4,
    "start_time": "2025-01-20T03:23:20.759Z"
   },
   {
    "duration": 5,
    "start_time": "2025-01-20T03:23:20.765Z"
   },
   {
    "duration": 141,
    "start_time": "2025-01-20T03:23:20.772Z"
   },
   {
    "duration": 6,
    "start_time": "2025-01-20T03:23:20.918Z"
   },
   {
    "duration": 87,
    "start_time": "2025-01-20T03:23:20.926Z"
   },
   {
    "duration": 4,
    "start_time": "2025-01-20T03:23:21.024Z"
   },
   {
    "duration": 126,
    "start_time": "2025-01-20T03:23:21.029Z"
   },
   {
    "duration": 4,
    "start_time": "2025-01-20T03:23:21.157Z"
   },
   {
    "duration": 461,
    "start_time": "2025-01-20T03:23:21.163Z"
   },
   {
    "duration": 18,
    "start_time": "2025-01-20T03:23:21.627Z"
   },
   {
    "duration": 194,
    "start_time": "2025-01-20T03:23:21.647Z"
   },
   {
    "duration": 16,
    "start_time": "2025-01-20T03:23:21.844Z"
   },
   {
    "duration": 12,
    "start_time": "2025-01-20T03:23:21.862Z"
   },
   {
    "duration": 9,
    "start_time": "2025-01-20T03:23:21.876Z"
   },
   {
    "duration": 7,
    "start_time": "2025-01-20T03:23:21.887Z"
   },
   {
    "duration": 4,
    "start_time": "2025-01-20T03:23:21.896Z"
   },
   {
    "duration": 10,
    "start_time": "2025-01-20T03:23:21.924Z"
   },
   {
    "duration": 5,
    "start_time": "2025-01-20T03:23:21.935Z"
   },
   {
    "duration": 4,
    "start_time": "2025-01-20T03:23:21.944Z"
   },
   {
    "duration": 170,
    "start_time": "2025-01-20T03:23:23.484Z"
   },
   {
    "duration": 959,
    "start_time": "2025-01-20T03:31:07.801Z"
   },
   {
    "duration": 298,
    "start_time": "2025-01-20T03:31:08.763Z"
   },
   {
    "duration": 747,
    "start_time": "2025-01-20T03:31:09.064Z"
   },
   {
    "duration": 61,
    "start_time": "2025-01-20T03:31:09.813Z"
   },
   {
    "duration": 11,
    "start_time": "2025-01-20T03:31:09.876Z"
   },
   {
    "duration": 35,
    "start_time": "2025-01-20T03:31:09.889Z"
   },
   {
    "duration": 4,
    "start_time": "2025-01-20T03:31:09.926Z"
   },
   {
    "duration": 201,
    "start_time": "2025-01-20T03:31:09.931Z"
   },
   {
    "duration": 5,
    "start_time": "2025-01-20T03:31:10.135Z"
   },
   {
    "duration": 2,
    "start_time": "2025-01-20T03:31:10.143Z"
   },
   {
    "duration": 3,
    "start_time": "2025-01-20T03:31:10.148Z"
   },
   {
    "duration": 4,
    "start_time": "2025-01-20T03:31:10.152Z"
   },
   {
    "duration": 3,
    "start_time": "2025-01-20T03:31:10.158Z"
   },
   {
    "duration": 5,
    "start_time": "2025-01-20T03:31:10.163Z"
   },
   {
    "duration": 4,
    "start_time": "2025-01-20T03:31:10.170Z"
   },
   {
    "duration": 3,
    "start_time": "2025-01-20T03:31:10.177Z"
   },
   {
    "duration": 238,
    "start_time": "2025-01-20T03:31:10.182Z"
   },
   {
    "duration": 4,
    "start_time": "2025-01-20T03:31:10.424Z"
   },
   {
    "duration": 9,
    "start_time": "2025-01-20T03:31:10.430Z"
   },
   {
    "duration": 9,
    "start_time": "2025-01-20T03:31:10.440Z"
   },
   {
    "duration": 14,
    "start_time": "2025-01-20T03:31:10.450Z"
   },
   {
    "duration": 5,
    "start_time": "2025-01-20T03:31:10.466Z"
   },
   {
    "duration": 4,
    "start_time": "2025-01-20T03:31:10.473Z"
   },
   {
    "duration": 5,
    "start_time": "2025-01-20T03:31:10.479Z"
   },
   {
    "duration": 40,
    "start_time": "2025-01-20T03:31:10.486Z"
   },
   {
    "duration": 138,
    "start_time": "2025-01-20T03:31:10.528Z"
   },
   {
    "duration": 6,
    "start_time": "2025-01-20T03:31:10.669Z"
   },
   {
    "duration": 114,
    "start_time": "2025-01-20T03:31:10.681Z"
   },
   {
    "duration": 7,
    "start_time": "2025-01-20T03:31:10.797Z"
   },
   {
    "duration": 126,
    "start_time": "2025-01-20T03:31:10.806Z"
   },
   {
    "duration": 3,
    "start_time": "2025-01-20T03:31:10.935Z"
   },
   {
    "duration": 604,
    "start_time": "2025-01-20T03:31:10.940Z"
   },
   {
    "duration": 16,
    "start_time": "2025-01-20T03:31:11.546Z"
   },
   {
    "duration": 217,
    "start_time": "2025-01-20T03:31:11.564Z"
   },
   {
    "duration": 16,
    "start_time": "2025-01-20T03:31:11.783Z"
   },
   {
    "duration": 28,
    "start_time": "2025-01-20T03:31:11.800Z"
   },
   {
    "duration": 5,
    "start_time": "2025-01-20T03:31:11.830Z"
   },
   {
    "duration": 6,
    "start_time": "2025-01-20T03:31:11.837Z"
   },
   {
    "duration": 6,
    "start_time": "2025-01-20T03:31:11.846Z"
   },
   {
    "duration": 15,
    "start_time": "2025-01-20T03:31:11.854Z"
   },
   {
    "duration": 3,
    "start_time": "2025-01-20T03:31:11.871Z"
   },
   {
    "duration": 4,
    "start_time": "2025-01-20T03:31:11.875Z"
   },
   {
    "duration": 263,
    "start_time": "2025-01-20T03:31:11.880Z"
   },
   {
    "duration": 507,
    "start_time": "2025-01-20T03:31:12.149Z"
   },
   {
    "duration": 0,
    "start_time": "2025-01-20T03:31:12.658Z"
   },
   {
    "duration": 0,
    "start_time": "2025-01-20T03:31:12.659Z"
   },
   {
    "duration": 0,
    "start_time": "2025-01-20T03:31:12.660Z"
   },
   {
    "duration": 0,
    "start_time": "2025-01-20T03:31:12.662Z"
   },
   {
    "duration": 399,
    "start_time": "2025-01-20T03:32:05.446Z"
   },
   {
    "duration": 475,
    "start_time": "2025-01-20T03:32:05.850Z"
   },
   {
    "duration": 9320,
    "start_time": "2025-01-20T03:32:06.327Z"
   },
   {
    "duration": 7845,
    "start_time": "2025-01-20T03:32:15.650Z"
   },
   {
    "duration": 1414,
    "start_time": "2025-01-20T03:32:23.497Z"
   },
   {
    "duration": 74,
    "start_time": "2025-01-20T03:32:24.913Z"
   },
   {
    "duration": 899,
    "start_time": "2025-01-20T03:38:53.082Z"
   },
   {
    "duration": 283,
    "start_time": "2025-01-20T03:38:53.985Z"
   },
   {
    "duration": 669,
    "start_time": "2025-01-20T03:38:54.270Z"
   },
   {
    "duration": 64,
    "start_time": "2025-01-20T03:38:54.942Z"
   },
   {
    "duration": 10,
    "start_time": "2025-01-20T03:38:55.025Z"
   },
   {
    "duration": 24,
    "start_time": "2025-01-20T03:38:55.037Z"
   },
   {
    "duration": 4,
    "start_time": "2025-01-20T03:38:55.063Z"
   },
   {
    "duration": 208,
    "start_time": "2025-01-20T03:38:55.069Z"
   },
   {
    "duration": 5,
    "start_time": "2025-01-20T03:38:55.278Z"
   },
   {
    "duration": 2,
    "start_time": "2025-01-20T03:38:55.286Z"
   },
   {
    "duration": 10,
    "start_time": "2025-01-20T03:38:55.290Z"
   },
   {
    "duration": 3,
    "start_time": "2025-01-20T03:38:55.302Z"
   },
   {
    "duration": 17,
    "start_time": "2025-01-20T03:38:55.306Z"
   },
   {
    "duration": 4,
    "start_time": "2025-01-20T03:38:55.325Z"
   },
   {
    "duration": 4,
    "start_time": "2025-01-20T03:38:55.331Z"
   },
   {
    "duration": 3,
    "start_time": "2025-01-20T03:38:55.336Z"
   },
   {
    "duration": 225,
    "start_time": "2025-01-20T03:38:55.341Z"
   },
   {
    "duration": 4,
    "start_time": "2025-01-20T03:38:55.570Z"
   },
   {
    "duration": 9,
    "start_time": "2025-01-20T03:38:55.575Z"
   },
   {
    "duration": 9,
    "start_time": "2025-01-20T03:38:55.586Z"
   },
   {
    "duration": 34,
    "start_time": "2025-01-20T03:38:55.596Z"
   },
   {
    "duration": 5,
    "start_time": "2025-01-20T03:38:55.632Z"
   },
   {
    "duration": 4,
    "start_time": "2025-01-20T03:38:55.639Z"
   },
   {
    "duration": 8,
    "start_time": "2025-01-20T03:38:55.645Z"
   },
   {
    "duration": 3,
    "start_time": "2025-01-20T03:38:55.657Z"
   },
   {
    "duration": 135,
    "start_time": "2025-01-20T03:38:55.663Z"
   },
   {
    "duration": 3,
    "start_time": "2025-01-20T03:38:55.800Z"
   },
   {
    "duration": 118,
    "start_time": "2025-01-20T03:38:55.808Z"
   },
   {
    "duration": 11,
    "start_time": "2025-01-20T03:38:55.928Z"
   },
   {
    "duration": 125,
    "start_time": "2025-01-20T03:38:55.941Z"
   },
   {
    "duration": 3,
    "start_time": "2025-01-20T03:38:56.067Z"
   },
   {
    "duration": 511,
    "start_time": "2025-01-20T03:38:56.072Z"
   },
   {
    "duration": 15,
    "start_time": "2025-01-20T03:38:56.586Z"
   },
   {
    "duration": 231,
    "start_time": "2025-01-20T03:38:56.603Z"
   },
   {
    "duration": 16,
    "start_time": "2025-01-20T03:38:56.836Z"
   },
   {
    "duration": 16,
    "start_time": "2025-01-20T03:38:56.853Z"
   },
   {
    "duration": 5,
    "start_time": "2025-01-20T03:38:56.871Z"
   },
   {
    "duration": 6,
    "start_time": "2025-01-20T03:38:56.878Z"
   },
   {
    "duration": 10,
    "start_time": "2025-01-20T03:38:56.887Z"
   },
   {
    "duration": 34,
    "start_time": "2025-01-20T03:38:56.899Z"
   },
   {
    "duration": 3,
    "start_time": "2025-01-20T03:38:56.935Z"
   },
   {
    "duration": 2,
    "start_time": "2025-01-20T03:38:56.942Z"
   },
   {
    "duration": 113,
    "start_time": "2025-01-20T03:38:56.946Z"
   },
   {
    "duration": 9,
    "start_time": "2025-01-20T03:38:57.064Z"
   },
   {
    "duration": 0,
    "start_time": "2025-01-20T03:38:57.076Z"
   },
   {
    "duration": 0,
    "start_time": "2025-01-20T03:38:57.077Z"
   },
   {
    "duration": 0,
    "start_time": "2025-01-20T03:38:57.078Z"
   },
   {
    "duration": 0,
    "start_time": "2025-01-20T03:38:57.079Z"
   },
   {
    "duration": 759,
    "start_time": "2025-01-20T03:39:29.416Z"
   },
   {
    "duration": 8495,
    "start_time": "2025-01-20T03:39:58.039Z"
   },
   {
    "duration": 954,
    "start_time": "2025-01-20T03:40:40.652Z"
   },
   {
    "duration": 286,
    "start_time": "2025-01-20T03:40:41.609Z"
   },
   {
    "duration": 737,
    "start_time": "2025-01-20T03:40:41.898Z"
   },
   {
    "duration": 66,
    "start_time": "2025-01-20T03:40:42.636Z"
   },
   {
    "duration": 22,
    "start_time": "2025-01-20T03:40:42.705Z"
   },
   {
    "duration": 24,
    "start_time": "2025-01-20T03:40:42.729Z"
   },
   {
    "duration": 4,
    "start_time": "2025-01-20T03:40:42.755Z"
   },
   {
    "duration": 208,
    "start_time": "2025-01-20T03:40:42.761Z"
   },
   {
    "duration": 7,
    "start_time": "2025-01-20T03:40:42.970Z"
   },
   {
    "duration": 3,
    "start_time": "2025-01-20T03:40:42.980Z"
   },
   {
    "duration": 6,
    "start_time": "2025-01-20T03:40:42.985Z"
   },
   {
    "duration": 3,
    "start_time": "2025-01-20T03:40:42.993Z"
   },
   {
    "duration": 5,
    "start_time": "2025-01-20T03:40:42.998Z"
   },
   {
    "duration": 18,
    "start_time": "2025-01-20T03:40:43.007Z"
   },
   {
    "duration": 4,
    "start_time": "2025-01-20T03:40:43.027Z"
   },
   {
    "duration": 2,
    "start_time": "2025-01-20T03:40:43.033Z"
   },
   {
    "duration": 225,
    "start_time": "2025-01-20T03:40:43.037Z"
   },
   {
    "duration": 3,
    "start_time": "2025-01-20T03:40:43.264Z"
   },
   {
    "duration": 10,
    "start_time": "2025-01-20T03:40:43.269Z"
   },
   {
    "duration": 8,
    "start_time": "2025-01-20T03:40:43.281Z"
   },
   {
    "duration": 39,
    "start_time": "2025-01-20T03:40:43.291Z"
   },
   {
    "duration": 5,
    "start_time": "2025-01-20T03:40:43.332Z"
   },
   {
    "duration": 4,
    "start_time": "2025-01-20T03:40:43.339Z"
   },
   {
    "duration": 4,
    "start_time": "2025-01-20T03:40:43.344Z"
   },
   {
    "duration": 3,
    "start_time": "2025-01-20T03:40:43.350Z"
   },
   {
    "duration": 149,
    "start_time": "2025-01-20T03:40:43.354Z"
   },
   {
    "duration": 4,
    "start_time": "2025-01-20T03:40:43.505Z"
   },
   {
    "duration": 121,
    "start_time": "2025-01-20T03:40:43.511Z"
   },
   {
    "duration": 3,
    "start_time": "2025-01-20T03:40:43.634Z"
   },
   {
    "duration": 134,
    "start_time": "2025-01-20T03:40:43.639Z"
   },
   {
    "duration": 3,
    "start_time": "2025-01-20T03:40:43.775Z"
   },
   {
    "duration": 580,
    "start_time": "2025-01-20T03:40:43.779Z"
   },
   {
    "duration": 20,
    "start_time": "2025-01-20T03:40:44.361Z"
   },
   {
    "duration": 224,
    "start_time": "2025-01-20T03:40:44.384Z"
   },
   {
    "duration": 21,
    "start_time": "2025-01-20T03:40:44.611Z"
   },
   {
    "duration": 19,
    "start_time": "2025-01-20T03:40:44.635Z"
   },
   {
    "duration": 8,
    "start_time": "2025-01-20T03:40:44.656Z"
   },
   {
    "duration": 7,
    "start_time": "2025-01-20T03:40:44.665Z"
   },
   {
    "duration": 5,
    "start_time": "2025-01-20T03:40:44.674Z"
   },
   {
    "duration": 13,
    "start_time": "2025-01-20T03:40:44.681Z"
   },
   {
    "duration": 3,
    "start_time": "2025-01-20T03:40:44.699Z"
   },
   {
    "duration": 3,
    "start_time": "2025-01-20T03:40:44.725Z"
   },
   {
    "duration": 230,
    "start_time": "2025-01-20T03:40:44.730Z"
   },
   {
    "duration": 316,
    "start_time": "2025-01-20T03:40:45.039Z"
   },
   {
    "duration": 9426,
    "start_time": "2025-01-20T03:40:45.361Z"
   },
   {
    "duration": 8966,
    "start_time": "2025-01-20T03:40:54.789Z"
   },
   {
    "duration": 1565,
    "start_time": "2025-01-20T03:41:03.759Z"
   },
   {
    "duration": 464,
    "start_time": "2025-01-20T03:41:05.326Z"
   },
   {
    "duration": 1502,
    "start_time": "2025-01-20T03:41:34.580Z"
   },
   {
    "duration": 2450,
    "start_time": "2025-01-20T08:17:29.881Z"
   },
   {
    "duration": 166,
    "start_time": "2025-01-20T08:17:32.333Z"
   },
   {
    "duration": 611,
    "start_time": "2025-01-20T08:17:32.501Z"
   },
   {
    "duration": 48,
    "start_time": "2025-01-20T08:17:33.115Z"
   },
   {
    "duration": 8,
    "start_time": "2025-01-20T08:17:33.165Z"
   },
   {
    "duration": 43,
    "start_time": "2025-01-20T08:17:33.175Z"
   },
   {
    "duration": 3,
    "start_time": "2025-01-20T08:17:33.220Z"
   },
   {
    "duration": 136,
    "start_time": "2025-01-20T08:17:33.225Z"
   },
   {
    "duration": 11,
    "start_time": "2025-01-20T08:17:33.362Z"
   },
   {
    "duration": 3,
    "start_time": "2025-01-20T08:17:33.376Z"
   },
   {
    "duration": 3,
    "start_time": "2025-01-20T08:17:33.380Z"
   },
   {
    "duration": 3,
    "start_time": "2025-01-20T08:17:33.385Z"
   },
   {
    "duration": 20,
    "start_time": "2025-01-20T08:17:33.389Z"
   },
   {
    "duration": 5,
    "start_time": "2025-01-20T08:17:33.411Z"
   },
   {
    "duration": 4,
    "start_time": "2025-01-20T08:17:33.417Z"
   },
   {
    "duration": 3,
    "start_time": "2025-01-20T08:17:33.422Z"
   },
   {
    "duration": 239,
    "start_time": "2025-01-20T08:17:33.427Z"
   },
   {
    "duration": 3,
    "start_time": "2025-01-20T08:17:33.668Z"
   },
   {
    "duration": 8,
    "start_time": "2025-01-20T08:17:33.673Z"
   },
   {
    "duration": 27,
    "start_time": "2025-01-20T08:17:33.682Z"
   },
   {
    "duration": 10,
    "start_time": "2025-01-20T08:17:33.710Z"
   },
   {
    "duration": 5,
    "start_time": "2025-01-20T08:17:33.721Z"
   },
   {
    "duration": 4,
    "start_time": "2025-01-20T08:17:33.727Z"
   },
   {
    "duration": 4,
    "start_time": "2025-01-20T08:17:33.734Z"
   },
   {
    "duration": 4,
    "start_time": "2025-01-20T08:17:33.739Z"
   },
   {
    "duration": 128,
    "start_time": "2025-01-20T08:17:33.744Z"
   },
   {
    "duration": 3,
    "start_time": "2025-01-20T08:17:33.874Z"
   },
   {
    "duration": 102,
    "start_time": "2025-01-20T08:17:33.881Z"
   },
   {
    "duration": 3,
    "start_time": "2025-01-20T08:17:33.984Z"
   },
   {
    "duration": 102,
    "start_time": "2025-01-20T08:17:33.989Z"
   },
   {
    "duration": 2,
    "start_time": "2025-01-20T08:17:34.093Z"
   },
   {
    "duration": 526,
    "start_time": "2025-01-20T08:17:34.097Z"
   },
   {
    "duration": 13,
    "start_time": "2025-01-20T08:17:34.627Z"
   },
   {
    "duration": 173,
    "start_time": "2025-01-20T08:17:34.642Z"
   },
   {
    "duration": 13,
    "start_time": "2025-01-20T08:17:34.816Z"
   },
   {
    "duration": 13,
    "start_time": "2025-01-20T08:17:34.830Z"
   },
   {
    "duration": 4,
    "start_time": "2025-01-20T08:17:34.844Z"
   },
   {
    "duration": 5,
    "start_time": "2025-01-20T08:17:34.850Z"
   },
   {
    "duration": 5,
    "start_time": "2025-01-20T08:17:34.857Z"
   },
   {
    "duration": 11,
    "start_time": "2025-01-20T08:17:34.864Z"
   },
   {
    "duration": 34,
    "start_time": "2025-01-20T08:17:34.876Z"
   },
   {
    "duration": 3,
    "start_time": "2025-01-20T08:17:34.911Z"
   },
   {
    "duration": 111,
    "start_time": "2025-01-20T08:17:34.916Z"
   },
   {
    "duration": 294,
    "start_time": "2025-01-20T08:17:35.028Z"
   },
   {
    "duration": 7368,
    "start_time": "2025-01-20T08:17:35.325Z"
   },
   {
    "duration": 7068,
    "start_time": "2025-01-20T08:17:42.695Z"
   },
   {
    "duration": 1244,
    "start_time": "2025-01-20T08:17:49.765Z"
   },
   {
    "duration": 1186,
    "start_time": "2025-01-20T08:17:51.011Z"
   },
   {
    "duration": 227,
    "start_time": "2025-01-20T08:51:25.088Z"
   },
   {
    "duration": 305,
    "start_time": "2025-01-20T08:51:37.312Z"
   },
   {
    "duration": 290,
    "start_time": "2025-01-20T08:54:26.134Z"
   },
   {
    "duration": 141,
    "start_time": "2025-01-20T08:54:31.583Z"
   },
   {
    "duration": 430,
    "start_time": "2025-01-20T08:54:41.781Z"
   },
   {
    "duration": 470,
    "start_time": "2025-01-20T08:55:30.947Z"
   },
   {
    "duration": 440,
    "start_time": "2025-01-20T09:04:59.386Z"
   },
   {
    "duration": 503,
    "start_time": "2025-01-20T09:05:16.205Z"
   },
   {
    "duration": 2,
    "start_time": "2025-01-20T09:05:28.584Z"
   },
   {
    "duration": 3,
    "start_time": "2025-01-20T09:05:28.590Z"
   },
   {
    "duration": 522,
    "start_time": "2025-01-20T09:05:28.595Z"
   },
   {
    "duration": 46,
    "start_time": "2025-01-20T09:05:29.119Z"
   },
   {
    "duration": 10,
    "start_time": "2025-01-20T09:05:29.166Z"
   },
   {
    "duration": 40,
    "start_time": "2025-01-20T09:05:29.177Z"
   },
   {
    "duration": 4,
    "start_time": "2025-01-20T09:05:29.218Z"
   },
   {
    "duration": 144,
    "start_time": "2025-01-20T09:05:29.223Z"
   },
   {
    "duration": 4,
    "start_time": "2025-01-20T09:05:29.370Z"
   },
   {
    "duration": 2,
    "start_time": "2025-01-20T09:05:29.375Z"
   },
   {
    "duration": 3,
    "start_time": "2025-01-20T09:05:29.379Z"
   },
   {
    "duration": 2,
    "start_time": "2025-01-20T09:05:29.385Z"
   },
   {
    "duration": 2,
    "start_time": "2025-01-20T09:05:29.409Z"
   },
   {
    "duration": 4,
    "start_time": "2025-01-20T09:05:29.413Z"
   },
   {
    "duration": 3,
    "start_time": "2025-01-20T09:05:29.419Z"
   },
   {
    "duration": 3,
    "start_time": "2025-01-20T09:05:29.424Z"
   },
   {
    "duration": 186,
    "start_time": "2025-01-20T09:05:29.429Z"
   },
   {
    "duration": 3,
    "start_time": "2025-01-20T09:05:29.617Z"
   },
   {
    "duration": 7,
    "start_time": "2025-01-20T09:05:29.623Z"
   },
   {
    "duration": 7,
    "start_time": "2025-01-20T09:05:29.632Z"
   },
   {
    "duration": 10,
    "start_time": "2025-01-20T09:05:29.640Z"
   },
   {
    "duration": 4,
    "start_time": "2025-01-20T09:05:29.652Z"
   },
   {
    "duration": 4,
    "start_time": "2025-01-20T09:05:29.658Z"
   },
   {
    "duration": 4,
    "start_time": "2025-01-20T09:05:29.664Z"
   },
   {
    "duration": 3,
    "start_time": "2025-01-20T09:05:29.709Z"
   },
   {
    "duration": 105,
    "start_time": "2025-01-20T09:05:29.714Z"
   },
   {
    "duration": 3,
    "start_time": "2025-01-20T09:05:29.821Z"
   },
   {
    "duration": 96,
    "start_time": "2025-01-20T09:05:29.826Z"
   },
   {
    "duration": 3,
    "start_time": "2025-01-20T09:05:29.924Z"
   },
   {
    "duration": 168,
    "start_time": "2025-01-20T09:05:29.932Z"
   },
   {
    "duration": 7,
    "start_time": "2025-01-20T09:05:30.102Z"
   },
   {
    "duration": 512,
    "start_time": "2025-01-20T09:05:30.111Z"
   },
   {
    "duration": 13,
    "start_time": "2025-01-20T09:05:30.625Z"
   },
   {
    "duration": 176,
    "start_time": "2025-01-20T09:05:30.639Z"
   },
   {
    "duration": 14,
    "start_time": "2025-01-20T09:05:30.816Z"
   },
   {
    "duration": 9,
    "start_time": "2025-01-20T09:05:30.831Z"
   },
   {
    "duration": 4,
    "start_time": "2025-01-20T09:05:30.842Z"
   },
   {
    "duration": 5,
    "start_time": "2025-01-20T09:05:30.847Z"
   },
   {
    "duration": 5,
    "start_time": "2025-01-20T09:05:30.853Z"
   },
   {
    "duration": 9,
    "start_time": "2025-01-20T09:05:30.860Z"
   },
   {
    "duration": 3,
    "start_time": "2025-01-20T09:05:30.870Z"
   },
   {
    "duration": 36,
    "start_time": "2025-01-20T09:05:30.874Z"
   },
   {
    "duration": 417,
    "start_time": "2025-01-20T09:05:35.914Z"
   },
   {
    "duration": 171,
    "start_time": "2025-01-20T09:07:27.464Z"
   },
   {
    "duration": 6937,
    "start_time": "2025-01-20T09:09:41.445Z"
   },
   {
    "duration": 446,
    "start_time": "2025-01-20T09:12:21.376Z"
   },
   {
    "duration": 503,
    "start_time": "2025-01-20T09:12:36.005Z"
   },
   {
    "duration": 443,
    "start_time": "2025-01-20T09:15:41.077Z"
   },
   {
    "duration": 552,
    "start_time": "2025-01-20T09:16:17.173Z"
   },
   {
    "duration": 14232,
    "start_time": "2025-01-20T09:17:24.549Z"
   },
   {
    "duration": 14152,
    "start_time": "2025-01-20T09:17:52.730Z"
   },
   {
    "duration": 14186,
    "start_time": "2025-01-20T09:21:44.077Z"
   },
   {
    "duration": 2411,
    "start_time": "2025-01-20T09:23:53.817Z"
   },
   {
    "duration": 2414,
    "start_time": "2025-01-20T09:24:13.732Z"
   },
   {
    "duration": 2450,
    "start_time": "2025-01-20T10:06:11.857Z"
   },
   {
    "duration": 214,
    "start_time": "2025-01-20T10:06:14.309Z"
   },
   {
    "duration": 624,
    "start_time": "2025-01-20T10:06:14.524Z"
   },
   {
    "duration": 60,
    "start_time": "2025-01-20T10:06:15.150Z"
   },
   {
    "duration": 7,
    "start_time": "2025-01-20T10:06:15.212Z"
   },
   {
    "duration": 19,
    "start_time": "2025-01-20T10:06:15.221Z"
   },
   {
    "duration": 3,
    "start_time": "2025-01-20T10:06:15.242Z"
   },
   {
    "duration": 161,
    "start_time": "2025-01-20T10:06:15.246Z"
   },
   {
    "duration": 5,
    "start_time": "2025-01-20T10:06:15.409Z"
   },
   {
    "duration": 2,
    "start_time": "2025-01-20T10:06:15.417Z"
   },
   {
    "duration": 3,
    "start_time": "2025-01-20T10:06:15.420Z"
   },
   {
    "duration": 3,
    "start_time": "2025-01-20T10:06:15.425Z"
   },
   {
    "duration": 3,
    "start_time": "2025-01-20T10:06:15.431Z"
   },
   {
    "duration": 5,
    "start_time": "2025-01-20T10:06:15.435Z"
   },
   {
    "duration": 4,
    "start_time": "2025-01-20T10:06:15.441Z"
   },
   {
    "duration": 4,
    "start_time": "2025-01-20T10:06:15.446Z"
   },
   {
    "duration": 203,
    "start_time": "2025-01-20T10:06:15.451Z"
   },
   {
    "duration": 4,
    "start_time": "2025-01-20T10:06:15.656Z"
   },
   {
    "duration": 7,
    "start_time": "2025-01-20T10:06:15.662Z"
   },
   {
    "duration": 6,
    "start_time": "2025-01-20T10:06:15.671Z"
   },
   {
    "duration": 34,
    "start_time": "2025-01-20T10:06:15.679Z"
   },
   {
    "duration": 4,
    "start_time": "2025-01-20T10:06:15.715Z"
   },
   {
    "duration": 4,
    "start_time": "2025-01-20T10:06:15.721Z"
   },
   {
    "duration": 5,
    "start_time": "2025-01-20T10:06:15.726Z"
   },
   {
    "duration": 3,
    "start_time": "2025-01-20T10:06:15.732Z"
   },
   {
    "duration": 124,
    "start_time": "2025-01-20T10:06:15.737Z"
   },
   {
    "duration": 3,
    "start_time": "2025-01-20T10:06:15.862Z"
   },
   {
    "duration": 101,
    "start_time": "2025-01-20T10:06:15.870Z"
   },
   {
    "duration": 3,
    "start_time": "2025-01-20T10:06:15.973Z"
   },
   {
    "duration": 101,
    "start_time": "2025-01-20T10:06:15.977Z"
   },
   {
    "duration": 3,
    "start_time": "2025-01-20T10:06:16.079Z"
   },
   {
    "duration": 439,
    "start_time": "2025-01-20T10:06:16.083Z"
   },
   {
    "duration": 13,
    "start_time": "2025-01-20T10:06:16.525Z"
   },
   {
    "duration": 175,
    "start_time": "2025-01-20T10:06:16.539Z"
   },
   {
    "duration": 12,
    "start_time": "2025-01-20T10:06:16.716Z"
   },
   {
    "duration": 13,
    "start_time": "2025-01-20T10:06:16.730Z"
   },
   {
    "duration": 5,
    "start_time": "2025-01-20T10:06:16.745Z"
   },
   {
    "duration": 6,
    "start_time": "2025-01-20T10:06:16.751Z"
   },
   {
    "duration": 12,
    "start_time": "2025-01-20T10:06:16.759Z"
   },
   {
    "duration": 37,
    "start_time": "2025-01-20T10:06:16.772Z"
   },
   {
    "duration": 2,
    "start_time": "2025-01-20T10:06:16.811Z"
   },
   {
    "duration": 513,
    "start_time": "2025-01-20T10:06:16.815Z"
   },
   {
    "duration": 766,
    "start_time": "2025-01-20T10:06:17.331Z"
   },
   {
    "duration": 0,
    "start_time": "2025-01-20T10:06:18.098Z"
   },
   {
    "duration": 2411,
    "start_time": "2025-01-20T10:06:51.650Z"
   },
   {
    "duration": 2556,
    "start_time": "2025-01-20T10:07:07.345Z"
   },
   {
    "duration": 14281,
    "start_time": "2025-01-20T10:07:29.628Z"
   },
   {
    "duration": 795,
    "start_time": "2025-01-20T10:18:50.515Z"
   },
   {
    "duration": 202,
    "start_time": "2025-01-20T10:18:51.312Z"
   },
   {
    "duration": 512,
    "start_time": "2025-01-20T10:18:51.516Z"
   },
   {
    "duration": 49,
    "start_time": "2025-01-20T10:18:52.031Z"
   },
   {
    "duration": 26,
    "start_time": "2025-01-20T10:18:52.083Z"
   },
   {
    "duration": 19,
    "start_time": "2025-01-20T10:18:52.111Z"
   },
   {
    "duration": 3,
    "start_time": "2025-01-20T10:18:52.132Z"
   },
   {
    "duration": 150,
    "start_time": "2025-01-20T10:18:52.137Z"
   },
   {
    "duration": 4,
    "start_time": "2025-01-20T10:18:52.289Z"
   },
   {
    "duration": 13,
    "start_time": "2025-01-20T10:18:52.296Z"
   },
   {
    "duration": 3,
    "start_time": "2025-01-20T10:18:52.310Z"
   },
   {
    "duration": 3,
    "start_time": "2025-01-20T10:18:52.314Z"
   },
   {
    "duration": 3,
    "start_time": "2025-01-20T10:18:52.319Z"
   },
   {
    "duration": 4,
    "start_time": "2025-01-20T10:18:52.324Z"
   },
   {
    "duration": 3,
    "start_time": "2025-01-20T10:18:52.330Z"
   },
   {
    "duration": 3,
    "start_time": "2025-01-20T10:18:52.335Z"
   },
   {
    "duration": 193,
    "start_time": "2025-01-20T10:18:52.340Z"
   },
   {
    "duration": 4,
    "start_time": "2025-01-20T10:18:52.535Z"
   },
   {
    "duration": 8,
    "start_time": "2025-01-20T10:18:52.541Z"
   },
   {
    "duration": 8,
    "start_time": "2025-01-20T10:18:52.552Z"
   },
   {
    "duration": 10,
    "start_time": "2025-01-20T10:18:52.561Z"
   },
   {
    "duration": 36,
    "start_time": "2025-01-20T10:18:52.573Z"
   },
   {
    "duration": 4,
    "start_time": "2025-01-20T10:18:52.610Z"
   },
   {
    "duration": 4,
    "start_time": "2025-01-20T10:18:52.616Z"
   },
   {
    "duration": 3,
    "start_time": "2025-01-20T10:18:52.622Z"
   },
   {
    "duration": 113,
    "start_time": "2025-01-20T10:18:52.627Z"
   },
   {
    "duration": 3,
    "start_time": "2025-01-20T10:18:52.741Z"
   },
   {
    "duration": 95,
    "start_time": "2025-01-20T10:18:52.748Z"
   },
   {
    "duration": 3,
    "start_time": "2025-01-20T10:18:52.845Z"
   },
   {
    "duration": 102,
    "start_time": "2025-01-20T10:18:52.850Z"
   },
   {
    "duration": 3,
    "start_time": "2025-01-20T10:18:52.954Z"
   },
   {
    "duration": 455,
    "start_time": "2025-01-20T10:18:52.959Z"
   },
   {
    "duration": 14,
    "start_time": "2025-01-20T10:18:53.416Z"
   },
   {
    "duration": 173,
    "start_time": "2025-01-20T10:18:53.431Z"
   },
   {
    "duration": 14,
    "start_time": "2025-01-20T10:18:53.609Z"
   },
   {
    "duration": 14,
    "start_time": "2025-01-20T10:18:53.624Z"
   },
   {
    "duration": 5,
    "start_time": "2025-01-20T10:18:53.639Z"
   },
   {
    "duration": 6,
    "start_time": "2025-01-20T10:18:53.646Z"
   },
   {
    "duration": 11,
    "start_time": "2025-01-20T10:18:53.654Z"
   },
   {
    "duration": 2,
    "start_time": "2025-01-20T10:18:53.667Z"
   },
   {
    "duration": 40,
    "start_time": "2025-01-20T10:18:53.671Z"
   },
   {
    "duration": 301,
    "start_time": "2025-01-20T10:18:53.712Z"
   },
   {
    "duration": 2494,
    "start_time": "2025-01-20T10:18:54.015Z"
   },
   {
    "duration": 14209,
    "start_time": "2025-01-20T10:18:56.511Z"
   },
   {
    "duration": 2927,
    "start_time": "2025-01-20T17:59:18.720Z"
   },
   {
    "duration": 163,
    "start_time": "2025-01-20T17:59:21.650Z"
   },
   {
    "duration": 611,
    "start_time": "2025-01-20T17:59:21.815Z"
   },
   {
    "duration": 55,
    "start_time": "2025-01-20T17:59:22.429Z"
   },
   {
    "duration": 9,
    "start_time": "2025-01-20T17:59:22.486Z"
   },
   {
    "duration": 20,
    "start_time": "2025-01-20T17:59:22.509Z"
   },
   {
    "duration": 3,
    "start_time": "2025-01-20T17:59:22.531Z"
   },
   {
    "duration": 151,
    "start_time": "2025-01-20T17:59:22.536Z"
   },
   {
    "duration": 4,
    "start_time": "2025-01-20T17:59:22.689Z"
   },
   {
    "duration": 2,
    "start_time": "2025-01-20T17:59:22.709Z"
   },
   {
    "duration": 2,
    "start_time": "2025-01-20T17:59:22.713Z"
   },
   {
    "duration": 2,
    "start_time": "2025-01-20T17:59:22.717Z"
   },
   {
    "duration": 3,
    "start_time": "2025-01-20T17:59:22.721Z"
   },
   {
    "duration": 5,
    "start_time": "2025-01-20T17:59:22.726Z"
   },
   {
    "duration": 4,
    "start_time": "2025-01-20T17:59:22.733Z"
   },
   {
    "duration": 4,
    "start_time": "2025-01-20T17:59:22.738Z"
   },
   {
    "duration": 199,
    "start_time": "2025-01-20T17:59:22.743Z"
   },
   {
    "duration": 4,
    "start_time": "2025-01-20T17:59:22.944Z"
   },
   {
    "duration": 8,
    "start_time": "2025-01-20T17:59:22.950Z"
   },
   {
    "duration": 7,
    "start_time": "2025-01-20T17:59:22.960Z"
   },
   {
    "duration": 13,
    "start_time": "2025-01-20T17:59:22.968Z"
   },
   {
    "duration": 30,
    "start_time": "2025-01-20T17:59:22.983Z"
   },
   {
    "duration": 7,
    "start_time": "2025-01-20T17:59:23.015Z"
   },
   {
    "duration": 4,
    "start_time": "2025-01-20T17:59:23.025Z"
   },
   {
    "duration": 3,
    "start_time": "2025-01-20T17:59:23.031Z"
   },
   {
    "duration": 122,
    "start_time": "2025-01-20T17:59:23.036Z"
   },
   {
    "duration": 3,
    "start_time": "2025-01-20T17:59:23.160Z"
   },
   {
    "duration": 155,
    "start_time": "2025-01-20T17:59:23.168Z"
   },
   {
    "duration": 3,
    "start_time": "2025-01-20T17:59:23.324Z"
   },
   {
    "duration": 105,
    "start_time": "2025-01-20T17:59:23.329Z"
   },
   {
    "duration": 3,
    "start_time": "2025-01-20T17:59:23.436Z"
   },
   {
    "duration": 475,
    "start_time": "2025-01-20T17:59:23.440Z"
   },
   {
    "duration": 13,
    "start_time": "2025-01-20T17:59:23.917Z"
   },
   {
    "duration": 191,
    "start_time": "2025-01-20T17:59:23.933Z"
   },
   {
    "duration": 14,
    "start_time": "2025-01-20T17:59:24.126Z"
   },
   {
    "duration": 13,
    "start_time": "2025-01-20T17:59:24.142Z"
   },
   {
    "duration": 5,
    "start_time": "2025-01-20T17:59:24.157Z"
   },
   {
    "duration": 9,
    "start_time": "2025-01-20T17:59:24.163Z"
   },
   {
    "duration": 40,
    "start_time": "2025-01-20T17:59:24.174Z"
   },
   {
    "duration": 3,
    "start_time": "2025-01-20T17:59:24.216Z"
   },
   {
    "duration": 5,
    "start_time": "2025-01-20T17:59:24.220Z"
   },
   {
    "duration": 601,
    "start_time": "2025-01-20T17:59:24.226Z"
   },
   {
    "duration": 2553,
    "start_time": "2025-01-20T17:59:24.830Z"
   },
   {
    "duration": 14433,
    "start_time": "2025-01-20T17:59:27.385Z"
   },
   {
    "duration": 796,
    "start_time": "2025-01-20T19:00:22.806Z"
   },
   {
    "duration": 207,
    "start_time": "2025-01-20T19:00:23.604Z"
   },
   {
    "duration": 513,
    "start_time": "2025-01-20T19:00:23.813Z"
   },
   {
    "duration": 51,
    "start_time": "2025-01-20T19:00:24.328Z"
   },
   {
    "duration": 9,
    "start_time": "2025-01-20T19:00:24.381Z"
   },
   {
    "duration": 37,
    "start_time": "2025-01-20T19:00:24.391Z"
   },
   {
    "duration": 3,
    "start_time": "2025-01-20T19:00:24.429Z"
   },
   {
    "duration": 147,
    "start_time": "2025-01-20T19:00:24.434Z"
   },
   {
    "duration": 4,
    "start_time": "2025-01-20T19:00:24.583Z"
   },
   {
    "duration": 3,
    "start_time": "2025-01-20T19:00:24.590Z"
   },
   {
    "duration": 2,
    "start_time": "2025-01-20T19:00:24.610Z"
   },
   {
    "duration": 2,
    "start_time": "2025-01-20T19:00:24.614Z"
   },
   {
    "duration": 4,
    "start_time": "2025-01-20T19:00:24.617Z"
   },
   {
    "duration": 4,
    "start_time": "2025-01-20T19:00:24.624Z"
   },
   {
    "duration": 4,
    "start_time": "2025-01-20T19:00:24.629Z"
   },
   {
    "duration": 3,
    "start_time": "2025-01-20T19:00:24.634Z"
   },
   {
    "duration": 208,
    "start_time": "2025-01-20T19:00:24.638Z"
   },
   {
    "duration": 3,
    "start_time": "2025-01-20T19:00:24.848Z"
   },
   {
    "duration": 8,
    "start_time": "2025-01-20T19:00:24.853Z"
   },
   {
    "duration": 7,
    "start_time": "2025-01-20T19:00:24.862Z"
   },
   {
    "duration": 10,
    "start_time": "2025-01-20T19:00:24.870Z"
   },
   {
    "duration": 29,
    "start_time": "2025-01-20T19:00:24.882Z"
   },
   {
    "duration": 4,
    "start_time": "2025-01-20T19:00:24.913Z"
   },
   {
    "duration": 4,
    "start_time": "2025-01-20T19:00:24.919Z"
   },
   {
    "duration": 4,
    "start_time": "2025-01-20T19:00:24.924Z"
   },
   {
    "duration": 118,
    "start_time": "2025-01-20T19:00:24.929Z"
   },
   {
    "duration": 3,
    "start_time": "2025-01-20T19:00:25.049Z"
   },
   {
    "duration": 99,
    "start_time": "2025-01-20T19:00:25.056Z"
   },
   {
    "duration": 3,
    "start_time": "2025-01-20T19:00:25.157Z"
   },
   {
    "duration": 104,
    "start_time": "2025-01-20T19:00:25.162Z"
   },
   {
    "duration": 5,
    "start_time": "2025-01-20T19:00:25.267Z"
   },
   {
    "duration": 451,
    "start_time": "2025-01-20T19:00:25.274Z"
   },
   {
    "duration": 14,
    "start_time": "2025-01-20T19:00:25.727Z"
   },
   {
    "duration": 180,
    "start_time": "2025-01-20T19:00:25.743Z"
   },
   {
    "duration": 13,
    "start_time": "2025-01-20T19:00:25.925Z"
   },
   {
    "duration": 13,
    "start_time": "2025-01-20T19:00:25.940Z"
   },
   {
    "duration": 5,
    "start_time": "2025-01-20T19:00:25.955Z"
   },
   {
    "duration": 6,
    "start_time": "2025-01-20T19:00:25.962Z"
   },
   {
    "duration": 44,
    "start_time": "2025-01-20T19:00:25.970Z"
   },
   {
    "duration": 2,
    "start_time": "2025-01-20T19:00:26.016Z"
   },
   {
    "duration": 3,
    "start_time": "2025-01-20T19:00:26.020Z"
   },
   {
    "duration": 506,
    "start_time": "2025-01-20T19:00:26.026Z"
   },
   {
    "duration": 2518,
    "start_time": "2025-01-20T19:00:26.610Z"
   },
   {
    "duration": 14257,
    "start_time": "2025-01-20T19:00:29.130Z"
   },
   {
    "duration": 2447,
    "start_time": "2025-01-20T19:15:22.511Z"
   },
   {
    "duration": 14280,
    "start_time": "2025-01-20T19:15:59.367Z"
   },
   {
    "duration": 2533,
    "start_time": "2025-01-20T21:58:49.397Z"
   },
   {
    "duration": 163,
    "start_time": "2025-01-20T21:58:51.932Z"
   },
   {
    "duration": 613,
    "start_time": "2025-01-20T21:58:52.097Z"
   },
   {
    "duration": 51,
    "start_time": "2025-01-20T21:58:52.712Z"
   },
   {
    "duration": 9,
    "start_time": "2025-01-20T21:58:52.765Z"
   },
   {
    "duration": 39,
    "start_time": "2025-01-20T21:58:52.776Z"
   },
   {
    "duration": 4,
    "start_time": "2025-01-20T21:58:52.818Z"
   },
   {
    "duration": 144,
    "start_time": "2025-01-20T21:58:52.824Z"
   },
   {
    "duration": 4,
    "start_time": "2025-01-20T21:58:52.970Z"
   },
   {
    "duration": 2,
    "start_time": "2025-01-20T21:58:52.977Z"
   },
   {
    "duration": 3,
    "start_time": "2025-01-20T21:58:52.981Z"
   },
   {
    "duration": 3,
    "start_time": "2025-01-20T21:58:52.985Z"
   },
   {
    "duration": 22,
    "start_time": "2025-01-20T21:58:52.989Z"
   },
   {
    "duration": 5,
    "start_time": "2025-01-20T21:58:53.013Z"
   },
   {
    "duration": 3,
    "start_time": "2025-01-20T21:58:53.020Z"
   },
   {
    "duration": 3,
    "start_time": "2025-01-20T21:58:53.025Z"
   },
   {
    "duration": 196,
    "start_time": "2025-01-20T21:58:53.029Z"
   },
   {
    "duration": 3,
    "start_time": "2025-01-20T21:58:53.227Z"
   },
   {
    "duration": 4,
    "start_time": "2025-01-20T21:58:53.231Z"
   },
   {
    "duration": 8,
    "start_time": "2025-01-20T21:58:53.237Z"
   },
   {
    "duration": 6,
    "start_time": "2025-01-20T21:58:53.247Z"
   },
   {
    "duration": 9,
    "start_time": "2025-01-20T21:58:53.255Z"
   },
   {
    "duration": 4,
    "start_time": "2025-01-20T21:58:53.266Z"
   },
   {
    "duration": 4,
    "start_time": "2025-01-20T21:58:53.309Z"
   },
   {
    "duration": 4,
    "start_time": "2025-01-20T21:58:53.314Z"
   },
   {
    "duration": 3,
    "start_time": "2025-01-20T21:58:53.320Z"
   },
   {
    "duration": 114,
    "start_time": "2025-01-20T21:58:53.325Z"
   },
   {
    "duration": 3,
    "start_time": "2025-01-20T21:58:53.443Z"
   },
   {
    "duration": 150,
    "start_time": "2025-01-20T21:58:53.448Z"
   },
   {
    "duration": 2,
    "start_time": "2025-01-20T21:58:53.600Z"
   },
   {
    "duration": 104,
    "start_time": "2025-01-20T21:58:53.610Z"
   },
   {
    "duration": 3,
    "start_time": "2025-01-20T21:58:53.716Z"
   },
   {
    "duration": 498,
    "start_time": "2025-01-20T21:58:53.720Z"
   },
   {
    "duration": 13,
    "start_time": "2025-01-20T21:58:54.220Z"
   },
   {
    "duration": 177,
    "start_time": "2025-01-20T21:58:54.234Z"
   },
   {
    "duration": 13,
    "start_time": "2025-01-20T21:58:54.413Z"
   },
   {
    "duration": 13,
    "start_time": "2025-01-20T21:58:54.427Z"
   },
   {
    "duration": 4,
    "start_time": "2025-01-20T21:58:54.442Z"
   },
   {
    "duration": 6,
    "start_time": "2025-01-20T21:58:54.448Z"
   },
   {
    "duration": 11,
    "start_time": "2025-01-20T21:58:54.456Z"
   },
   {
    "duration": 3,
    "start_time": "2025-01-20T21:58:54.469Z"
   },
   {
    "duration": 37,
    "start_time": "2025-01-20T21:58:54.473Z"
   },
   {
    "duration": 804,
    "start_time": "2025-01-20T21:58:54.512Z"
   },
   {
    "duration": 2531,
    "start_time": "2025-01-20T21:58:55.317Z"
   },
   {
    "duration": 14259,
    "start_time": "2025-01-20T21:58:57.850Z"
   },
   {
    "duration": 3,
    "start_time": "2025-01-20T22:23:54.527Z"
   },
   {
    "duration": 2,
    "start_time": "2025-01-20T22:51:55.484Z"
   },
   {
    "duration": 3,
    "start_time": "2025-01-20T22:51:56.407Z"
   },
   {
    "duration": 3,
    "start_time": "2025-01-20T22:51:57.336Z"
   },
   {
    "duration": 2,
    "start_time": "2025-01-20T22:51:58.243Z"
   },
   {
    "duration": 4,
    "start_time": "2025-01-20T22:51:59.315Z"
   },
   {
    "duration": 3,
    "start_time": "2025-01-20T22:53:07.122Z"
   },
   {
    "duration": 3,
    "start_time": "2025-01-20T22:53:08.133Z"
   },
   {
    "duration": 2,
    "start_time": "2025-01-20T22:53:10.539Z"
   },
   {
    "duration": 3,
    "start_time": "2025-01-20T22:53:17.596Z"
   },
   {
    "duration": 4,
    "start_time": "2025-01-20T22:53:23.119Z"
   },
   {
    "duration": 3,
    "start_time": "2025-01-20T23:08:28.739Z"
   },
   {
    "duration": 3,
    "start_time": "2025-01-20T23:08:32.709Z"
   },
   {
    "duration": 236,
    "start_time": "2025-01-20T23:12:26.611Z"
   },
   {
    "duration": 20,
    "start_time": "2025-01-20T23:15:22.227Z"
   },
   {
    "duration": 21,
    "start_time": "2025-01-20T23:16:13.002Z"
   },
   {
    "duration": 867,
    "start_time": "2025-01-20T23:17:14.331Z"
   },
   {
    "duration": 203,
    "start_time": "2025-01-20T23:17:15.200Z"
   },
   {
    "duration": 525,
    "start_time": "2025-01-20T23:17:15.405Z"
   },
   {
    "duration": 56,
    "start_time": "2025-01-20T23:17:15.934Z"
   },
   {
    "duration": 10,
    "start_time": "2025-01-20T23:17:16.008Z"
   },
   {
    "duration": 20,
    "start_time": "2025-01-20T23:17:16.019Z"
   },
   {
    "duration": 3,
    "start_time": "2025-01-20T23:17:16.041Z"
   },
   {
    "duration": 153,
    "start_time": "2025-01-20T23:17:16.046Z"
   },
   {
    "duration": 8,
    "start_time": "2025-01-20T23:17:16.201Z"
   },
   {
    "duration": 3,
    "start_time": "2025-01-20T23:17:16.210Z"
   },
   {
    "duration": 3,
    "start_time": "2025-01-20T23:17:16.214Z"
   },
   {
    "duration": 4,
    "start_time": "2025-01-20T23:17:16.218Z"
   },
   {
    "duration": 3,
    "start_time": "2025-01-20T23:17:16.223Z"
   },
   {
    "duration": 3,
    "start_time": "2025-01-20T23:17:16.230Z"
   },
   {
    "duration": 3,
    "start_time": "2025-01-20T23:17:16.234Z"
   },
   {
    "duration": 194,
    "start_time": "2025-01-20T23:17:16.239Z"
   },
   {
    "duration": 244,
    "start_time": "2025-01-20T23:17:16.435Z"
   },
   {
    "duration": 0,
    "start_time": "2025-01-20T23:17:16.682Z"
   },
   {
    "duration": 0,
    "start_time": "2025-01-20T23:17:16.683Z"
   },
   {
    "duration": 0,
    "start_time": "2025-01-20T23:17:16.685Z"
   },
   {
    "duration": 0,
    "start_time": "2025-01-20T23:17:16.686Z"
   },
   {
    "duration": 0,
    "start_time": "2025-01-20T23:17:16.687Z"
   },
   {
    "duration": 0,
    "start_time": "2025-01-20T23:17:16.689Z"
   },
   {
    "duration": 0,
    "start_time": "2025-01-20T23:17:16.690Z"
   },
   {
    "duration": 0,
    "start_time": "2025-01-20T23:17:16.691Z"
   },
   {
    "duration": 0,
    "start_time": "2025-01-20T23:17:16.709Z"
   },
   {
    "duration": 0,
    "start_time": "2025-01-20T23:17:16.710Z"
   },
   {
    "duration": 0,
    "start_time": "2025-01-20T23:17:16.711Z"
   },
   {
    "duration": 0,
    "start_time": "2025-01-20T23:17:16.712Z"
   },
   {
    "duration": 0,
    "start_time": "2025-01-20T23:17:16.713Z"
   },
   {
    "duration": 0,
    "start_time": "2025-01-20T23:17:16.714Z"
   },
   {
    "duration": 0,
    "start_time": "2025-01-20T23:17:16.715Z"
   },
   {
    "duration": 0,
    "start_time": "2025-01-20T23:17:16.717Z"
   },
   {
    "duration": 0,
    "start_time": "2025-01-20T23:17:16.718Z"
   },
   {
    "duration": 0,
    "start_time": "2025-01-20T23:17:16.718Z"
   },
   {
    "duration": 0,
    "start_time": "2025-01-20T23:17:16.719Z"
   },
   {
    "duration": 0,
    "start_time": "2025-01-20T23:17:16.721Z"
   },
   {
    "duration": 0,
    "start_time": "2025-01-20T23:17:16.722Z"
   },
   {
    "duration": 0,
    "start_time": "2025-01-20T23:17:16.722Z"
   },
   {
    "duration": 0,
    "start_time": "2025-01-20T23:17:16.723Z"
   },
   {
    "duration": 0,
    "start_time": "2025-01-20T23:17:16.724Z"
   },
   {
    "duration": 0,
    "start_time": "2025-01-20T23:17:16.725Z"
   },
   {
    "duration": 0,
    "start_time": "2025-01-20T23:17:16.726Z"
   },
   {
    "duration": 11,
    "start_time": "2025-01-20T23:22:06.754Z"
   },
   {
    "duration": 8,
    "start_time": "2025-01-20T23:22:18.032Z"
   },
   {
    "duration": 7,
    "start_time": "2025-01-20T23:22:22.616Z"
   },
   {
    "duration": 10,
    "start_time": "2025-01-20T23:23:06.619Z"
   },
   {
    "duration": 3,
    "start_time": "2025-01-20T23:25:49.716Z"
   },
   {
    "duration": 2,
    "start_time": "2025-01-20T23:25:49.723Z"
   },
   {
    "duration": 515,
    "start_time": "2025-01-20T23:25:49.727Z"
   },
   {
    "duration": 47,
    "start_time": "2025-01-20T23:25:50.244Z"
   },
   {
    "duration": 20,
    "start_time": "2025-01-20T23:25:50.293Z"
   },
   {
    "duration": 20,
    "start_time": "2025-01-20T23:25:50.316Z"
   },
   {
    "duration": 3,
    "start_time": "2025-01-20T23:25:50.338Z"
   },
   {
    "duration": 154,
    "start_time": "2025-01-20T23:25:50.343Z"
   },
   {
    "duration": 4,
    "start_time": "2025-01-20T23:25:50.499Z"
   },
   {
    "duration": 11,
    "start_time": "2025-01-20T23:25:50.504Z"
   },
   {
    "duration": 2,
    "start_time": "2025-01-20T23:25:50.516Z"
   },
   {
    "duration": 2,
    "start_time": "2025-01-20T23:25:50.520Z"
   },
   {
    "duration": 3,
    "start_time": "2025-01-20T23:25:50.524Z"
   },
   {
    "duration": 5,
    "start_time": "2025-01-20T23:25:50.530Z"
   },
   {
    "duration": 3,
    "start_time": "2025-01-20T23:25:50.536Z"
   },
   {
    "duration": 184,
    "start_time": "2025-01-20T23:25:50.541Z"
   },
   {
    "duration": 10,
    "start_time": "2025-01-20T23:25:50.727Z"
   },
   {
    "duration": 7,
    "start_time": "2025-01-20T23:25:50.739Z"
   },
   {
    "duration": 7,
    "start_time": "2025-01-20T23:25:50.747Z"
   },
   {
    "duration": 9,
    "start_time": "2025-01-20T23:25:50.755Z"
   },
   {
    "duration": 6,
    "start_time": "2025-01-20T23:25:50.766Z"
   },
   {
    "duration": 38,
    "start_time": "2025-01-20T23:25:50.773Z"
   },
   {
    "duration": 4,
    "start_time": "2025-01-20T23:25:50.813Z"
   },
   {
    "duration": 3,
    "start_time": "2025-01-20T23:25:50.818Z"
   },
   {
    "duration": 111,
    "start_time": "2025-01-20T23:25:50.823Z"
   },
   {
    "duration": 3,
    "start_time": "2025-01-20T23:25:50.936Z"
   },
   {
    "duration": 98,
    "start_time": "2025-01-20T23:25:50.941Z"
   },
   {
    "duration": 4,
    "start_time": "2025-01-20T23:25:51.040Z"
   },
   {
    "duration": 106,
    "start_time": "2025-01-20T23:25:51.046Z"
   },
   {
    "duration": 5,
    "start_time": "2025-01-20T23:29:48.368Z"
   },
   {
    "duration": 4,
    "start_time": "2025-01-20T23:30:14.525Z"
   },
   {
    "duration": 4,
    "start_time": "2025-01-20T23:30:39.027Z"
   },
   {
    "duration": 4,
    "start_time": "2025-01-20T23:30:56.305Z"
   },
   {
    "duration": 3,
    "start_time": "2025-01-20T23:35:28.396Z"
   },
   {
    "duration": 661,
    "start_time": "2025-01-20T23:36:28.587Z"
   },
   {
    "duration": 115,
    "start_time": "2025-01-20T23:39:58.357Z"
   },
   {
    "duration": 4,
    "start_time": "2025-01-20T23:43:11.434Z"
   },
   {
    "duration": 3,
    "start_time": "2025-01-20T23:43:19.784Z"
   },
   {
    "duration": 171,
    "start_time": "2025-01-20T23:43:35.125Z"
   },
   {
    "duration": 195,
    "start_time": "2025-01-20T23:44:14.206Z"
   },
   {
    "duration": 8,
    "start_time": "2025-01-20T23:46:02.087Z"
   },
   {
    "duration": 230,
    "start_time": "2025-01-20T23:46:07.649Z"
   },
   {
    "duration": 235,
    "start_time": "2025-01-20T23:50:34.700Z"
   },
   {
    "duration": 238,
    "start_time": "2025-01-20T23:51:59.886Z"
   },
   {
    "duration": 348,
    "start_time": "2025-01-20T23:53:00.255Z"
   },
   {
    "duration": 4,
    "start_time": "2025-01-20T23:59:42.784Z"
   },
   {
    "duration": 253,
    "start_time": "2025-01-21T00:01:53.507Z"
   },
   {
    "duration": 5,
    "start_time": "2025-01-21T00:05:00.936Z"
   },
   {
    "duration": 242,
    "start_time": "2025-01-21T00:05:23.652Z"
   },
   {
    "duration": 5,
    "start_time": "2025-01-21T00:05:55.943Z"
   },
   {
    "duration": 484,
    "start_time": "2025-01-21T00:05:57.038Z"
   },
   {
    "duration": 2,
    "start_time": "2025-01-21T00:13:52.816Z"
   },
   {
    "duration": 504,
    "start_time": "2025-01-21T00:13:54.513Z"
   },
   {
    "duration": 3,
    "start_time": "2025-01-21T00:15:00.693Z"
   },
   {
    "duration": 411,
    "start_time": "2025-01-21T00:15:03.882Z"
   },
   {
    "duration": 373,
    "start_time": "2025-01-21T00:16:20.678Z"
   },
   {
    "duration": 211,
    "start_time": "2025-01-21T00:17:26.942Z"
   },
   {
    "duration": 5,
    "start_time": "2025-01-21T00:18:02.390Z"
   },
   {
    "duration": 3,
    "start_time": "2025-01-21T00:19:24.125Z"
   },
   {
    "duration": 44,
    "start_time": "2025-01-21T00:19:32.689Z"
   },
   {
    "duration": 15,
    "start_time": "2025-01-21T00:19:42.531Z"
   },
   {
    "duration": 37,
    "start_time": "2025-01-21T00:19:56.393Z"
   },
   {
    "duration": 37,
    "start_time": "2025-01-21T00:20:13.763Z"
   },
   {
    "duration": 7,
    "start_time": "2025-01-21T00:20:44.512Z"
   },
   {
    "duration": 422,
    "start_time": "2025-01-21T00:20:46.103Z"
   },
   {
    "duration": 4,
    "start_time": "2025-01-21T00:20:58.390Z"
   },
   {
    "duration": 80,
    "start_time": "2025-01-21T00:20:59.491Z"
   },
   {
    "duration": 786,
    "start_time": "2025-01-21T00:21:10.711Z"
   },
   {
    "duration": 203,
    "start_time": "2025-01-21T00:21:11.499Z"
   },
   {
    "duration": 530,
    "start_time": "2025-01-21T00:21:11.703Z"
   },
   {
    "duration": 50,
    "start_time": "2025-01-21T00:21:12.235Z"
   },
   {
    "duration": 9,
    "start_time": "2025-01-21T00:21:12.286Z"
   },
   {
    "duration": 20,
    "start_time": "2025-01-21T00:21:12.309Z"
   },
   {
    "duration": 3,
    "start_time": "2025-01-21T00:21:12.331Z"
   },
   {
    "duration": 159,
    "start_time": "2025-01-21T00:21:12.336Z"
   },
   {
    "duration": 14,
    "start_time": "2025-01-21T00:21:12.497Z"
   },
   {
    "duration": 2,
    "start_time": "2025-01-21T00:21:12.515Z"
   },
   {
    "duration": 3,
    "start_time": "2025-01-21T00:21:12.519Z"
   },
   {
    "duration": 3,
    "start_time": "2025-01-21T00:21:12.523Z"
   },
   {
    "duration": 3,
    "start_time": "2025-01-21T00:21:12.527Z"
   },
   {
    "duration": 4,
    "start_time": "2025-01-21T00:21:12.532Z"
   },
   {
    "duration": 3,
    "start_time": "2025-01-21T00:21:12.537Z"
   },
   {
    "duration": 197,
    "start_time": "2025-01-21T00:21:12.541Z"
   },
   {
    "duration": 10,
    "start_time": "2025-01-21T00:21:12.740Z"
   },
   {
    "duration": 7,
    "start_time": "2025-01-21T00:21:12.751Z"
   },
   {
    "duration": 6,
    "start_time": "2025-01-21T00:21:12.760Z"
   },
   {
    "duration": 10,
    "start_time": "2025-01-21T00:21:12.768Z"
   },
   {
    "duration": 5,
    "start_time": "2025-01-21T00:21:12.808Z"
   },
   {
    "duration": 271,
    "start_time": "2025-01-21T00:21:12.814Z"
   },
   {
    "duration": 248,
    "start_time": "2025-01-21T00:21:13.088Z"
   },
   {
    "duration": 276,
    "start_time": "2025-01-21T00:21:13.337Z"
   },
   {
    "duration": 7,
    "start_time": "2025-01-21T00:21:13.614Z"
   },
   {
    "duration": 837,
    "start_time": "2025-01-21T00:21:13.623Z"
   },
   {
    "duration": 0,
    "start_time": "2025-01-21T00:21:14.462Z"
   },
   {
    "duration": 0,
    "start_time": "2025-01-21T00:21:14.464Z"
   },
   {
    "duration": 0,
    "start_time": "2025-01-21T00:21:14.465Z"
   },
   {
    "duration": 0,
    "start_time": "2025-01-21T00:21:14.466Z"
   },
   {
    "duration": 0,
    "start_time": "2025-01-21T00:21:14.468Z"
   },
   {
    "duration": 0,
    "start_time": "2025-01-21T00:21:14.469Z"
   },
   {
    "duration": 0,
    "start_time": "2025-01-21T00:21:14.470Z"
   },
   {
    "duration": 0,
    "start_time": "2025-01-21T00:21:14.472Z"
   },
   {
    "duration": 0,
    "start_time": "2025-01-21T00:21:14.473Z"
   },
   {
    "duration": 0,
    "start_time": "2025-01-21T00:21:14.475Z"
   },
   {
    "duration": 0,
    "start_time": "2025-01-21T00:21:14.476Z"
   },
   {
    "duration": 0,
    "start_time": "2025-01-21T00:21:14.477Z"
   },
   {
    "duration": 2,
    "start_time": "2025-01-21T00:24:17.758Z"
   },
   {
    "duration": 474,
    "start_time": "2025-01-21T00:24:19.226Z"
   },
   {
    "duration": 228,
    "start_time": "2025-01-21T00:25:10.437Z"
   },
   {
    "duration": 4,
    "start_time": "2025-01-21T00:26:00.655Z"
   },
   {
    "duration": 3,
    "start_time": "2025-01-21T00:26:08.505Z"
   },
   {
    "duration": 4,
    "start_time": "2025-01-21T00:26:08.718Z"
   },
   {
    "duration": 418,
    "start_time": "2025-01-21T00:26:11.873Z"
   },
   {
    "duration": 4,
    "start_time": "2025-01-21T00:26:46.821Z"
   },
   {
    "duration": 413,
    "start_time": "2025-01-21T00:26:48.085Z"
   },
   {
    "duration": 4,
    "start_time": "2025-01-21T00:27:57.163Z"
   },
   {
    "duration": 492,
    "start_time": "2025-01-21T00:27:58.697Z"
   },
   {
    "duration": 577,
    "start_time": "2025-01-21T00:28:55.263Z"
   },
   {
    "duration": 385,
    "start_time": "2025-01-21T00:29:10.473Z"
   },
   {
    "duration": 3,
    "start_time": "2025-01-21T00:29:24.905Z"
   },
   {
    "duration": 3,
    "start_time": "2025-01-21T00:30:25.871Z"
   },
   {
    "duration": 421,
    "start_time": "2025-01-21T00:30:27.100Z"
   },
   {
    "duration": 3,
    "start_time": "2025-01-21T00:31:03.277Z"
   },
   {
    "duration": 622,
    "start_time": "2025-01-21T00:31:05.378Z"
   },
   {
    "duration": 715,
    "start_time": "2025-01-21T00:32:20.409Z"
   },
   {
    "duration": 3,
    "start_time": "2025-01-21T00:34:01.501Z"
   },
   {
    "duration": 726,
    "start_time": "2025-01-21T00:34:02.980Z"
   },
   {
    "duration": 5,
    "start_time": "2025-01-21T00:34:28.342Z"
   },
   {
    "duration": 663,
    "start_time": "2025-01-21T00:34:30.518Z"
   },
   {
    "duration": 14,
    "start_time": "2025-01-21T00:34:57.055Z"
   },
   {
    "duration": 163,
    "start_time": "2025-01-21T00:34:59.524Z"
   },
   {
    "duration": 145,
    "start_time": "2025-01-21T00:38:16.336Z"
   },
   {
    "duration": 9,
    "start_time": "2025-01-21T00:38:42.089Z"
   },
   {
    "duration": 249,
    "start_time": "2025-01-21T00:39:45.989Z"
   },
   {
    "duration": 281,
    "start_time": "2025-01-21T00:41:44.461Z"
   },
   {
    "duration": 181,
    "start_time": "2025-01-21T00:42:07.426Z"
   },
   {
    "duration": 118,
    "start_time": "2025-01-21T00:43:44.552Z"
   },
   {
    "duration": 8,
    "start_time": "2025-01-21T00:44:03.098Z"
   },
   {
    "duration": 3,
    "start_time": "2025-01-21T00:44:15.349Z"
   },
   {
    "duration": 327,
    "start_time": "2025-01-21T00:44:17.058Z"
   },
   {
    "duration": 404,
    "start_time": "2025-01-21T00:44:29.079Z"
   },
   {
    "duration": 3,
    "start_time": "2025-01-21T00:44:41.219Z"
   },
   {
    "duration": 49,
    "start_time": "2025-01-21T00:46:01.315Z"
   },
   {
    "duration": 287,
    "start_time": "2025-01-21T00:46:20.508Z"
   },
   {
    "duration": 4,
    "start_time": "2025-01-21T00:48:23.500Z"
   },
   {
    "duration": 290,
    "start_time": "2025-01-21T00:50:03.206Z"
   },
   {
    "duration": 177,
    "start_time": "2025-01-21T00:50:47.577Z"
   },
   {
    "duration": 176,
    "start_time": "2025-01-21T00:50:59.577Z"
   },
   {
    "duration": 177,
    "start_time": "2025-01-21T00:51:12.743Z"
   },
   {
    "duration": 5,
    "start_time": "2025-01-21T00:59:05.219Z"
   },
   {
    "duration": 4,
    "start_time": "2025-01-21T01:00:23.541Z"
   },
   {
    "duration": 24,
    "start_time": "2025-01-21T01:00:57.183Z"
   },
   {
    "duration": 432,
    "start_time": "2025-01-21T01:01:37.419Z"
   },
   {
    "duration": 5,
    "start_time": "2025-01-21T01:02:17.881Z"
   },
   {
    "duration": 18,
    "start_time": "2025-01-21T01:02:37.996Z"
   },
   {
    "duration": 15,
    "start_time": "2025-01-21T01:05:14.441Z"
   },
   {
    "duration": 4,
    "start_time": "2025-01-21T01:05:31.570Z"
   },
   {
    "duration": 20,
    "start_time": "2025-01-21T01:05:35.273Z"
   },
   {
    "duration": 3,
    "start_time": "2025-01-21T01:05:36.353Z"
   },
   {
    "duration": 2,
    "start_time": "2025-01-21T01:05:37.933Z"
   },
   {
    "duration": 53,
    "start_time": "2025-01-21T01:05:40.017Z"
   },
   {
    "duration": 6,
    "start_time": "2025-01-21T01:10:08.241Z"
   },
   {
    "duration": 6,
    "start_time": "2025-01-21T01:14:04.315Z"
   },
   {
    "duration": 10,
    "start_time": "2025-01-21T01:14:18.514Z"
   },
   {
    "duration": 5,
    "start_time": "2025-01-21T01:14:31.919Z"
   },
   {
    "duration": 6,
    "start_time": "2025-01-21T01:14:41.794Z"
   },
   {
    "duration": 5,
    "start_time": "2025-01-21T01:14:48.429Z"
   },
   {
    "duration": 810,
    "start_time": "2025-01-21T01:15:00.593Z"
   },
   {
    "duration": 192,
    "start_time": "2025-01-21T01:15:01.406Z"
   },
   {
    "duration": 502,
    "start_time": "2025-01-21T01:15:01.608Z"
   },
   {
    "duration": 62,
    "start_time": "2025-01-21T01:15:02.113Z"
   },
   {
    "duration": 8,
    "start_time": "2025-01-21T01:15:02.177Z"
   },
   {
    "duration": 41,
    "start_time": "2025-01-21T01:15:02.187Z"
   },
   {
    "duration": 4,
    "start_time": "2025-01-21T01:15:02.230Z"
   },
   {
    "duration": 144,
    "start_time": "2025-01-21T01:15:02.236Z"
   },
   {
    "duration": 5,
    "start_time": "2025-01-21T01:15:02.381Z"
   },
   {
    "duration": 2,
    "start_time": "2025-01-21T01:15:02.389Z"
   },
   {
    "duration": 16,
    "start_time": "2025-01-21T01:15:02.393Z"
   },
   {
    "duration": 2,
    "start_time": "2025-01-21T01:15:02.412Z"
   },
   {
    "duration": 4,
    "start_time": "2025-01-21T01:15:02.416Z"
   },
   {
    "duration": 6,
    "start_time": "2025-01-21T01:15:02.421Z"
   },
   {
    "duration": 3,
    "start_time": "2025-01-21T01:15:02.429Z"
   },
   {
    "duration": 7,
    "start_time": "2025-01-21T01:15:02.434Z"
   },
   {
    "duration": 3,
    "start_time": "2025-01-21T01:15:02.443Z"
   },
   {
    "duration": 191,
    "start_time": "2025-01-21T01:15:02.447Z"
   },
   {
    "duration": 10,
    "start_time": "2025-01-21T01:15:02.640Z"
   },
   {
    "duration": 7,
    "start_time": "2025-01-21T01:15:02.651Z"
   },
   {
    "duration": 6,
    "start_time": "2025-01-21T01:15:02.659Z"
   },
   {
    "duration": 9,
    "start_time": "2025-01-21T01:15:02.667Z"
   },
   {
    "duration": 33,
    "start_time": "2025-01-21T01:15:02.678Z"
   },
   {
    "duration": 255,
    "start_time": "2025-01-21T01:15:02.713Z"
   },
   {
    "duration": 245,
    "start_time": "2025-01-21T01:15:02.970Z"
   },
   {
    "duration": 261,
    "start_time": "2025-01-21T01:15:03.217Z"
   },
   {
    "duration": 3,
    "start_time": "2025-01-21T01:15:03.480Z"
   },
   {
    "duration": 515,
    "start_time": "2025-01-21T01:15:03.487Z"
   },
   {
    "duration": 6,
    "start_time": "2025-01-21T01:15:04.004Z"
   },
   {
    "duration": 778,
    "start_time": "2025-01-21T01:15:04.011Z"
   },
   {
    "duration": 4,
    "start_time": "2025-01-21T01:15:04.791Z"
   },
   {
    "duration": 257,
    "start_time": "2025-01-21T01:15:04.797Z"
   },
   {
    "duration": 4,
    "start_time": "2025-01-21T01:15:05.055Z"
   },
   {
    "duration": 186,
    "start_time": "2025-01-21T01:15:05.061Z"
   },
   {
    "duration": 3,
    "start_time": "2025-01-21T01:15:05.249Z"
   },
   {
    "duration": 191,
    "start_time": "2025-01-21T01:15:05.254Z"
   },
   {
    "duration": 7,
    "start_time": "2025-01-21T01:15:05.447Z"
   },
   {
    "duration": 6,
    "start_time": "2025-01-21T01:15:05.456Z"
   },
   {
    "duration": 17,
    "start_time": "2025-01-21T01:15:05.464Z"
   },
   {
    "duration": 27,
    "start_time": "2025-01-21T01:15:05.483Z"
   },
   {
    "duration": 4,
    "start_time": "2025-01-21T01:15:05.511Z"
   },
   {
    "duration": 369,
    "start_time": "2025-01-21T01:15:05.517Z"
   },
   {
    "duration": 0,
    "start_time": "2025-01-21T01:15:05.889Z"
   },
   {
    "duration": 0,
    "start_time": "2025-01-21T01:15:05.889Z"
   },
   {
    "duration": 4,
    "start_time": "2025-01-21T01:21:13.216Z"
   },
   {
    "duration": 4,
    "start_time": "2025-01-21T01:21:38.443Z"
   },
   {
    "duration": 4,
    "start_time": "2025-01-21T01:22:56.373Z"
   },
   {
    "duration": 4,
    "start_time": "2025-01-21T01:24:01.947Z"
   },
   {
    "duration": 807,
    "start_time": "2025-01-21T01:24:08.063Z"
   },
   {
    "duration": 204,
    "start_time": "2025-01-21T01:24:08.874Z"
   },
   {
    "duration": 504,
    "start_time": "2025-01-21T01:24:09.080Z"
   },
   {
    "duration": 57,
    "start_time": "2025-01-21T01:24:09.586Z"
   },
   {
    "duration": 8,
    "start_time": "2025-01-21T01:24:09.645Z"
   },
   {
    "duration": 20,
    "start_time": "2025-01-21T01:24:09.655Z"
   },
   {
    "duration": 3,
    "start_time": "2025-01-21T01:24:09.676Z"
   },
   {
    "duration": 174,
    "start_time": "2025-01-21T01:24:09.681Z"
   },
   {
    "duration": 5,
    "start_time": "2025-01-21T01:24:09.858Z"
   },
   {
    "duration": 2,
    "start_time": "2025-01-21T01:24:09.865Z"
   },
   {
    "duration": 3,
    "start_time": "2025-01-21T01:24:09.869Z"
   },
   {
    "duration": 3,
    "start_time": "2025-01-21T01:24:09.873Z"
   },
   {
    "duration": 32,
    "start_time": "2025-01-21T01:24:09.877Z"
   },
   {
    "duration": 4,
    "start_time": "2025-01-21T01:24:09.912Z"
   },
   {
    "duration": 4,
    "start_time": "2025-01-21T01:24:09.919Z"
   },
   {
    "duration": 13,
    "start_time": "2025-01-21T01:24:09.925Z"
   },
   {
    "duration": 2,
    "start_time": "2025-01-21T01:24:09.940Z"
   },
   {
    "duration": 189,
    "start_time": "2025-01-21T01:24:09.944Z"
   },
   {
    "duration": 9,
    "start_time": "2025-01-21T01:24:10.134Z"
   },
   {
    "duration": 6,
    "start_time": "2025-01-21T01:24:10.145Z"
   },
   {
    "duration": 6,
    "start_time": "2025-01-21T01:24:10.152Z"
   },
   {
    "duration": 9,
    "start_time": "2025-01-21T01:24:10.160Z"
   },
   {
    "duration": 5,
    "start_time": "2025-01-21T01:24:10.170Z"
   },
   {
    "duration": 248,
    "start_time": "2025-01-21T01:24:10.208Z"
   },
   {
    "duration": 243,
    "start_time": "2025-01-21T01:24:10.458Z"
   },
   {
    "duration": 250,
    "start_time": "2025-01-21T01:24:10.708Z"
   },
   {
    "duration": 3,
    "start_time": "2025-01-21T01:24:10.961Z"
   },
   {
    "duration": 459,
    "start_time": "2025-01-21T01:24:10.967Z"
   },
   {
    "duration": 3,
    "start_time": "2025-01-21T01:24:11.429Z"
   },
   {
    "duration": 741,
    "start_time": "2025-01-21T01:24:11.434Z"
   },
   {
    "duration": 3,
    "start_time": "2025-01-21T01:24:12.177Z"
   },
   {
    "duration": 252,
    "start_time": "2025-01-21T01:24:12.182Z"
   },
   {
    "duration": 3,
    "start_time": "2025-01-21T01:24:12.436Z"
   },
   {
    "duration": 182,
    "start_time": "2025-01-21T01:24:12.441Z"
   },
   {
    "duration": 4,
    "start_time": "2025-01-21T01:24:12.625Z"
   },
   {
    "duration": 185,
    "start_time": "2025-01-21T01:24:12.631Z"
   },
   {
    "duration": 5,
    "start_time": "2025-01-21T01:24:12.818Z"
   },
   {
    "duration": 6,
    "start_time": "2025-01-21T01:24:12.825Z"
   },
   {
    "duration": 13,
    "start_time": "2025-01-21T01:24:12.833Z"
   },
   {
    "duration": 3,
    "start_time": "2025-01-21T01:24:12.848Z"
   },
   {
    "duration": 3,
    "start_time": "2025-01-21T01:24:12.855Z"
   },
   {
    "duration": 402,
    "start_time": "2025-01-21T01:24:12.859Z"
   },
   {
    "duration": 0,
    "start_time": "2025-01-21T01:24:13.263Z"
   },
   {
    "duration": 0,
    "start_time": "2025-01-21T01:24:13.264Z"
   },
   {
    "duration": 853,
    "start_time": "2025-01-21T01:28:42.433Z"
   },
   {
    "duration": 204,
    "start_time": "2025-01-21T01:28:43.288Z"
   },
   {
    "duration": 527,
    "start_time": "2025-01-21T01:28:43.493Z"
   },
   {
    "duration": 51,
    "start_time": "2025-01-21T01:28:44.022Z"
   },
   {
    "duration": 12,
    "start_time": "2025-01-21T01:28:44.075Z"
   },
   {
    "duration": 41,
    "start_time": "2025-01-21T01:28:44.090Z"
   },
   {
    "duration": 4,
    "start_time": "2025-01-21T01:28:44.133Z"
   },
   {
    "duration": 157,
    "start_time": "2025-01-21T01:28:44.139Z"
   },
   {
    "duration": 12,
    "start_time": "2025-01-21T01:28:44.298Z"
   },
   {
    "duration": 2,
    "start_time": "2025-01-21T01:28:44.311Z"
   },
   {
    "duration": 3,
    "start_time": "2025-01-21T01:28:44.315Z"
   },
   {
    "duration": 3,
    "start_time": "2025-01-21T01:28:44.319Z"
   },
   {
    "duration": 4,
    "start_time": "2025-01-21T01:28:44.323Z"
   },
   {
    "duration": 4,
    "start_time": "2025-01-21T01:28:44.331Z"
   },
   {
    "duration": 4,
    "start_time": "2025-01-21T01:28:44.337Z"
   },
   {
    "duration": 3,
    "start_time": "2025-01-21T01:28:44.342Z"
   },
   {
    "duration": 201,
    "start_time": "2025-01-21T01:28:44.347Z"
   },
   {
    "duration": 10,
    "start_time": "2025-01-21T01:28:44.551Z"
   },
   {
    "duration": 7,
    "start_time": "2025-01-21T01:28:44.563Z"
   },
   {
    "duration": 6,
    "start_time": "2025-01-21T01:28:44.572Z"
   },
   {
    "duration": 34,
    "start_time": "2025-01-21T01:28:44.580Z"
   },
   {
    "duration": 5,
    "start_time": "2025-01-21T01:28:44.615Z"
   },
   {
    "duration": 294,
    "start_time": "2025-01-21T01:28:44.622Z"
   },
   {
    "duration": 244,
    "start_time": "2025-01-21T01:28:44.918Z"
   },
   {
    "duration": 249,
    "start_time": "2025-01-21T01:28:45.164Z"
   },
   {
    "duration": 3,
    "start_time": "2025-01-21T01:28:45.415Z"
   },
   {
    "duration": 501,
    "start_time": "2025-01-21T01:28:45.420Z"
   },
   {
    "duration": 3,
    "start_time": "2025-01-21T01:28:45.923Z"
   },
   {
    "duration": 749,
    "start_time": "2025-01-21T01:28:45.928Z"
   },
   {
    "duration": 4,
    "start_time": "2025-01-21T01:28:46.679Z"
   },
   {
    "duration": 280,
    "start_time": "2025-01-21T01:28:46.685Z"
   },
   {
    "duration": 4,
    "start_time": "2025-01-21T01:28:46.966Z"
   },
   {
    "duration": 180,
    "start_time": "2025-01-21T01:28:46.972Z"
   },
   {
    "duration": 3,
    "start_time": "2025-01-21T01:28:47.154Z"
   },
   {
    "duration": 226,
    "start_time": "2025-01-21T01:28:47.159Z"
   },
   {
    "duration": 6,
    "start_time": "2025-01-21T01:28:47.387Z"
   },
   {
    "duration": 15,
    "start_time": "2025-01-21T01:28:47.394Z"
   },
   {
    "duration": 18,
    "start_time": "2025-01-21T01:28:47.410Z"
   },
   {
    "duration": 3,
    "start_time": "2025-01-21T01:28:47.430Z"
   },
   {
    "duration": 3,
    "start_time": "2025-01-21T01:28:47.435Z"
   },
   {
    "duration": 198,
    "start_time": "2025-01-21T01:28:47.442Z"
   },
   {
    "duration": 0,
    "start_time": "2025-01-21T01:28:47.642Z"
   },
   {
    "duration": 0,
    "start_time": "2025-01-21T01:28:47.643Z"
   },
   {
    "duration": 6,
    "start_time": "2025-01-21T01:30:28.935Z"
   },
   {
    "duration": 788,
    "start_time": "2025-01-21T01:30:52.356Z"
   },
   {
    "duration": 40,
    "start_time": "2025-01-21T01:30:59.075Z"
   },
   {
    "duration": 7,
    "start_time": "2025-01-21T01:31:14.878Z"
   },
   {
    "duration": 5,
    "start_time": "2025-01-21T01:31:31.843Z"
   },
   {
    "duration": 9,
    "start_time": "2025-01-21T01:32:05.819Z"
   },
   {
    "duration": 8,
    "start_time": "2025-01-21T01:35:10.833Z"
   },
   {
    "duration": 5,
    "start_time": "2025-01-21T01:35:23.685Z"
   },
   {
    "duration": 14,
    "start_time": "2025-01-21T01:35:53.826Z"
   },
   {
    "duration": 4,
    "start_time": "2025-01-21T01:36:02.760Z"
   },
   {
    "duration": 859,
    "start_time": "2025-01-21T01:36:11.625Z"
   },
   {
    "duration": 201,
    "start_time": "2025-01-21T01:36:12.487Z"
   },
   {
    "duration": 503,
    "start_time": "2025-01-21T01:36:12.690Z"
   },
   {
    "duration": 53,
    "start_time": "2025-01-21T01:36:13.196Z"
   },
   {
    "duration": 7,
    "start_time": "2025-01-21T01:36:13.252Z"
   },
   {
    "duration": 20,
    "start_time": "2025-01-21T01:36:13.261Z"
   },
   {
    "duration": 3,
    "start_time": "2025-01-21T01:36:13.283Z"
   },
   {
    "duration": 178,
    "start_time": "2025-01-21T01:36:13.288Z"
   },
   {
    "duration": 5,
    "start_time": "2025-01-21T01:36:13.468Z"
   },
   {
    "duration": 2,
    "start_time": "2025-01-21T01:36:13.477Z"
   },
   {
    "duration": 3,
    "start_time": "2025-01-21T01:36:13.480Z"
   },
   {
    "duration": 3,
    "start_time": "2025-01-21T01:36:13.485Z"
   },
   {
    "duration": 3,
    "start_time": "2025-01-21T01:36:13.508Z"
   },
   {
    "duration": 4,
    "start_time": "2025-01-21T01:36:13.513Z"
   },
   {
    "duration": 4,
    "start_time": "2025-01-21T01:36:13.519Z"
   },
   {
    "duration": 2,
    "start_time": "2025-01-21T01:36:13.525Z"
   },
   {
    "duration": 189,
    "start_time": "2025-01-21T01:36:13.529Z"
   },
   {
    "duration": 11,
    "start_time": "2025-01-21T01:36:13.720Z"
   },
   {
    "duration": 6,
    "start_time": "2025-01-21T01:36:13.733Z"
   },
   {
    "duration": 6,
    "start_time": "2025-01-21T01:36:13.741Z"
   },
   {
    "duration": 9,
    "start_time": "2025-01-21T01:36:13.749Z"
   },
   {
    "duration": 5,
    "start_time": "2025-01-21T01:36:13.760Z"
   },
   {
    "duration": 275,
    "start_time": "2025-01-21T01:36:13.766Z"
   },
   {
    "duration": 259,
    "start_time": "2025-01-21T01:36:14.042Z"
   },
   {
    "duration": 248,
    "start_time": "2025-01-21T01:36:14.303Z"
   },
   {
    "duration": 3,
    "start_time": "2025-01-21T01:36:14.554Z"
   },
   {
    "duration": 465,
    "start_time": "2025-01-21T01:36:14.559Z"
   },
   {
    "duration": 3,
    "start_time": "2025-01-21T01:36:15.028Z"
   },
   {
    "duration": 734,
    "start_time": "2025-01-21T01:36:15.033Z"
   },
   {
    "duration": 4,
    "start_time": "2025-01-21T01:36:15.769Z"
   },
   {
    "duration": 255,
    "start_time": "2025-01-21T01:36:15.775Z"
   },
   {
    "duration": 4,
    "start_time": "2025-01-21T01:36:16.031Z"
   },
   {
    "duration": 182,
    "start_time": "2025-01-21T01:36:16.037Z"
   },
   {
    "duration": 5,
    "start_time": "2025-01-21T01:36:16.222Z"
   },
   {
    "duration": 190,
    "start_time": "2025-01-21T01:36:16.230Z"
   },
   {
    "duration": 5,
    "start_time": "2025-01-21T01:36:16.422Z"
   },
   {
    "duration": 4,
    "start_time": "2025-01-21T01:36:16.429Z"
   },
   {
    "duration": 997,
    "start_time": "2025-01-21T01:36:16.434Z"
   },
   {
    "duration": 0,
    "start_time": "2025-01-21T01:36:17.433Z"
   },
   {
    "duration": 0,
    "start_time": "2025-01-21T01:36:17.434Z"
   },
   {
    "duration": 0,
    "start_time": "2025-01-21T01:36:17.436Z"
   },
   {
    "duration": 0,
    "start_time": "2025-01-21T01:36:17.437Z"
   },
   {
    "duration": 0,
    "start_time": "2025-01-21T01:36:17.439Z"
   },
   {
    "duration": 0,
    "start_time": "2025-01-21T01:36:17.441Z"
   },
   {
    "duration": 6,
    "start_time": "2025-01-21T01:36:46.272Z"
   },
   {
    "duration": 3,
    "start_time": "2025-01-21T01:36:47.753Z"
   },
   {
    "duration": 5,
    "start_time": "2025-01-21T01:36:50.201Z"
   },
   {
    "duration": 807,
    "start_time": "2025-01-21T01:36:55.189Z"
   },
   {
    "duration": 221,
    "start_time": "2025-01-21T01:36:55.999Z"
   },
   {
    "duration": 523,
    "start_time": "2025-01-21T01:36:56.222Z"
   },
   {
    "duration": 52,
    "start_time": "2025-01-21T01:36:56.747Z"
   },
   {
    "duration": 10,
    "start_time": "2025-01-21T01:36:56.810Z"
   },
   {
    "duration": 26,
    "start_time": "2025-01-21T01:36:56.821Z"
   },
   {
    "duration": 6,
    "start_time": "2025-01-21T01:36:56.849Z"
   },
   {
    "duration": 199,
    "start_time": "2025-01-21T01:36:56.857Z"
   },
   {
    "duration": 6,
    "start_time": "2025-01-21T01:36:57.058Z"
   },
   {
    "duration": 2,
    "start_time": "2025-01-21T01:36:57.067Z"
   },
   {
    "duration": 2,
    "start_time": "2025-01-21T01:36:57.071Z"
   },
   {
    "duration": 2,
    "start_time": "2025-01-21T01:36:57.075Z"
   },
   {
    "duration": 30,
    "start_time": "2025-01-21T01:36:57.079Z"
   },
   {
    "duration": 3,
    "start_time": "2025-01-21T01:36:57.113Z"
   },
   {
    "duration": 3,
    "start_time": "2025-01-21T01:36:57.118Z"
   },
   {
    "duration": 3,
    "start_time": "2025-01-21T01:36:57.123Z"
   },
   {
    "duration": 198,
    "start_time": "2025-01-21T01:36:57.127Z"
   },
   {
    "duration": 10,
    "start_time": "2025-01-21T01:36:57.327Z"
   },
   {
    "duration": 8,
    "start_time": "2025-01-21T01:36:57.339Z"
   },
   {
    "duration": 7,
    "start_time": "2025-01-21T01:36:57.348Z"
   },
   {
    "duration": 10,
    "start_time": "2025-01-21T01:36:57.356Z"
   },
   {
    "duration": 40,
    "start_time": "2025-01-21T01:36:57.369Z"
   },
   {
    "duration": 268,
    "start_time": "2025-01-21T01:36:57.411Z"
   },
   {
    "duration": 266,
    "start_time": "2025-01-21T01:36:57.681Z"
   },
   {
    "duration": 260,
    "start_time": "2025-01-21T01:36:57.949Z"
   },
   {
    "duration": 3,
    "start_time": "2025-01-21T01:36:58.211Z"
   },
   {
    "duration": 536,
    "start_time": "2025-01-21T01:36:58.216Z"
   },
   {
    "duration": 4,
    "start_time": "2025-01-21T01:36:58.754Z"
   },
   {
    "duration": 831,
    "start_time": "2025-01-21T01:36:58.760Z"
   },
   {
    "duration": 4,
    "start_time": "2025-01-21T01:36:59.593Z"
   },
   {
    "duration": 262,
    "start_time": "2025-01-21T01:36:59.599Z"
   },
   {
    "duration": 4,
    "start_time": "2025-01-21T01:36:59.863Z"
   },
   {
    "duration": 182,
    "start_time": "2025-01-21T01:36:59.868Z"
   },
   {
    "duration": 3,
    "start_time": "2025-01-21T01:37:00.052Z"
   },
   {
    "duration": 199,
    "start_time": "2025-01-21T01:37:00.057Z"
   },
   {
    "duration": 6,
    "start_time": "2025-01-21T01:37:00.257Z"
   },
   {
    "duration": 4,
    "start_time": "2025-01-21T01:37:00.264Z"
   },
   {
    "duration": 5,
    "start_time": "2025-01-21T01:37:00.270Z"
   },
   {
    "duration": 33,
    "start_time": "2025-01-21T01:37:00.276Z"
   },
   {
    "duration": 3,
    "start_time": "2025-01-21T01:37:00.310Z"
   },
   {
    "duration": 3,
    "start_time": "2025-01-21T01:37:00.318Z"
   },
   {
    "duration": 890,
    "start_time": "2025-01-21T01:37:00.323Z"
   },
   {
    "duration": 4880,
    "start_time": "2025-01-21T01:37:01.215Z"
   },
   {
    "duration": 28815,
    "start_time": "2025-01-21T01:37:06.097Z"
   },
   {
    "duration": 608,
    "start_time": "2025-01-21T01:56:02.023Z"
   },
   {
    "duration": 272,
    "start_time": "2025-01-21T02:16:25.717Z"
   },
   {
    "duration": 23,
    "start_time": "2025-01-21T02:21:43.480Z"
   },
   {
    "duration": 28846,
    "start_time": "2025-01-21T02:23:29.145Z"
   },
   {
    "duration": 729,
    "start_time": "2025-01-21T02:25:38.350Z"
   },
   {
    "duration": 5,
    "start_time": "2025-01-21T02:25:47.608Z"
   },
   {
    "duration": 16,
    "start_time": "2025-01-21T02:25:59.925Z"
   },
   {
    "duration": 35,
    "start_time": "2025-01-21T02:26:38.814Z"
   },
   {
    "duration": 2,
    "start_time": "2025-01-21T02:27:03.112Z"
   },
   {
    "duration": 153,
    "start_time": "2025-01-21T02:27:04.146Z"
   },
   {
    "duration": 852,
    "start_time": "2025-01-21T02:27:15.946Z"
   },
   {
    "duration": 201,
    "start_time": "2025-01-21T02:27:16.800Z"
   },
   {
    "duration": 572,
    "start_time": "2025-01-21T02:27:17.003Z"
   },
   {
    "duration": 57,
    "start_time": "2025-01-21T02:27:17.577Z"
   },
   {
    "duration": 9,
    "start_time": "2025-01-21T02:27:17.635Z"
   },
   {
    "duration": 20,
    "start_time": "2025-01-21T02:27:17.646Z"
   },
   {
    "duration": 5,
    "start_time": "2025-01-21T02:27:17.668Z"
   },
   {
    "duration": 174,
    "start_time": "2025-01-21T02:27:17.675Z"
   },
   {
    "duration": 5,
    "start_time": "2025-01-21T02:27:17.851Z"
   },
   {
    "duration": 2,
    "start_time": "2025-01-21T02:27:17.859Z"
   },
   {
    "duration": 4,
    "start_time": "2025-01-21T02:27:17.862Z"
   },
   {
    "duration": 3,
    "start_time": "2025-01-21T02:27:17.867Z"
   },
   {
    "duration": 3,
    "start_time": "2025-01-21T02:27:17.872Z"
   },
   {
    "duration": 31,
    "start_time": "2025-01-21T02:27:17.878Z"
   },
   {
    "duration": 3,
    "start_time": "2025-01-21T02:27:17.910Z"
   },
   {
    "duration": 3,
    "start_time": "2025-01-21T02:27:17.915Z"
   },
   {
    "duration": 177,
    "start_time": "2025-01-21T02:27:17.920Z"
   },
   {
    "duration": 15,
    "start_time": "2025-01-21T02:27:18.099Z"
   },
   {
    "duration": 8,
    "start_time": "2025-01-21T02:27:18.115Z"
   },
   {
    "duration": 7,
    "start_time": "2025-01-21T02:27:18.125Z"
   },
   {
    "duration": 10,
    "start_time": "2025-01-21T02:27:18.134Z"
   },
   {
    "duration": 4,
    "start_time": "2025-01-21T02:27:18.146Z"
   },
   {
    "duration": 279,
    "start_time": "2025-01-21T02:27:18.152Z"
   },
   {
    "duration": 242,
    "start_time": "2025-01-21T02:27:18.433Z"
   },
   {
    "duration": 268,
    "start_time": "2025-01-21T02:27:18.677Z"
   },
   {
    "duration": 3,
    "start_time": "2025-01-21T02:27:18.947Z"
   },
   {
    "duration": 468,
    "start_time": "2025-01-21T02:27:18.952Z"
   },
   {
    "duration": 3,
    "start_time": "2025-01-21T02:27:19.424Z"
   },
   {
    "duration": 724,
    "start_time": "2025-01-21T02:27:19.428Z"
   },
   {
    "duration": 4,
    "start_time": "2025-01-21T02:27:20.154Z"
   },
   {
    "duration": 260,
    "start_time": "2025-01-21T02:27:20.159Z"
   },
   {
    "duration": 4,
    "start_time": "2025-01-21T02:27:20.421Z"
   },
   {
    "duration": 183,
    "start_time": "2025-01-21T02:27:20.426Z"
   },
   {
    "duration": 3,
    "start_time": "2025-01-21T02:27:20.611Z"
   },
   {
    "duration": 184,
    "start_time": "2025-01-21T02:27:20.616Z"
   },
   {
    "duration": 10,
    "start_time": "2025-01-21T02:27:20.802Z"
   },
   {
    "duration": 4,
    "start_time": "2025-01-21T02:27:20.814Z"
   },
   {
    "duration": 6,
    "start_time": "2025-01-21T02:27:20.819Z"
   },
   {
    "duration": 14,
    "start_time": "2025-01-21T02:27:20.826Z"
   },
   {
    "duration": 3,
    "start_time": "2025-01-21T02:27:20.841Z"
   },
   {
    "duration": 3,
    "start_time": "2025-01-21T02:27:20.846Z"
   },
   {
    "duration": 564,
    "start_time": "2025-01-21T02:27:20.850Z"
   },
   {
    "duration": 4888,
    "start_time": "2025-01-21T02:27:21.416Z"
   },
   {
    "duration": 28872,
    "start_time": "2025-01-21T02:27:26.309Z"
   },
   {
    "duration": 4,
    "start_time": "2025-01-21T02:27:55.183Z"
   },
   {
    "duration": 481,
    "start_time": "2025-01-21T02:27:55.189Z"
   },
   {
    "duration": 6,
    "start_time": "2025-01-21T02:28:50.119Z"
   },
   {
    "duration": 7,
    "start_time": "2025-01-21T02:29:24.374Z"
   },
   {
    "duration": 4,
    "start_time": "2025-01-21T02:29:55.568Z"
   },
   {
    "duration": 799,
    "start_time": "2025-01-21T02:30:08.791Z"
   },
   {
    "duration": 207,
    "start_time": "2025-01-21T02:30:09.593Z"
   },
   {
    "duration": 540,
    "start_time": "2025-01-21T02:30:09.801Z"
   },
   {
    "duration": 51,
    "start_time": "2025-01-21T02:30:10.343Z"
   },
   {
    "duration": 18,
    "start_time": "2025-01-21T02:30:10.396Z"
   },
   {
    "duration": 19,
    "start_time": "2025-01-21T02:30:10.416Z"
   },
   {
    "duration": 3,
    "start_time": "2025-01-21T02:30:10.437Z"
   },
   {
    "duration": 157,
    "start_time": "2025-01-21T02:30:10.442Z"
   },
   {
    "duration": 8,
    "start_time": "2025-01-21T02:30:10.601Z"
   },
   {
    "duration": 3,
    "start_time": "2025-01-21T02:30:10.610Z"
   },
   {
    "duration": 3,
    "start_time": "2025-01-21T02:30:10.614Z"
   },
   {
    "duration": 3,
    "start_time": "2025-01-21T02:30:10.619Z"
   },
   {
    "duration": 3,
    "start_time": "2025-01-21T02:30:10.623Z"
   },
   {
    "duration": 4,
    "start_time": "2025-01-21T02:30:10.630Z"
   },
   {
    "duration": 4,
    "start_time": "2025-01-21T02:30:10.636Z"
   },
   {
    "duration": 4,
    "start_time": "2025-01-21T02:30:10.641Z"
   },
   {
    "duration": 212,
    "start_time": "2025-01-21T02:30:10.646Z"
   },
   {
    "duration": 10,
    "start_time": "2025-01-21T02:30:10.860Z"
   },
   {
    "duration": 7,
    "start_time": "2025-01-21T02:30:10.872Z"
   },
   {
    "duration": 29,
    "start_time": "2025-01-21T02:30:10.881Z"
   },
   {
    "duration": 6,
    "start_time": "2025-01-21T02:30:10.911Z"
   },
   {
    "duration": 10,
    "start_time": "2025-01-21T02:30:10.918Z"
   },
   {
    "duration": 5,
    "start_time": "2025-01-21T02:30:10.931Z"
   },
   {
    "duration": 4,
    "start_time": "2025-01-21T02:30:10.938Z"
   },
   {
    "duration": 298,
    "start_time": "2025-01-21T02:30:10.943Z"
   },
   {
    "duration": 244,
    "start_time": "2025-01-21T02:30:11.244Z"
   },
   {
    "duration": 256,
    "start_time": "2025-01-21T02:30:11.490Z"
   },
   {
    "duration": 4,
    "start_time": "2025-01-21T02:30:11.747Z"
   },
   {
    "duration": 479,
    "start_time": "2025-01-21T02:30:11.752Z"
   },
   {
    "duration": 3,
    "start_time": "2025-01-21T02:30:12.232Z"
   },
   {
    "duration": 752,
    "start_time": "2025-01-21T02:30:12.237Z"
   },
   {
    "duration": 4,
    "start_time": "2025-01-21T02:30:12.990Z"
   },
   {
    "duration": 254,
    "start_time": "2025-01-21T02:30:12.995Z"
   },
   {
    "duration": 5,
    "start_time": "2025-01-21T02:30:13.250Z"
   },
   {
    "duration": 183,
    "start_time": "2025-01-21T02:30:13.256Z"
   },
   {
    "duration": 4,
    "start_time": "2025-01-21T02:30:13.441Z"
   },
   {
    "duration": 188,
    "start_time": "2025-01-21T02:30:13.448Z"
   },
   {
    "duration": 5,
    "start_time": "2025-01-21T02:30:13.638Z"
   },
   {
    "duration": 3,
    "start_time": "2025-01-21T02:30:13.645Z"
   },
   {
    "duration": 5,
    "start_time": "2025-01-21T02:30:13.650Z"
   },
   {
    "duration": 14,
    "start_time": "2025-01-21T02:30:13.659Z"
   },
   {
    "duration": 3,
    "start_time": "2025-01-21T02:30:13.674Z"
   },
   {
    "duration": 31,
    "start_time": "2025-01-21T02:30:13.678Z"
   },
   {
    "duration": 907,
    "start_time": "2025-01-21T02:30:13.710Z"
   },
   {
    "duration": 5078,
    "start_time": "2025-01-21T02:30:14.620Z"
   },
   {
    "duration": 30388,
    "start_time": "2025-01-21T02:30:19.700Z"
   },
   {
    "duration": 3,
    "start_time": "2025-01-21T02:30:50.090Z"
   },
   {
    "duration": 19,
    "start_time": "2025-01-21T02:30:50.094Z"
   },
   {
    "duration": 10,
    "start_time": "2025-01-21T02:31:07.062Z"
   },
   {
    "duration": 5,
    "start_time": "2025-01-21T02:44:12.409Z"
   },
   {
    "duration": 30046,
    "start_time": "2025-01-21T02:44:23.902Z"
   },
   {
    "duration": 4989,
    "start_time": "2025-01-21T02:46:21.345Z"
   },
   {
    "duration": 9997,
    "start_time": "2025-01-21T02:52:04.883Z"
   },
   {
    "duration": 10172,
    "start_time": "2025-01-21T02:52:16.819Z"
   },
   {
    "duration": 28838,
    "start_time": "2025-01-21T02:55:49.004Z"
   },
   {
    "duration": 9983,
    "start_time": "2025-01-21T02:56:17.846Z"
   },
   {
    "duration": 5025,
    "start_time": "2025-01-21T03:06:25.252Z"
   },
   {
    "duration": 4851,
    "start_time": "2025-01-21T03:06:44.013Z"
   },
   {
    "duration": 4797,
    "start_time": "2025-01-21T03:07:03.747Z"
   },
   {
    "duration": 38903,
    "start_time": "2025-01-21T03:13:11.382Z"
   },
   {
    "duration": 6523,
    "start_time": "2025-01-21T03:13:50.288Z"
   },
   {
    "duration": 706,
    "start_time": "2025-01-21T03:13:56.813Z"
   },
   {
    "duration": 6,
    "start_time": "2025-01-21T03:37:59.528Z"
   },
   {
    "duration": 15,
    "start_time": "2025-01-21T03:38:15.797Z"
   },
   {
    "duration": 788,
    "start_time": "2025-01-21T03:38:21.315Z"
   },
   {
    "duration": 204,
    "start_time": "2025-01-21T03:38:22.105Z"
   },
   {
    "duration": 516,
    "start_time": "2025-01-21T03:38:22.310Z"
   },
   {
    "duration": 51,
    "start_time": "2025-01-21T03:38:22.829Z"
   },
   {
    "duration": 8,
    "start_time": "2025-01-21T03:38:22.882Z"
   },
   {
    "duration": 20,
    "start_time": "2025-01-21T03:38:22.909Z"
   },
   {
    "duration": 3,
    "start_time": "2025-01-21T03:38:22.931Z"
   },
   {
    "duration": 147,
    "start_time": "2025-01-21T03:38:22.935Z"
   },
   {
    "duration": 5,
    "start_time": "2025-01-21T03:38:23.083Z"
   },
   {
    "duration": 3,
    "start_time": "2025-01-21T03:38:23.108Z"
   },
   {
    "duration": 3,
    "start_time": "2025-01-21T03:38:23.112Z"
   },
   {
    "duration": 3,
    "start_time": "2025-01-21T03:38:23.116Z"
   },
   {
    "duration": 4,
    "start_time": "2025-01-21T03:38:23.120Z"
   },
   {
    "duration": 5,
    "start_time": "2025-01-21T03:38:23.125Z"
   },
   {
    "duration": 5,
    "start_time": "2025-01-21T03:38:23.131Z"
   },
   {
    "duration": 11,
    "start_time": "2025-01-21T03:38:23.137Z"
   },
   {
    "duration": 2,
    "start_time": "2025-01-21T03:38:23.150Z"
   },
   {
    "duration": 202,
    "start_time": "2025-01-21T03:38:23.154Z"
   },
   {
    "duration": 11,
    "start_time": "2025-01-21T03:38:23.358Z"
   },
   {
    "duration": 6,
    "start_time": "2025-01-21T03:38:23.370Z"
   },
   {
    "duration": 6,
    "start_time": "2025-01-21T03:38:23.378Z"
   },
   {
    "duration": 26,
    "start_time": "2025-01-21T03:38:23.387Z"
   },
   {
    "duration": 8,
    "start_time": "2025-01-21T03:38:23.414Z"
   },
   {
    "duration": 6,
    "start_time": "2025-01-21T03:38:23.424Z"
   },
   {
    "duration": 6,
    "start_time": "2025-01-21T03:38:23.431Z"
   },
   {
    "duration": 274,
    "start_time": "2025-01-21T03:38:23.438Z"
   },
   {
    "duration": 248,
    "start_time": "2025-01-21T03:38:23.714Z"
   },
   {
    "duration": 255,
    "start_time": "2025-01-21T03:38:23.966Z"
   },
   {
    "duration": 4,
    "start_time": "2025-01-21T03:38:24.222Z"
   },
   {
    "duration": 499,
    "start_time": "2025-01-21T03:38:24.227Z"
   },
   {
    "duration": 3,
    "start_time": "2025-01-21T03:38:24.728Z"
   },
   {
    "duration": 846,
    "start_time": "2025-01-21T03:38:24.733Z"
   },
   {
    "duration": 4,
    "start_time": "2025-01-21T03:38:25.581Z"
   },
   {
    "duration": 194,
    "start_time": "2025-01-21T03:38:25.587Z"
   },
   {
    "duration": 3,
    "start_time": "2025-01-21T03:38:25.783Z"
   },
   {
    "duration": 185,
    "start_time": "2025-01-21T03:38:25.788Z"
   },
   {
    "duration": 3,
    "start_time": "2025-01-21T03:38:25.975Z"
   },
   {
    "duration": 184,
    "start_time": "2025-01-21T03:38:25.980Z"
   },
   {
    "duration": 6,
    "start_time": "2025-01-21T03:38:26.165Z"
   },
   {
    "duration": 4,
    "start_time": "2025-01-21T03:38:26.172Z"
   },
   {
    "duration": 6,
    "start_time": "2025-01-21T03:38:26.177Z"
   },
   {
    "duration": 34,
    "start_time": "2025-01-21T03:38:26.185Z"
   },
   {
    "duration": 4,
    "start_time": "2025-01-21T03:38:26.221Z"
   },
   {
    "duration": 3,
    "start_time": "2025-01-21T03:38:26.226Z"
   },
   {
    "duration": 379,
    "start_time": "2025-01-21T03:38:26.230Z"
   },
   {
    "duration": 0,
    "start_time": "2025-01-21T03:38:26.611Z"
   },
   {
    "duration": 0,
    "start_time": "2025-01-21T03:38:26.612Z"
   },
   {
    "duration": 0,
    "start_time": "2025-01-21T03:38:26.613Z"
   },
   {
    "duration": 4,
    "start_time": "2025-01-21T03:40:01.947Z"
   },
   {
    "duration": 3,
    "start_time": "2025-01-21T03:40:31.503Z"
   },
   {
    "duration": 5,
    "start_time": "2025-01-21T03:40:42.186Z"
   },
   {
    "duration": 11,
    "start_time": "2025-01-21T03:40:58.434Z"
   },
   {
    "duration": 22,
    "start_time": "2025-01-21T03:42:07.398Z"
   },
   {
    "duration": 7,
    "start_time": "2025-01-21T03:47:41.642Z"
   },
   {
    "duration": 9,
    "start_time": "2025-01-21T03:47:53.287Z"
   },
   {
    "duration": 134,
    "start_time": "2025-01-21T03:48:07.987Z"
   },
   {
    "duration": 2,
    "start_time": "2025-01-21T03:48:18.275Z"
   },
   {
    "duration": 4,
    "start_time": "2025-01-21T03:48:18.279Z"
   },
   {
    "duration": 509,
    "start_time": "2025-01-21T03:48:18.286Z"
   },
   {
    "duration": 55,
    "start_time": "2025-01-21T03:48:18.798Z"
   },
   {
    "duration": 8,
    "start_time": "2025-01-21T03:48:18.855Z"
   },
   {
    "duration": 17,
    "start_time": "2025-01-21T03:48:18.865Z"
   },
   {
    "duration": 22,
    "start_time": "2025-01-21T03:48:18.886Z"
   },
   {
    "duration": 152,
    "start_time": "2025-01-21T03:48:18.911Z"
   },
   {
    "duration": 5,
    "start_time": "2025-01-21T03:48:19.065Z"
   },
   {
    "duration": 2,
    "start_time": "2025-01-21T03:48:19.072Z"
   },
   {
    "duration": 2,
    "start_time": "2025-01-21T03:48:19.076Z"
   },
   {
    "duration": 3,
    "start_time": "2025-01-21T03:48:19.080Z"
   },
   {
    "duration": 2,
    "start_time": "2025-01-21T03:48:19.109Z"
   },
   {
    "duration": 5,
    "start_time": "2025-01-21T03:48:19.113Z"
   },
   {
    "duration": 3,
    "start_time": "2025-01-21T03:48:19.120Z"
   },
   {
    "duration": 40,
    "start_time": "2025-01-21T03:48:19.127Z"
   },
   {
    "duration": 0,
    "start_time": "2025-01-21T03:48:19.169Z"
   },
   {
    "duration": 0,
    "start_time": "2025-01-21T03:48:19.170Z"
   },
   {
    "duration": 0,
    "start_time": "2025-01-21T03:48:19.172Z"
   },
   {
    "duration": 0,
    "start_time": "2025-01-21T03:48:19.173Z"
   },
   {
    "duration": 0,
    "start_time": "2025-01-21T03:48:19.174Z"
   },
   {
    "duration": 0,
    "start_time": "2025-01-21T03:48:19.209Z"
   },
   {
    "duration": 0,
    "start_time": "2025-01-21T03:48:19.210Z"
   },
   {
    "duration": 0,
    "start_time": "2025-01-21T03:48:19.211Z"
   },
   {
    "duration": 0,
    "start_time": "2025-01-21T03:48:19.212Z"
   },
   {
    "duration": 0,
    "start_time": "2025-01-21T03:48:19.213Z"
   },
   {
    "duration": 0,
    "start_time": "2025-01-21T03:48:19.214Z"
   },
   {
    "duration": 0,
    "start_time": "2025-01-21T03:48:19.215Z"
   },
   {
    "duration": 0,
    "start_time": "2025-01-21T03:48:19.216Z"
   },
   {
    "duration": 0,
    "start_time": "2025-01-21T03:48:19.217Z"
   },
   {
    "duration": 0,
    "start_time": "2025-01-21T03:48:19.218Z"
   },
   {
    "duration": 0,
    "start_time": "2025-01-21T03:48:19.219Z"
   },
   {
    "duration": 0,
    "start_time": "2025-01-21T03:48:19.220Z"
   },
   {
    "duration": 0,
    "start_time": "2025-01-21T03:48:19.221Z"
   },
   {
    "duration": 0,
    "start_time": "2025-01-21T03:48:19.222Z"
   },
   {
    "duration": 0,
    "start_time": "2025-01-21T03:48:19.223Z"
   },
   {
    "duration": 0,
    "start_time": "2025-01-21T03:48:19.225Z"
   },
   {
    "duration": 0,
    "start_time": "2025-01-21T03:48:19.226Z"
   },
   {
    "duration": 0,
    "start_time": "2025-01-21T03:48:19.227Z"
   },
   {
    "duration": 0,
    "start_time": "2025-01-21T03:48:19.228Z"
   },
   {
    "duration": 0,
    "start_time": "2025-01-21T03:48:19.230Z"
   },
   {
    "duration": 0,
    "start_time": "2025-01-21T03:48:19.231Z"
   },
   {
    "duration": 0,
    "start_time": "2025-01-21T03:48:19.233Z"
   },
   {
    "duration": 0,
    "start_time": "2025-01-21T03:48:19.234Z"
   },
   {
    "duration": 0,
    "start_time": "2025-01-21T03:48:19.236Z"
   },
   {
    "duration": 4,
    "start_time": "2025-01-21T03:48:36.861Z"
   },
   {
    "duration": 3,
    "start_time": "2025-01-21T03:48:36.867Z"
   },
   {
    "duration": 560,
    "start_time": "2025-01-21T03:48:36.872Z"
   },
   {
    "duration": 48,
    "start_time": "2025-01-21T03:48:37.434Z"
   },
   {
    "duration": 25,
    "start_time": "2025-01-21T03:48:37.485Z"
   },
   {
    "duration": 18,
    "start_time": "2025-01-21T03:48:37.511Z"
   },
   {
    "duration": 3,
    "start_time": "2025-01-21T03:48:37.530Z"
   },
   {
    "duration": 147,
    "start_time": "2025-01-21T03:48:37.535Z"
   },
   {
    "duration": 5,
    "start_time": "2025-01-21T03:48:37.684Z"
   },
   {
    "duration": 19,
    "start_time": "2025-01-21T03:48:37.691Z"
   },
   {
    "duration": 4,
    "start_time": "2025-01-21T03:48:37.713Z"
   },
   {
    "duration": 3,
    "start_time": "2025-01-21T03:48:37.718Z"
   },
   {
    "duration": 3,
    "start_time": "2025-01-21T03:48:37.723Z"
   },
   {
    "duration": 4,
    "start_time": "2025-01-21T03:48:37.731Z"
   },
   {
    "duration": 7,
    "start_time": "2025-01-21T03:48:37.736Z"
   },
   {
    "duration": 30,
    "start_time": "2025-01-21T03:48:37.744Z"
   },
   {
    "duration": 0,
    "start_time": "2025-01-21T03:48:37.777Z"
   },
   {
    "duration": 0,
    "start_time": "2025-01-21T03:48:37.809Z"
   },
   {
    "duration": 0,
    "start_time": "2025-01-21T03:48:37.811Z"
   },
   {
    "duration": 0,
    "start_time": "2025-01-21T03:48:37.812Z"
   },
   {
    "duration": 0,
    "start_time": "2025-01-21T03:48:37.813Z"
   },
   {
    "duration": 0,
    "start_time": "2025-01-21T03:48:37.814Z"
   },
   {
    "duration": 0,
    "start_time": "2025-01-21T03:48:37.815Z"
   },
   {
    "duration": 0,
    "start_time": "2025-01-21T03:48:37.816Z"
   },
   {
    "duration": 0,
    "start_time": "2025-01-21T03:48:37.818Z"
   },
   {
    "duration": 0,
    "start_time": "2025-01-21T03:48:37.820Z"
   },
   {
    "duration": 0,
    "start_time": "2025-01-21T03:48:37.821Z"
   },
   {
    "duration": 0,
    "start_time": "2025-01-21T03:48:37.822Z"
   },
   {
    "duration": 1,
    "start_time": "2025-01-21T03:48:37.823Z"
   },
   {
    "duration": 0,
    "start_time": "2025-01-21T03:48:37.824Z"
   },
   {
    "duration": 0,
    "start_time": "2025-01-21T03:48:37.825Z"
   },
   {
    "duration": 1,
    "start_time": "2025-01-21T03:48:37.826Z"
   },
   {
    "duration": 0,
    "start_time": "2025-01-21T03:48:37.827Z"
   },
   {
    "duration": 0,
    "start_time": "2025-01-21T03:48:37.829Z"
   },
   {
    "duration": 0,
    "start_time": "2025-01-21T03:48:37.830Z"
   },
   {
    "duration": 0,
    "start_time": "2025-01-21T03:48:37.831Z"
   },
   {
    "duration": 0,
    "start_time": "2025-01-21T03:48:37.831Z"
   },
   {
    "duration": 0,
    "start_time": "2025-01-21T03:48:37.833Z"
   },
   {
    "duration": 0,
    "start_time": "2025-01-21T03:48:37.834Z"
   },
   {
    "duration": 0,
    "start_time": "2025-01-21T03:48:37.836Z"
   },
   {
    "duration": 0,
    "start_time": "2025-01-21T03:48:37.837Z"
   },
   {
    "duration": 0,
    "start_time": "2025-01-21T03:48:37.838Z"
   },
   {
    "duration": 0,
    "start_time": "2025-01-21T03:48:37.841Z"
   },
   {
    "duration": 0,
    "start_time": "2025-01-21T03:48:37.842Z"
   },
   {
    "duration": 0,
    "start_time": "2025-01-21T03:48:37.843Z"
   },
   {
    "duration": 810,
    "start_time": "2025-01-21T03:49:01.253Z"
   },
   {
    "duration": 206,
    "start_time": "2025-01-21T03:49:02.065Z"
   },
   {
    "duration": 535,
    "start_time": "2025-01-21T03:49:02.273Z"
   },
   {
    "duration": 50,
    "start_time": "2025-01-21T03:49:02.810Z"
   },
   {
    "duration": 9,
    "start_time": "2025-01-21T03:49:02.862Z"
   },
   {
    "duration": 40,
    "start_time": "2025-01-21T03:49:02.872Z"
   },
   {
    "duration": 3,
    "start_time": "2025-01-21T03:49:02.914Z"
   },
   {
    "duration": 143,
    "start_time": "2025-01-21T03:49:02.918Z"
   },
   {
    "duration": 5,
    "start_time": "2025-01-21T03:49:03.063Z"
   },
   {
    "duration": 2,
    "start_time": "2025-01-21T03:49:03.070Z"
   },
   {
    "duration": 3,
    "start_time": "2025-01-21T03:49:03.074Z"
   },
   {
    "duration": 4,
    "start_time": "2025-01-21T03:49:03.078Z"
   },
   {
    "duration": 26,
    "start_time": "2025-01-21T03:49:03.084Z"
   },
   {
    "duration": 3,
    "start_time": "2025-01-21T03:49:03.114Z"
   },
   {
    "duration": 4,
    "start_time": "2025-01-21T03:49:03.119Z"
   },
   {
    "duration": 270,
    "start_time": "2025-01-21T03:49:03.124Z"
   },
   {
    "duration": 0,
    "start_time": "2025-01-21T03:49:03.396Z"
   },
   {
    "duration": 0,
    "start_time": "2025-01-21T03:49:03.398Z"
   },
   {
    "duration": 0,
    "start_time": "2025-01-21T03:49:03.400Z"
   },
   {
    "duration": 0,
    "start_time": "2025-01-21T03:49:03.401Z"
   },
   {
    "duration": 0,
    "start_time": "2025-01-21T03:49:03.409Z"
   },
   {
    "duration": 0,
    "start_time": "2025-01-21T03:49:03.410Z"
   },
   {
    "duration": 0,
    "start_time": "2025-01-21T03:49:03.412Z"
   },
   {
    "duration": 0,
    "start_time": "2025-01-21T03:49:03.413Z"
   },
   {
    "duration": 0,
    "start_time": "2025-01-21T03:49:03.414Z"
   },
   {
    "duration": 0,
    "start_time": "2025-01-21T03:49:03.415Z"
   },
   {
    "duration": 0,
    "start_time": "2025-01-21T03:49:03.416Z"
   },
   {
    "duration": 0,
    "start_time": "2025-01-21T03:49:03.417Z"
   },
   {
    "duration": 0,
    "start_time": "2025-01-21T03:49:03.418Z"
   },
   {
    "duration": 0,
    "start_time": "2025-01-21T03:49:03.419Z"
   },
   {
    "duration": 0,
    "start_time": "2025-01-21T03:49:03.420Z"
   },
   {
    "duration": 0,
    "start_time": "2025-01-21T03:49:03.421Z"
   },
   {
    "duration": 0,
    "start_time": "2025-01-21T03:49:03.423Z"
   },
   {
    "duration": 0,
    "start_time": "2025-01-21T03:49:03.424Z"
   },
   {
    "duration": 0,
    "start_time": "2025-01-21T03:49:03.425Z"
   },
   {
    "duration": 0,
    "start_time": "2025-01-21T03:49:03.426Z"
   },
   {
    "duration": 0,
    "start_time": "2025-01-21T03:49:03.427Z"
   },
   {
    "duration": 0,
    "start_time": "2025-01-21T03:49:03.428Z"
   },
   {
    "duration": 0,
    "start_time": "2025-01-21T03:49:03.429Z"
   },
   {
    "duration": 0,
    "start_time": "2025-01-21T03:49:03.430Z"
   },
   {
    "duration": 0,
    "start_time": "2025-01-21T03:49:03.431Z"
   },
   {
    "duration": 0,
    "start_time": "2025-01-21T03:49:03.432Z"
   },
   {
    "duration": 0,
    "start_time": "2025-01-21T03:49:03.434Z"
   },
   {
    "duration": 0,
    "start_time": "2025-01-21T03:49:03.434Z"
   },
   {
    "duration": 0,
    "start_time": "2025-01-21T03:49:03.435Z"
   },
   {
    "duration": 0,
    "start_time": "2025-01-21T03:49:03.436Z"
   },
   {
    "duration": 0,
    "start_time": "2025-01-21T03:49:03.437Z"
   },
   {
    "duration": 0,
    "start_time": "2025-01-21T03:49:03.438Z"
   },
   {
    "duration": 0,
    "start_time": "2025-01-21T03:49:03.439Z"
   },
   {
    "duration": 11,
    "start_time": "2025-01-21T03:50:27.211Z"
   },
   {
    "duration": 15,
    "start_time": "2025-01-21T03:50:35.831Z"
   },
   {
    "duration": 3,
    "start_time": "2025-01-21T03:52:39.120Z"
   },
   {
    "duration": 2,
    "start_time": "2025-01-21T03:52:39.128Z"
   },
   {
    "duration": 519,
    "start_time": "2025-01-21T03:52:39.133Z"
   },
   {
    "duration": 56,
    "start_time": "2025-01-21T03:52:39.654Z"
   },
   {
    "duration": 9,
    "start_time": "2025-01-21T03:52:39.711Z"
   },
   {
    "duration": 17,
    "start_time": "2025-01-21T03:52:39.722Z"
   },
   {
    "duration": 3,
    "start_time": "2025-01-21T03:52:39.741Z"
   },
   {
    "duration": 160,
    "start_time": "2025-01-21T03:52:39.746Z"
   },
   {
    "duration": 4,
    "start_time": "2025-01-21T03:52:39.908Z"
   },
   {
    "duration": 3,
    "start_time": "2025-01-21T03:52:39.914Z"
   },
   {
    "duration": 3,
    "start_time": "2025-01-21T03:52:39.918Z"
   },
   {
    "duration": 2,
    "start_time": "2025-01-21T03:52:39.923Z"
   },
   {
    "duration": 3,
    "start_time": "2025-01-21T03:52:39.927Z"
   },
   {
    "duration": 4,
    "start_time": "2025-01-21T03:52:39.932Z"
   },
   {
    "duration": 4,
    "start_time": "2025-01-21T03:52:39.938Z"
   },
   {
    "duration": 10,
    "start_time": "2025-01-21T03:52:39.943Z"
   },
   {
    "duration": 15,
    "start_time": "2025-01-21T03:52:44.829Z"
   },
   {
    "duration": 3,
    "start_time": "2025-01-21T03:52:59.787Z"
   },
   {
    "duration": 3,
    "start_time": "2025-01-21T03:52:59.794Z"
   },
   {
    "duration": 520,
    "start_time": "2025-01-21T03:52:59.799Z"
   },
   {
    "duration": 51,
    "start_time": "2025-01-21T03:53:00.322Z"
   },
   {
    "duration": 9,
    "start_time": "2025-01-21T03:53:00.374Z"
   },
   {
    "duration": 42,
    "start_time": "2025-01-21T03:53:00.385Z"
   },
   {
    "duration": 3,
    "start_time": "2025-01-21T03:53:00.430Z"
   },
   {
    "duration": 150,
    "start_time": "2025-01-21T03:53:00.435Z"
   },
   {
    "duration": 4,
    "start_time": "2025-01-21T03:53:00.587Z"
   },
   {
    "duration": 16,
    "start_time": "2025-01-21T03:53:00.593Z"
   },
   {
    "duration": 3,
    "start_time": "2025-01-21T03:53:00.611Z"
   },
   {
    "duration": 2,
    "start_time": "2025-01-21T03:53:00.617Z"
   },
   {
    "duration": 3,
    "start_time": "2025-01-21T03:53:00.621Z"
   },
   {
    "duration": 4,
    "start_time": "2025-01-21T03:53:00.626Z"
   },
   {
    "duration": 4,
    "start_time": "2025-01-21T03:53:00.631Z"
   },
   {
    "duration": 10,
    "start_time": "2025-01-21T03:53:00.637Z"
   },
   {
    "duration": 15,
    "start_time": "2025-01-21T03:53:03.169Z"
   },
   {
    "duration": 3,
    "start_time": "2025-01-21T03:53:26.274Z"
   },
   {
    "duration": 4,
    "start_time": "2025-01-21T03:53:26.279Z"
   },
   {
    "duration": 482,
    "start_time": "2025-01-21T03:53:26.284Z"
   },
   {
    "duration": 53,
    "start_time": "2025-01-21T03:53:26.768Z"
   },
   {
    "duration": 8,
    "start_time": "2025-01-21T03:53:26.823Z"
   },
   {
    "duration": 16,
    "start_time": "2025-01-21T03:53:26.832Z"
   },
   {
    "duration": 3,
    "start_time": "2025-01-21T03:53:26.850Z"
   },
   {
    "duration": 146,
    "start_time": "2025-01-21T03:53:26.855Z"
   },
   {
    "duration": 8,
    "start_time": "2025-01-21T03:53:27.003Z"
   },
   {
    "duration": 2,
    "start_time": "2025-01-21T03:53:27.015Z"
   },
   {
    "duration": 3,
    "start_time": "2025-01-21T03:53:27.019Z"
   },
   {
    "duration": 3,
    "start_time": "2025-01-21T03:53:27.023Z"
   },
   {
    "duration": 3,
    "start_time": "2025-01-21T03:53:27.027Z"
   },
   {
    "duration": 5,
    "start_time": "2025-01-21T03:53:27.032Z"
   },
   {
    "duration": 4,
    "start_time": "2025-01-21T03:53:27.038Z"
   },
   {
    "duration": 9,
    "start_time": "2025-01-21T03:53:27.043Z"
   },
   {
    "duration": 56,
    "start_time": "2025-01-21T03:53:27.054Z"
   },
   {
    "duration": 3,
    "start_time": "2025-01-21T03:53:27.111Z"
   },
   {
    "duration": 189,
    "start_time": "2025-01-21T03:53:27.116Z"
   },
   {
    "duration": 9,
    "start_time": "2025-01-21T03:53:27.310Z"
   },
   {
    "duration": 7,
    "start_time": "2025-01-21T03:53:27.321Z"
   },
   {
    "duration": 7,
    "start_time": "2025-01-21T03:53:27.329Z"
   },
   {
    "duration": 6,
    "start_time": "2025-01-21T03:53:27.337Z"
   },
   {
    "duration": 7,
    "start_time": "2025-01-21T03:53:27.345Z"
   },
   {
    "duration": 5,
    "start_time": "2025-01-21T03:53:27.354Z"
   },
   {
    "duration": 5,
    "start_time": "2025-01-21T03:53:27.360Z"
   },
   {
    "duration": 260,
    "start_time": "2025-01-21T03:53:27.409Z"
   },
   {
    "duration": 259,
    "start_time": "2025-01-21T03:53:27.673Z"
   },
   {
    "duration": 325,
    "start_time": "2025-01-21T03:53:27.934Z"
   },
   {
    "duration": 3,
    "start_time": "2025-01-21T03:53:28.261Z"
   },
   {
    "duration": 458,
    "start_time": "2025-01-21T03:53:28.266Z"
   },
   {
    "duration": 4,
    "start_time": "2025-01-21T03:53:28.726Z"
   },
   {
    "duration": 755,
    "start_time": "2025-01-21T03:53:28.731Z"
   },
   {
    "duration": 3,
    "start_time": "2025-01-21T03:53:29.489Z"
   },
   {
    "duration": 191,
    "start_time": "2025-01-21T03:53:29.493Z"
   },
   {
    "duration": 3,
    "start_time": "2025-01-21T03:53:29.686Z"
   },
   {
    "duration": 189,
    "start_time": "2025-01-21T03:53:29.691Z"
   },
   {
    "duration": 4,
    "start_time": "2025-01-21T03:53:29.882Z"
   },
   {
    "duration": 186,
    "start_time": "2025-01-21T03:53:29.887Z"
   },
   {
    "duration": 5,
    "start_time": "2025-01-21T03:53:30.075Z"
   },
   {
    "duration": 3,
    "start_time": "2025-01-21T03:53:30.082Z"
   },
   {
    "duration": 5,
    "start_time": "2025-01-21T03:53:30.086Z"
   },
   {
    "duration": 14,
    "start_time": "2025-01-21T03:53:30.108Z"
   },
   {
    "duration": 3,
    "start_time": "2025-01-21T03:53:30.124Z"
   },
   {
    "duration": 3,
    "start_time": "2025-01-21T03:53:30.129Z"
   },
   {
    "duration": 15,
    "start_time": "2025-01-21T03:53:30.134Z"
   },
   {
    "duration": 1090,
    "start_time": "2025-01-21T03:53:32.532Z"
   },
   {
    "duration": 5,
    "start_time": "2025-01-21T03:53:59.601Z"
   },
   {
    "duration": 5,
    "start_time": "2025-01-21T03:54:01.338Z"
   },
   {
    "duration": 13,
    "start_time": "2025-01-21T03:54:02.339Z"
   },
   {
    "duration": 3,
    "start_time": "2025-01-21T03:54:04.717Z"
   },
   {
    "duration": 2,
    "start_time": "2025-01-21T03:54:06.445Z"
   },
   {
    "duration": 18,
    "start_time": "2025-01-21T03:54:07.709Z"
   },
   {
    "duration": 1242,
    "start_time": "2025-01-21T03:54:10.368Z"
   },
   {
    "duration": 6600,
    "start_time": "2025-01-21T03:54:29.940Z"
   },
   {
    "duration": 39150,
    "start_time": "2025-01-21T03:54:36.543Z"
   },
   {
    "duration": 39177,
    "start_time": "2025-01-21T04:10:04.077Z"
   },
   {
    "duration": 39215,
    "start_time": "2025-01-21T04:15:39.179Z"
   },
   {
    "duration": 2603,
    "start_time": "2025-01-21T18:57:52.448Z"
   },
   {
    "duration": 166,
    "start_time": "2025-01-21T18:57:55.054Z"
   },
   {
    "duration": 645,
    "start_time": "2025-01-21T18:57:55.222Z"
   },
   {
    "duration": 57,
    "start_time": "2025-01-21T18:57:55.870Z"
   },
   {
    "duration": 8,
    "start_time": "2025-01-21T18:57:55.930Z"
   },
   {
    "duration": 20,
    "start_time": "2025-01-21T18:57:55.940Z"
   },
   {
    "duration": 4,
    "start_time": "2025-01-21T18:57:55.962Z"
   },
   {
    "duration": 161,
    "start_time": "2025-01-21T18:57:55.967Z"
   },
   {
    "duration": 5,
    "start_time": "2025-01-21T18:57:56.130Z"
   },
   {
    "duration": 3,
    "start_time": "2025-01-21T18:57:56.139Z"
   },
   {
    "duration": 3,
    "start_time": "2025-01-21T18:57:56.144Z"
   },
   {
    "duration": 3,
    "start_time": "2025-01-21T18:57:56.148Z"
   },
   {
    "duration": 3,
    "start_time": "2025-01-21T18:57:56.152Z"
   },
   {
    "duration": 5,
    "start_time": "2025-01-21T18:57:56.157Z"
   },
   {
    "duration": 4,
    "start_time": "2025-01-21T18:57:56.163Z"
   },
   {
    "duration": 48,
    "start_time": "2025-01-21T18:57:56.169Z"
   },
   {
    "duration": 15,
    "start_time": "2025-01-21T18:57:56.219Z"
   },
   {
    "duration": 2,
    "start_time": "2025-01-21T18:57:56.236Z"
   },
   {
    "duration": 193,
    "start_time": "2025-01-21T18:57:56.240Z"
   },
   {
    "duration": 11,
    "start_time": "2025-01-21T18:57:56.435Z"
   },
   {
    "duration": 7,
    "start_time": "2025-01-21T18:57:56.449Z"
   },
   {
    "duration": 7,
    "start_time": "2025-01-21T18:57:56.457Z"
   },
   {
    "duration": 7,
    "start_time": "2025-01-21T18:57:56.465Z"
   },
   {
    "duration": 41,
    "start_time": "2025-01-21T18:57:56.474Z"
   },
   {
    "duration": 6,
    "start_time": "2025-01-21T18:57:56.517Z"
   },
   {
    "duration": 5,
    "start_time": "2025-01-21T18:57:56.524Z"
   },
   {
    "duration": 337,
    "start_time": "2025-01-21T18:57:56.532Z"
   },
   {
    "duration": 261,
    "start_time": "2025-01-21T18:57:56.874Z"
   },
   {
    "duration": 294,
    "start_time": "2025-01-21T18:57:57.138Z"
   },
   {
    "duration": 4,
    "start_time": "2025-01-21T18:57:57.434Z"
   },
   {
    "duration": 484,
    "start_time": "2025-01-21T18:57:57.439Z"
   },
   {
    "duration": 3,
    "start_time": "2025-01-21T18:57:57.925Z"
   },
   {
    "duration": 769,
    "start_time": "2025-01-21T18:57:57.930Z"
   },
   {
    "duration": 5,
    "start_time": "2025-01-21T18:57:58.709Z"
   },
   {
    "duration": 194,
    "start_time": "2025-01-21T18:57:58.717Z"
   },
   {
    "duration": 4,
    "start_time": "2025-01-21T18:57:58.913Z"
   },
   {
    "duration": 185,
    "start_time": "2025-01-21T18:57:58.919Z"
   },
   {
    "duration": 4,
    "start_time": "2025-01-21T18:57:59.109Z"
   },
   {
    "duration": 187,
    "start_time": "2025-01-21T18:57:59.115Z"
   },
   {
    "duration": 6,
    "start_time": "2025-01-21T18:57:59.304Z"
   },
   {
    "duration": 5,
    "start_time": "2025-01-21T18:57:59.312Z"
   },
   {
    "duration": 14,
    "start_time": "2025-01-21T18:57:59.319Z"
   },
   {
    "duration": 3,
    "start_time": "2025-01-21T18:57:59.334Z"
   },
   {
    "duration": 3,
    "start_time": "2025-01-21T18:57:59.339Z"
   },
   {
    "duration": 16,
    "start_time": "2025-01-21T18:57:59.344Z"
   },
   {
    "duration": 1365,
    "start_time": "2025-01-21T18:57:59.362Z"
   },
   {
    "duration": 6731,
    "start_time": "2025-01-21T18:58:00.729Z"
   },
   {
    "duration": 39261,
    "start_time": "2025-01-21T18:58:07.462Z"
   },
   {
    "duration": 236,
    "start_time": "2025-01-21T18:58:46.724Z"
   },
   {
    "duration": 19,
    "start_time": "2025-01-21T18:59:05.552Z"
   },
   {
    "duration": 3,
    "start_time": "2025-01-21T18:59:35.547Z"
   },
   {
    "duration": 10140,
    "start_time": "2025-01-21T19:00:49.707Z"
   },
   {
    "duration": 2614,
    "start_time": "2025-01-22T18:40:55.468Z"
   },
   {
    "duration": 167,
    "start_time": "2025-01-22T18:40:58.084Z"
   },
   {
    "duration": 633,
    "start_time": "2025-01-22T18:40:58.253Z"
   },
   {
    "duration": 56,
    "start_time": "2025-01-22T18:40:58.888Z"
   },
   {
    "duration": 8,
    "start_time": "2025-01-22T18:40:58.946Z"
   },
   {
    "duration": 19,
    "start_time": "2025-01-22T18:40:58.955Z"
   },
   {
    "duration": 3,
    "start_time": "2025-01-22T18:40:58.976Z"
   },
   {
    "duration": 136,
    "start_time": "2025-01-22T18:41:00.968Z"
   },
   {
    "duration": 5,
    "start_time": "2025-01-22T18:41:03.307Z"
   },
   {
    "duration": 2,
    "start_time": "2025-01-22T18:41:05.119Z"
   },
   {
    "duration": 3,
    "start_time": "2025-01-22T18:41:05.971Z"
   },
   {
    "duration": 3,
    "start_time": "2025-01-22T18:41:07.013Z"
   },
   {
    "duration": 3,
    "start_time": "2025-01-22T18:41:08.862Z"
   },
   {
    "duration": 4,
    "start_time": "2025-01-22T18:41:11.256Z"
   },
   {
    "duration": 4,
    "start_time": "2025-01-22T18:41:14.275Z"
   },
   {
    "duration": 12,
    "start_time": "2025-01-22T18:41:15.903Z"
   },
   {
    "duration": 22,
    "start_time": "2025-01-22T18:41:17.425Z"
   },
   {
    "duration": 3,
    "start_time": "2025-01-22T18:41:20.016Z"
   },
   {
    "duration": 179,
    "start_time": "2025-01-22T18:41:21.095Z"
   },
   {
    "duration": 12,
    "start_time": "2025-01-22T18:41:22.714Z"
   },
   {
    "duration": 9,
    "start_time": "2025-01-22T18:41:24.653Z"
   },
   {
    "duration": 9,
    "start_time": "2025-01-22T18:41:26.976Z"
   },
   {
    "duration": 10,
    "start_time": "2025-01-22T18:41:28.579Z"
   },
   {
    "duration": 10,
    "start_time": "2025-01-22T18:41:31.415Z"
   },
   {
    "duration": 6,
    "start_time": "2025-01-22T18:41:32.697Z"
   },
   {
    "duration": 6,
    "start_time": "2025-01-22T18:41:37.090Z"
   },
   {
    "duration": 398,
    "start_time": "2025-01-22T18:41:38.282Z"
   },
   {
    "duration": 293,
    "start_time": "2025-01-22T18:41:41.762Z"
   },
   {
    "duration": 280,
    "start_time": "2025-01-22T18:41:44.422Z"
   },
   {
    "duration": 3,
    "start_time": "2025-01-22T18:42:06.233Z"
   },
   {
    "duration": 524,
    "start_time": "2025-01-22T18:42:07.286Z"
   },
   {
    "duration": 5,
    "start_time": "2025-01-22T18:42:10.137Z"
   },
   {
    "duration": 770,
    "start_time": "2025-01-22T18:42:11.097Z"
   },
   {
    "duration": 3,
    "start_time": "2025-01-22T18:42:16.260Z"
   },
   {
    "duration": 202,
    "start_time": "2025-01-22T18:42:17.588Z"
   },
   {
    "duration": 3,
    "start_time": "2025-01-22T18:42:20.363Z"
   },
   {
    "duration": 195,
    "start_time": "2025-01-22T18:42:21.379Z"
   },
   {
    "duration": 4,
    "start_time": "2025-01-22T18:42:24.109Z"
   },
   {
    "duration": 185,
    "start_time": "2025-01-22T18:42:25.064Z"
   },
   {
    "duration": 6,
    "start_time": "2025-01-22T18:42:28.015Z"
   },
   {
    "duration": 7,
    "start_time": "2025-01-22T18:42:30.034Z"
   },
   {
    "duration": 18,
    "start_time": "2025-01-22T18:42:30.949Z"
   },
   {
    "duration": 4,
    "start_time": "2025-01-22T18:42:32.031Z"
   },
   {
    "duration": 3,
    "start_time": "2025-01-22T18:42:33.611Z"
   },
   {
    "duration": 21,
    "start_time": "2025-01-22T18:42:35.603Z"
   },
   {
    "duration": 1413,
    "start_time": "2025-01-22T18:42:40.626Z"
   },
   {
    "duration": 4,
    "start_time": "2025-01-22T18:43:57.560Z"
   },
   {
    "duration": 762,
    "start_time": "2025-01-22T18:46:02.384Z"
   },
   {
    "duration": 6668,
    "start_time": "2025-01-22T18:46:24.432Z"
   },
   {
    "duration": 39786,
    "start_time": "2025-01-22T18:46:48.327Z"
   },
   {
    "duration": 3,
    "start_time": "2025-01-22T18:52:56.371Z"
   },
   {
    "duration": 3,
    "start_time": "2025-01-22T19:00:33.863Z"
   },
   {
    "duration": 315,
    "start_time": "2025-01-22T19:00:35.297Z"
   },
   {
    "duration": 3,
    "start_time": "2025-01-22T19:01:10.427Z"
   },
   {
    "duration": 3,
    "start_time": "2025-01-22T19:01:17.053Z"
   },
   {
    "duration": 15,
    "start_time": "2025-01-22T19:01:19.159Z"
   },
   {
    "duration": 2,
    "start_time": "2025-01-22T19:01:54.265Z"
   },
   {
    "duration": 792,
    "start_time": "2025-01-22T19:18:32.837Z"
   },
   {
    "duration": 220,
    "start_time": "2025-01-22T19:18:33.632Z"
   },
   {
    "duration": 494,
    "start_time": "2025-01-22T19:18:33.854Z"
   },
   {
    "duration": 52,
    "start_time": "2025-01-22T19:18:34.350Z"
   },
   {
    "duration": 28,
    "start_time": "2025-01-22T19:18:34.404Z"
   },
   {
    "duration": 23,
    "start_time": "2025-01-22T19:18:34.434Z"
   },
   {
    "duration": 3,
    "start_time": "2025-01-22T19:18:34.459Z"
   },
   {
    "duration": 170,
    "start_time": "2025-01-22T19:18:34.465Z"
   },
   {
    "duration": 5,
    "start_time": "2025-01-22T19:18:34.637Z"
   },
   {
    "duration": 3,
    "start_time": "2025-01-22T19:18:34.645Z"
   },
   {
    "duration": 3,
    "start_time": "2025-01-22T19:18:34.650Z"
   },
   {
    "duration": 3,
    "start_time": "2025-01-22T19:18:34.655Z"
   },
   {
    "duration": 3,
    "start_time": "2025-01-22T19:18:34.660Z"
   },
   {
    "duration": 6,
    "start_time": "2025-01-22T19:18:34.666Z"
   },
   {
    "duration": 4,
    "start_time": "2025-01-22T19:18:34.675Z"
   },
   {
    "duration": 10,
    "start_time": "2025-01-22T19:18:34.731Z"
   },
   {
    "duration": 15,
    "start_time": "2025-01-22T19:18:34.743Z"
   },
   {
    "duration": 2,
    "start_time": "2025-01-22T19:18:34.760Z"
   },
   {
    "duration": 201,
    "start_time": "2025-01-22T19:18:34.764Z"
   },
   {
    "duration": 10,
    "start_time": "2025-01-22T19:18:34.968Z"
   },
   {
    "duration": 7,
    "start_time": "2025-01-22T19:18:34.981Z"
   },
   {
    "duration": 8,
    "start_time": "2025-01-22T19:18:34.990Z"
   },
   {
    "duration": 36,
    "start_time": "2025-01-22T19:18:34.999Z"
   },
   {
    "duration": 9,
    "start_time": "2025-01-22T19:18:35.036Z"
   },
   {
    "duration": 6,
    "start_time": "2025-01-22T19:18:35.047Z"
   },
   {
    "duration": 4,
    "start_time": "2025-01-22T19:18:35.055Z"
   },
   {
    "duration": 287,
    "start_time": "2025-01-22T19:18:35.061Z"
   },
   {
    "duration": 270,
    "start_time": "2025-01-22T19:18:35.354Z"
   },
   {
    "duration": 266,
    "start_time": "2025-01-22T19:18:35.625Z"
   },
   {
    "duration": 3,
    "start_time": "2025-01-22T19:18:35.893Z"
   },
   {
    "duration": 457,
    "start_time": "2025-01-22T19:18:35.898Z"
   },
   {
    "duration": 4,
    "start_time": "2025-01-22T19:18:36.357Z"
   },
   {
    "duration": 758,
    "start_time": "2025-01-22T19:18:36.363Z"
   },
   {
    "duration": 4,
    "start_time": "2025-01-22T19:18:37.131Z"
   },
   {
    "duration": 268,
    "start_time": "2025-01-22T19:18:37.137Z"
   },
   {
    "duration": 4,
    "start_time": "2025-01-22T19:18:37.407Z"
   },
   {
    "duration": 187,
    "start_time": "2025-01-22T19:18:37.412Z"
   },
   {
    "duration": 4,
    "start_time": "2025-01-22T19:18:37.601Z"
   },
   {
    "duration": 209,
    "start_time": "2025-01-22T19:18:37.606Z"
   },
   {
    "duration": 20,
    "start_time": "2025-01-22T19:18:37.817Z"
   },
   {
    "duration": 6,
    "start_time": "2025-01-22T19:18:37.838Z"
   },
   {
    "duration": 15,
    "start_time": "2025-01-22T19:18:37.845Z"
   },
   {
    "duration": 3,
    "start_time": "2025-01-22T19:18:37.862Z"
   },
   {
    "duration": 4,
    "start_time": "2025-01-22T19:18:37.867Z"
   },
   {
    "duration": 3,
    "start_time": "2025-01-22T19:18:37.873Z"
   },
   {
    "duration": 2,
    "start_time": "2025-01-22T19:18:37.878Z"
   },
   {
    "duration": 3,
    "start_time": "2025-01-22T19:18:37.882Z"
   },
   {
    "duration": 164788,
    "start_time": "2025-01-22T19:18:37.887Z"
   },
   {
    "duration": 150239,
    "start_time": "2025-01-22T19:21:22.677Z"
   },
   {
    "duration": 5,
    "start_time": "2025-01-22T19:23:52.918Z"
   },
   {
    "duration": 3,
    "start_time": "2025-01-22T19:23:52.932Z"
   },
   {
    "duration": 3,
    "start_time": "2025-01-22T19:23:52.937Z"
   },
   {
    "duration": 2490,
    "start_time": "2025-01-23T06:57:48.619Z"
   },
   {
    "duration": 162,
    "start_time": "2025-01-23T06:57:51.112Z"
   },
   {
    "duration": 639,
    "start_time": "2025-01-23T06:57:51.276Z"
   },
   {
    "duration": 48,
    "start_time": "2025-01-23T06:57:51.918Z"
   },
   {
    "duration": 18,
    "start_time": "2025-01-23T06:57:51.968Z"
   },
   {
    "duration": 19,
    "start_time": "2025-01-23T06:57:51.988Z"
   },
   {
    "duration": 4,
    "start_time": "2025-01-23T06:57:52.009Z"
   },
   {
    "duration": 154,
    "start_time": "2025-01-23T06:57:52.014Z"
   },
   {
    "duration": 4,
    "start_time": "2025-01-23T06:57:52.170Z"
   },
   {
    "duration": 11,
    "start_time": "2025-01-23T06:57:52.177Z"
   },
   {
    "duration": 3,
    "start_time": "2025-01-23T06:57:52.189Z"
   },
   {
    "duration": 3,
    "start_time": "2025-01-23T06:57:52.193Z"
   },
   {
    "duration": 4,
    "start_time": "2025-01-23T06:57:52.197Z"
   },
   {
    "duration": 5,
    "start_time": "2025-01-23T06:57:52.203Z"
   },
   {
    "duration": 3,
    "start_time": "2025-01-23T06:57:52.210Z"
   },
   {
    "duration": 9,
    "start_time": "2025-01-23T06:57:52.214Z"
   },
   {
    "duration": 16,
    "start_time": "2025-01-23T06:57:52.225Z"
   },
   {
    "duration": 45,
    "start_time": "2025-01-23T06:57:52.243Z"
   },
   {
    "duration": 235,
    "start_time": "2025-01-23T06:57:52.290Z"
   },
   {
    "duration": 10,
    "start_time": "2025-01-23T06:57:52.527Z"
   },
   {
    "duration": 7,
    "start_time": "2025-01-23T06:57:52.538Z"
   },
   {
    "duration": 6,
    "start_time": "2025-01-23T06:57:52.546Z"
   },
   {
    "duration": 5,
    "start_time": "2025-01-23T06:57:52.553Z"
   },
   {
    "duration": 32,
    "start_time": "2025-01-23T06:57:52.560Z"
   },
   {
    "duration": 5,
    "start_time": "2025-01-23T06:57:52.594Z"
   },
   {
    "duration": 4,
    "start_time": "2025-01-23T06:57:52.600Z"
   },
   {
    "duration": 273,
    "start_time": "2025-01-23T06:57:52.606Z"
   },
   {
    "duration": 245,
    "start_time": "2025-01-23T06:57:52.886Z"
   },
   {
    "duration": 264,
    "start_time": "2025-01-23T06:57:53.133Z"
   },
   {
    "duration": 3,
    "start_time": "2025-01-23T06:57:53.399Z"
   },
   {
    "duration": 501,
    "start_time": "2025-01-23T06:57:53.404Z"
   },
   {
    "duration": 3,
    "start_time": "2025-01-23T06:57:53.907Z"
   },
   {
    "duration": 781,
    "start_time": "2025-01-23T06:57:53.912Z"
   },
   {
    "duration": 3,
    "start_time": "2025-01-23T06:57:54.696Z"
   },
   {
    "duration": 188,
    "start_time": "2025-01-23T06:57:54.701Z"
   },
   {
    "duration": 3,
    "start_time": "2025-01-23T06:57:54.891Z"
   },
   {
    "duration": 187,
    "start_time": "2025-01-23T06:57:54.895Z"
   },
   {
    "duration": 3,
    "start_time": "2025-01-23T06:57:55.086Z"
   },
   {
    "duration": 252,
    "start_time": "2025-01-23T06:57:55.091Z"
   },
   {
    "duration": 4,
    "start_time": "2025-01-23T06:57:55.345Z"
   },
   {
    "duration": 4,
    "start_time": "2025-01-23T06:57:55.351Z"
   },
   {
    "duration": 30,
    "start_time": "2025-01-23T06:57:55.357Z"
   },
   {
    "duration": 3,
    "start_time": "2025-01-23T06:57:55.388Z"
   },
   {
    "duration": 4,
    "start_time": "2025-01-23T06:57:55.393Z"
   },
   {
    "duration": 3,
    "start_time": "2025-01-23T07:00:09.261Z"
   },
   {
    "duration": 234,
    "start_time": "2025-01-23T07:00:11.953Z"
   },
   {
    "duration": 3,
    "start_time": "2025-01-23T07:00:50.189Z"
   },
   {
    "duration": 3,
    "start_time": "2025-01-23T07:00:50.198Z"
   },
   {
    "duration": 521,
    "start_time": "2025-01-23T07:00:50.203Z"
   },
   {
    "duration": 47,
    "start_time": "2025-01-23T07:00:50.726Z"
   },
   {
    "duration": 8,
    "start_time": "2025-01-23T07:00:50.787Z"
   },
   {
    "duration": 19,
    "start_time": "2025-01-23T07:00:50.797Z"
   },
   {
    "duration": 3,
    "start_time": "2025-01-23T07:00:50.817Z"
   },
   {
    "duration": 154,
    "start_time": "2025-01-23T07:00:50.822Z"
   },
   {
    "duration": 10,
    "start_time": "2025-01-23T07:00:50.977Z"
   },
   {
    "duration": 3,
    "start_time": "2025-01-23T07:00:50.991Z"
   },
   {
    "duration": 3,
    "start_time": "2025-01-23T07:00:50.995Z"
   },
   {
    "duration": 2,
    "start_time": "2025-01-23T07:00:51.000Z"
   },
   {
    "duration": 3,
    "start_time": "2025-01-23T07:00:51.004Z"
   },
   {
    "duration": 5,
    "start_time": "2025-01-23T07:00:51.009Z"
   },
   {
    "duration": 3,
    "start_time": "2025-01-23T07:00:51.016Z"
   },
   {
    "duration": 9,
    "start_time": "2025-01-23T07:00:51.021Z"
   },
   {
    "duration": 56,
    "start_time": "2025-01-23T07:00:51.032Z"
   },
   {
    "duration": 2,
    "start_time": "2025-01-23T07:00:51.090Z"
   },
   {
    "duration": 169,
    "start_time": "2025-01-23T07:00:51.094Z"
   },
   {
    "duration": 10,
    "start_time": "2025-01-23T07:00:51.264Z"
   },
   {
    "duration": 6,
    "start_time": "2025-01-23T07:00:51.286Z"
   },
   {
    "duration": 6,
    "start_time": "2025-01-23T07:00:51.294Z"
   },
   {
    "duration": 5,
    "start_time": "2025-01-23T07:00:51.302Z"
   },
   {
    "duration": 8,
    "start_time": "2025-01-23T07:00:51.308Z"
   },
   {
    "duration": 5,
    "start_time": "2025-01-23T07:00:51.319Z"
   },
   {
    "duration": 4,
    "start_time": "2025-01-23T07:00:51.326Z"
   },
   {
    "duration": 272,
    "start_time": "2025-01-23T07:00:51.332Z"
   },
   {
    "duration": 250,
    "start_time": "2025-01-23T07:00:51.607Z"
   },
   {
    "duration": 261,
    "start_time": "2025-01-23T07:00:51.859Z"
   },
   {
    "duration": 4,
    "start_time": "2025-01-23T07:00:52.122Z"
   },
   {
    "duration": 567,
    "start_time": "2025-01-23T07:00:52.128Z"
   },
   {
    "duration": 3,
    "start_time": "2025-01-23T07:00:52.697Z"
   },
   {
    "duration": 771,
    "start_time": "2025-01-23T07:00:52.702Z"
   },
   {
    "duration": 4,
    "start_time": "2025-01-23T07:00:53.474Z"
   },
   {
    "duration": 180,
    "start_time": "2025-01-23T07:00:53.487Z"
   },
   {
    "duration": 4,
    "start_time": "2025-01-23T07:00:53.669Z"
   },
   {
    "duration": 188,
    "start_time": "2025-01-23T07:00:53.674Z"
   },
   {
    "duration": 3,
    "start_time": "2025-01-23T07:00:53.864Z"
   },
   {
    "duration": 187,
    "start_time": "2025-01-23T07:00:53.869Z"
   },
   {
    "duration": 5,
    "start_time": "2025-01-23T07:00:54.058Z"
   },
   {
    "duration": 4,
    "start_time": "2025-01-23T07:00:54.065Z"
   },
   {
    "duration": 24,
    "start_time": "2025-01-23T07:00:54.071Z"
   },
   {
    "duration": 5,
    "start_time": "2025-01-23T07:00:54.096Z"
   },
   {
    "duration": 3,
    "start_time": "2025-01-23T07:00:54.103Z"
   },
   {
    "duration": 3,
    "start_time": "2025-01-23T07:00:54.107Z"
   },
   {
    "duration": 3,
    "start_time": "2025-01-23T07:00:54.112Z"
   },
   {
    "duration": 3,
    "start_time": "2025-01-23T07:00:54.116Z"
   },
   {
    "duration": 162864,
    "start_time": "2025-01-23T07:00:54.122Z"
   },
   {
    "duration": 148007,
    "start_time": "2025-01-23T07:03:36.988Z"
   },
   {
    "duration": 5,
    "start_time": "2025-01-23T07:06:04.997Z"
   },
   {
    "duration": 2,
    "start_time": "2025-01-23T07:06:05.004Z"
   },
   {
    "duration": 2571,
    "start_time": "2025-01-23T16:16:43.827Z"
   },
   {
    "duration": 161,
    "start_time": "2025-01-23T16:16:46.401Z"
   },
   {
    "duration": 603,
    "start_time": "2025-01-23T16:16:46.564Z"
   },
   {
    "duration": 63,
    "start_time": "2025-01-23T16:16:47.170Z"
   },
   {
    "duration": 12,
    "start_time": "2025-01-23T16:16:47.235Z"
   },
   {
    "duration": 19,
    "start_time": "2025-01-23T16:16:47.249Z"
   },
   {
    "duration": 3,
    "start_time": "2025-01-23T16:16:47.271Z"
   },
   {
    "duration": 152,
    "start_time": "2025-01-23T16:16:47.276Z"
   },
   {
    "duration": 4,
    "start_time": "2025-01-23T16:16:47.430Z"
   },
   {
    "duration": 2,
    "start_time": "2025-01-23T16:16:47.438Z"
   },
   {
    "duration": 3,
    "start_time": "2025-01-23T16:16:47.442Z"
   },
   {
    "duration": 3,
    "start_time": "2025-01-23T16:16:47.447Z"
   },
   {
    "duration": 4,
    "start_time": "2025-01-23T16:16:47.451Z"
   },
   {
    "duration": 5,
    "start_time": "2025-01-23T16:16:47.456Z"
   },
   {
    "duration": 3,
    "start_time": "2025-01-23T16:16:47.463Z"
   },
   {
    "duration": 46,
    "start_time": "2025-01-23T16:16:47.469Z"
   },
   {
    "duration": 15,
    "start_time": "2025-01-23T16:16:47.516Z"
   },
   {
    "duration": 2,
    "start_time": "2025-01-23T16:16:47.533Z"
   },
   {
    "duration": 181,
    "start_time": "2025-01-23T16:16:47.537Z"
   },
   {
    "duration": 9,
    "start_time": "2025-01-23T16:16:47.720Z"
   },
   {
    "duration": 7,
    "start_time": "2025-01-23T16:16:47.730Z"
   },
   {
    "duration": 6,
    "start_time": "2025-01-23T16:16:47.739Z"
   },
   {
    "duration": 6,
    "start_time": "2025-01-23T16:16:47.746Z"
   },
   {
    "duration": 7,
    "start_time": "2025-01-23T16:16:47.754Z"
   },
   {
    "duration": 48,
    "start_time": "2025-01-23T16:16:47.763Z"
   },
   {
    "duration": 6,
    "start_time": "2025-01-23T16:16:47.813Z"
   },
   {
    "duration": 311,
    "start_time": "2025-01-23T16:16:47.821Z"
   },
   {
    "duration": 239,
    "start_time": "2025-01-23T16:16:48.137Z"
   },
   {
    "duration": 256,
    "start_time": "2025-01-23T16:16:48.378Z"
   },
   {
    "duration": 3,
    "start_time": "2025-01-23T16:16:48.636Z"
   },
   {
    "duration": 480,
    "start_time": "2025-01-23T16:16:48.641Z"
   },
   {
    "duration": 4,
    "start_time": "2025-01-23T16:16:49.123Z"
   },
   {
    "duration": 775,
    "start_time": "2025-01-23T16:16:49.128Z"
   },
   {
    "duration": 7,
    "start_time": "2025-01-23T16:16:49.905Z"
   },
   {
    "duration": 198,
    "start_time": "2025-01-23T16:16:49.913Z"
   },
   {
    "duration": 3,
    "start_time": "2025-01-23T16:16:50.114Z"
   },
   {
    "duration": 176,
    "start_time": "2025-01-23T16:16:50.119Z"
   },
   {
    "duration": 3,
    "start_time": "2025-01-23T16:16:50.296Z"
   },
   {
    "duration": 185,
    "start_time": "2025-01-23T16:16:50.301Z"
   },
   {
    "duration": 6,
    "start_time": "2025-01-23T16:16:50.487Z"
   },
   {
    "duration": 18,
    "start_time": "2025-01-23T16:16:50.495Z"
   },
   {
    "duration": 13,
    "start_time": "2025-01-23T16:16:50.515Z"
   },
   {
    "duration": 3,
    "start_time": "2025-01-23T16:16:50.529Z"
   },
   {
    "duration": 4,
    "start_time": "2025-01-23T16:16:50.534Z"
   },
   {
    "duration": 4,
    "start_time": "2025-01-23T16:16:50.539Z"
   },
   {
    "duration": 2,
    "start_time": "2025-01-23T16:16:50.546Z"
   },
   {
    "duration": 3,
    "start_time": "2025-01-23T16:16:50.550Z"
   },
   {
    "duration": 162391,
    "start_time": "2025-01-23T16:16:50.555Z"
   },
   {
    "duration": 147391,
    "start_time": "2025-01-23T16:19:32.948Z"
   },
   {
    "duration": 6,
    "start_time": "2025-01-23T16:22:00.341Z"
   },
   {
    "duration": 3,
    "start_time": "2025-01-23T16:22:00.350Z"
   },
   {
    "duration": 4,
    "start_time": "2025-01-23T16:22:00.354Z"
   },
   {
    "duration": 1468599,
    "start_time": "2025-01-23T16:22:00.359Z"
   },
   {
    "duration": 1409989,
    "start_time": "2025-01-23T16:46:28.959Z"
   },
   {
    "duration": 5,
    "start_time": "2025-01-23T17:09:58.950Z"
   },
   {
    "duration": 256,
    "start_time": "2025-01-23T17:09:58.957Z"
   },
   {
    "duration": 0,
    "start_time": "2025-01-23T17:09:59.215Z"
   },
   {
    "duration": 241,
    "start_time": "2025-01-23T18:11:33.564Z"
   },
   {
    "duration": 2,
    "start_time": "2025-01-23T18:14:26.569Z"
   },
   {
    "duration": 420,
    "start_time": "2025-01-23T18:15:07.346Z"
   },
   {
    "duration": 15,
    "start_time": "2025-01-23T18:15:25.906Z"
   },
   {
    "duration": 14,
    "start_time": "2025-01-23T18:15:44.381Z"
   },
   {
    "duration": 5,
    "start_time": "2025-01-23T18:15:49.601Z"
   },
   {
    "duration": 60,
    "start_time": "2025-01-23T18:25:53.215Z"
   },
   {
    "duration": 4,
    "start_time": "2025-01-23T18:35:11.815Z"
   },
   {
    "duration": 15,
    "start_time": "2025-01-23T18:38:42.505Z"
   },
   {
    "duration": 10,
    "start_time": "2025-01-23T18:39:13.570Z"
   },
   {
    "duration": 17,
    "start_time": "2025-01-23T18:39:37.301Z"
   },
   {
    "duration": 20,
    "start_time": "2025-01-23T18:54:29.129Z"
   },
   {
    "duration": 6,
    "start_time": "2025-01-23T18:54:37.866Z"
   },
   {
    "duration": 41,
    "start_time": "2025-01-23T18:55:18.293Z"
   },
   {
    "duration": 7,
    "start_time": "2025-01-23T18:56:45.233Z"
   },
   {
    "duration": 10,
    "start_time": "2025-01-23T18:56:45.823Z"
   },
   {
    "duration": 4,
    "start_time": "2025-01-23T18:56:48.914Z"
   },
   {
    "duration": 241,
    "start_time": "2025-01-23T18:56:51.059Z"
   },
   {
    "duration": 16,
    "start_time": "2025-01-23T19:18:30.227Z"
   },
   {
    "duration": 9,
    "start_time": "2025-01-23T19:18:38.201Z"
   },
   {
    "duration": 17,
    "start_time": "2025-01-23T19:18:44.662Z"
   },
   {
    "duration": 2,
    "start_time": "2025-01-23T19:19:10.715Z"
   },
   {
    "duration": 3,
    "start_time": "2025-01-23T19:19:10.720Z"
   },
   {
    "duration": 553,
    "start_time": "2025-01-23T19:19:10.726Z"
   },
   {
    "duration": 57,
    "start_time": "2025-01-23T19:19:11.281Z"
   },
   {
    "duration": 9,
    "start_time": "2025-01-23T19:19:11.340Z"
   },
   {
    "duration": 22,
    "start_time": "2025-01-23T19:19:11.350Z"
   },
   {
    "duration": 3,
    "start_time": "2025-01-23T19:19:11.374Z"
   },
   {
    "duration": 157,
    "start_time": "2025-01-23T19:19:11.379Z"
   },
   {
    "duration": 6,
    "start_time": "2025-01-23T19:19:11.538Z"
   },
   {
    "duration": 2,
    "start_time": "2025-01-23T19:19:11.546Z"
   },
   {
    "duration": 4,
    "start_time": "2025-01-23T19:19:11.549Z"
   },
   {
    "duration": 4,
    "start_time": "2025-01-23T19:19:11.554Z"
   },
   {
    "duration": 3,
    "start_time": "2025-01-23T19:19:11.560Z"
   },
   {
    "duration": 5,
    "start_time": "2025-01-23T19:19:11.566Z"
   },
   {
    "duration": 40,
    "start_time": "2025-01-23T19:19:11.572Z"
   },
   {
    "duration": 10,
    "start_time": "2025-01-23T19:19:11.614Z"
   },
   {
    "duration": 15,
    "start_time": "2025-01-23T19:19:11.626Z"
   },
   {
    "duration": 4,
    "start_time": "2025-01-23T19:19:11.643Z"
   },
   {
    "duration": 199,
    "start_time": "2025-01-23T19:19:11.648Z"
   },
   {
    "duration": 11,
    "start_time": "2025-01-23T19:19:11.849Z"
   },
   {
    "duration": 8,
    "start_time": "2025-01-23T19:19:11.863Z"
   },
   {
    "duration": 8,
    "start_time": "2025-01-23T19:19:11.873Z"
   },
   {
    "duration": 32,
    "start_time": "2025-01-23T19:19:11.883Z"
   },
   {
    "duration": 9,
    "start_time": "2025-01-23T19:19:11.917Z"
   },
   {
    "duration": 5,
    "start_time": "2025-01-23T19:19:11.930Z"
   },
   {
    "duration": 5,
    "start_time": "2025-01-23T19:19:11.936Z"
   },
   {
    "duration": 273,
    "start_time": "2025-01-23T19:19:11.943Z"
   },
   {
    "duration": 257,
    "start_time": "2025-01-23T19:19:12.218Z"
   },
   {
    "duration": 262,
    "start_time": "2025-01-23T19:19:12.477Z"
   },
   {
    "duration": 5,
    "start_time": "2025-01-23T19:19:12.741Z"
   },
   {
    "duration": 480,
    "start_time": "2025-01-23T19:19:12.748Z"
   },
   {
    "duration": 4,
    "start_time": "2025-01-23T19:19:13.230Z"
   },
   {
    "duration": 755,
    "start_time": "2025-01-23T19:19:13.235Z"
   },
   {
    "duration": 4,
    "start_time": "2025-01-23T19:19:13.992Z"
   },
   {
    "duration": 198,
    "start_time": "2025-01-23T19:19:13.998Z"
   },
   {
    "duration": 4,
    "start_time": "2025-01-23T19:19:14.198Z"
   },
   {
    "duration": 189,
    "start_time": "2025-01-23T19:19:14.204Z"
   },
   {
    "duration": 4,
    "start_time": "2025-01-23T19:19:14.395Z"
   },
   {
    "duration": 186,
    "start_time": "2025-01-23T19:19:14.412Z"
   },
   {
    "duration": 6,
    "start_time": "2025-01-23T19:19:14.601Z"
   },
   {
    "duration": 5,
    "start_time": "2025-01-23T19:19:14.617Z"
   },
   {
    "duration": 12,
    "start_time": "2025-01-23T19:19:14.624Z"
   },
   {
    "duration": 3,
    "start_time": "2025-01-23T19:19:14.637Z"
   },
   {
    "duration": 4,
    "start_time": "2025-01-23T19:19:14.642Z"
   },
   {
    "duration": 3,
    "start_time": "2025-01-23T19:19:14.648Z"
   },
   {
    "duration": 3,
    "start_time": "2025-01-23T19:19:14.653Z"
   },
   {
    "duration": 3,
    "start_time": "2025-01-23T19:19:14.658Z"
   },
   {
    "duration": 20685,
    "start_time": "2025-01-23T19:19:14.662Z"
   },
   {
    "duration": 0,
    "start_time": "2025-01-23T19:19:35.349Z"
   },
   {
    "duration": 0,
    "start_time": "2025-01-23T19:19:35.351Z"
   },
   {
    "duration": 0,
    "start_time": "2025-01-23T19:19:35.351Z"
   },
   {
    "duration": 0,
    "start_time": "2025-01-23T19:19:35.352Z"
   },
   {
    "duration": 0,
    "start_time": "2025-01-23T19:19:35.353Z"
   },
   {
    "duration": 0,
    "start_time": "2025-01-23T19:19:35.354Z"
   },
   {
    "duration": 0,
    "start_time": "2025-01-23T19:19:35.355Z"
   },
   {
    "duration": 0,
    "start_time": "2025-01-23T19:19:35.356Z"
   },
   {
    "duration": 0,
    "start_time": "2025-01-23T19:19:35.357Z"
   },
   {
    "duration": 0,
    "start_time": "2025-01-23T19:19:35.359Z"
   },
   {
    "duration": 0,
    "start_time": "2025-01-23T19:19:35.359Z"
   },
   {
    "duration": 10,
    "start_time": "2025-01-23T19:20:01.436Z"
   },
   {
    "duration": 16,
    "start_time": "2025-01-23T19:20:04.234Z"
   },
   {
    "duration": 7,
    "start_time": "2025-01-23T19:20:12.922Z"
   },
   {
    "duration": 6,
    "start_time": "2025-01-23T19:20:19.015Z"
   },
   {
    "duration": 11,
    "start_time": "2025-01-23T19:20:44.357Z"
   },
   {
    "duration": 9,
    "start_time": "2025-01-23T19:21:07.234Z"
   },
   {
    "duration": 5,
    "start_time": "2025-01-23T19:21:08.505Z"
   },
   {
    "duration": 10,
    "start_time": "2025-01-23T19:21:10.193Z"
   },
   {
    "duration": 78,
    "start_time": "2025-01-23T19:21:14.096Z"
   },
   {
    "duration": 11,
    "start_time": "2025-01-23T19:22:18.519Z"
   },
   {
    "duration": 144,
    "start_time": "2025-01-23T19:22:47.866Z"
   },
   {
    "duration": 18,
    "start_time": "2025-01-23T19:23:45.168Z"
   },
   {
    "duration": 146,
    "start_time": "2025-01-23T19:24:04.264Z"
   },
   {
    "duration": 3,
    "start_time": "2025-01-23T19:24:46.122Z"
   },
   {
    "duration": 3,
    "start_time": "2025-01-23T19:24:46.130Z"
   },
   {
    "duration": 522,
    "start_time": "2025-01-23T19:24:46.136Z"
   },
   {
    "duration": 59,
    "start_time": "2025-01-23T19:24:46.660Z"
   },
   {
    "duration": 10,
    "start_time": "2025-01-23T19:24:46.721Z"
   },
   {
    "duration": 15,
    "start_time": "2025-01-23T19:24:46.734Z"
   },
   {
    "duration": 3,
    "start_time": "2025-01-23T19:24:46.751Z"
   },
   {
    "duration": 147,
    "start_time": "2025-01-23T19:24:46.756Z"
   },
   {
    "duration": 9,
    "start_time": "2025-01-23T19:24:46.906Z"
   },
   {
    "duration": 3,
    "start_time": "2025-01-23T19:24:46.917Z"
   },
   {
    "duration": 3,
    "start_time": "2025-01-23T19:24:46.923Z"
   },
   {
    "duration": 2,
    "start_time": "2025-01-23T19:24:46.930Z"
   },
   {
    "duration": 3,
    "start_time": "2025-01-23T19:24:46.934Z"
   },
   {
    "duration": 6,
    "start_time": "2025-01-23T19:24:46.939Z"
   },
   {
    "duration": 4,
    "start_time": "2025-01-23T19:24:46.947Z"
   },
   {
    "duration": 12,
    "start_time": "2025-01-23T19:24:46.953Z"
   },
   {
    "duration": 54,
    "start_time": "2025-01-23T19:24:46.967Z"
   },
   {
    "duration": 3,
    "start_time": "2025-01-23T19:24:47.025Z"
   },
   {
    "duration": 208,
    "start_time": "2025-01-23T19:24:47.032Z"
   },
   {
    "duration": 12,
    "start_time": "2025-01-23T19:24:47.243Z"
   },
   {
    "duration": 8,
    "start_time": "2025-01-23T19:24:47.257Z"
   },
   {
    "duration": 11,
    "start_time": "2025-01-23T19:24:47.274Z"
   },
   {
    "duration": 27,
    "start_time": "2025-01-23T19:24:47.287Z"
   },
   {
    "duration": 11,
    "start_time": "2025-01-23T19:24:47.316Z"
   },
   {
    "duration": 6,
    "start_time": "2025-01-23T19:24:47.329Z"
   },
   {
    "duration": 6,
    "start_time": "2025-01-23T19:24:47.337Z"
   },
   {
    "duration": 288,
    "start_time": "2025-01-23T19:24:47.345Z"
   },
   {
    "duration": 249,
    "start_time": "2025-01-23T19:24:47.635Z"
   },
   {
    "duration": 377,
    "start_time": "2025-01-23T19:24:47.886Z"
   },
   {
    "duration": 3,
    "start_time": "2025-01-23T19:24:48.268Z"
   },
   {
    "duration": 456,
    "start_time": "2025-01-23T19:24:48.273Z"
   },
   {
    "duration": 3,
    "start_time": "2025-01-23T19:24:48.732Z"
   },
   {
    "duration": 778,
    "start_time": "2025-01-23T19:24:48.737Z"
   },
   {
    "duration": 3,
    "start_time": "2025-01-23T19:24:49.517Z"
   },
   {
    "duration": 201,
    "start_time": "2025-01-23T19:24:49.522Z"
   },
   {
    "duration": 4,
    "start_time": "2025-01-23T19:24:49.725Z"
   },
   {
    "duration": 175,
    "start_time": "2025-01-23T19:24:49.730Z"
   },
   {
    "duration": 4,
    "start_time": "2025-01-23T19:24:49.911Z"
   },
   {
    "duration": 190,
    "start_time": "2025-01-23T19:24:49.916Z"
   },
   {
    "duration": 5,
    "start_time": "2025-01-23T19:24:50.112Z"
   },
   {
    "duration": 5,
    "start_time": "2025-01-23T19:24:50.118Z"
   },
   {
    "duration": 11,
    "start_time": "2025-01-23T19:24:50.124Z"
   },
   {
    "duration": 4,
    "start_time": "2025-01-23T19:24:50.137Z"
   },
   {
    "duration": 3,
    "start_time": "2025-01-23T19:24:50.142Z"
   },
   {
    "duration": 3,
    "start_time": "2025-01-23T19:24:50.147Z"
   },
   {
    "duration": 3,
    "start_time": "2025-01-23T19:24:50.152Z"
   },
   {
    "duration": 4,
    "start_time": "2025-01-23T19:24:50.156Z"
   },
   {
    "duration": 2363,
    "start_time": "2025-01-23T19:24:50.161Z"
   },
   {
    "duration": 0,
    "start_time": "2025-01-23T19:24:52.526Z"
   },
   {
    "duration": 0,
    "start_time": "2025-01-23T19:24:52.527Z"
   },
   {
    "duration": 0,
    "start_time": "2025-01-23T19:24:52.528Z"
   },
   {
    "duration": 0,
    "start_time": "2025-01-23T19:24:52.529Z"
   },
   {
    "duration": 0,
    "start_time": "2025-01-23T19:24:52.530Z"
   },
   {
    "duration": 0,
    "start_time": "2025-01-23T19:24:52.531Z"
   },
   {
    "duration": 0,
    "start_time": "2025-01-23T19:24:52.532Z"
   },
   {
    "duration": 0,
    "start_time": "2025-01-23T19:24:52.533Z"
   },
   {
    "duration": 0,
    "start_time": "2025-01-23T19:24:52.534Z"
   },
   {
    "duration": 0,
    "start_time": "2025-01-23T19:24:52.535Z"
   },
   {
    "duration": 0,
    "start_time": "2025-01-23T19:24:52.536Z"
   },
   {
    "duration": 0,
    "start_time": "2025-01-23T19:24:52.537Z"
   },
   {
    "duration": 0,
    "start_time": "2025-01-23T19:24:52.538Z"
   },
   {
    "duration": 0,
    "start_time": "2025-01-23T19:24:52.539Z"
   },
   {
    "duration": 3,
    "start_time": "2025-01-23T19:25:04.863Z"
   },
   {
    "duration": 3,
    "start_time": "2025-01-23T19:25:04.869Z"
   },
   {
    "duration": 515,
    "start_time": "2025-01-23T19:25:04.873Z"
   },
   {
    "duration": 53,
    "start_time": "2025-01-23T19:25:05.390Z"
   },
   {
    "duration": 10,
    "start_time": "2025-01-23T19:25:05.445Z"
   },
   {
    "duration": 16,
    "start_time": "2025-01-23T19:25:05.458Z"
   },
   {
    "duration": 3,
    "start_time": "2025-01-23T19:25:05.476Z"
   },
   {
    "duration": 157,
    "start_time": "2025-01-23T19:25:05.480Z"
   },
   {
    "duration": 4,
    "start_time": "2025-01-23T19:25:05.640Z"
   },
   {
    "duration": 3,
    "start_time": "2025-01-23T19:25:05.646Z"
   },
   {
    "duration": 3,
    "start_time": "2025-01-23T19:25:05.651Z"
   },
   {
    "duration": 3,
    "start_time": "2025-01-23T19:25:05.655Z"
   },
   {
    "duration": 4,
    "start_time": "2025-01-23T19:25:05.660Z"
   },
   {
    "duration": 5,
    "start_time": "2025-01-23T19:25:05.665Z"
   },
   {
    "duration": 4,
    "start_time": "2025-01-23T19:25:05.672Z"
   },
   {
    "duration": 11,
    "start_time": "2025-01-23T19:25:05.713Z"
   },
   {
    "duration": 17,
    "start_time": "2025-01-23T19:25:05.726Z"
   },
   {
    "duration": 2,
    "start_time": "2025-01-23T19:25:05.747Z"
   },
   {
    "duration": 189,
    "start_time": "2025-01-23T19:25:05.751Z"
   },
   {
    "duration": 10,
    "start_time": "2025-01-23T19:25:05.943Z"
   },
   {
    "duration": 8,
    "start_time": "2025-01-23T19:25:05.955Z"
   },
   {
    "duration": 8,
    "start_time": "2025-01-23T19:25:05.964Z"
   },
   {
    "duration": 6,
    "start_time": "2025-01-23T19:25:05.973Z"
   },
   {
    "duration": 37,
    "start_time": "2025-01-23T19:25:05.982Z"
   },
   {
    "duration": 5,
    "start_time": "2025-01-23T19:25:06.021Z"
   },
   {
    "duration": 5,
    "start_time": "2025-01-23T19:25:06.028Z"
   },
   {
    "duration": 268,
    "start_time": "2025-01-23T19:25:06.035Z"
   },
   {
    "duration": 250,
    "start_time": "2025-01-23T19:25:06.311Z"
   },
   {
    "duration": 263,
    "start_time": "2025-01-23T19:25:06.564Z"
   },
   {
    "duration": 4,
    "start_time": "2025-01-23T19:25:06.829Z"
   },
   {
    "duration": 496,
    "start_time": "2025-01-23T19:25:06.835Z"
   },
   {
    "duration": 3,
    "start_time": "2025-01-23T19:25:07.333Z"
   },
   {
    "duration": 788,
    "start_time": "2025-01-23T19:25:07.337Z"
   },
   {
    "duration": 4,
    "start_time": "2025-01-23T19:25:08.127Z"
   },
   {
    "duration": 193,
    "start_time": "2025-01-23T19:25:08.133Z"
   },
   {
    "duration": 4,
    "start_time": "2025-01-23T19:25:08.328Z"
   },
   {
    "duration": 192,
    "start_time": "2025-01-23T19:25:08.335Z"
   },
   {
    "duration": 4,
    "start_time": "2025-01-23T19:25:08.529Z"
   },
   {
    "duration": 204,
    "start_time": "2025-01-23T19:25:08.536Z"
   },
   {
    "duration": 5,
    "start_time": "2025-01-23T19:25:08.742Z"
   },
   {
    "duration": 5,
    "start_time": "2025-01-23T19:25:08.749Z"
   },
   {
    "duration": 12,
    "start_time": "2025-01-23T19:25:08.756Z"
   },
   {
    "duration": 3,
    "start_time": "2025-01-23T19:25:08.770Z"
   },
   {
    "duration": 3,
    "start_time": "2025-01-23T19:25:10.838Z"
   },
   {
    "duration": 4,
    "start_time": "2025-01-23T19:25:13.487Z"
   },
   {
    "duration": 3,
    "start_time": "2025-01-23T19:25:14.559Z"
   },
   {
    "duration": 3,
    "start_time": "2025-01-23T19:25:15.785Z"
   },
   {
    "duration": 165438,
    "start_time": "2025-01-23T19:25:17.222Z"
   },
   {
    "duration": 2564,
    "start_time": "2025-01-24T13:01:00.282Z"
   },
   {
    "duration": 174,
    "start_time": "2025-01-24T13:01:02.848Z"
   },
   {
    "duration": 613,
    "start_time": "2025-01-24T13:01:03.023Z"
   },
   {
    "duration": 53,
    "start_time": "2025-01-24T13:01:03.638Z"
   },
   {
    "duration": 20,
    "start_time": "2025-01-24T13:01:03.693Z"
   },
   {
    "duration": 19,
    "start_time": "2025-01-24T13:01:03.716Z"
   },
   {
    "duration": 3,
    "start_time": "2025-01-24T13:01:03.737Z"
   },
   {
    "duration": 159,
    "start_time": "2025-01-24T13:01:03.742Z"
   },
   {
    "duration": 8,
    "start_time": "2025-01-24T13:01:03.903Z"
   },
   {
    "duration": 2,
    "start_time": "2025-01-24T13:01:03.915Z"
   },
   {
    "duration": 3,
    "start_time": "2025-01-24T13:01:03.918Z"
   },
   {
    "duration": 2,
    "start_time": "2025-01-24T13:01:03.923Z"
   },
   {
    "duration": 4,
    "start_time": "2025-01-24T13:01:03.927Z"
   },
   {
    "duration": 5,
    "start_time": "2025-01-24T13:01:03.932Z"
   },
   {
    "duration": 4,
    "start_time": "2025-01-24T13:01:03.938Z"
   },
   {
    "duration": 9,
    "start_time": "2025-01-24T13:01:03.944Z"
   },
   {
    "duration": 60,
    "start_time": "2025-01-24T13:01:03.955Z"
   },
   {
    "duration": 3,
    "start_time": "2025-01-24T13:01:04.017Z"
   },
   {
    "duration": 176,
    "start_time": "2025-01-24T13:01:04.021Z"
   },
   {
    "duration": 17,
    "start_time": "2025-01-24T13:01:04.199Z"
   },
   {
    "duration": 7,
    "start_time": "2025-01-24T13:01:04.217Z"
   },
   {
    "duration": 6,
    "start_time": "2025-01-24T13:01:04.226Z"
   },
   {
    "duration": 6,
    "start_time": "2025-01-24T13:01:04.235Z"
   },
   {
    "duration": 8,
    "start_time": "2025-01-24T13:01:04.243Z"
   },
   {
    "duration": 5,
    "start_time": "2025-01-24T13:01:04.253Z"
   },
   {
    "duration": 4,
    "start_time": "2025-01-24T13:01:04.259Z"
   },
   {
    "duration": 346,
    "start_time": "2025-01-24T13:01:04.265Z"
   },
   {
    "duration": 246,
    "start_time": "2025-01-24T13:01:04.615Z"
   },
   {
    "duration": 250,
    "start_time": "2025-01-24T13:01:04.863Z"
   },
   {
    "duration": 4,
    "start_time": "2025-01-24T13:01:05.115Z"
   },
   {
    "duration": 492,
    "start_time": "2025-01-24T13:01:05.121Z"
   },
   {
    "duration": 3,
    "start_time": "2025-01-24T13:01:05.615Z"
   },
   {
    "duration": 765,
    "start_time": "2025-01-24T13:01:05.621Z"
   },
   {
    "duration": 3,
    "start_time": "2025-01-24T13:01:06.388Z"
   },
   {
    "duration": 194,
    "start_time": "2025-01-24T13:01:06.393Z"
   },
   {
    "duration": 3,
    "start_time": "2025-01-24T13:01:06.589Z"
   },
   {
    "duration": 187,
    "start_time": "2025-01-24T13:01:06.594Z"
   },
   {
    "duration": 5,
    "start_time": "2025-01-24T13:01:06.782Z"
   },
   {
    "duration": 183,
    "start_time": "2025-01-24T13:01:06.789Z"
   },
   {
    "duration": 5,
    "start_time": "2025-01-24T13:01:06.975Z"
   },
   {
    "duration": 6,
    "start_time": "2025-01-24T13:01:06.982Z"
   },
   {
    "duration": 28,
    "start_time": "2025-01-24T13:01:06.991Z"
   },
   {
    "duration": 5,
    "start_time": "2025-01-24T13:01:07.020Z"
   },
   {
    "duration": 3,
    "start_time": "2025-01-24T13:01:07.026Z"
   },
   {
    "duration": 4,
    "start_time": "2025-01-24T13:01:07.030Z"
   },
   {
    "duration": 3,
    "start_time": "2025-01-24T13:01:07.035Z"
   },
   {
    "duration": 3,
    "start_time": "2025-01-24T13:01:07.983Z"
   },
   {
    "duration": 3,
    "start_time": "2025-01-24T13:01:27.324Z"
   },
   {
    "duration": 162299,
    "start_time": "2025-01-24T13:01:27.331Z"
   },
   {
    "duration": 147467,
    "start_time": "2025-01-24T13:04:09.632Z"
   },
   {
    "duration": 10,
    "start_time": "2025-01-24T13:06:37.101Z"
   },
   {
    "duration": 3,
    "start_time": "2025-01-24T13:06:37.112Z"
   },
   {
    "duration": 2,
    "start_time": "2025-01-24T13:06:37.118Z"
   },
   {
    "duration": 1474555,
    "start_time": "2025-01-24T13:06:37.122Z"
   },
   {
    "duration": 0,
    "start_time": "2025-01-24T13:51:26.516Z"
   },
   {
    "duration": 0,
    "start_time": "2025-01-24T13:51:26.517Z"
   },
   {
    "duration": 0,
    "start_time": "2025-01-24T13:51:26.519Z"
   },
   {
    "duration": 0,
    "start_time": "2025-01-24T13:51:26.520Z"
   },
   {
    "duration": 0,
    "start_time": "2025-01-24T13:51:26.521Z"
   },
   {
    "duration": 0,
    "start_time": "2025-01-24T13:51:26.522Z"
   },
   {
    "duration": 0,
    "start_time": "2025-01-24T13:51:26.524Z"
   },
   {
    "duration": 0,
    "start_time": "2025-01-24T13:51:26.526Z"
   },
   {
    "duration": 0,
    "start_time": "2025-01-24T13:51:26.527Z"
   },
   {
    "duration": 0,
    "start_time": "2025-01-24T13:51:26.528Z"
   },
   {
    "duration": 0,
    "start_time": "2025-01-24T13:51:26.529Z"
   },
   {
    "duration": 15,
    "start_time": "2025-01-24T13:51:33.454Z"
   },
   {
    "duration": 3,
    "start_time": "2025-01-24T13:51:38.660Z"
   },
   {
    "duration": 3,
    "start_time": "2025-01-24T13:51:56.228Z"
   },
   {
    "duration": 7,
    "start_time": "2025-01-24T13:52:28.371Z"
   },
   {
    "duration": 7,
    "start_time": "2025-01-24T13:53:32.594Z"
   },
   {
    "duration": 7,
    "start_time": "2025-01-24T13:55:24.709Z"
   },
   {
    "duration": 7,
    "start_time": "2025-01-24T13:56:04.454Z"
   },
   {
    "duration": 7,
    "start_time": "2025-01-24T13:56:18.329Z"
   },
   {
    "duration": 6,
    "start_time": "2025-01-24T13:56:30.344Z"
   },
   {
    "duration": 3,
    "start_time": "2025-01-24T13:56:31.540Z"
   },
   {
    "duration": 3,
    "start_time": "2025-01-24T13:56:34.103Z"
   },
   {
    "duration": 3,
    "start_time": "2025-01-24T13:56:35.663Z"
   },
   {
    "duration": 3,
    "start_time": "2025-01-24T13:56:37.268Z"
   },
   {
    "duration": 3,
    "start_time": "2025-01-24T13:57:53.219Z"
   },
   {
    "duration": 2,
    "start_time": "2025-01-24T13:57:53.227Z"
   },
   {
    "duration": 19193,
    "start_time": "2025-01-24T13:57:53.232Z"
   },
   {
    "duration": 0,
    "start_time": "2025-01-24T13:58:12.427Z"
   },
   {
    "duration": 0,
    "start_time": "2025-01-24T13:58:12.429Z"
   },
   {
    "duration": 0,
    "start_time": "2025-01-24T13:58:12.430Z"
   },
   {
    "duration": 0,
    "start_time": "2025-01-24T13:58:12.431Z"
   },
   {
    "duration": 0,
    "start_time": "2025-01-24T13:58:12.432Z"
   },
   {
    "duration": 0,
    "start_time": "2025-01-24T13:58:12.434Z"
   },
   {
    "duration": 0,
    "start_time": "2025-01-24T13:58:12.436Z"
   },
   {
    "duration": 0,
    "start_time": "2025-01-24T13:58:12.437Z"
   },
   {
    "duration": 0,
    "start_time": "2025-01-24T13:58:12.438Z"
   },
   {
    "duration": 3,
    "start_time": "2025-01-24T14:03:36.855Z"
   },
   {
    "duration": 2567,
    "start_time": "2025-01-24T15:17:32.073Z"
   },
   {
    "duration": 164,
    "start_time": "2025-01-24T15:17:34.642Z"
   },
   {
    "duration": 579,
    "start_time": "2025-01-24T15:17:34.808Z"
   },
   {
    "duration": 60,
    "start_time": "2025-01-24T15:17:35.389Z"
   },
   {
    "duration": 9,
    "start_time": "2025-01-24T15:17:35.451Z"
   },
   {
    "duration": 20,
    "start_time": "2025-01-24T15:17:35.462Z"
   },
   {
    "duration": 4,
    "start_time": "2025-01-24T15:17:35.484Z"
   },
   {
    "duration": 159,
    "start_time": "2025-01-24T15:17:35.490Z"
   },
   {
    "duration": 5,
    "start_time": "2025-01-24T15:17:35.651Z"
   },
   {
    "duration": 3,
    "start_time": "2025-01-24T15:17:35.659Z"
   },
   {
    "duration": 2,
    "start_time": "2025-01-24T15:17:35.664Z"
   },
   {
    "duration": 3,
    "start_time": "2025-01-24T15:17:35.668Z"
   },
   {
    "duration": 4,
    "start_time": "2025-01-24T15:17:35.672Z"
   },
   {
    "duration": 5,
    "start_time": "2025-01-24T15:17:35.677Z"
   },
   {
    "duration": 4,
    "start_time": "2025-01-24T15:17:35.683Z"
   },
   {
    "duration": 46,
    "start_time": "2025-01-24T15:17:35.688Z"
   },
   {
    "duration": 16,
    "start_time": "2025-01-24T15:17:35.735Z"
   },
   {
    "duration": 2,
    "start_time": "2025-01-24T15:17:35.753Z"
   },
   {
    "duration": 190,
    "start_time": "2025-01-24T15:17:35.757Z"
   },
   {
    "duration": 9,
    "start_time": "2025-01-24T15:17:35.949Z"
   },
   {
    "duration": 7,
    "start_time": "2025-01-24T15:17:35.960Z"
   },
   {
    "duration": 7,
    "start_time": "2025-01-24T15:17:35.968Z"
   },
   {
    "duration": 6,
    "start_time": "2025-01-24T15:17:35.976Z"
   },
   {
    "duration": 7,
    "start_time": "2025-01-24T15:17:35.984Z"
   },
   {
    "duration": 5,
    "start_time": "2025-01-24T15:17:36.024Z"
   },
   {
    "duration": 4,
    "start_time": "2025-01-24T15:17:36.031Z"
   },
   {
    "duration": 268,
    "start_time": "2025-01-24T15:17:36.036Z"
   },
   {
    "duration": 311,
    "start_time": "2025-01-24T15:17:36.308Z"
   },
   {
    "duration": 273,
    "start_time": "2025-01-24T15:17:36.620Z"
   },
   {
    "duration": 3,
    "start_time": "2025-01-24T15:17:36.895Z"
   },
   {
    "duration": 475,
    "start_time": "2025-01-24T15:17:36.900Z"
   },
   {
    "duration": 3,
    "start_time": "2025-01-24T15:17:37.377Z"
   },
   {
    "duration": 755,
    "start_time": "2025-01-24T15:17:37.381Z"
   },
   {
    "duration": 3,
    "start_time": "2025-01-24T15:17:38.139Z"
   },
   {
    "duration": 196,
    "start_time": "2025-01-24T15:17:38.144Z"
   },
   {
    "duration": 3,
    "start_time": "2025-01-24T15:17:38.342Z"
   },
   {
    "duration": 179,
    "start_time": "2025-01-24T15:17:38.347Z"
   },
   {
    "duration": 3,
    "start_time": "2025-01-24T15:17:38.529Z"
   },
   {
    "duration": 195,
    "start_time": "2025-01-24T15:17:38.533Z"
   },
   {
    "duration": 6,
    "start_time": "2025-01-24T15:17:38.730Z"
   },
   {
    "duration": 7,
    "start_time": "2025-01-24T15:17:38.738Z"
   },
   {
    "duration": 6,
    "start_time": "2025-01-24T15:17:38.748Z"
   },
   {
    "duration": 14,
    "start_time": "2025-01-24T15:17:38.757Z"
   },
   {
    "duration": 6,
    "start_time": "2025-01-24T15:17:38.773Z"
   },
   {
    "duration": 7,
    "start_time": "2025-01-24T15:17:38.781Z"
   },
   {
    "duration": 36,
    "start_time": "2025-01-24T15:17:38.789Z"
   },
   {
    "duration": 4,
    "start_time": "2025-01-24T15:17:38.826Z"
   },
   {
    "duration": 3,
    "start_time": "2025-01-24T15:17:38.831Z"
   },
   {
    "duration": 7,
    "start_time": "2025-01-24T15:22:13.446Z"
   },
   {
    "duration": 12,
    "start_time": "2025-01-24T15:22:24.427Z"
   },
   {
    "duration": 17,
    "start_time": "2025-01-24T15:22:26.326Z"
   },
   {
    "duration": 6,
    "start_time": "2025-01-24T15:22:28.786Z"
   },
   {
    "duration": 7,
    "start_time": "2025-01-24T15:22:30.507Z"
   },
   {
    "duration": 11,
    "start_time": "2025-01-24T15:22:33.060Z"
   },
   {
    "duration": 317,
    "start_time": "2025-01-24T15:27:54.739Z"
   },
   {
    "duration": 15,
    "start_time": "2025-01-24T15:28:17.689Z"
   },
   {
    "duration": 3,
    "start_time": "2025-01-24T15:28:22.034Z"
   },
   {
    "duration": 3,
    "start_time": "2025-01-24T15:28:26.299Z"
   },
   {
    "duration": 7100,
    "start_time": "2025-01-24T15:28:28.020Z"
   },
   {
    "duration": 116,
    "start_time": "2025-01-24T15:28:47.170Z"
   },
   {
    "duration": 5,
    "start_time": "2025-01-24T15:30:42.782Z"
   },
   {
    "duration": 849,
    "start_time": "2025-01-24T15:31:57.267Z"
   },
   {
    "duration": 213,
    "start_time": "2025-01-24T15:31:58.118Z"
   },
   {
    "duration": 504,
    "start_time": "2025-01-24T15:31:58.333Z"
   },
   {
    "duration": 52,
    "start_time": "2025-01-24T15:31:58.839Z"
   },
   {
    "duration": 10,
    "start_time": "2025-01-24T15:31:58.892Z"
   },
   {
    "duration": 39,
    "start_time": "2025-01-24T15:31:58.904Z"
   },
   {
    "duration": 4,
    "start_time": "2025-01-24T15:31:58.945Z"
   },
   {
    "duration": 153,
    "start_time": "2025-01-24T15:31:58.950Z"
   },
   {
    "duration": 5,
    "start_time": "2025-01-24T15:31:59.104Z"
   },
   {
    "duration": 12,
    "start_time": "2025-01-24T15:31:59.112Z"
   },
   {
    "duration": 3,
    "start_time": "2025-01-24T15:31:59.126Z"
   },
   {
    "duration": 3,
    "start_time": "2025-01-24T15:31:59.131Z"
   },
   {
    "duration": 4,
    "start_time": "2025-01-24T15:31:59.135Z"
   },
   {
    "duration": 5,
    "start_time": "2025-01-24T15:31:59.140Z"
   },
   {
    "duration": 5,
    "start_time": "2025-01-24T15:31:59.147Z"
   },
   {
    "duration": 10,
    "start_time": "2025-01-24T15:31:59.153Z"
   },
   {
    "duration": 15,
    "start_time": "2025-01-24T15:31:59.165Z"
   },
   {
    "duration": 42,
    "start_time": "2025-01-24T15:31:59.183Z"
   },
   {
    "duration": 175,
    "start_time": "2025-01-24T15:31:59.227Z"
   },
   {
    "duration": 20,
    "start_time": "2025-01-24T15:31:59.404Z"
   },
   {
    "duration": 8,
    "start_time": "2025-01-24T15:31:59.425Z"
   },
   {
    "duration": 6,
    "start_time": "2025-01-24T15:31:59.434Z"
   },
   {
    "duration": 6,
    "start_time": "2025-01-24T15:31:59.442Z"
   },
   {
    "duration": 8,
    "start_time": "2025-01-24T15:31:59.450Z"
   },
   {
    "duration": 5,
    "start_time": "2025-01-24T15:31:59.460Z"
   },
   {
    "duration": 5,
    "start_time": "2025-01-24T15:31:59.466Z"
   },
   {
    "duration": 301,
    "start_time": "2025-01-24T15:31:59.472Z"
   },
   {
    "duration": 261,
    "start_time": "2025-01-24T15:31:59.778Z"
   },
   {
    "duration": 270,
    "start_time": "2025-01-24T15:32:00.041Z"
   },
   {
    "duration": 4,
    "start_time": "2025-01-24T15:32:00.312Z"
   },
   {
    "duration": 509,
    "start_time": "2025-01-24T15:32:00.325Z"
   },
   {
    "duration": 2,
    "start_time": "2025-01-24T15:32:00.837Z"
   },
   {
    "duration": 761,
    "start_time": "2025-01-24T15:32:00.841Z"
   },
   {
    "duration": 4,
    "start_time": "2025-01-24T15:32:01.604Z"
   },
   {
    "duration": 265,
    "start_time": "2025-01-24T15:32:01.610Z"
   },
   {
    "duration": 5,
    "start_time": "2025-01-24T15:32:01.878Z"
   },
   {
    "duration": 183,
    "start_time": "2025-01-24T15:32:01.884Z"
   },
   {
    "duration": 4,
    "start_time": "2025-01-24T15:32:02.069Z"
   },
   {
    "duration": 192,
    "start_time": "2025-01-24T15:32:02.075Z"
   },
   {
    "duration": 5,
    "start_time": "2025-01-24T15:32:02.270Z"
   },
   {
    "duration": 5,
    "start_time": "2025-01-24T15:32:02.277Z"
   },
   {
    "duration": 6,
    "start_time": "2025-01-24T15:32:02.284Z"
   },
   {
    "duration": 40,
    "start_time": "2025-01-24T15:32:02.291Z"
   },
   {
    "duration": 8,
    "start_time": "2025-01-24T15:32:02.333Z"
   },
   {
    "duration": 7,
    "start_time": "2025-01-24T15:32:02.343Z"
   },
   {
    "duration": 3,
    "start_time": "2025-01-24T15:32:02.352Z"
   },
   {
    "duration": 3,
    "start_time": "2025-01-24T15:32:02.356Z"
   },
   {
    "duration": 3,
    "start_time": "2025-01-24T15:32:02.361Z"
   },
   {
    "duration": 2,
    "start_time": "2025-01-24T15:32:02.367Z"
   },
   {
    "duration": 3,
    "start_time": "2025-01-24T15:32:02.371Z"
   },
   {
    "duration": 165482,
    "start_time": "2025-01-24T15:32:02.376Z"
   },
   {
    "duration": 150208,
    "start_time": "2025-01-24T15:34:47.860Z"
   },
   {
    "duration": 4,
    "start_time": "2025-01-24T15:37:18.070Z"
   },
   {
    "duration": 3,
    "start_time": "2025-01-24T15:37:18.076Z"
   },
   {
    "duration": 250,
    "start_time": "2025-01-24T15:37:18.080Z"
   },
   {
    "duration": 0,
    "start_time": "2025-01-24T15:37:18.332Z"
   },
   {
    "duration": 0,
    "start_time": "2025-01-24T15:37:18.333Z"
   },
   {
    "duration": 0,
    "start_time": "2025-01-24T15:37:18.335Z"
   },
   {
    "duration": 0,
    "start_time": "2025-01-24T15:37:18.337Z"
   },
   {
    "duration": 0,
    "start_time": "2025-01-24T15:37:18.338Z"
   },
   {
    "duration": 0,
    "start_time": "2025-01-24T15:37:18.340Z"
   },
   {
    "duration": 0,
    "start_time": "2025-01-24T15:37:18.341Z"
   },
   {
    "duration": 0,
    "start_time": "2025-01-24T15:37:18.343Z"
   },
   {
    "duration": 0,
    "start_time": "2025-01-24T15:37:18.344Z"
   },
   {
    "duration": 0,
    "start_time": "2025-01-24T15:37:18.345Z"
   },
   {
    "duration": 0,
    "start_time": "2025-01-24T15:37:18.347Z"
   },
   {
    "duration": 0,
    "start_time": "2025-01-24T15:37:18.348Z"
   },
   {
    "duration": 0,
    "start_time": "2025-01-24T15:37:18.349Z"
   },
   {
    "duration": 3,
    "start_time": "2025-01-24T15:37:53.602Z"
   },
   {
    "duration": 3,
    "start_time": "2025-01-24T15:38:28.977Z"
   },
   {
    "duration": 1650184,
    "start_time": "2025-01-24T15:38:28.986Z"
   },
   {
    "duration": 1585107,
    "start_time": "2025-01-24T16:05:59.172Z"
   },
   {
    "duration": 5,
    "start_time": "2025-01-24T16:32:24.280Z"
   },
   {
    "duration": 7,
    "start_time": "2025-01-24T16:32:24.288Z"
   },
   {
    "duration": 29,
    "start_time": "2025-01-24T16:32:24.296Z"
   },
   {
    "duration": 26,
    "start_time": "2025-01-24T16:32:24.327Z"
   },
   {
    "duration": 6,
    "start_time": "2025-01-24T16:32:24.357Z"
   },
   {
    "duration": 6,
    "start_time": "2025-01-24T16:32:24.364Z"
   },
   {
    "duration": 10,
    "start_time": "2025-01-24T16:32:24.372Z"
   },
   {
    "duration": 5,
    "start_time": "2025-01-24T16:32:24.386Z"
   },
   {
    "duration": 332,
    "start_time": "2025-01-24T16:32:24.392Z"
   },
   {
    "duration": 0,
    "start_time": "2025-01-24T16:32:24.728Z"
   },
   {
    "duration": 0,
    "start_time": "2025-01-24T16:32:24.729Z"
   },
   {
    "duration": 2536,
    "start_time": "2025-01-24T21:22:57.941Z"
   },
   {
    "duration": 204,
    "start_time": "2025-01-24T21:23:00.486Z"
   },
   {
    "duration": 666,
    "start_time": "2025-01-24T21:23:00.692Z"
   },
   {
    "duration": 55,
    "start_time": "2025-01-24T21:23:01.359Z"
   },
   {
    "duration": 7,
    "start_time": "2025-01-24T21:23:01.418Z"
   },
   {
    "duration": 22,
    "start_time": "2025-01-24T21:23:01.427Z"
   },
   {
    "duration": 4,
    "start_time": "2025-01-24T21:23:01.451Z"
   },
   {
    "duration": 163,
    "start_time": "2025-01-24T21:23:01.457Z"
   },
   {
    "duration": 5,
    "start_time": "2025-01-24T21:23:01.621Z"
   },
   {
    "duration": 2,
    "start_time": "2025-01-24T21:23:01.628Z"
   },
   {
    "duration": 3,
    "start_time": "2025-01-24T21:23:01.632Z"
   },
   {
    "duration": 2,
    "start_time": "2025-01-24T21:23:01.637Z"
   },
   {
    "duration": 3,
    "start_time": "2025-01-24T21:23:01.641Z"
   },
   {
    "duration": 5,
    "start_time": "2025-01-24T21:23:01.648Z"
   },
   {
    "duration": 3,
    "start_time": "2025-01-24T21:23:01.686Z"
   },
   {
    "duration": 9,
    "start_time": "2025-01-24T21:23:01.691Z"
   },
   {
    "duration": 16,
    "start_time": "2025-01-24T21:23:01.702Z"
   },
   {
    "duration": 3,
    "start_time": "2025-01-24T21:23:01.719Z"
   },
   {
    "duration": 199,
    "start_time": "2025-01-24T21:23:01.723Z"
   },
   {
    "duration": 9,
    "start_time": "2025-01-24T21:23:01.923Z"
   },
   {
    "duration": 7,
    "start_time": "2025-01-24T21:23:01.934Z"
   },
   {
    "duration": 7,
    "start_time": "2025-01-24T21:23:01.943Z"
   },
   {
    "duration": 6,
    "start_time": "2025-01-24T21:23:01.952Z"
   },
   {
    "duration": 32,
    "start_time": "2025-01-24T21:23:01.959Z"
   },
   {
    "duration": 6,
    "start_time": "2025-01-24T21:23:01.993Z"
   },
   {
    "duration": 4,
    "start_time": "2025-01-24T21:23:02.000Z"
   },
   {
    "duration": 282,
    "start_time": "2025-01-24T21:23:02.006Z"
   },
   {
    "duration": 245,
    "start_time": "2025-01-24T21:23:02.290Z"
   },
   {
    "duration": 255,
    "start_time": "2025-01-24T21:23:02.537Z"
   },
   {
    "duration": 4,
    "start_time": "2025-01-24T21:23:02.793Z"
   },
   {
    "duration": 606,
    "start_time": "2025-01-24T21:23:02.798Z"
   },
   {
    "duration": 3,
    "start_time": "2025-01-24T21:23:03.405Z"
   },
   {
    "duration": 780,
    "start_time": "2025-01-24T21:23:03.410Z"
   },
   {
    "duration": 3,
    "start_time": "2025-01-24T21:23:04.192Z"
   },
   {
    "duration": 192,
    "start_time": "2025-01-24T21:23:04.197Z"
   },
   {
    "duration": 3,
    "start_time": "2025-01-24T21:23:04.392Z"
   },
   {
    "duration": 184,
    "start_time": "2025-01-24T21:23:04.396Z"
   },
   {
    "duration": 7,
    "start_time": "2025-01-24T21:23:04.581Z"
   },
   {
    "duration": 180,
    "start_time": "2025-01-24T21:23:04.589Z"
   },
   {
    "duration": 5,
    "start_time": "2025-01-24T21:23:04.771Z"
   },
   {
    "duration": 5,
    "start_time": "2025-01-24T21:23:04.789Z"
   },
   {
    "duration": 5,
    "start_time": "2025-01-24T21:23:04.796Z"
   },
   {
    "duration": 12,
    "start_time": "2025-01-24T21:23:04.804Z"
   },
   {
    "duration": 7,
    "start_time": "2025-01-24T21:23:04.817Z"
   },
   {
    "duration": 7,
    "start_time": "2025-01-24T21:23:04.826Z"
   },
   {
    "duration": 3,
    "start_time": "2025-01-24T21:23:04.834Z"
   },
   {
    "duration": 3,
    "start_time": "2025-01-24T21:23:04.839Z"
   },
   {
    "duration": 46,
    "start_time": "2025-01-24T21:23:04.843Z"
   },
   {
    "duration": 2,
    "start_time": "2025-01-24T21:23:04.891Z"
   },
   {
    "duration": 4,
    "start_time": "2025-01-24T21:23:04.895Z"
   },
   {
    "duration": 163590,
    "start_time": "2025-01-24T21:28:17.744Z"
   },
   {
    "duration": 149046,
    "start_time": "2025-01-24T21:31:01.336Z"
   },
   {
    "duration": 223,
    "start_time": "2025-01-24T21:39:35.752Z"
   },
   {
    "duration": 7,
    "start_time": "2025-01-24T21:39:47.619Z"
   },
   {
    "duration": 10,
    "start_time": "2025-01-24T21:39:49.953Z"
   },
   {
    "duration": 16,
    "start_time": "2025-01-24T21:39:51.259Z"
   },
   {
    "duration": 5,
    "start_time": "2025-01-24T21:39:54.086Z"
   },
   {
    "duration": 5,
    "start_time": "2025-01-24T21:39:55.315Z"
   },
   {
    "duration": 10,
    "start_time": "2025-01-24T21:39:57.214Z"
   },
   {
    "duration": 5,
    "start_time": "2025-01-24T21:40:00.439Z"
   },
   {
    "duration": 5,
    "start_time": "2025-01-24T21:40:03.744Z"
   },
   {
    "duration": 2442,
    "start_time": "2025-01-25T08:07:04.135Z"
   },
   {
    "duration": 160,
    "start_time": "2025-01-25T08:07:06.579Z"
   },
   {
    "duration": 642,
    "start_time": "2025-01-25T08:07:06.741Z"
   },
   {
    "duration": 47,
    "start_time": "2025-01-25T08:07:07.386Z"
   },
   {
    "duration": 8,
    "start_time": "2025-01-25T08:07:07.443Z"
   },
   {
    "duration": 19,
    "start_time": "2025-01-25T08:07:07.453Z"
   },
   {
    "duration": 4,
    "start_time": "2025-01-25T08:07:07.474Z"
   },
   {
    "duration": 155,
    "start_time": "2025-01-25T08:07:07.479Z"
   },
   {
    "duration": 4,
    "start_time": "2025-01-25T08:07:10.720Z"
   },
   {
    "duration": 3,
    "start_time": "2025-01-25T08:07:33.378Z"
   },
   {
    "duration": 2,
    "start_time": "2025-01-25T08:07:33.392Z"
   },
   {
    "duration": 501,
    "start_time": "2025-01-25T08:07:33.396Z"
   },
   {
    "duration": 49,
    "start_time": "2025-01-25T08:07:33.899Z"
   },
   {
    "duration": 8,
    "start_time": "2025-01-25T08:07:33.949Z"
   },
   {
    "duration": 19,
    "start_time": "2025-01-25T08:07:33.959Z"
   },
   {
    "duration": 3,
    "start_time": "2025-01-25T08:07:33.979Z"
   },
   {
    "duration": 150,
    "start_time": "2025-01-25T08:07:33.984Z"
   },
   {
    "duration": 9,
    "start_time": "2025-01-25T08:07:34.136Z"
   },
   {
    "duration": 2,
    "start_time": "2025-01-25T08:07:34.147Z"
   },
   {
    "duration": 3,
    "start_time": "2025-01-25T08:07:34.151Z"
   },
   {
    "duration": 4,
    "start_time": "2025-01-25T08:07:34.155Z"
   },
   {
    "duration": 3,
    "start_time": "2025-01-25T08:07:34.161Z"
   },
   {
    "duration": 4,
    "start_time": "2025-01-25T08:07:34.166Z"
   },
   {
    "duration": 4,
    "start_time": "2025-01-25T08:07:34.171Z"
   },
   {
    "duration": 6,
    "start_time": "2025-01-25T08:08:26.162Z"
   },
   {
    "duration": 8,
    "start_time": "2025-01-25T08:21:15.695Z"
   },
   {
    "duration": 6,
    "start_time": "2025-01-25T08:21:19.156Z"
   },
   {
    "duration": 15,
    "start_time": "2025-01-25T08:21:22.928Z"
   },
   {
    "duration": 3,
    "start_time": "2025-01-25T08:21:34.167Z"
   },
   {
    "duration": 160,
    "start_time": "2025-01-25T08:21:35.804Z"
   },
   {
    "duration": 9,
    "start_time": "2025-01-25T08:23:57.488Z"
   },
   {
    "duration": 7,
    "start_time": "2025-01-25T08:24:05.486Z"
   },
   {
    "duration": 7,
    "start_time": "2025-01-25T08:24:15.971Z"
   },
   {
    "duration": 9,
    "start_time": "2025-01-25T08:24:21.851Z"
   },
   {
    "duration": 8,
    "start_time": "2025-01-25T08:24:56.320Z"
   },
   {
    "duration": 8,
    "start_time": "2025-01-25T08:25:37.398Z"
   },
   {
    "duration": 7,
    "start_time": "2025-01-25T08:26:00.333Z"
   },
   {
    "duration": 2,
    "start_time": "2025-01-25T08:26:02.253Z"
   },
   {
    "duration": 155,
    "start_time": "2025-01-25T08:26:03.379Z"
   },
   {
    "duration": 8,
    "start_time": "2025-01-25T08:26:13.342Z"
   },
   {
    "duration": 7,
    "start_time": "2025-01-25T08:26:16.283Z"
   },
   {
    "duration": 7,
    "start_time": "2025-01-25T08:26:19.705Z"
   },
   {
    "duration": 8,
    "start_time": "2025-01-25T08:26:34.213Z"
   },
   {
    "duration": 8,
    "start_time": "2025-01-25T08:26:44.927Z"
   },
   {
    "duration": 6,
    "start_time": "2025-01-25T08:26:59.898Z"
   },
   {
    "duration": 10,
    "start_time": "2025-01-25T08:27:26.292Z"
   },
   {
    "duration": 4,
    "start_time": "2025-01-25T08:27:37.190Z"
   },
   {
    "duration": 5,
    "start_time": "2025-01-25T08:28:02.525Z"
   },
   {
    "duration": 239,
    "start_time": "2025-01-25T08:28:03.917Z"
   },
   {
    "duration": 288,
    "start_time": "2025-01-25T08:28:17.956Z"
   },
   {
    "duration": 247,
    "start_time": "2025-01-25T08:28:29.551Z"
   },
   {
    "duration": 3,
    "start_time": "2025-01-25T08:28:44.706Z"
   },
   {
    "duration": 461,
    "start_time": "2025-01-25T08:28:48.794Z"
   },
   {
    "duration": 2,
    "start_time": "2025-01-25T08:29:05.368Z"
   },
   {
    "duration": 756,
    "start_time": "2025-01-25T08:29:16.192Z"
   },
   {
    "duration": 3,
    "start_time": "2025-01-25T08:29:37.552Z"
   },
   {
    "duration": 177,
    "start_time": "2025-01-25T08:29:38.576Z"
   },
   {
    "duration": 4,
    "start_time": "2025-01-25T08:29:58.504Z"
   },
   {
    "duration": 176,
    "start_time": "2025-01-25T08:30:01.046Z"
   },
   {
    "duration": 3,
    "start_time": "2025-01-25T08:30:15.866Z"
   },
   {
    "duration": 171,
    "start_time": "2025-01-25T08:30:17.292Z"
   },
   {
    "duration": 3,
    "start_time": "2025-01-25T08:30:31.975Z"
   },
   {
    "duration": 3,
    "start_time": "2025-01-25T08:30:31.981Z"
   },
   {
    "duration": 510,
    "start_time": "2025-01-25T08:30:31.986Z"
   },
   {
    "duration": 61,
    "start_time": "2025-01-25T08:30:32.497Z"
   },
   {
    "duration": 8,
    "start_time": "2025-01-25T08:30:32.559Z"
   },
   {
    "duration": 17,
    "start_time": "2025-01-25T08:30:32.570Z"
   },
   {
    "duration": 4,
    "start_time": "2025-01-25T08:30:32.589Z"
   },
   {
    "duration": 149,
    "start_time": "2025-01-25T08:30:32.594Z"
   },
   {
    "duration": 5,
    "start_time": "2025-01-25T08:30:32.745Z"
   },
   {
    "duration": 2,
    "start_time": "2025-01-25T08:30:32.752Z"
   },
   {
    "duration": 3,
    "start_time": "2025-01-25T08:30:32.756Z"
   },
   {
    "duration": 2,
    "start_time": "2025-01-25T08:30:32.762Z"
   },
   {
    "duration": 4,
    "start_time": "2025-01-25T08:30:32.766Z"
   },
   {
    "duration": 5,
    "start_time": "2025-01-25T08:30:32.772Z"
   },
   {
    "duration": 3,
    "start_time": "2025-01-25T08:30:32.779Z"
   },
   {
    "duration": 6,
    "start_time": "2025-01-25T08:30:32.785Z"
   },
   {
    "duration": 6,
    "start_time": "2025-01-25T08:30:32.792Z"
   },
   {
    "duration": 48,
    "start_time": "2025-01-25T08:30:32.799Z"
   },
   {
    "duration": 3,
    "start_time": "2025-01-25T08:30:32.848Z"
   },
   {
    "duration": 170,
    "start_time": "2025-01-25T08:30:32.853Z"
   },
   {
    "duration": 18,
    "start_time": "2025-01-25T08:30:33.025Z"
   },
   {
    "duration": 7,
    "start_time": "2025-01-25T08:30:33.045Z"
   },
   {
    "duration": 5,
    "start_time": "2025-01-25T08:30:33.053Z"
   },
   {
    "duration": 7,
    "start_time": "2025-01-25T08:30:33.059Z"
   },
   {
    "duration": 7,
    "start_time": "2025-01-25T08:30:33.067Z"
   },
   {
    "duration": 5,
    "start_time": "2025-01-25T08:30:33.076Z"
   },
   {
    "duration": 8,
    "start_time": "2025-01-25T08:30:33.083Z"
   },
   {
    "duration": 5,
    "start_time": "2025-01-25T08:30:33.093Z"
   },
   {
    "duration": 279,
    "start_time": "2025-01-25T08:30:33.099Z"
   },
   {
    "duration": 331,
    "start_time": "2025-01-25T08:30:33.382Z"
   },
   {
    "duration": 253,
    "start_time": "2025-01-25T08:30:33.715Z"
   },
   {
    "duration": 3,
    "start_time": "2025-01-25T08:30:33.970Z"
   },
   {
    "duration": 479,
    "start_time": "2025-01-25T08:30:33.975Z"
   },
   {
    "duration": 3,
    "start_time": "2025-01-25T08:30:34.456Z"
   },
   {
    "duration": 837,
    "start_time": "2025-01-25T08:30:34.460Z"
   },
   {
    "duration": 3,
    "start_time": "2025-01-25T08:30:35.299Z"
   },
   {
    "duration": 223,
    "start_time": "2025-01-25T08:30:35.303Z"
   },
   {
    "duration": 3,
    "start_time": "2025-01-25T08:30:35.528Z"
   },
   {
    "duration": 189,
    "start_time": "2025-01-25T08:30:35.532Z"
   },
   {
    "duration": 4,
    "start_time": "2025-01-25T08:30:35.723Z"
   },
   {
    "duration": 178,
    "start_time": "2025-01-25T08:30:35.728Z"
   },
   {
    "duration": 4,
    "start_time": "2025-01-25T08:31:43.256Z"
   },
   {
    "duration": 3,
    "start_time": "2025-01-25T08:32:28.900Z"
   },
   {
    "duration": 3,
    "start_time": "2025-01-25T08:32:28.906Z"
   },
   {
    "duration": 427,
    "start_time": "2025-01-25T08:32:28.911Z"
   },
   {
    "duration": 55,
    "start_time": "2025-01-25T08:32:29.341Z"
   },
   {
    "duration": 7,
    "start_time": "2025-01-25T08:32:29.398Z"
   },
   {
    "duration": 35,
    "start_time": "2025-01-25T08:32:29.408Z"
   },
   {
    "duration": 3,
    "start_time": "2025-01-25T08:32:29.445Z"
   },
   {
    "duration": 135,
    "start_time": "2025-01-25T08:32:29.450Z"
   },
   {
    "duration": 4,
    "start_time": "2025-01-25T08:32:29.587Z"
   },
   {
    "duration": 2,
    "start_time": "2025-01-25T08:32:29.593Z"
   },
   {
    "duration": 3,
    "start_time": "2025-01-25T08:32:29.597Z"
   },
   {
    "duration": 2,
    "start_time": "2025-01-25T08:32:29.603Z"
   },
   {
    "duration": 3,
    "start_time": "2025-01-25T08:32:29.607Z"
   },
   {
    "duration": 33,
    "start_time": "2025-01-25T08:32:29.611Z"
   },
   {
    "duration": 3,
    "start_time": "2025-01-25T08:32:29.646Z"
   },
   {
    "duration": 8,
    "start_time": "2025-01-25T08:32:29.651Z"
   },
   {
    "duration": 5,
    "start_time": "2025-01-25T08:32:29.661Z"
   },
   {
    "duration": 8,
    "start_time": "2025-01-25T08:32:29.667Z"
   },
   {
    "duration": 2,
    "start_time": "2025-01-25T08:32:29.677Z"
   },
   {
    "duration": 189,
    "start_time": "2025-01-25T08:32:29.681Z"
   },
   {
    "duration": 10,
    "start_time": "2025-01-25T08:32:29.872Z"
   },
   {
    "duration": 7,
    "start_time": "2025-01-25T08:32:29.883Z"
   },
   {
    "duration": 5,
    "start_time": "2025-01-25T08:32:29.892Z"
   },
   {
    "duration": 6,
    "start_time": "2025-01-25T08:32:29.899Z"
   },
   {
    "duration": 39,
    "start_time": "2025-01-25T08:32:29.907Z"
   },
   {
    "duration": 5,
    "start_time": "2025-01-25T08:32:29.948Z"
   },
   {
    "duration": 9,
    "start_time": "2025-01-25T08:32:29.955Z"
   },
   {
    "duration": 4,
    "start_time": "2025-01-25T08:32:29.966Z"
   },
   {
    "duration": 263,
    "start_time": "2025-01-25T08:32:29.972Z"
   },
   {
    "duration": 327,
    "start_time": "2025-01-25T08:32:30.239Z"
   },
   {
    "duration": 254,
    "start_time": "2025-01-25T08:32:30.570Z"
   },
   {
    "duration": 4,
    "start_time": "2025-01-25T08:32:30.826Z"
   },
   {
    "duration": 523,
    "start_time": "2025-01-25T08:32:30.831Z"
   },
   {
    "duration": 3,
    "start_time": "2025-01-25T08:32:31.357Z"
   },
   {
    "duration": 775,
    "start_time": "2025-01-25T08:32:31.362Z"
   },
   {
    "duration": 3,
    "start_time": "2025-01-25T08:32:32.139Z"
   },
   {
    "duration": 186,
    "start_time": "2025-01-25T08:32:32.144Z"
   },
   {
    "duration": 3,
    "start_time": "2025-01-25T08:32:32.332Z"
   },
   {
    "duration": 172,
    "start_time": "2025-01-25T08:32:32.343Z"
   },
   {
    "duration": 3,
    "start_time": "2025-01-25T08:32:32.517Z"
   },
   {
    "duration": 186,
    "start_time": "2025-01-25T08:32:32.522Z"
   },
   {
    "duration": 3,
    "start_time": "2025-01-25T08:38:10.799Z"
   },
   {
    "duration": 5,
    "start_time": "2025-01-25T08:38:21.880Z"
   },
   {
    "duration": 4,
    "start_time": "2025-01-25T08:38:23.509Z"
   },
   {
    "duration": 3,
    "start_time": "2025-01-25T08:39:27.837Z"
   },
   {
    "duration": 3,
    "start_time": "2025-01-25T08:39:37.977Z"
   },
   {
    "duration": 3,
    "start_time": "2025-01-25T08:39:37.983Z"
   },
   {
    "duration": 479,
    "start_time": "2025-01-25T08:39:37.988Z"
   },
   {
    "duration": 46,
    "start_time": "2025-01-25T08:39:38.469Z"
   },
   {
    "duration": 9,
    "start_time": "2025-01-25T08:39:38.517Z"
   },
   {
    "duration": 29,
    "start_time": "2025-01-25T08:39:38.529Z"
   },
   {
    "duration": 3,
    "start_time": "2025-01-25T08:39:38.559Z"
   },
   {
    "duration": 140,
    "start_time": "2025-01-25T08:39:38.564Z"
   },
   {
    "duration": 5,
    "start_time": "2025-01-25T08:39:38.706Z"
   },
   {
    "duration": 4,
    "start_time": "2025-01-25T08:39:38.712Z"
   },
   {
    "duration": 4,
    "start_time": "2025-01-25T08:39:38.717Z"
   },
   {
    "duration": 3,
    "start_time": "2025-01-25T08:39:38.742Z"
   },
   {
    "duration": 4,
    "start_time": "2025-01-25T08:39:38.746Z"
   },
   {
    "duration": 5,
    "start_time": "2025-01-25T08:39:38.751Z"
   },
   {
    "duration": 4,
    "start_time": "2025-01-25T08:39:38.758Z"
   },
   {
    "duration": 6,
    "start_time": "2025-01-25T08:39:38.764Z"
   },
   {
    "duration": 5,
    "start_time": "2025-01-25T08:39:38.773Z"
   },
   {
    "duration": 8,
    "start_time": "2025-01-25T08:39:38.779Z"
   },
   {
    "duration": 3,
    "start_time": "2025-01-25T08:39:38.788Z"
   },
   {
    "duration": 197,
    "start_time": "2025-01-25T08:39:38.793Z"
   },
   {
    "duration": 9,
    "start_time": "2025-01-25T08:39:38.992Z"
   },
   {
    "duration": 6,
    "start_time": "2025-01-25T08:39:39.002Z"
   },
   {
    "duration": 6,
    "start_time": "2025-01-25T08:39:39.009Z"
   },
   {
    "duration": 31,
    "start_time": "2025-01-25T08:39:39.017Z"
   },
   {
    "duration": 6,
    "start_time": "2025-01-25T08:39:39.050Z"
   },
   {
    "duration": 7,
    "start_time": "2025-01-25T08:39:39.058Z"
   },
   {
    "duration": 9,
    "start_time": "2025-01-25T08:39:39.066Z"
   },
   {
    "duration": 6,
    "start_time": "2025-01-25T08:39:39.076Z"
   },
   {
    "duration": 266,
    "start_time": "2025-01-25T08:39:39.085Z"
   },
   {
    "duration": 311,
    "start_time": "2025-01-25T08:39:39.355Z"
   },
   {
    "duration": 251,
    "start_time": "2025-01-25T08:39:39.668Z"
   },
   {
    "duration": 4,
    "start_time": "2025-01-25T08:39:39.921Z"
   },
   {
    "duration": 523,
    "start_time": "2025-01-25T08:39:39.927Z"
   },
   {
    "duration": 2,
    "start_time": "2025-01-25T08:39:40.452Z"
   },
   {
    "duration": 751,
    "start_time": "2025-01-25T08:39:40.456Z"
   },
   {
    "duration": 4,
    "start_time": "2025-01-25T08:39:41.209Z"
   },
   {
    "duration": 194,
    "start_time": "2025-01-25T08:39:41.215Z"
   },
   {
    "duration": 3,
    "start_time": "2025-01-25T08:39:41.411Z"
   },
   {
    "duration": 179,
    "start_time": "2025-01-25T08:39:41.415Z"
   },
   {
    "duration": 3,
    "start_time": "2025-01-25T08:39:41.597Z"
   },
   {
    "duration": 187,
    "start_time": "2025-01-25T08:39:41.602Z"
   },
   {
    "duration": 4,
    "start_time": "2025-01-25T08:39:41.791Z"
   },
   {
    "duration": 4,
    "start_time": "2025-01-25T08:39:41.797Z"
   },
   {
    "duration": 302,
    "start_time": "2025-01-25T08:40:41.873Z"
   },
   {
    "duration": 6,
    "start_time": "2025-01-25T08:40:53.455Z"
   },
   {
    "duration": 16,
    "start_time": "2025-01-25T08:41:10.054Z"
   },
   {
    "duration": 253,
    "start_time": "2025-01-25T08:41:16.545Z"
   },
   {
    "duration": 10,
    "start_time": "2025-01-25T08:42:11.989Z"
   },
   {
    "duration": 4,
    "start_time": "2025-01-25T08:42:20.618Z"
   },
   {
    "duration": 7,
    "start_time": "2025-01-25T08:42:23.307Z"
   },
   {
    "duration": 5,
    "start_time": "2025-01-25T08:42:30.766Z"
   },
   {
    "duration": 4,
    "start_time": "2025-01-25T08:42:43.427Z"
   },
   {
    "duration": 4,
    "start_time": "2025-01-25T08:42:50.838Z"
   },
   {
    "duration": 3,
    "start_time": "2025-01-25T08:42:57.085Z"
   },
   {
    "duration": 3,
    "start_time": "2025-01-25T08:45:48.054Z"
   },
   {
    "duration": 4,
    "start_time": "2025-01-25T08:46:05.187Z"
   },
   {
    "duration": 4,
    "start_time": "2025-01-25T08:46:59.510Z"
   },
   {
    "duration": 5,
    "start_time": "2025-01-25T08:47:24.811Z"
   },
   {
    "duration": 2,
    "start_time": "2025-01-25T08:47:48.312Z"
   },
   {
    "duration": 2,
    "start_time": "2025-01-25T08:47:49.751Z"
   },
   {
    "duration": 3,
    "start_time": "2025-01-25T08:47:52.930Z"
   },
   {
    "duration": 2,
    "start_time": "2025-01-25T08:47:54.496Z"
   },
   {
    "duration": 2,
    "start_time": "2025-01-25T08:47:56.733Z"
   },
   {
    "duration": 14,
    "start_time": "2025-01-25T08:51:27.313Z"
   },
   {
    "duration": 90537,
    "start_time": "2025-01-25T08:52:07.061Z"
   },
   {
    "duration": 3,
    "start_time": "2025-01-25T09:01:28.900Z"
   },
   {
    "duration": 12,
    "start_time": "2025-01-25T09:02:04.077Z"
   },
   {
    "duration": 4,
    "start_time": "2025-01-25T09:02:12.690Z"
   },
   {
    "duration": 4,
    "start_time": "2025-01-25T09:02:21.971Z"
   },
   {
    "duration": 304,
    "start_time": "2025-01-25T09:04:16.929Z"
   },
   {
    "duration": 4,
    "start_time": "2025-01-25T09:04:32.411Z"
   },
   {
    "duration": 5,
    "start_time": "2025-01-25T09:05:16.126Z"
   },
   {
    "duration": 4,
    "start_time": "2025-01-25T09:05:58.303Z"
   },
   {
    "duration": 5,
    "start_time": "2025-01-25T09:06:22.004Z"
   },
   {
    "duration": 208509,
    "start_time": "2025-01-25T09:08:48.467Z"
   },
   {
    "duration": 5,
    "start_time": "2025-01-25T09:12:16.978Z"
   },
   {
    "duration": 3,
    "start_time": "2025-01-25T09:12:43.669Z"
   },
   {
    "duration": 3,
    "start_time": "2025-01-25T09:12:45.104Z"
   },
   {
    "duration": 837554,
    "start_time": "2025-01-25T09:12:47.787Z"
   },
   {
    "duration": 1967878,
    "start_time": "2025-01-25T09:26:45.344Z"
   },
   {
    "duration": 5,
    "start_time": "2025-01-25T09:59:33.224Z"
   },
   {
    "duration": 13,
    "start_time": "2025-01-25T09:59:33.231Z"
   },
   {
    "duration": 81,
    "start_time": "2025-01-25T09:59:33.246Z"
   },
   {
    "duration": 0,
    "start_time": "2025-01-25T09:59:33.329Z"
   },
   {
    "duration": 169,
    "start_time": "2025-01-25T10:02:01.114Z"
   },
   {
    "duration": 5,
    "start_time": "2025-01-25T10:02:56.228Z"
   },
   {
    "duration": 5,
    "start_time": "2025-01-25T10:02:59.282Z"
   },
   {
    "duration": 160,
    "start_time": "2025-01-25T22:41:51.989Z"
   },
   {
    "duration": 2550,
    "start_time": "2025-01-25T22:42:04.326Z"
   },
   {
    "duration": 220,
    "start_time": "2025-01-25T22:42:06.879Z"
   },
   {
    "duration": 632,
    "start_time": "2025-01-25T22:42:07.101Z"
   },
   {
    "duration": 54,
    "start_time": "2025-01-25T22:42:07.735Z"
   },
   {
    "duration": 8,
    "start_time": "2025-01-25T22:42:07.791Z"
   },
   {
    "duration": 20,
    "start_time": "2025-01-25T22:42:07.801Z"
   },
   {
    "duration": 4,
    "start_time": "2025-01-25T22:42:07.823Z"
   },
   {
    "duration": 157,
    "start_time": "2025-01-25T22:42:07.829Z"
   },
   {
    "duration": 4,
    "start_time": "2025-01-25T22:42:07.988Z"
   },
   {
    "duration": 2,
    "start_time": "2025-01-25T22:42:07.996Z"
   },
   {
    "duration": 3,
    "start_time": "2025-01-25T22:42:08.000Z"
   },
   {
    "duration": 3,
    "start_time": "2025-01-25T22:42:08.005Z"
   },
   {
    "duration": 4,
    "start_time": "2025-01-25T22:42:08.009Z"
   },
   {
    "duration": 6,
    "start_time": "2025-01-25T22:42:08.014Z"
   },
   {
    "duration": 4,
    "start_time": "2025-01-25T22:42:08.022Z"
   },
   {
    "duration": 47,
    "start_time": "2025-01-25T22:42:08.027Z"
   },
   {
    "duration": 5,
    "start_time": "2025-01-25T22:42:08.076Z"
   },
   {
    "duration": 8,
    "start_time": "2025-01-25T22:42:08.082Z"
   },
   {
    "duration": 3,
    "start_time": "2025-01-25T22:42:08.092Z"
   },
   {
    "duration": 191,
    "start_time": "2025-01-25T22:42:08.096Z"
   },
   {
    "duration": 9,
    "start_time": "2025-01-25T22:42:08.289Z"
   },
   {
    "duration": 7,
    "start_time": "2025-01-25T22:42:08.300Z"
   },
   {
    "duration": 5,
    "start_time": "2025-01-25T22:42:08.308Z"
   },
   {
    "duration": 8,
    "start_time": "2025-01-25T22:42:08.315Z"
   },
   {
    "duration": 8,
    "start_time": "2025-01-25T22:42:08.325Z"
   },
   {
    "duration": 6,
    "start_time": "2025-01-25T22:42:08.371Z"
   },
   {
    "duration": 11,
    "start_time": "2025-01-25T22:42:08.378Z"
   },
   {
    "duration": 4,
    "start_time": "2025-01-25T22:42:08.394Z"
   },
   {
    "duration": 271,
    "start_time": "2025-01-25T22:42:08.399Z"
   },
   {
    "duration": 248,
    "start_time": "2025-01-25T22:42:08.672Z"
   },
   {
    "duration": 254,
    "start_time": "2025-01-25T22:42:08.922Z"
   },
   {
    "duration": 3,
    "start_time": "2025-01-25T22:42:09.178Z"
   },
   {
    "duration": 504,
    "start_time": "2025-01-25T22:42:09.183Z"
   },
   {
    "duration": 3,
    "start_time": "2025-01-25T22:42:09.689Z"
   },
   {
    "duration": 745,
    "start_time": "2025-01-25T22:42:09.694Z"
   },
   {
    "duration": 4,
    "start_time": "2025-01-25T22:42:10.440Z"
   },
   {
    "duration": 272,
    "start_time": "2025-01-25T22:42:10.445Z"
   },
   {
    "duration": 3,
    "start_time": "2025-01-25T22:42:10.719Z"
   },
   {
    "duration": 183,
    "start_time": "2025-01-25T22:42:10.724Z"
   },
   {
    "duration": 3,
    "start_time": "2025-01-25T22:42:10.909Z"
   },
   {
    "duration": 183,
    "start_time": "2025-01-25T22:42:10.914Z"
   },
   {
    "duration": 6,
    "start_time": "2025-01-25T22:42:11.098Z"
   },
   {
    "duration": 11,
    "start_time": "2025-01-25T22:42:11.105Z"
   },
   {
    "duration": 3,
    "start_time": "2025-01-25T22:42:11.118Z"
   },
   {
    "duration": 9,
    "start_time": "2025-01-25T22:42:11.123Z"
   },
   {
    "duration": 4,
    "start_time": "2025-01-25T22:42:11.133Z"
   },
   {
    "duration": 3,
    "start_time": "2025-01-25T22:42:11.139Z"
   },
   {
    "duration": 4,
    "start_time": "2025-01-25T22:42:11.171Z"
   },
   {
    "duration": 5,
    "start_time": "2025-01-25T22:42:11.177Z"
   },
   {
    "duration": 3,
    "start_time": "2025-01-25T22:42:11.184Z"
   },
   {
    "duration": 6,
    "start_time": "2025-01-25T22:42:11.188Z"
   },
   {
    "duration": 4,
    "start_time": "2025-01-25T22:42:11.196Z"
   },
   {
    "duration": 4,
    "start_time": "2025-01-25T22:42:11.201Z"
   },
   {
    "duration": 3,
    "start_time": "2025-01-25T22:42:11.206Z"
   },
   {
    "duration": 131,
    "start_time": "2025-01-25T22:42:11.211Z"
   },
   {
    "duration": 0,
    "start_time": "2025-01-25T22:42:11.344Z"
   },
   {
    "duration": 0,
    "start_time": "2025-01-25T22:42:11.345Z"
   },
   {
    "duration": 0,
    "start_time": "2025-01-25T22:42:11.346Z"
   },
   {
    "duration": 0,
    "start_time": "2025-01-25T22:42:11.347Z"
   },
   {
    "duration": 0,
    "start_time": "2025-01-25T22:42:11.349Z"
   },
   {
    "duration": 0,
    "start_time": "2025-01-25T22:42:11.350Z"
   },
   {
    "duration": 0,
    "start_time": "2025-01-25T22:42:11.352Z"
   },
   {
    "duration": 0,
    "start_time": "2025-01-25T22:42:11.353Z"
   },
   {
    "duration": 0,
    "start_time": "2025-01-25T22:42:11.371Z"
   },
   {
    "duration": 0,
    "start_time": "2025-01-25T22:42:11.372Z"
   },
   {
    "duration": 0,
    "start_time": "2025-01-25T22:42:11.374Z"
   },
   {
    "duration": 0,
    "start_time": "2025-01-25T22:42:11.375Z"
   },
   {
    "duration": 0,
    "start_time": "2025-01-25T22:42:11.376Z"
   },
   {
    "duration": 0,
    "start_time": "2025-01-25T22:42:11.378Z"
   },
   {
    "duration": 15,
    "start_time": "2025-01-25T22:42:14.370Z"
   },
   {
    "duration": 13,
    "start_time": "2025-01-25T22:42:19.450Z"
   },
   {
    "duration": 3,
    "start_time": "2025-01-25T22:43:58.923Z"
   },
   {
    "duration": 4,
    "start_time": "2025-01-25T22:43:58.930Z"
   },
   {
    "duration": 555,
    "start_time": "2025-01-25T22:43:58.936Z"
   },
   {
    "duration": 49,
    "start_time": "2025-01-25T22:43:59.492Z"
   },
   {
    "duration": 9,
    "start_time": "2025-01-25T22:43:59.543Z"
   },
   {
    "duration": 20,
    "start_time": "2025-01-25T22:43:59.570Z"
   },
   {
    "duration": 3,
    "start_time": "2025-01-25T22:43:59.591Z"
   },
   {
    "duration": 147,
    "start_time": "2025-01-25T22:43:59.596Z"
   },
   {
    "duration": 5,
    "start_time": "2025-01-25T22:43:59.746Z"
   },
   {
    "duration": 2,
    "start_time": "2025-01-25T22:43:59.754Z"
   },
   {
    "duration": 2,
    "start_time": "2025-01-25T22:43:59.771Z"
   },
   {
    "duration": 3,
    "start_time": "2025-01-25T22:43:59.775Z"
   },
   {
    "duration": 4,
    "start_time": "2025-01-25T22:43:59.780Z"
   },
   {
    "duration": 5,
    "start_time": "2025-01-25T22:43:59.786Z"
   },
   {
    "duration": 4,
    "start_time": "2025-01-25T22:43:59.792Z"
   },
   {
    "duration": 7,
    "start_time": "2025-01-25T22:43:59.798Z"
   },
   {
    "duration": 5,
    "start_time": "2025-01-25T22:43:59.806Z"
   },
   {
    "duration": 7,
    "start_time": "2025-01-25T22:43:59.813Z"
   },
   {
    "duration": 3,
    "start_time": "2025-01-25T22:43:59.822Z"
   },
   {
    "duration": 209,
    "start_time": "2025-01-25T22:43:59.826Z"
   },
   {
    "duration": 9,
    "start_time": "2025-01-25T22:44:00.038Z"
   },
   {
    "duration": 21,
    "start_time": "2025-01-25T22:44:00.049Z"
   },
   {
    "duration": 6,
    "start_time": "2025-01-25T22:44:00.071Z"
   },
   {
    "duration": 7,
    "start_time": "2025-01-25T22:44:00.078Z"
   },
   {
    "duration": 8,
    "start_time": "2025-01-25T22:44:00.090Z"
   },
   {
    "duration": 5,
    "start_time": "2025-01-25T22:44:00.099Z"
   },
   {
    "duration": 10,
    "start_time": "2025-01-25T22:44:00.106Z"
   },
   {
    "duration": 5,
    "start_time": "2025-01-25T22:44:00.118Z"
   },
   {
    "duration": 286,
    "start_time": "2025-01-25T22:44:00.125Z"
   },
   {
    "duration": 264,
    "start_time": "2025-01-25T22:44:00.413Z"
   },
   {
    "duration": 258,
    "start_time": "2025-01-25T22:44:00.678Z"
   },
   {
    "duration": 4,
    "start_time": "2025-01-25T22:44:00.938Z"
   },
   {
    "duration": 479,
    "start_time": "2025-01-25T22:44:00.944Z"
   },
   {
    "duration": 4,
    "start_time": "2025-01-25T22:44:01.425Z"
   },
   {
    "duration": 874,
    "start_time": "2025-01-25T22:44:01.431Z"
   },
   {
    "duration": 3,
    "start_time": "2025-01-25T22:44:02.307Z"
   },
   {
    "duration": 188,
    "start_time": "2025-01-25T22:44:02.312Z"
   },
   {
    "duration": 3,
    "start_time": "2025-01-25T22:44:02.503Z"
   },
   {
    "duration": 188,
    "start_time": "2025-01-25T22:44:02.508Z"
   },
   {
    "duration": 3,
    "start_time": "2025-01-25T22:44:02.698Z"
   },
   {
    "duration": 183,
    "start_time": "2025-01-25T22:44:02.703Z"
   },
   {
    "duration": 5,
    "start_time": "2025-01-25T22:44:02.888Z"
   },
   {
    "duration": 11,
    "start_time": "2025-01-25T22:44:02.894Z"
   },
   {
    "duration": 3,
    "start_time": "2025-01-25T22:44:02.907Z"
   },
   {
    "duration": 6,
    "start_time": "2025-01-25T22:44:02.912Z"
   },
   {
    "duration": 5,
    "start_time": "2025-01-25T22:44:02.919Z"
   },
   {
    "duration": 4,
    "start_time": "2025-01-25T22:44:02.925Z"
   },
   {
    "duration": 3,
    "start_time": "2025-01-25T22:44:02.931Z"
   },
   {
    "duration": 37,
    "start_time": "2025-01-25T22:44:02.936Z"
   },
   {
    "duration": 4,
    "start_time": "2025-01-25T22:44:02.975Z"
   },
   {
    "duration": 5,
    "start_time": "2025-01-25T22:44:02.981Z"
   },
   {
    "duration": 4,
    "start_time": "2025-01-25T22:44:02.988Z"
   },
   {
    "duration": 3,
    "start_time": "2025-01-25T22:44:02.994Z"
   },
   {
    "duration": 4,
    "start_time": "2025-01-25T22:44:02.999Z"
   },
   {
    "duration": 2,
    "start_time": "2025-01-25T22:44:03.005Z"
   },
   {
    "duration": 5,
    "start_time": "2025-01-25T22:44:03.009Z"
   },
   {
    "duration": 53,
    "start_time": "2025-01-25T22:44:03.017Z"
   },
   {
    "duration": 5,
    "start_time": "2025-01-25T22:44:03.072Z"
   },
   {
    "duration": 5,
    "start_time": "2025-01-25T22:44:03.078Z"
   },
   {
    "duration": 3,
    "start_time": "2025-01-25T22:44:03.084Z"
   },
   {
    "duration": 4,
    "start_time": "2025-01-25T22:44:03.089Z"
   },
   {
    "duration": 3,
    "start_time": "2025-01-25T22:44:03.094Z"
   },
   {
    "duration": 3,
    "start_time": "2025-01-25T22:44:03.099Z"
   },
   {
    "duration": 3,
    "start_time": "2025-01-25T22:44:03.104Z"
   },
   {
    "duration": 91202,
    "start_time": "2025-01-25T22:44:03.108Z"
   },
   {
    "duration": 209723,
    "start_time": "2025-01-25T22:45:34.312Z"
   },
   {
    "duration": 5,
    "start_time": "2025-01-25T22:49:04.036Z"
   },
   {
    "duration": 5,
    "start_time": "2025-01-25T22:49:04.047Z"
   },
   {
    "duration": 21,
    "start_time": "2025-01-25T22:49:04.053Z"
   },
   {
    "duration": 5,
    "start_time": "2025-01-25T22:49:04.075Z"
   },
   {
    "duration": 6,
    "start_time": "2025-01-25T22:50:17.229Z"
   },
   {
    "duration": 3,
    "start_time": "2025-01-25T22:50:24.438Z"
   },
   {
    "duration": 11,
    "start_time": "2025-01-25T23:07:55.962Z"
   },
   {
    "duration": 6,
    "start_time": "2025-01-25T23:22:01.584Z"
   },
   {
    "duration": 7,
    "start_time": "2025-01-25T23:22:02.993Z"
   },
   {
    "duration": 5,
    "start_time": "2025-01-25T23:22:18.658Z"
   },
   {
    "duration": 6,
    "start_time": "2025-01-25T23:22:20.864Z"
   },
   {
    "duration": 7,
    "start_time": "2025-01-25T23:22:32.088Z"
   },
   {
    "duration": 10,
    "start_time": "2025-01-25T23:22:33.215Z"
   },
   {
    "duration": 6,
    "start_time": "2025-01-25T23:22:53.495Z"
   },
   {
    "duration": 246,
    "start_time": "2025-01-25T23:22:54.698Z"
   },
   {
    "duration": 246,
    "start_time": "2025-01-25T23:24:04.629Z"
   },
   {
    "duration": 250,
    "start_time": "2025-01-25T23:24:18.531Z"
   },
   {
    "duration": 928,
    "start_time": "2025-01-25T23:42:33.118Z"
   },
   {
    "duration": 905,
    "start_time": "2025-01-25T23:42:52.917Z"
   },
   {
    "duration": 890,
    "start_time": "2025-01-25T23:43:08.470Z"
   },
   {
    "duration": 1195,
    "start_time": "2025-01-25T23:43:47.490Z"
   },
   {
    "duration": 701,
    "start_time": "2025-01-25T23:46:47.564Z"
   },
   {
    "duration": 891,
    "start_time": "2025-01-25T23:47:32.970Z"
   },
   {
    "duration": 548,
    "start_time": "2025-01-25T23:47:50.018Z"
   },
   {
    "duration": 778,
    "start_time": "2025-01-25T23:49:45.143Z"
   },
   {
    "duration": 562,
    "start_time": "2025-01-25T23:50:03.235Z"
   },
   {
    "duration": 3,
    "start_time": "2025-01-25T23:53:55.119Z"
   },
   {
    "duration": 165,
    "start_time": "2025-01-25T23:53:56.564Z"
   },
   {
    "duration": 4,
    "start_time": "2025-01-25T23:54:14.706Z"
   },
   {
    "duration": 163,
    "start_time": "2025-01-25T23:54:15.904Z"
   },
   {
    "duration": 4,
    "start_time": "2025-01-25T23:54:33.249Z"
   },
   {
    "duration": 172,
    "start_time": "2025-01-25T23:54:38.465Z"
   },
   {
    "duration": 10,
    "start_time": "2025-01-25T23:58:24.182Z"
   },
   {
    "duration": 161,
    "start_time": "2025-01-25T23:58:25.824Z"
   },
   {
    "duration": 3,
    "start_time": "2025-01-25T23:59:30.283Z"
   },
   {
    "duration": 4,
    "start_time": "2025-01-25T23:59:38.895Z"
   },
   {
    "duration": 14,
    "start_time": "2025-01-26T00:00:11.639Z"
   },
   {
    "duration": 206,
    "start_time": "2025-01-26T00:00:53.668Z"
   },
   {
    "duration": 2,
    "start_time": "2025-01-26T00:01:03.326Z"
   },
   {
    "duration": 3,
    "start_time": "2025-01-26T00:01:03.332Z"
   },
   {
    "duration": 494,
    "start_time": "2025-01-26T00:01:03.337Z"
   },
   {
    "duration": 55,
    "start_time": "2025-01-26T00:01:03.834Z"
   },
   {
    "duration": 8,
    "start_time": "2025-01-26T00:01:03.891Z"
   },
   {
    "duration": 16,
    "start_time": "2025-01-26T00:01:03.901Z"
   },
   {
    "duration": 4,
    "start_time": "2025-01-26T00:01:03.919Z"
   },
   {
    "duration": 149,
    "start_time": "2025-01-26T00:01:03.924Z"
   },
   {
    "duration": 5,
    "start_time": "2025-01-26T00:01:04.075Z"
   },
   {
    "duration": 2,
    "start_time": "2025-01-26T00:01:04.082Z"
   },
   {
    "duration": 3,
    "start_time": "2025-01-26T00:01:04.086Z"
   },
   {
    "duration": 3,
    "start_time": "2025-01-26T00:01:04.092Z"
   },
   {
    "duration": 3,
    "start_time": "2025-01-26T00:01:04.096Z"
   },
   {
    "duration": 5,
    "start_time": "2025-01-26T00:01:04.101Z"
   },
   {
    "duration": 4,
    "start_time": "2025-01-26T00:01:04.107Z"
   },
   {
    "duration": 8,
    "start_time": "2025-01-26T00:01:04.112Z"
   },
   {
    "duration": 5,
    "start_time": "2025-01-26T00:01:04.121Z"
   },
   {
    "duration": 8,
    "start_time": "2025-01-26T00:01:04.170Z"
   },
   {
    "duration": 3,
    "start_time": "2025-01-26T00:01:04.180Z"
   },
   {
    "duration": 169,
    "start_time": "2025-01-26T00:01:04.185Z"
   },
   {
    "duration": 15,
    "start_time": "2025-01-26T00:01:04.356Z"
   },
   {
    "duration": 6,
    "start_time": "2025-01-26T00:01:04.373Z"
   },
   {
    "duration": 7,
    "start_time": "2025-01-26T00:01:04.381Z"
   },
   {
    "duration": 6,
    "start_time": "2025-01-26T00:01:04.389Z"
   },
   {
    "duration": 8,
    "start_time": "2025-01-26T00:01:04.396Z"
   },
   {
    "duration": 200,
    "start_time": "2025-01-26T00:01:04.406Z"
   },
   {
    "duration": 0,
    "start_time": "2025-01-26T00:01:04.609Z"
   },
   {
    "duration": 0,
    "start_time": "2025-01-26T00:01:04.610Z"
   },
   {
    "duration": 0,
    "start_time": "2025-01-26T00:01:04.611Z"
   },
   {
    "duration": 0,
    "start_time": "2025-01-26T00:01:04.613Z"
   },
   {
    "duration": 0,
    "start_time": "2025-01-26T00:01:04.615Z"
   },
   {
    "duration": 0,
    "start_time": "2025-01-26T00:01:04.616Z"
   },
   {
    "duration": 0,
    "start_time": "2025-01-26T00:01:04.618Z"
   },
   {
    "duration": 0,
    "start_time": "2025-01-26T00:01:04.619Z"
   },
   {
    "duration": 0,
    "start_time": "2025-01-26T00:01:04.620Z"
   },
   {
    "duration": 0,
    "start_time": "2025-01-26T00:01:04.622Z"
   },
   {
    "duration": 0,
    "start_time": "2025-01-26T00:01:04.624Z"
   },
   {
    "duration": 0,
    "start_time": "2025-01-26T00:01:04.625Z"
   },
   {
    "duration": 0,
    "start_time": "2025-01-26T00:01:04.626Z"
   },
   {
    "duration": 0,
    "start_time": "2025-01-26T00:01:04.627Z"
   },
   {
    "duration": 0,
    "start_time": "2025-01-26T00:01:04.628Z"
   },
   {
    "duration": 0,
    "start_time": "2025-01-26T00:01:04.629Z"
   },
   {
    "duration": 0,
    "start_time": "2025-01-26T00:01:04.630Z"
   },
   {
    "duration": 0,
    "start_time": "2025-01-26T00:01:04.631Z"
   },
   {
    "duration": 0,
    "start_time": "2025-01-26T00:01:04.631Z"
   },
   {
    "duration": 3,
    "start_time": "2025-01-26T00:01:11.766Z"
   },
   {
    "duration": 4,
    "start_time": "2025-01-26T00:01:11.773Z"
   },
   {
    "duration": 472,
    "start_time": "2025-01-26T00:01:11.779Z"
   },
   {
    "duration": 52,
    "start_time": "2025-01-26T00:01:12.253Z"
   },
   {
    "duration": 9,
    "start_time": "2025-01-26T00:01:12.306Z"
   },
   {
    "duration": 17,
    "start_time": "2025-01-26T00:01:12.317Z"
   },
   {
    "duration": 4,
    "start_time": "2025-01-26T00:01:12.335Z"
   },
   {
    "duration": 155,
    "start_time": "2025-01-26T00:01:12.340Z"
   },
   {
    "duration": 5,
    "start_time": "2025-01-26T00:01:12.497Z"
   },
   {
    "duration": 4,
    "start_time": "2025-01-26T00:01:12.504Z"
   },
   {
    "duration": 3,
    "start_time": "2025-01-26T00:01:12.509Z"
   },
   {
    "duration": 3,
    "start_time": "2025-01-26T00:01:12.514Z"
   },
   {
    "duration": 3,
    "start_time": "2025-01-26T00:01:12.520Z"
   },
   {
    "duration": 4,
    "start_time": "2025-01-26T00:01:12.527Z"
   },
   {
    "duration": 3,
    "start_time": "2025-01-26T00:01:12.533Z"
   },
   {
    "duration": 7,
    "start_time": "2025-01-26T00:01:12.571Z"
   },
   {
    "duration": 5,
    "start_time": "2025-01-26T00:01:12.579Z"
   },
   {
    "duration": 7,
    "start_time": "2025-01-26T00:01:12.586Z"
   },
   {
    "duration": 2,
    "start_time": "2025-01-26T00:01:12.595Z"
   },
   {
    "duration": 185,
    "start_time": "2025-01-26T00:01:12.599Z"
   },
   {
    "duration": 7,
    "start_time": "2025-01-26T00:01:12.786Z"
   },
   {
    "duration": 7,
    "start_time": "2025-01-26T00:01:12.794Z"
   },
   {
    "duration": 9,
    "start_time": "2025-01-26T00:01:12.802Z"
   },
   {
    "duration": 9,
    "start_time": "2025-01-26T00:01:12.812Z"
   },
   {
    "duration": 7,
    "start_time": "2025-01-26T00:01:12.822Z"
   },
   {
    "duration": 50,
    "start_time": "2025-01-26T00:01:12.830Z"
   },
   {
    "duration": 0,
    "start_time": "2025-01-26T00:01:12.883Z"
   },
   {
    "duration": 0,
    "start_time": "2025-01-26T00:01:12.885Z"
   },
   {
    "duration": 0,
    "start_time": "2025-01-26T00:01:12.886Z"
   },
   {
    "duration": 0,
    "start_time": "2025-01-26T00:01:12.889Z"
   },
   {
    "duration": 0,
    "start_time": "2025-01-26T00:01:12.891Z"
   },
   {
    "duration": 0,
    "start_time": "2025-01-26T00:01:12.892Z"
   },
   {
    "duration": 0,
    "start_time": "2025-01-26T00:01:12.894Z"
   },
   {
    "duration": 1,
    "start_time": "2025-01-26T00:01:12.894Z"
   },
   {
    "duration": 0,
    "start_time": "2025-01-26T00:01:12.896Z"
   },
   {
    "duration": 0,
    "start_time": "2025-01-26T00:01:12.897Z"
   },
   {
    "duration": 0,
    "start_time": "2025-01-26T00:01:12.898Z"
   },
   {
    "duration": 0,
    "start_time": "2025-01-26T00:01:12.898Z"
   },
   {
    "duration": 0,
    "start_time": "2025-01-26T00:01:12.899Z"
   },
   {
    "duration": 0,
    "start_time": "2025-01-26T00:01:12.902Z"
   },
   {
    "duration": 0,
    "start_time": "2025-01-26T00:01:12.903Z"
   },
   {
    "duration": 0,
    "start_time": "2025-01-26T00:01:12.904Z"
   },
   {
    "duration": 0,
    "start_time": "2025-01-26T00:01:12.906Z"
   },
   {
    "duration": 0,
    "start_time": "2025-01-26T00:01:12.907Z"
   },
   {
    "duration": 0,
    "start_time": "2025-01-26T00:01:12.908Z"
   },
   {
    "duration": 2,
    "start_time": "2025-01-26T00:01:48.659Z"
   },
   {
    "duration": 3,
    "start_time": "2025-01-26T00:01:48.673Z"
   },
   {
    "duration": 514,
    "start_time": "2025-01-26T00:01:48.679Z"
   },
   {
    "duration": 47,
    "start_time": "2025-01-26T00:01:49.195Z"
   },
   {
    "duration": 26,
    "start_time": "2025-01-26T00:01:49.243Z"
   },
   {
    "duration": 16,
    "start_time": "2025-01-26T00:01:49.273Z"
   },
   {
    "duration": 3,
    "start_time": "2025-01-26T00:01:49.291Z"
   },
   {
    "duration": 138,
    "start_time": "2025-01-26T00:01:49.296Z"
   },
   {
    "duration": 5,
    "start_time": "2025-01-26T00:01:49.436Z"
   },
   {
    "duration": 3,
    "start_time": "2025-01-26T00:01:49.443Z"
   },
   {
    "duration": 2,
    "start_time": "2025-01-26T00:01:49.448Z"
   },
   {
    "duration": 2,
    "start_time": "2025-01-26T00:01:49.471Z"
   },
   {
    "duration": 3,
    "start_time": "2025-01-26T00:01:49.475Z"
   },
   {
    "duration": 4,
    "start_time": "2025-01-26T00:01:49.480Z"
   },
   {
    "duration": 3,
    "start_time": "2025-01-26T00:01:49.488Z"
   },
   {
    "duration": 7,
    "start_time": "2025-01-26T00:01:49.493Z"
   },
   {
    "duration": 6,
    "start_time": "2025-01-26T00:01:49.501Z"
   },
   {
    "duration": 8,
    "start_time": "2025-01-26T00:01:49.508Z"
   },
   {
    "duration": 3,
    "start_time": "2025-01-26T00:01:49.517Z"
   },
   {
    "duration": 209,
    "start_time": "2025-01-26T00:01:49.522Z"
   },
   {
    "duration": 8,
    "start_time": "2025-01-26T00:01:49.736Z"
   },
   {
    "duration": 7,
    "start_time": "2025-01-26T00:01:49.745Z"
   },
   {
    "duration": 17,
    "start_time": "2025-01-26T00:01:49.754Z"
   },
   {
    "duration": 6,
    "start_time": "2025-01-26T00:01:49.773Z"
   },
   {
    "duration": 8,
    "start_time": "2025-01-26T00:01:49.781Z"
   },
   {
    "duration": 6,
    "start_time": "2025-01-26T00:01:49.790Z"
   },
   {
    "duration": 7,
    "start_time": "2025-01-26T00:01:49.797Z"
   },
   {
    "duration": 8,
    "start_time": "2025-01-26T00:01:49.806Z"
   },
   {
    "duration": 5,
    "start_time": "2025-01-26T00:01:49.815Z"
   },
   {
    "duration": 285,
    "start_time": "2025-01-26T00:01:49.822Z"
   },
   {
    "duration": 335,
    "start_time": "2025-01-26T00:01:50.110Z"
   },
   {
    "duration": 254,
    "start_time": "2025-01-26T00:01:50.447Z"
   },
   {
    "duration": 4,
    "start_time": "2025-01-26T00:01:50.703Z"
   },
   {
    "duration": 925,
    "start_time": "2025-01-26T00:01:50.708Z"
   },
   {
    "duration": 3,
    "start_time": "2025-01-26T00:01:51.635Z"
   },
   {
    "duration": 791,
    "start_time": "2025-01-26T00:01:51.640Z"
   },
   {
    "duration": 590,
    "start_time": "2025-01-26T00:01:52.433Z"
   },
   {
    "duration": 5,
    "start_time": "2025-01-26T00:01:53.025Z"
   },
   {
    "duration": 188,
    "start_time": "2025-01-26T00:01:53.032Z"
   },
   {
    "duration": 4,
    "start_time": "2025-01-26T00:01:53.223Z"
   },
   {
    "duration": 175,
    "start_time": "2025-01-26T00:01:53.230Z"
   },
   {
    "duration": 3,
    "start_time": "2025-01-26T00:01:53.409Z"
   },
   {
    "duration": 175,
    "start_time": "2025-01-26T00:01:53.414Z"
   },
   {
    "duration": 5,
    "start_time": "2025-01-26T00:01:53.591Z"
   },
   {
    "duration": 11,
    "start_time": "2025-01-26T00:01:56.757Z"
   },
   {
    "duration": 5,
    "start_time": "2025-01-26T00:01:58.270Z"
   },
   {
    "duration": 4,
    "start_time": "2025-01-26T00:04:00.187Z"
   },
   {
    "duration": 3,
    "start_time": "2025-01-26T00:04:45.918Z"
   },
   {
    "duration": 4,
    "start_time": "2025-01-26T00:05:03.591Z"
   },
   {
    "duration": 6,
    "start_time": "2025-01-26T00:06:23.982Z"
   },
   {
    "duration": 208,
    "start_time": "2025-01-26T00:10:19.874Z"
   },
   {
    "duration": 3,
    "start_time": "2025-01-26T00:13:38.214Z"
   },
   {
    "duration": 4,
    "start_time": "2025-01-26T00:14:07.758Z"
   },
   {
    "duration": 6,
    "start_time": "2025-01-26T00:14:49.389Z"
   },
   {
    "duration": 824,
    "start_time": "2025-01-26T00:15:18.725Z"
   },
   {
    "duration": 202,
    "start_time": "2025-01-26T00:15:19.551Z"
   },
   {
    "duration": 528,
    "start_time": "2025-01-26T00:15:19.755Z"
   },
   {
    "duration": 50,
    "start_time": "2025-01-26T00:15:20.287Z"
   },
   {
    "duration": 9,
    "start_time": "2025-01-26T00:15:20.338Z"
   },
   {
    "duration": 38,
    "start_time": "2025-01-26T00:15:20.348Z"
   },
   {
    "duration": 3,
    "start_time": "2025-01-26T00:15:20.388Z"
   },
   {
    "duration": 151,
    "start_time": "2025-01-26T00:15:20.393Z"
   },
   {
    "duration": 5,
    "start_time": "2025-01-26T00:15:20.546Z"
   },
   {
    "duration": 15,
    "start_time": "2025-01-26T00:15:20.555Z"
   },
   {
    "duration": 3,
    "start_time": "2025-01-26T00:15:20.572Z"
   },
   {
    "duration": 2,
    "start_time": "2025-01-26T00:15:20.578Z"
   },
   {
    "duration": 3,
    "start_time": "2025-01-26T00:15:20.583Z"
   },
   {
    "duration": 4,
    "start_time": "2025-01-26T00:15:20.588Z"
   },
   {
    "duration": 5,
    "start_time": "2025-01-26T00:15:20.594Z"
   },
   {
    "duration": 8,
    "start_time": "2025-01-26T00:15:20.600Z"
   },
   {
    "duration": 5,
    "start_time": "2025-01-26T00:15:20.609Z"
   },
   {
    "duration": 7,
    "start_time": "2025-01-26T00:15:20.616Z"
   },
   {
    "duration": 2,
    "start_time": "2025-01-26T00:15:20.625Z"
   },
   {
    "duration": 222,
    "start_time": "2025-01-26T00:15:20.629Z"
   },
   {
    "duration": 18,
    "start_time": "2025-01-26T00:15:20.853Z"
   },
   {
    "duration": 5,
    "start_time": "2025-01-26T00:15:20.873Z"
   },
   {
    "duration": 7,
    "start_time": "2025-01-26T00:15:20.880Z"
   },
   {
    "duration": 10,
    "start_time": "2025-01-26T00:15:20.888Z"
   },
   {
    "duration": 8,
    "start_time": "2025-01-26T00:15:20.900Z"
   },
   {
    "duration": 5,
    "start_time": "2025-01-26T00:15:20.910Z"
   },
   {
    "duration": 9,
    "start_time": "2025-01-26T00:15:20.917Z"
   },
   {
    "duration": 45,
    "start_time": "2025-01-26T00:15:20.932Z"
   },
   {
    "duration": 4,
    "start_time": "2025-01-26T00:15:20.981Z"
   },
   {
    "duration": 267,
    "start_time": "2025-01-26T00:15:20.987Z"
   },
   {
    "duration": 261,
    "start_time": "2025-01-26T00:15:21.256Z"
   },
   {
    "duration": 287,
    "start_time": "2025-01-26T00:15:21.519Z"
   },
   {
    "duration": 5,
    "start_time": "2025-01-26T00:15:21.808Z"
   },
   {
    "duration": 838,
    "start_time": "2025-01-26T00:15:21.814Z"
   },
   {
    "duration": 3,
    "start_time": "2025-01-26T00:15:22.654Z"
   },
   {
    "duration": 868,
    "start_time": "2025-01-26T00:15:22.670Z"
   },
   {
    "duration": 449,
    "start_time": "2025-01-26T00:15:23.540Z"
   },
   {
    "duration": 4,
    "start_time": "2025-01-26T00:15:23.991Z"
   },
   {
    "duration": 202,
    "start_time": "2025-01-26T00:15:23.997Z"
   },
   {
    "duration": 3,
    "start_time": "2025-01-26T00:15:24.201Z"
   },
   {
    "duration": 177,
    "start_time": "2025-01-26T00:15:24.206Z"
   },
   {
    "duration": 340,
    "start_time": "2025-01-26T00:15:24.385Z"
   },
   {
    "duration": 0,
    "start_time": "2025-01-26T00:15:24.727Z"
   },
   {
    "duration": 0,
    "start_time": "2025-01-26T00:15:24.728Z"
   },
   {
    "duration": 0,
    "start_time": "2025-01-26T00:15:24.729Z"
   },
   {
    "duration": 0,
    "start_time": "2025-01-26T00:15:24.731Z"
   },
   {
    "duration": 0,
    "start_time": "2025-01-26T00:15:24.732Z"
   },
   {
    "duration": 0,
    "start_time": "2025-01-26T00:15:24.733Z"
   },
   {
    "duration": 0,
    "start_time": "2025-01-26T00:15:24.735Z"
   },
   {
    "duration": 0,
    "start_time": "2025-01-26T00:15:24.736Z"
   },
   {
    "duration": 0,
    "start_time": "2025-01-26T00:15:24.738Z"
   },
   {
    "duration": 0,
    "start_time": "2025-01-26T00:15:24.739Z"
   },
   {
    "duration": 0,
    "start_time": "2025-01-26T00:15:24.740Z"
   },
   {
    "duration": 0,
    "start_time": "2025-01-26T00:15:24.741Z"
   },
   {
    "duration": 0,
    "start_time": "2025-01-26T00:15:24.742Z"
   },
   {
    "duration": 0,
    "start_time": "2025-01-26T00:15:24.743Z"
   },
   {
    "duration": 0,
    "start_time": "2025-01-26T00:15:24.769Z"
   },
   {
    "duration": 0,
    "start_time": "2025-01-26T00:15:24.771Z"
   },
   {
    "duration": 0,
    "start_time": "2025-01-26T00:15:24.772Z"
   },
   {
    "duration": 0,
    "start_time": "2025-01-26T00:15:24.774Z"
   },
   {
    "duration": 0,
    "start_time": "2025-01-26T00:15:24.775Z"
   },
   {
    "duration": 0,
    "start_time": "2025-01-26T00:15:24.777Z"
   },
   {
    "duration": 0,
    "start_time": "2025-01-26T00:15:24.778Z"
   },
   {
    "duration": 0,
    "start_time": "2025-01-26T00:15:24.780Z"
   },
   {
    "duration": 0,
    "start_time": "2025-01-26T00:15:24.781Z"
   },
   {
    "duration": 0,
    "start_time": "2025-01-26T00:15:24.783Z"
   },
   {
    "duration": 0,
    "start_time": "2025-01-26T00:15:24.784Z"
   },
   {
    "duration": 0,
    "start_time": "2025-01-26T00:15:24.786Z"
   },
   {
    "duration": 0,
    "start_time": "2025-01-26T00:15:24.788Z"
   },
   {
    "duration": 0,
    "start_time": "2025-01-26T00:15:24.789Z"
   },
   {
    "duration": 0,
    "start_time": "2025-01-26T00:15:24.790Z"
   },
   {
    "duration": 0,
    "start_time": "2025-01-26T00:15:24.792Z"
   },
   {
    "duration": 0,
    "start_time": "2025-01-26T00:15:24.793Z"
   },
   {
    "duration": 0,
    "start_time": "2025-01-26T00:15:24.794Z"
   },
   {
    "duration": 0,
    "start_time": "2025-01-26T00:15:24.796Z"
   },
   {
    "duration": 0,
    "start_time": "2025-01-26T00:15:24.797Z"
   },
   {
    "duration": 0,
    "start_time": "2025-01-26T00:15:24.798Z"
   },
   {
    "duration": 0,
    "start_time": "2025-01-26T00:15:24.799Z"
   },
   {
    "duration": 0,
    "start_time": "2025-01-26T00:15:24.800Z"
   },
   {
    "duration": 0,
    "start_time": "2025-01-26T00:15:24.801Z"
   },
   {
    "duration": 0,
    "start_time": "2025-01-26T00:15:24.806Z"
   },
   {
    "duration": 4,
    "start_time": "2025-01-26T00:18:39.235Z"
   },
   {
    "duration": 167,
    "start_time": "2025-01-26T00:18:57.724Z"
   },
   {
    "duration": 826,
    "start_time": "2025-01-26T00:19:08.027Z"
   },
   {
    "duration": 202,
    "start_time": "2025-01-26T00:19:08.855Z"
   },
   {
    "duration": 501,
    "start_time": "2025-01-26T00:19:09.058Z"
   },
   {
    "duration": 49,
    "start_time": "2025-01-26T00:19:09.563Z"
   },
   {
    "duration": 9,
    "start_time": "2025-01-26T00:19:09.614Z"
   },
   {
    "duration": 19,
    "start_time": "2025-01-26T00:19:09.625Z"
   },
   {
    "duration": 3,
    "start_time": "2025-01-26T00:19:09.669Z"
   },
   {
    "duration": 141,
    "start_time": "2025-01-26T00:19:09.674Z"
   },
   {
    "duration": 4,
    "start_time": "2025-01-26T00:19:09.817Z"
   },
   {
    "duration": 2,
    "start_time": "2025-01-26T00:19:09.824Z"
   },
   {
    "duration": 3,
    "start_time": "2025-01-26T00:19:09.828Z"
   },
   {
    "duration": 3,
    "start_time": "2025-01-26T00:19:09.833Z"
   },
   {
    "duration": 32,
    "start_time": "2025-01-26T00:19:09.838Z"
   },
   {
    "duration": 4,
    "start_time": "2025-01-26T00:19:09.871Z"
   },
   {
    "duration": 4,
    "start_time": "2025-01-26T00:19:09.877Z"
   },
   {
    "duration": 6,
    "start_time": "2025-01-26T00:19:09.883Z"
   },
   {
    "duration": 6,
    "start_time": "2025-01-26T00:19:09.890Z"
   },
   {
    "duration": 7,
    "start_time": "2025-01-26T00:19:09.897Z"
   },
   {
    "duration": 3,
    "start_time": "2025-01-26T00:19:09.906Z"
   },
   {
    "duration": 213,
    "start_time": "2025-01-26T00:19:09.910Z"
   },
   {
    "duration": 7,
    "start_time": "2025-01-26T00:19:10.125Z"
   },
   {
    "duration": 5,
    "start_time": "2025-01-26T00:19:10.134Z"
   },
   {
    "duration": 7,
    "start_time": "2025-01-26T00:19:10.141Z"
   },
   {
    "duration": 7,
    "start_time": "2025-01-26T00:19:10.171Z"
   },
   {
    "duration": 9,
    "start_time": "2025-01-26T00:19:10.179Z"
   },
   {
    "duration": 4,
    "start_time": "2025-01-26T00:19:10.190Z"
   },
   {
    "duration": 8,
    "start_time": "2025-01-26T00:19:10.196Z"
   },
   {
    "duration": 12,
    "start_time": "2025-01-26T00:19:10.209Z"
   },
   {
    "duration": 4,
    "start_time": "2025-01-26T00:19:10.223Z"
   },
   {
    "duration": 280,
    "start_time": "2025-01-26T00:19:10.228Z"
   },
   {
    "duration": 266,
    "start_time": "2025-01-26T00:19:10.510Z"
   },
   {
    "duration": 254,
    "start_time": "2025-01-26T00:19:10.778Z"
   },
   {
    "duration": 4,
    "start_time": "2025-01-26T00:19:11.034Z"
   },
   {
    "duration": 861,
    "start_time": "2025-01-26T00:19:11.040Z"
   },
   {
    "duration": 3,
    "start_time": "2025-01-26T00:19:11.902Z"
   },
   {
    "duration": 872,
    "start_time": "2025-01-26T00:19:11.907Z"
   },
   {
    "duration": 440,
    "start_time": "2025-01-26T00:19:12.781Z"
   },
   {
    "duration": 3,
    "start_time": "2025-01-26T00:19:13.223Z"
   },
   {
    "duration": 195,
    "start_time": "2025-01-26T00:19:13.228Z"
   },
   {
    "duration": 3,
    "start_time": "2025-01-26T00:19:13.425Z"
   },
   {
    "duration": 172,
    "start_time": "2025-01-26T00:19:13.430Z"
   },
   {
    "duration": 3,
    "start_time": "2025-01-26T00:19:13.604Z"
   },
   {
    "duration": 186,
    "start_time": "2025-01-26T00:19:13.609Z"
   },
   {
    "duration": 5,
    "start_time": "2025-01-26T00:19:13.797Z"
   },
   {
    "duration": 5,
    "start_time": "2025-01-26T00:19:13.804Z"
   },
   {
    "duration": 4,
    "start_time": "2025-01-26T00:19:13.811Z"
   },
   {
    "duration": 6,
    "start_time": "2025-01-26T00:19:13.817Z"
   },
   {
    "duration": 9,
    "start_time": "2025-01-26T00:19:13.825Z"
   },
   {
    "duration": 4,
    "start_time": "2025-01-26T00:19:13.836Z"
   },
   {
    "duration": 4,
    "start_time": "2025-01-26T00:19:13.870Z"
   },
   {
    "duration": 6,
    "start_time": "2025-01-26T00:19:13.875Z"
   },
   {
    "duration": 115,
    "start_time": "2025-01-26T00:19:13.883Z"
   },
   {
    "duration": 5,
    "start_time": "2025-01-26T00:19:13.999Z"
   },
   {
    "duration": 4,
    "start_time": "2025-01-26T00:19:14.005Z"
   },
   {
    "duration": 4,
    "start_time": "2025-01-26T00:19:14.010Z"
   },
   {
    "duration": 5,
    "start_time": "2025-01-26T00:19:14.015Z"
   },
   {
    "duration": 3,
    "start_time": "2025-01-26T00:19:14.023Z"
   },
   {
    "duration": 42,
    "start_time": "2025-01-26T00:19:14.028Z"
   },
   {
    "duration": 3,
    "start_time": "2025-01-26T00:19:14.072Z"
   },
   {
    "duration": 4,
    "start_time": "2025-01-26T00:19:14.077Z"
   },
   {
    "duration": 4,
    "start_time": "2025-01-26T00:19:14.082Z"
   },
   {
    "duration": 3,
    "start_time": "2025-01-26T00:19:14.087Z"
   },
   {
    "duration": 5,
    "start_time": "2025-01-26T00:19:14.091Z"
   },
   {
    "duration": 6,
    "start_time": "2025-01-26T00:19:14.098Z"
   },
   {
    "duration": 3,
    "start_time": "2025-01-26T00:19:14.107Z"
   },
   {
    "duration": 5,
    "start_time": "2025-01-26T00:19:14.112Z"
   },
   {
    "duration": 4,
    "start_time": "2025-01-26T00:19:14.120Z"
   },
   {
    "duration": 3,
    "start_time": "2025-01-26T00:19:14.125Z"
   },
   {
    "duration": 2,
    "start_time": "2025-01-26T00:19:14.170Z"
   },
   {
    "duration": 3,
    "start_time": "2025-01-26T00:19:14.174Z"
   },
   {
    "duration": 4,
    "start_time": "2025-01-26T00:19:14.178Z"
   },
   {
    "duration": 0,
    "start_time": "2025-01-26T00:51:21.140Z"
   },
   {
    "duration": 0,
    "start_time": "2025-01-26T00:51:21.173Z"
   },
   {
    "duration": 0,
    "start_time": "2025-01-26T00:51:21.174Z"
   },
   {
    "duration": 0,
    "start_time": "2025-01-26T00:51:21.174Z"
   },
   {
    "duration": 0,
    "start_time": "2025-01-26T00:51:21.175Z"
   },
   {
    "duration": 0,
    "start_time": "2025-01-26T00:51:21.176Z"
   },
   {
    "duration": 0,
    "start_time": "2025-01-26T00:51:21.176Z"
   },
   {
    "duration": 1,
    "start_time": "2025-01-26T00:51:21.185Z"
   },
   {
    "duration": 0,
    "start_time": "2025-01-26T00:51:21.186Z"
   },
   {
    "duration": 0,
    "start_time": "2025-01-26T00:51:21.187Z"
   },
   {
    "duration": 0,
    "start_time": "2025-01-26T00:51:21.188Z"
   },
   {
    "duration": 0,
    "start_time": "2025-01-26T00:51:21.189Z"
   },
   {
    "duration": 0,
    "start_time": "2025-01-26T00:51:21.189Z"
   },
   {
    "duration": 0,
    "start_time": "2025-01-26T00:51:21.190Z"
   },
   {
    "duration": 850,
    "start_time": "2025-01-26T00:51:31.991Z"
   },
   {
    "duration": 221,
    "start_time": "2025-01-26T00:51:32.843Z"
   },
   {
    "duration": 585,
    "start_time": "2025-01-26T00:51:33.065Z"
   },
   {
    "duration": 66,
    "start_time": "2025-01-26T00:51:33.652Z"
   },
   {
    "duration": 8,
    "start_time": "2025-01-26T00:51:33.722Z"
   },
   {
    "duration": 21,
    "start_time": "2025-01-26T00:51:33.731Z"
   },
   {
    "duration": 3,
    "start_time": "2025-01-26T00:51:33.754Z"
   },
   {
    "duration": 155,
    "start_time": "2025-01-26T00:51:33.772Z"
   },
   {
    "duration": 5,
    "start_time": "2025-01-26T00:51:33.929Z"
   },
   {
    "duration": 2,
    "start_time": "2025-01-26T00:51:33.936Z"
   },
   {
    "duration": 3,
    "start_time": "2025-01-26T00:51:33.940Z"
   },
   {
    "duration": 3,
    "start_time": "2025-01-26T00:51:33.945Z"
   },
   {
    "duration": 3,
    "start_time": "2025-01-26T00:51:33.949Z"
   },
   {
    "duration": 14,
    "start_time": "2025-01-26T00:51:33.972Z"
   },
   {
    "duration": 6,
    "start_time": "2025-01-26T00:51:33.987Z"
   },
   {
    "duration": 0,
    "start_time": "2025-01-26T00:51:33.997Z"
   },
   {
    "duration": 0,
    "start_time": "2025-01-26T00:51:33.998Z"
   },
   {
    "duration": 0,
    "start_time": "2025-01-26T00:51:33.999Z"
   },
   {
    "duration": 0,
    "start_time": "2025-01-26T00:51:34.000Z"
   },
   {
    "duration": 0,
    "start_time": "2025-01-26T00:51:34.001Z"
   },
   {
    "duration": 0,
    "start_time": "2025-01-26T00:51:34.002Z"
   },
   {
    "duration": 0,
    "start_time": "2025-01-26T00:51:34.003Z"
   },
   {
    "duration": 0,
    "start_time": "2025-01-26T00:51:34.004Z"
   },
   {
    "duration": 0,
    "start_time": "2025-01-26T00:51:34.005Z"
   },
   {
    "duration": 0,
    "start_time": "2025-01-26T00:51:34.006Z"
   },
   {
    "duration": 0,
    "start_time": "2025-01-26T00:51:34.007Z"
   },
   {
    "duration": 0,
    "start_time": "2025-01-26T00:51:34.009Z"
   },
   {
    "duration": 0,
    "start_time": "2025-01-26T00:51:34.010Z"
   },
   {
    "duration": 0,
    "start_time": "2025-01-26T00:51:34.011Z"
   },
   {
    "duration": 0,
    "start_time": "2025-01-26T00:51:34.012Z"
   },
   {
    "duration": 0,
    "start_time": "2025-01-26T00:51:34.013Z"
   },
   {
    "duration": 0,
    "start_time": "2025-01-26T00:51:34.014Z"
   },
   {
    "duration": 0,
    "start_time": "2025-01-26T00:51:34.015Z"
   },
   {
    "duration": 0,
    "start_time": "2025-01-26T00:51:34.016Z"
   },
   {
    "duration": 0,
    "start_time": "2025-01-26T00:51:34.017Z"
   },
   {
    "duration": 0,
    "start_time": "2025-01-26T00:51:34.019Z"
   },
   {
    "duration": 0,
    "start_time": "2025-01-26T00:51:34.020Z"
   },
   {
    "duration": 0,
    "start_time": "2025-01-26T00:51:34.021Z"
   },
   {
    "duration": 0,
    "start_time": "2025-01-26T00:51:34.022Z"
   },
   {
    "duration": 0,
    "start_time": "2025-01-26T00:51:34.023Z"
   },
   {
    "duration": 0,
    "start_time": "2025-01-26T00:51:34.024Z"
   },
   {
    "duration": 0,
    "start_time": "2025-01-26T00:51:34.025Z"
   },
   {
    "duration": 0,
    "start_time": "2025-01-26T00:51:34.026Z"
   },
   {
    "duration": 1,
    "start_time": "2025-01-26T00:51:34.027Z"
   },
   {
    "duration": 0,
    "start_time": "2025-01-26T00:51:34.029Z"
   },
   {
    "duration": 0,
    "start_time": "2025-01-26T00:51:34.081Z"
   },
   {
    "duration": 0,
    "start_time": "2025-01-26T00:51:34.082Z"
   },
   {
    "duration": 0,
    "start_time": "2025-01-26T00:51:34.082Z"
   },
   {
    "duration": 0,
    "start_time": "2025-01-26T00:51:34.083Z"
   },
   {
    "duration": 1,
    "start_time": "2025-01-26T00:51:34.083Z"
   },
   {
    "duration": 0,
    "start_time": "2025-01-26T00:51:34.084Z"
   },
   {
    "duration": 0,
    "start_time": "2025-01-26T00:51:34.085Z"
   },
   {
    "duration": 0,
    "start_time": "2025-01-26T00:51:34.085Z"
   },
   {
    "duration": 0,
    "start_time": "2025-01-26T00:51:34.086Z"
   },
   {
    "duration": 0,
    "start_time": "2025-01-26T00:51:34.086Z"
   },
   {
    "duration": 0,
    "start_time": "2025-01-26T00:51:34.087Z"
   },
   {
    "duration": 1,
    "start_time": "2025-01-26T00:51:34.087Z"
   },
   {
    "duration": 0,
    "start_time": "2025-01-26T00:51:34.088Z"
   },
   {
    "duration": 0,
    "start_time": "2025-01-26T00:51:34.089Z"
   },
   {
    "duration": 0,
    "start_time": "2025-01-26T00:51:34.090Z"
   },
   {
    "duration": 0,
    "start_time": "2025-01-26T00:51:34.090Z"
   },
   {
    "duration": 0,
    "start_time": "2025-01-26T00:51:34.091Z"
   },
   {
    "duration": 0,
    "start_time": "2025-01-26T00:51:34.091Z"
   },
   {
    "duration": 0,
    "start_time": "2025-01-26T00:51:34.092Z"
   },
   {
    "duration": 0,
    "start_time": "2025-01-26T00:51:34.093Z"
   },
   {
    "duration": 0,
    "start_time": "2025-01-26T00:51:34.093Z"
   },
   {
    "duration": 0,
    "start_time": "2025-01-26T00:51:34.094Z"
   },
   {
    "duration": 0,
    "start_time": "2025-01-26T00:51:34.095Z"
   },
   {
    "duration": 0,
    "start_time": "2025-01-26T00:51:34.096Z"
   },
   {
    "duration": 0,
    "start_time": "2025-01-26T00:51:34.096Z"
   },
   {
    "duration": 0,
    "start_time": "2025-01-26T00:51:34.100Z"
   },
   {
    "duration": 0,
    "start_time": "2025-01-26T00:51:34.100Z"
   },
   {
    "duration": 0,
    "start_time": "2025-01-26T00:51:34.101Z"
   },
   {
    "duration": 0,
    "start_time": "2025-01-26T00:51:34.105Z"
   },
   {
    "duration": 0,
    "start_time": "2025-01-26T00:51:34.106Z"
   },
   {
    "duration": 0,
    "start_time": "2025-01-26T00:51:34.107Z"
   },
   {
    "duration": 0,
    "start_time": "2025-01-26T00:51:34.108Z"
   },
   {
    "duration": 0,
    "start_time": "2025-01-26T00:51:34.110Z"
   },
   {
    "duration": 0,
    "start_time": "2025-01-26T00:51:34.111Z"
   },
   {
    "duration": 0,
    "start_time": "2025-01-26T00:51:34.113Z"
   },
   {
    "duration": 0,
    "start_time": "2025-01-26T00:51:34.114Z"
   },
   {
    "duration": 0,
    "start_time": "2025-01-26T00:51:34.115Z"
   },
   {
    "duration": 0,
    "start_time": "2025-01-26T00:51:34.116Z"
   },
   {
    "duration": 268,
    "start_time": "2025-01-26T00:51:51.478Z"
   },
   {
    "duration": 14,
    "start_time": "2025-01-26T00:57:54.886Z"
   },
   {
    "duration": 3,
    "start_time": "2025-01-26T00:58:31.207Z"
   },
   {
    "duration": 4,
    "start_time": "2025-01-26T01:00:45.226Z"
   },
   {
    "duration": 5,
    "start_time": "2025-01-26T01:02:01.676Z"
   },
   {
    "duration": 4,
    "start_time": "2025-01-26T01:06:06.719Z"
   },
   {
    "duration": 3,
    "start_time": "2025-01-26T01:06:10.240Z"
   },
   {
    "duration": 4,
    "start_time": "2025-01-26T01:06:13.369Z"
   },
   {
    "duration": 3,
    "start_time": "2025-01-26T01:07:22.703Z"
   },
   {
    "duration": 4,
    "start_time": "2025-01-26T01:07:33.947Z"
   },
   {
    "duration": 3,
    "start_time": "2025-01-26T01:07:37.180Z"
   },
   {
    "duration": 3,
    "start_time": "2025-01-26T01:08:48.109Z"
   },
   {
    "duration": 5,
    "start_time": "2025-01-26T01:10:45.454Z"
   },
   {
    "duration": 4,
    "start_time": "2025-01-26T01:10:48.607Z"
   },
   {
    "duration": 3,
    "start_time": "2025-01-26T01:11:35.775Z"
   },
   {
    "duration": 3,
    "start_time": "2025-01-26T01:11:35.782Z"
   },
   {
    "duration": 528,
    "start_time": "2025-01-26T01:11:35.787Z"
   },
   {
    "duration": 67,
    "start_time": "2025-01-26T01:11:36.317Z"
   },
   {
    "duration": 9,
    "start_time": "2025-01-26T01:11:36.386Z"
   },
   {
    "duration": 19,
    "start_time": "2025-01-26T01:11:36.397Z"
   },
   {
    "duration": 3,
    "start_time": "2025-01-26T01:11:36.418Z"
   },
   {
    "duration": 164,
    "start_time": "2025-01-26T01:11:36.423Z"
   },
   {
    "duration": 5,
    "start_time": "2025-01-26T01:11:36.589Z"
   },
   {
    "duration": 4,
    "start_time": "2025-01-26T01:11:36.596Z"
   },
   {
    "duration": 3,
    "start_time": "2025-01-26T01:11:36.602Z"
   },
   {
    "duration": 6,
    "start_time": "2025-01-26T01:11:36.606Z"
   },
   {
    "duration": 4,
    "start_time": "2025-01-26T01:11:36.613Z"
   },
   {
    "duration": 3,
    "start_time": "2025-01-26T01:11:36.619Z"
   },
   {
    "duration": 8,
    "start_time": "2025-01-26T01:11:36.624Z"
   },
   {
    "duration": 6,
    "start_time": "2025-01-26T01:11:36.670Z"
   },
   {
    "duration": 8,
    "start_time": "2025-01-26T01:11:36.678Z"
   },
   {
    "duration": 3,
    "start_time": "2025-01-26T01:11:36.687Z"
   },
   {
    "duration": 185,
    "start_time": "2025-01-26T01:11:36.691Z"
   },
   {
    "duration": 8,
    "start_time": "2025-01-26T01:11:36.879Z"
   },
   {
    "duration": 5,
    "start_time": "2025-01-26T01:11:36.889Z"
   },
   {
    "duration": 8,
    "start_time": "2025-01-26T01:11:36.895Z"
   },
   {
    "duration": 6,
    "start_time": "2025-01-26T01:11:36.904Z"
   },
   {
    "duration": 8,
    "start_time": "2025-01-26T01:11:36.912Z"
   },
   {
    "duration": 6,
    "start_time": "2025-01-26T01:11:36.924Z"
   },
   {
    "duration": 43,
    "start_time": "2025-01-26T01:11:36.931Z"
   },
   {
    "duration": 10,
    "start_time": "2025-01-26T01:11:36.976Z"
   },
   {
    "duration": 4,
    "start_time": "2025-01-26T01:11:36.987Z"
   },
   {
    "duration": 295,
    "start_time": "2025-01-26T01:11:36.993Z"
   },
   {
    "duration": 248,
    "start_time": "2025-01-26T01:11:37.290Z"
   },
   {
    "duration": 321,
    "start_time": "2025-01-26T01:11:37.540Z"
   },
   {
    "duration": 9,
    "start_time": "2025-01-26T01:11:37.863Z"
   },
   {
    "duration": 766,
    "start_time": "2025-01-26T01:11:37.873Z"
   },
   {
    "duration": 2,
    "start_time": "2025-01-26T01:11:38.641Z"
   },
   {
    "duration": 863,
    "start_time": "2025-01-26T01:11:38.645Z"
   },
   {
    "duration": 527,
    "start_time": "2025-01-26T01:11:39.510Z"
   },
   {
    "duration": 4,
    "start_time": "2025-01-26T01:11:40.038Z"
   },
   {
    "duration": 209,
    "start_time": "2025-01-26T01:11:40.044Z"
   },
   {
    "duration": 4,
    "start_time": "2025-01-26T01:11:40.255Z"
   },
   {
    "duration": 168,
    "start_time": "2025-01-26T01:11:40.261Z"
   },
   {
    "duration": 4,
    "start_time": "2025-01-26T01:11:40.431Z"
   },
   {
    "duration": 175,
    "start_time": "2025-01-26T01:11:40.437Z"
   },
   {
    "duration": 5,
    "start_time": "2025-01-26T01:11:40.614Z"
   },
   {
    "duration": 3,
    "start_time": "2025-01-26T01:15:09.421Z"
   },
   {
    "duration": 640,
    "start_time": "2025-01-26T01:15:28.596Z"
   },
   {
    "duration": 3,
    "start_time": "2025-01-26T01:17:29.512Z"
   },
   {
    "duration": 3,
    "start_time": "2025-01-26T01:17:29.521Z"
   },
   {
    "duration": 530,
    "start_time": "2025-01-26T01:17:29.527Z"
   },
   {
    "duration": 72,
    "start_time": "2025-01-26T01:17:30.059Z"
   },
   {
    "duration": 12,
    "start_time": "2025-01-26T01:17:30.134Z"
   },
   {
    "duration": 36,
    "start_time": "2025-01-26T01:17:30.148Z"
   },
   {
    "duration": 5,
    "start_time": "2025-01-26T01:17:30.186Z"
   },
   {
    "duration": 159,
    "start_time": "2025-01-26T01:17:30.193Z"
   },
   {
    "duration": 5,
    "start_time": "2025-01-26T01:17:30.354Z"
   },
   {
    "duration": 11,
    "start_time": "2025-01-26T01:17:30.360Z"
   },
   {
    "duration": 5,
    "start_time": "2025-01-26T01:17:30.377Z"
   },
   {
    "duration": 5,
    "start_time": "2025-01-26T01:17:30.384Z"
   },
   {
    "duration": 3,
    "start_time": "2025-01-26T01:17:30.391Z"
   },
   {
    "duration": 3,
    "start_time": "2025-01-26T01:17:30.396Z"
   },
   {
    "duration": 8,
    "start_time": "2025-01-26T01:17:30.405Z"
   },
   {
    "duration": 5,
    "start_time": "2025-01-26T01:17:30.415Z"
   },
   {
    "duration": 8,
    "start_time": "2025-01-26T01:17:30.422Z"
   },
   {
    "duration": 40,
    "start_time": "2025-01-26T01:17:30.431Z"
   },
   {
    "duration": 317,
    "start_time": "2025-01-26T01:17:30.474Z"
   },
   {
    "duration": 11,
    "start_time": "2025-01-26T01:17:30.793Z"
   },
   {
    "duration": 6,
    "start_time": "2025-01-26T01:17:30.808Z"
   },
   {
    "duration": 9,
    "start_time": "2025-01-26T01:17:30.817Z"
   },
   {
    "duration": 7,
    "start_time": "2025-01-26T01:17:30.828Z"
   },
   {
    "duration": 35,
    "start_time": "2025-01-26T01:17:30.836Z"
   },
   {
    "duration": 6,
    "start_time": "2025-01-26T01:17:30.876Z"
   },
   {
    "duration": 9,
    "start_time": "2025-01-26T01:17:30.884Z"
   },
   {
    "duration": 9,
    "start_time": "2025-01-26T01:17:30.895Z"
   },
   {
    "duration": 5,
    "start_time": "2025-01-26T01:17:30.906Z"
   },
   {
    "duration": 282,
    "start_time": "2025-01-26T01:17:30.914Z"
   },
   {
    "duration": 284,
    "start_time": "2025-01-26T01:17:31.199Z"
   },
   {
    "duration": 298,
    "start_time": "2025-01-26T01:17:31.485Z"
   },
   {
    "duration": 4,
    "start_time": "2025-01-26T01:17:31.784Z"
   },
   {
    "duration": 927,
    "start_time": "2025-01-26T01:17:31.789Z"
   },
   {
    "duration": 3,
    "start_time": "2025-01-26T01:17:32.718Z"
   },
   {
    "duration": 780,
    "start_time": "2025-01-26T01:17:32.723Z"
   },
   {
    "duration": 622,
    "start_time": "2025-01-26T01:17:33.504Z"
   },
   {
    "duration": 4,
    "start_time": "2025-01-26T01:17:34.128Z"
   },
   {
    "duration": 187,
    "start_time": "2025-01-26T01:17:34.133Z"
   },
   {
    "duration": 4,
    "start_time": "2025-01-26T01:17:34.322Z"
   },
   {
    "duration": 175,
    "start_time": "2025-01-26T01:17:34.328Z"
   },
   {
    "duration": 4,
    "start_time": "2025-01-26T01:17:34.505Z"
   },
   {
    "duration": 174,
    "start_time": "2025-01-26T01:17:34.513Z"
   },
   {
    "duration": 14,
    "start_time": "2025-01-26T01:17:34.689Z"
   },
   {
    "duration": 14,
    "start_time": "2025-01-26T01:17:43.253Z"
   },
   {
    "duration": 3,
    "start_time": "2025-01-26T01:18:55.898Z"
   },
   {
    "duration": 2,
    "start_time": "2025-01-26T01:19:37.440Z"
   },
   {
    "duration": 35,
    "start_time": "2025-01-26T01:19:39.637Z"
   },
   {
    "duration": 3,
    "start_time": "2025-01-26T01:20:50.953Z"
   },
   {
    "duration": 4,
    "start_time": "2025-01-26T01:20:51.968Z"
   },
   {
    "duration": 3,
    "start_time": "2025-01-26T01:20:54.699Z"
   },
   {
    "duration": 804,
    "start_time": "2025-01-26T01:22:45.195Z"
   },
   {
    "duration": 208,
    "start_time": "2025-01-26T01:22:46.001Z"
   },
   {
    "duration": 542,
    "start_time": "2025-01-26T01:22:46.211Z"
   },
   {
    "duration": 57,
    "start_time": "2025-01-26T01:22:46.755Z"
   },
   {
    "duration": 8,
    "start_time": "2025-01-26T01:22:46.815Z"
   },
   {
    "duration": 21,
    "start_time": "2025-01-26T01:22:46.825Z"
   },
   {
    "duration": 3,
    "start_time": "2025-01-26T01:22:46.847Z"
   },
   {
    "duration": 149,
    "start_time": "2025-01-26T01:22:46.871Z"
   },
   {
    "duration": 6,
    "start_time": "2025-01-26T01:22:47.021Z"
   },
   {
    "duration": 7,
    "start_time": "2025-01-26T01:22:47.029Z"
   },
   {
    "duration": 3,
    "start_time": "2025-01-26T01:22:47.038Z"
   },
   {
    "duration": 5,
    "start_time": "2025-01-26T01:22:47.043Z"
   },
   {
    "duration": 5,
    "start_time": "2025-01-26T01:22:47.070Z"
   },
   {
    "duration": 4,
    "start_time": "2025-01-26T01:22:47.079Z"
   },
   {
    "duration": 6,
    "start_time": "2025-01-26T01:22:47.085Z"
   },
   {
    "duration": 5,
    "start_time": "2025-01-26T01:22:47.093Z"
   },
   {
    "duration": 7,
    "start_time": "2025-01-26T01:22:47.099Z"
   },
   {
    "duration": 3,
    "start_time": "2025-01-26T01:22:47.108Z"
   },
   {
    "duration": 218,
    "start_time": "2025-01-26T01:22:47.112Z"
   },
   {
    "duration": 7,
    "start_time": "2025-01-26T01:22:47.332Z"
   },
   {
    "duration": 5,
    "start_time": "2025-01-26T01:22:47.341Z"
   },
   {
    "duration": 23,
    "start_time": "2025-01-26T01:22:47.348Z"
   },
   {
    "duration": 7,
    "start_time": "2025-01-26T01:22:47.373Z"
   },
   {
    "duration": 9,
    "start_time": "2025-01-26T01:22:47.381Z"
   },
   {
    "duration": 5,
    "start_time": "2025-01-26T01:22:47.392Z"
   },
   {
    "duration": 9,
    "start_time": "2025-01-26T01:22:47.398Z"
   },
   {
    "duration": 11,
    "start_time": "2025-01-26T01:22:47.409Z"
   },
   {
    "duration": 5,
    "start_time": "2025-01-26T01:22:47.422Z"
   },
   {
    "duration": 300,
    "start_time": "2025-01-26T01:22:47.429Z"
   },
   {
    "duration": 249,
    "start_time": "2025-01-26T01:22:47.731Z"
   },
   {
    "duration": 255,
    "start_time": "2025-01-26T01:22:47.983Z"
   },
   {
    "duration": 4,
    "start_time": "2025-01-26T01:22:48.239Z"
   },
   {
    "duration": 858,
    "start_time": "2025-01-26T01:22:48.245Z"
   },
   {
    "duration": 3,
    "start_time": "2025-01-26T01:22:49.104Z"
   },
   {
    "duration": 902,
    "start_time": "2025-01-26T01:22:49.109Z"
   },
   {
    "duration": 453,
    "start_time": "2025-01-26T01:22:50.013Z"
   },
   {
    "duration": 4,
    "start_time": "2025-01-26T01:22:50.467Z"
   },
   {
    "duration": 200,
    "start_time": "2025-01-26T01:22:50.472Z"
   },
   {
    "duration": 3,
    "start_time": "2025-01-26T01:22:50.675Z"
   },
   {
    "duration": 190,
    "start_time": "2025-01-26T01:22:50.680Z"
   },
   {
    "duration": 3,
    "start_time": "2025-01-26T01:22:50.875Z"
   },
   {
    "duration": 187,
    "start_time": "2025-01-26T01:22:50.880Z"
   },
   {
    "duration": 347,
    "start_time": "2025-01-26T01:22:51.069Z"
   },
   {
    "duration": 0,
    "start_time": "2025-01-26T01:22:51.419Z"
   },
   {
    "duration": 0,
    "start_time": "2025-01-26T01:22:51.420Z"
   },
   {
    "duration": 1,
    "start_time": "2025-01-26T01:22:51.421Z"
   },
   {
    "duration": 0,
    "start_time": "2025-01-26T01:22:51.423Z"
   },
   {
    "duration": 0,
    "start_time": "2025-01-26T01:22:51.425Z"
   },
   {
    "duration": 0,
    "start_time": "2025-01-26T01:22:51.426Z"
   },
   {
    "duration": 0,
    "start_time": "2025-01-26T01:22:51.427Z"
   },
   {
    "duration": 0,
    "start_time": "2025-01-26T01:22:51.429Z"
   },
   {
    "duration": 0,
    "start_time": "2025-01-26T01:22:51.430Z"
   },
   {
    "duration": 0,
    "start_time": "2025-01-26T01:22:51.431Z"
   },
   {
    "duration": 0,
    "start_time": "2025-01-26T01:22:51.433Z"
   },
   {
    "duration": 0,
    "start_time": "2025-01-26T01:22:51.434Z"
   },
   {
    "duration": 0,
    "start_time": "2025-01-26T01:22:51.436Z"
   },
   {
    "duration": 0,
    "start_time": "2025-01-26T01:22:51.437Z"
   },
   {
    "duration": 0,
    "start_time": "2025-01-26T01:22:51.470Z"
   },
   {
    "duration": 0,
    "start_time": "2025-01-26T01:22:51.472Z"
   },
   {
    "duration": 0,
    "start_time": "2025-01-26T01:22:51.473Z"
   },
   {
    "duration": 0,
    "start_time": "2025-01-26T01:22:51.475Z"
   },
   {
    "duration": 0,
    "start_time": "2025-01-26T01:22:51.476Z"
   },
   {
    "duration": 0,
    "start_time": "2025-01-26T01:22:51.478Z"
   },
   {
    "duration": 0,
    "start_time": "2025-01-26T01:22:51.479Z"
   },
   {
    "duration": 0,
    "start_time": "2025-01-26T01:22:51.480Z"
   },
   {
    "duration": 0,
    "start_time": "2025-01-26T01:22:51.482Z"
   },
   {
    "duration": 0,
    "start_time": "2025-01-26T01:22:51.483Z"
   },
   {
    "duration": 0,
    "start_time": "2025-01-26T01:22:51.485Z"
   },
   {
    "duration": 0,
    "start_time": "2025-01-26T01:22:51.486Z"
   },
   {
    "duration": 0,
    "start_time": "2025-01-26T01:22:51.488Z"
   },
   {
    "duration": 1,
    "start_time": "2025-01-26T01:22:51.489Z"
   },
   {
    "duration": 0,
    "start_time": "2025-01-26T01:22:51.491Z"
   },
   {
    "duration": 0,
    "start_time": "2025-01-26T01:22:51.492Z"
   },
   {
    "duration": 1,
    "start_time": "2025-01-26T01:22:51.493Z"
   },
   {
    "duration": 0,
    "start_time": "2025-01-26T01:22:51.495Z"
   },
   {
    "duration": 0,
    "start_time": "2025-01-26T01:22:51.496Z"
   },
   {
    "duration": 0,
    "start_time": "2025-01-26T01:22:51.498Z"
   },
   {
    "duration": 0,
    "start_time": "2025-01-26T01:22:51.499Z"
   },
   {
    "duration": 0,
    "start_time": "2025-01-26T01:22:51.500Z"
   },
   {
    "duration": 0,
    "start_time": "2025-01-26T01:22:51.502Z"
   },
   {
    "duration": 0,
    "start_time": "2025-01-26T01:22:51.503Z"
   },
   {
    "duration": 0,
    "start_time": "2025-01-26T01:22:51.504Z"
   },
   {
    "duration": 3,
    "start_time": "2025-01-26T01:27:59.324Z"
   },
   {
    "duration": 2,
    "start_time": "2025-01-26T01:28:00.498Z"
   },
   {
    "duration": 4,
    "start_time": "2025-01-26T01:28:02.020Z"
   },
   {
    "duration": 839,
    "start_time": "2025-01-26T01:28:06.512Z"
   },
   {
    "duration": 207,
    "start_time": "2025-01-26T01:28:07.354Z"
   },
   {
    "duration": 511,
    "start_time": "2025-01-26T01:28:07.562Z"
   },
   {
    "duration": 48,
    "start_time": "2025-01-26T01:28:08.076Z"
   },
   {
    "duration": 9,
    "start_time": "2025-01-26T01:28:08.126Z"
   },
   {
    "duration": 38,
    "start_time": "2025-01-26T01:28:08.136Z"
   },
   {
    "duration": 4,
    "start_time": "2025-01-26T01:28:08.176Z"
   },
   {
    "duration": 145,
    "start_time": "2025-01-26T01:28:08.181Z"
   },
   {
    "duration": 5,
    "start_time": "2025-01-26T01:28:08.329Z"
   },
   {
    "duration": 4,
    "start_time": "2025-01-26T01:28:08.338Z"
   },
   {
    "duration": 26,
    "start_time": "2025-01-26T01:28:08.344Z"
   },
   {
    "duration": 5,
    "start_time": "2025-01-26T01:28:08.372Z"
   },
   {
    "duration": 3,
    "start_time": "2025-01-26T01:28:08.379Z"
   },
   {
    "duration": 4,
    "start_time": "2025-01-26T01:28:08.384Z"
   },
   {
    "duration": 6,
    "start_time": "2025-01-26T01:28:08.390Z"
   },
   {
    "duration": 6,
    "start_time": "2025-01-26T01:28:08.397Z"
   },
   {
    "duration": 8,
    "start_time": "2025-01-26T01:28:08.404Z"
   },
   {
    "duration": 3,
    "start_time": "2025-01-26T01:28:08.413Z"
   },
   {
    "duration": 217,
    "start_time": "2025-01-26T01:28:08.418Z"
   },
   {
    "duration": 7,
    "start_time": "2025-01-26T01:28:08.637Z"
   },
   {
    "duration": 6,
    "start_time": "2025-01-26T01:28:08.646Z"
   },
   {
    "duration": 6,
    "start_time": "2025-01-26T01:28:08.670Z"
   },
   {
    "duration": 7,
    "start_time": "2025-01-26T01:28:08.679Z"
   },
   {
    "duration": 9,
    "start_time": "2025-01-26T01:28:08.689Z"
   },
   {
    "duration": 5,
    "start_time": "2025-01-26T01:28:08.699Z"
   },
   {
    "duration": 8,
    "start_time": "2025-01-26T01:28:08.705Z"
   },
   {
    "duration": 12,
    "start_time": "2025-01-26T01:28:08.715Z"
   },
   {
    "duration": 39,
    "start_time": "2025-01-26T01:28:08.732Z"
   },
   {
    "duration": 258,
    "start_time": "2025-01-26T01:28:08.772Z"
   },
   {
    "duration": 248,
    "start_time": "2025-01-26T01:28:09.032Z"
   },
   {
    "duration": 256,
    "start_time": "2025-01-26T01:28:09.283Z"
   },
   {
    "duration": 4,
    "start_time": "2025-01-26T01:28:09.541Z"
   },
   {
    "duration": 834,
    "start_time": "2025-01-26T01:28:09.547Z"
   },
   {
    "duration": 3,
    "start_time": "2025-01-26T01:28:10.383Z"
   },
   {
    "duration": 857,
    "start_time": "2025-01-26T01:28:10.388Z"
   },
   {
    "duration": 442,
    "start_time": "2025-01-26T01:28:11.247Z"
   },
   {
    "duration": 3,
    "start_time": "2025-01-26T01:28:11.691Z"
   },
   {
    "duration": 192,
    "start_time": "2025-01-26T01:28:11.696Z"
   },
   {
    "duration": 4,
    "start_time": "2025-01-26T01:28:11.890Z"
   },
   {
    "duration": 176,
    "start_time": "2025-01-26T01:28:11.896Z"
   },
   {
    "duration": 3,
    "start_time": "2025-01-26T01:28:12.074Z"
   },
   {
    "duration": 177,
    "start_time": "2025-01-26T01:28:12.079Z"
   },
   {
    "duration": 2,
    "start_time": "2025-01-26T01:28:12.258Z"
   },
   {
    "duration": 10,
    "start_time": "2025-01-26T01:28:12.262Z"
   },
   {
    "duration": 5,
    "start_time": "2025-01-26T01:28:12.274Z"
   },
   {
    "duration": 4,
    "start_time": "2025-01-26T01:28:12.280Z"
   },
   {
    "duration": 4,
    "start_time": "2025-01-26T01:28:12.286Z"
   },
   {
    "duration": 6,
    "start_time": "2025-01-26T01:28:12.292Z"
   },
   {
    "duration": 10,
    "start_time": "2025-01-26T01:28:12.299Z"
   },
   {
    "duration": 4,
    "start_time": "2025-01-26T01:28:12.310Z"
   },
   {
    "duration": 4,
    "start_time": "2025-01-26T01:28:12.316Z"
   },
   {
    "duration": 5,
    "start_time": "2025-01-26T01:28:12.321Z"
   },
   {
    "duration": 107,
    "start_time": "2025-01-26T01:28:12.371Z"
   },
   {
    "duration": 4,
    "start_time": "2025-01-26T01:28:12.480Z"
   },
   {
    "duration": 4,
    "start_time": "2025-01-26T01:28:12.486Z"
   },
   {
    "duration": 4,
    "start_time": "2025-01-26T01:28:12.491Z"
   },
   {
    "duration": 5,
    "start_time": "2025-01-26T01:28:12.497Z"
   },
   {
    "duration": 4,
    "start_time": "2025-01-26T01:28:12.504Z"
   },
   {
    "duration": 5,
    "start_time": "2025-01-26T01:28:12.509Z"
   },
   {
    "duration": 3,
    "start_time": "2025-01-26T01:28:12.516Z"
   },
   {
    "duration": 4,
    "start_time": "2025-01-26T01:28:12.520Z"
   },
   {
    "duration": 3,
    "start_time": "2025-01-26T01:28:12.570Z"
   },
   {
    "duration": 3,
    "start_time": "2025-01-26T01:28:12.575Z"
   },
   {
    "duration": 5,
    "start_time": "2025-01-26T01:28:12.580Z"
   },
   {
    "duration": 5,
    "start_time": "2025-01-26T01:28:12.587Z"
   },
   {
    "duration": 4,
    "start_time": "2025-01-26T01:28:12.594Z"
   },
   {
    "duration": 5,
    "start_time": "2025-01-26T01:28:12.599Z"
   },
   {
    "duration": 3,
    "start_time": "2025-01-26T01:28:12.606Z"
   },
   {
    "duration": 3,
    "start_time": "2025-01-26T01:28:12.610Z"
   },
   {
    "duration": 3,
    "start_time": "2025-01-26T01:28:12.615Z"
   },
   {
    "duration": 3,
    "start_time": "2025-01-26T01:28:12.620Z"
   },
   {
    "duration": 49,
    "start_time": "2025-01-26T01:28:12.624Z"
   },
   {
    "duration": 865,
    "start_time": "2025-01-26T08:23:38.160Z"
   },
   {
    "duration": 321,
    "start_time": "2025-01-26T08:23:39.027Z"
   },
   {
    "duration": 526,
    "start_time": "2025-01-26T08:23:39.350Z"
   },
   {
    "duration": 60,
    "start_time": "2025-01-26T08:23:39.878Z"
   },
   {
    "duration": 8,
    "start_time": "2025-01-26T08:23:39.940Z"
   },
   {
    "duration": 24,
    "start_time": "2025-01-26T08:23:39.950Z"
   },
   {
    "duration": 3,
    "start_time": "2025-01-26T08:23:39.976Z"
   },
   {
    "duration": 152,
    "start_time": "2025-01-26T08:23:39.980Z"
   },
   {
    "duration": 5,
    "start_time": "2025-01-26T08:23:40.135Z"
   },
   {
    "duration": 3,
    "start_time": "2025-01-26T08:23:40.143Z"
   },
   {
    "duration": 3,
    "start_time": "2025-01-26T08:23:40.148Z"
   },
   {
    "duration": 5,
    "start_time": "2025-01-26T08:23:40.152Z"
   },
   {
    "duration": 3,
    "start_time": "2025-01-26T08:23:40.159Z"
   },
   {
    "duration": 3,
    "start_time": "2025-01-26T08:23:40.164Z"
   },
   {
    "duration": 7,
    "start_time": "2025-01-26T08:23:40.169Z"
   },
   {
    "duration": 5,
    "start_time": "2025-01-26T08:23:40.177Z"
   },
   {
    "duration": 49,
    "start_time": "2025-01-26T08:23:40.184Z"
   },
   {
    "duration": 3,
    "start_time": "2025-01-26T08:23:40.234Z"
   },
   {
    "duration": 184,
    "start_time": "2025-01-26T08:23:40.238Z"
   },
   {
    "duration": 7,
    "start_time": "2025-01-26T08:23:40.431Z"
   },
   {
    "duration": 5,
    "start_time": "2025-01-26T08:23:40.439Z"
   },
   {
    "duration": 6,
    "start_time": "2025-01-26T08:23:40.446Z"
   },
   {
    "duration": 7,
    "start_time": "2025-01-26T08:23:40.454Z"
   },
   {
    "duration": 8,
    "start_time": "2025-01-26T08:23:40.463Z"
   },
   {
    "duration": 5,
    "start_time": "2025-01-26T08:23:40.473Z"
   },
   {
    "duration": 51,
    "start_time": "2025-01-26T08:23:40.480Z"
   },
   {
    "duration": 12,
    "start_time": "2025-01-26T08:23:40.533Z"
   },
   {
    "duration": 4,
    "start_time": "2025-01-26T08:23:40.550Z"
   },
   {
    "duration": 260,
    "start_time": "2025-01-26T08:23:40.555Z"
   },
   {
    "duration": 253,
    "start_time": "2025-01-26T08:23:40.817Z"
   },
   {
    "duration": 264,
    "start_time": "2025-01-26T08:23:41.072Z"
   },
   {
    "duration": 4,
    "start_time": "2025-01-26T08:23:41.338Z"
   },
   {
    "duration": 869,
    "start_time": "2025-01-26T08:23:41.343Z"
   },
   {
    "duration": 3,
    "start_time": "2025-01-26T08:23:42.214Z"
   },
   {
    "duration": 860,
    "start_time": "2025-01-26T08:23:42.230Z"
   },
   {
    "duration": 461,
    "start_time": "2025-01-26T08:23:43.092Z"
   },
   {
    "duration": 3,
    "start_time": "2025-01-26T08:23:43.555Z"
   },
   {
    "duration": 189,
    "start_time": "2025-01-26T08:23:43.560Z"
   },
   {
    "duration": 3,
    "start_time": "2025-01-26T08:23:43.751Z"
   },
   {
    "duration": 178,
    "start_time": "2025-01-26T08:23:43.756Z"
   },
   {
    "duration": 4,
    "start_time": "2025-01-26T08:23:43.936Z"
   },
   {
    "duration": 178,
    "start_time": "2025-01-26T08:23:43.941Z"
   },
   {
    "duration": 2,
    "start_time": "2025-01-26T08:23:44.121Z"
   },
   {
    "duration": 3,
    "start_time": "2025-01-26T08:23:44.130Z"
   },
   {
    "duration": 5,
    "start_time": "2025-01-26T08:23:44.135Z"
   },
   {
    "duration": 4,
    "start_time": "2025-01-26T08:23:44.142Z"
   },
   {
    "duration": 4,
    "start_time": "2025-01-26T08:23:44.147Z"
   },
   {
    "duration": 7,
    "start_time": "2025-01-26T08:23:44.153Z"
   },
   {
    "duration": 9,
    "start_time": "2025-01-26T08:23:44.161Z"
   },
   {
    "duration": 4,
    "start_time": "2025-01-26T08:23:44.172Z"
   },
   {
    "duration": 5,
    "start_time": "2025-01-26T08:23:44.177Z"
   },
   {
    "duration": 5,
    "start_time": "2025-01-26T08:23:44.184Z"
   },
   {
    "duration": 4,
    "start_time": "2025-01-26T08:23:44.232Z"
   },
   {
    "duration": 126,
    "start_time": "2025-01-26T08:23:44.237Z"
   },
   {
    "duration": 5,
    "start_time": "2025-01-26T08:23:44.365Z"
   },
   {
    "duration": 4,
    "start_time": "2025-01-26T08:23:44.371Z"
   },
   {
    "duration": 4,
    "start_time": "2025-01-26T08:23:44.376Z"
   },
   {
    "duration": 4,
    "start_time": "2025-01-26T08:23:44.383Z"
   },
   {
    "duration": 3,
    "start_time": "2025-01-26T08:23:44.389Z"
   },
   {
    "duration": 37,
    "start_time": "2025-01-26T08:23:44.394Z"
   },
   {
    "duration": 3,
    "start_time": "2025-01-26T08:23:44.434Z"
   },
   {
    "duration": 3,
    "start_time": "2025-01-26T08:23:44.439Z"
   },
   {
    "duration": 4,
    "start_time": "2025-01-26T08:23:44.444Z"
   },
   {
    "duration": 5,
    "start_time": "2025-01-26T08:23:44.449Z"
   },
   {
    "duration": 5,
    "start_time": "2025-01-26T08:23:44.456Z"
   },
   {
    "duration": 4,
    "start_time": "2025-01-26T08:23:44.463Z"
   },
   {
    "duration": 6,
    "start_time": "2025-01-26T08:23:44.468Z"
   },
   {
    "duration": 4,
    "start_time": "2025-01-26T08:23:44.475Z"
   },
   {
    "duration": 4,
    "start_time": "2025-01-26T08:23:44.480Z"
   },
   {
    "duration": 3,
    "start_time": "2025-01-26T08:23:44.531Z"
   },
   {
    "duration": 3,
    "start_time": "2025-01-26T08:23:44.537Z"
   },
   {
    "duration": 3,
    "start_time": "2025-01-26T08:23:44.542Z"
   },
   {
    "duration": 73923,
    "start_time": "2025-01-26T08:23:44.547Z"
   },
   {
    "duration": 165297,
    "start_time": "2025-01-26T08:24:58.473Z"
   },
   {
    "duration": 5,
    "start_time": "2025-01-26T08:27:43.772Z"
   },
   {
    "duration": 3,
    "start_time": "2025-01-26T08:27:43.778Z"
   },
   {
    "duration": 3,
    "start_time": "2025-01-26T08:27:43.783Z"
   },
   {
    "duration": 698035,
    "start_time": "2025-01-26T08:27:43.788Z"
   },
   {
    "duration": 1611397,
    "start_time": "2025-01-26T08:39:21.825Z"
   },
   {
    "duration": 11,
    "start_time": "2025-01-26T09:06:13.224Z"
   },
   {
    "duration": 6,
    "start_time": "2025-01-26T09:06:13.238Z"
   },
   {
    "duration": 382,
    "start_time": "2025-01-26T09:06:13.250Z"
   },
   {
    "duration": 0,
    "start_time": "2025-01-26T09:06:13.634Z"
   },
   {
    "duration": 6,
    "start_time": "2025-01-26T09:15:04.326Z"
   },
   {
    "duration": 54,
    "start_time": "2025-01-26T09:15:05.892Z"
   },
   {
    "duration": 87,
    "start_time": "2025-01-26T09:17:53.494Z"
   },
   {
    "duration": 3,
    "start_time": "2025-01-26T09:30:28.140Z"
   },
   {
    "duration": 3,
    "start_time": "2025-01-26T09:30:28.146Z"
   },
   {
    "duration": 496,
    "start_time": "2025-01-26T09:30:28.151Z"
   },
   {
    "duration": 47,
    "start_time": "2025-01-26T09:30:28.649Z"
   },
   {
    "duration": 9,
    "start_time": "2025-01-26T09:30:28.699Z"
   },
   {
    "duration": 39,
    "start_time": "2025-01-26T09:30:28.709Z"
   },
   {
    "duration": 4,
    "start_time": "2025-01-26T09:30:28.749Z"
   },
   {
    "duration": 140,
    "start_time": "2025-01-26T09:30:28.755Z"
   },
   {
    "duration": 5,
    "start_time": "2025-01-26T09:30:28.897Z"
   },
   {
    "duration": 3,
    "start_time": "2025-01-26T09:30:28.905Z"
   },
   {
    "duration": 22,
    "start_time": "2025-01-26T09:30:28.910Z"
   },
   {
    "duration": 5,
    "start_time": "2025-01-26T09:30:28.933Z"
   },
   {
    "duration": 3,
    "start_time": "2025-01-26T09:30:28.940Z"
   },
   {
    "duration": 4,
    "start_time": "2025-01-26T09:30:28.945Z"
   },
   {
    "duration": 6,
    "start_time": "2025-01-26T09:30:28.950Z"
   },
   {
    "duration": 6,
    "start_time": "2025-01-26T09:30:28.957Z"
   },
   {
    "duration": 8,
    "start_time": "2025-01-26T09:30:28.964Z"
   },
   {
    "duration": 3,
    "start_time": "2025-01-26T09:30:28.974Z"
   },
   {
    "duration": 195,
    "start_time": "2025-01-26T09:30:28.979Z"
   },
   {
    "duration": 8,
    "start_time": "2025-01-26T09:30:29.176Z"
   },
   {
    "duration": 5,
    "start_time": "2025-01-26T09:30:29.185Z"
   },
   {
    "duration": 8,
    "start_time": "2025-01-26T09:30:29.191Z"
   },
   {
    "duration": 6,
    "start_time": "2025-01-26T09:30:29.200Z"
   },
   {
    "duration": 8,
    "start_time": "2025-01-26T09:30:29.232Z"
   },
   {
    "duration": 6,
    "start_time": "2025-01-26T09:30:29.246Z"
   },
   {
    "duration": 10,
    "start_time": "2025-01-26T09:30:29.254Z"
   },
   {
    "duration": 9,
    "start_time": "2025-01-26T09:30:29.265Z"
   },
   {
    "duration": 4,
    "start_time": "2025-01-26T09:30:29.276Z"
   },
   {
    "duration": 349,
    "start_time": "2025-01-26T09:30:29.282Z"
   },
   {
    "duration": 242,
    "start_time": "2025-01-26T09:30:29.633Z"
   },
   {
    "duration": 254,
    "start_time": "2025-01-26T09:30:29.877Z"
   },
   {
    "duration": 3,
    "start_time": "2025-01-26T09:30:30.133Z"
   },
   {
    "duration": 882,
    "start_time": "2025-01-26T09:30:30.138Z"
   },
   {
    "duration": 9,
    "start_time": "2025-01-26T09:30:31.022Z"
   },
   {
    "duration": 761,
    "start_time": "2025-01-26T09:30:31.033Z"
   },
   {
    "duration": 594,
    "start_time": "2025-01-26T09:30:31.795Z"
   },
   {
    "duration": 4,
    "start_time": "2025-01-26T09:30:32.391Z"
   },
   {
    "duration": 190,
    "start_time": "2025-01-26T09:30:32.396Z"
   },
   {
    "duration": 3,
    "start_time": "2025-01-26T09:30:32.588Z"
   },
   {
    "duration": 177,
    "start_time": "2025-01-26T09:30:32.593Z"
   },
   {
    "duration": 4,
    "start_time": "2025-01-26T09:30:32.772Z"
   },
   {
    "duration": 174,
    "start_time": "2025-01-26T09:30:32.778Z"
   },
   {
    "duration": 3,
    "start_time": "2025-01-26T09:30:32.954Z"
   },
   {
    "duration": 4,
    "start_time": "2025-01-26T09:30:32.958Z"
   },
   {
    "duration": 5,
    "start_time": "2025-01-26T09:30:32.963Z"
   },
   {
    "duration": 6,
    "start_time": "2025-01-26T09:30:32.969Z"
   },
   {
    "duration": 5,
    "start_time": "2025-01-26T09:30:32.977Z"
   },
   {
    "duration": 6,
    "start_time": "2025-01-26T09:30:32.984Z"
   },
   {
    "duration": 8,
    "start_time": "2025-01-26T09:30:32.992Z"
   },
   {
    "duration": 4,
    "start_time": "2025-01-26T09:30:33.031Z"
   },
   {
    "duration": 3,
    "start_time": "2025-01-26T09:30:33.037Z"
   },
   {
    "duration": 5,
    "start_time": "2025-01-26T09:30:33.042Z"
   },
   {
    "duration": 4,
    "start_time": "2025-01-26T09:30:33.049Z"
   },
   {
    "duration": 4,
    "start_time": "2025-01-26T09:30:33.055Z"
   },
   {
    "duration": 5,
    "start_time": "2025-01-26T09:30:37.267Z"
   },
   {
    "duration": 806,
    "start_time": "2025-01-26T09:30:59.411Z"
   },
   {
    "duration": 217,
    "start_time": "2025-01-26T09:31:00.219Z"
   },
   {
    "duration": 501,
    "start_time": "2025-01-26T09:31:00.438Z"
   },
   {
    "duration": 49,
    "start_time": "2025-01-26T09:31:00.941Z"
   },
   {
    "duration": 9,
    "start_time": "2025-01-26T09:31:00.991Z"
   },
   {
    "duration": 43,
    "start_time": "2025-01-26T09:31:01.001Z"
   },
   {
    "duration": 3,
    "start_time": "2025-01-26T09:31:01.046Z"
   },
   {
    "duration": 145,
    "start_time": "2025-01-26T09:31:01.051Z"
   },
   {
    "duration": 5,
    "start_time": "2025-01-26T09:31:01.197Z"
   },
   {
    "duration": 3,
    "start_time": "2025-01-26T09:31:01.206Z"
   },
   {
    "duration": 3,
    "start_time": "2025-01-26T09:31:01.211Z"
   },
   {
    "duration": 5,
    "start_time": "2025-01-26T09:31:01.232Z"
   },
   {
    "duration": 2,
    "start_time": "2025-01-26T09:31:01.240Z"
   },
   {
    "duration": 4,
    "start_time": "2025-01-26T09:31:01.244Z"
   },
   {
    "duration": 8,
    "start_time": "2025-01-26T09:31:01.249Z"
   },
   {
    "duration": 5,
    "start_time": "2025-01-26T09:31:01.258Z"
   },
   {
    "duration": 7,
    "start_time": "2025-01-26T09:31:01.264Z"
   },
   {
    "duration": 2,
    "start_time": "2025-01-26T09:31:01.273Z"
   },
   {
    "duration": 216,
    "start_time": "2025-01-26T09:31:01.278Z"
   },
   {
    "duration": 6,
    "start_time": "2025-01-26T09:31:01.495Z"
   },
   {
    "duration": 5,
    "start_time": "2025-01-26T09:31:01.503Z"
   },
   {
    "duration": 27,
    "start_time": "2025-01-26T09:31:01.509Z"
   },
   {
    "duration": 8,
    "start_time": "2025-01-26T09:31:01.538Z"
   },
   {
    "duration": 9,
    "start_time": "2025-01-26T09:31:01.547Z"
   },
   {
    "duration": 6,
    "start_time": "2025-01-26T09:31:01.557Z"
   },
   {
    "duration": 10,
    "start_time": "2025-01-26T09:31:01.564Z"
   },
   {
    "duration": 11,
    "start_time": "2025-01-26T09:31:01.576Z"
   },
   {
    "duration": 6,
    "start_time": "2025-01-26T09:31:01.592Z"
   },
   {
    "duration": 269,
    "start_time": "2025-01-26T09:31:01.632Z"
   },
   {
    "duration": 270,
    "start_time": "2025-01-26T09:31:01.902Z"
   },
   {
    "duration": 250,
    "start_time": "2025-01-26T09:31:02.174Z"
   },
   {
    "duration": 10,
    "start_time": "2025-01-26T09:31:02.425Z"
   },
   {
    "duration": 857,
    "start_time": "2025-01-26T09:31:02.436Z"
   },
   {
    "duration": 2,
    "start_time": "2025-01-26T09:31:03.295Z"
   },
   {
    "duration": 877,
    "start_time": "2025-01-26T09:31:03.299Z"
   },
   {
    "duration": 469,
    "start_time": "2025-01-26T09:31:04.178Z"
   },
   {
    "duration": 4,
    "start_time": "2025-01-26T09:31:04.648Z"
   },
   {
    "duration": 197,
    "start_time": "2025-01-26T09:31:04.654Z"
   },
   {
    "duration": 3,
    "start_time": "2025-01-26T09:31:04.853Z"
   },
   {
    "duration": 174,
    "start_time": "2025-01-26T09:31:04.857Z"
   },
   {
    "duration": 3,
    "start_time": "2025-01-26T09:31:05.033Z"
   },
   {
    "duration": 175,
    "start_time": "2025-01-26T09:31:05.038Z"
   },
   {
    "duration": 3,
    "start_time": "2025-01-26T09:31:05.215Z"
   },
   {
    "duration": 12,
    "start_time": "2025-01-26T09:31:05.220Z"
   },
   {
    "duration": 6,
    "start_time": "2025-01-26T09:31:05.233Z"
   },
   {
    "duration": 4,
    "start_time": "2025-01-26T09:31:05.241Z"
   },
   {
    "duration": 4,
    "start_time": "2025-01-26T09:31:05.247Z"
   },
   {
    "duration": 6,
    "start_time": "2025-01-26T09:31:05.253Z"
   },
   {
    "duration": 9,
    "start_time": "2025-01-26T09:31:05.261Z"
   },
   {
    "duration": 4,
    "start_time": "2025-01-26T09:31:05.272Z"
   },
   {
    "duration": 4,
    "start_time": "2025-01-26T09:31:05.278Z"
   },
   {
    "duration": 5,
    "start_time": "2025-01-26T09:31:05.283Z"
   },
   {
    "duration": 4,
    "start_time": "2025-01-26T09:31:05.331Z"
   },
   {
    "duration": 4,
    "start_time": "2025-01-26T09:31:05.337Z"
   },
   {
    "duration": 110,
    "start_time": "2025-01-26T09:31:05.343Z"
   },
   {
    "duration": 4,
    "start_time": "2025-01-26T09:31:05.456Z"
   },
   {
    "duration": 3,
    "start_time": "2025-01-26T09:31:05.462Z"
   },
   {
    "duration": 3,
    "start_time": "2025-01-26T09:31:05.467Z"
   },
   {
    "duration": 5,
    "start_time": "2025-01-26T09:31:05.472Z"
   },
   {
    "duration": 4,
    "start_time": "2025-01-26T09:31:05.478Z"
   },
   {
    "duration": 5,
    "start_time": "2025-01-26T09:31:05.484Z"
   },
   {
    "duration": 43,
    "start_time": "2025-01-26T09:31:05.490Z"
   },
   {
    "duration": 4,
    "start_time": "2025-01-26T09:31:05.535Z"
   },
   {
    "duration": 4,
    "start_time": "2025-01-26T09:31:05.541Z"
   },
   {
    "duration": 5,
    "start_time": "2025-01-26T09:31:05.546Z"
   },
   {
    "duration": 5,
    "start_time": "2025-01-26T09:31:05.553Z"
   },
   {
    "duration": 5,
    "start_time": "2025-01-26T09:31:05.559Z"
   },
   {
    "duration": 5,
    "start_time": "2025-01-26T09:31:05.566Z"
   },
   {
    "duration": 3,
    "start_time": "2025-01-26T09:31:05.572Z"
   },
   {
    "duration": 7,
    "start_time": "2025-01-26T09:31:05.577Z"
   },
   {
    "duration": 48,
    "start_time": "2025-01-26T09:31:05.586Z"
   },
   {
    "duration": 3,
    "start_time": "2025-01-26T09:31:05.635Z"
   },
   {
    "duration": 3,
    "start_time": "2025-01-26T09:31:05.640Z"
   },
   {
    "duration": 73379,
    "start_time": "2025-01-26T09:31:05.645Z"
   },
   {
    "duration": 165347,
    "start_time": "2025-01-26T09:32:19.031Z"
   },
   {
    "duration": 6,
    "start_time": "2025-01-26T09:35:04.382Z"
   },
   {
    "duration": 3,
    "start_time": "2025-01-26T09:35:04.390Z"
   },
   {
    "duration": 3,
    "start_time": "2025-01-26T09:35:04.395Z"
   },
   {
    "duration": 700932,
    "start_time": "2025-01-26T09:35:04.400Z"
   },
   {
    "duration": 2514,
    "start_time": "2025-01-26T14:09:29.049Z"
   },
   {
    "duration": 160,
    "start_time": "2025-01-26T14:09:31.565Z"
   },
   {
    "duration": 625,
    "start_time": "2025-01-26T14:09:31.727Z"
   },
   {
    "duration": 51,
    "start_time": "2025-01-26T14:09:32.354Z"
   },
   {
    "duration": 8,
    "start_time": "2025-01-26T14:09:32.408Z"
   },
   {
    "duration": 18,
    "start_time": "2025-01-26T14:09:32.418Z"
   },
   {
    "duration": 3,
    "start_time": "2025-01-26T14:09:32.437Z"
   },
   {
    "duration": 156,
    "start_time": "2025-01-26T14:09:32.442Z"
   },
   {
    "duration": 4,
    "start_time": "2025-01-26T14:09:32.600Z"
   },
   {
    "duration": 3,
    "start_time": "2025-01-26T14:09:32.607Z"
   },
   {
    "duration": 3,
    "start_time": "2025-01-26T14:09:32.612Z"
   },
   {
    "duration": 4,
    "start_time": "2025-01-26T14:09:32.617Z"
   },
   {
    "duration": 3,
    "start_time": "2025-01-26T14:09:32.623Z"
   },
   {
    "duration": 4,
    "start_time": "2025-01-26T14:09:32.628Z"
   },
   {
    "duration": 6,
    "start_time": "2025-01-26T14:09:32.670Z"
   },
   {
    "duration": 6,
    "start_time": "2025-01-26T14:09:32.678Z"
   },
   {
    "duration": 7,
    "start_time": "2025-01-26T14:09:32.686Z"
   },
   {
    "duration": 3,
    "start_time": "2025-01-26T14:09:32.694Z"
   },
   {
    "duration": 206,
    "start_time": "2025-01-26T14:09:32.699Z"
   },
   {
    "duration": 7,
    "start_time": "2025-01-26T14:09:32.907Z"
   },
   {
    "duration": 6,
    "start_time": "2025-01-26T14:09:32.915Z"
   },
   {
    "duration": 6,
    "start_time": "2025-01-26T14:09:32.923Z"
   },
   {
    "duration": 7,
    "start_time": "2025-01-26T14:09:32.930Z"
   },
   {
    "duration": 32,
    "start_time": "2025-01-26T14:09:32.939Z"
   },
   {
    "duration": 4,
    "start_time": "2025-01-26T14:09:32.973Z"
   },
   {
    "duration": 8,
    "start_time": "2025-01-26T14:09:32.979Z"
   },
   {
    "duration": 11,
    "start_time": "2025-01-26T14:09:32.989Z"
   },
   {
    "duration": 4,
    "start_time": "2025-01-26T14:09:33.006Z"
   },
   {
    "duration": 338,
    "start_time": "2025-01-26T14:09:33.012Z"
   },
   {
    "duration": 245,
    "start_time": "2025-01-26T14:09:33.352Z"
   },
   {
    "duration": 254,
    "start_time": "2025-01-26T14:09:33.599Z"
   },
   {
    "duration": 3,
    "start_time": "2025-01-26T14:09:33.856Z"
   },
   {
    "duration": 844,
    "start_time": "2025-01-26T14:09:33.869Z"
   },
   {
    "duration": 2,
    "start_time": "2025-01-26T14:09:34.715Z"
   },
   {
    "duration": 869,
    "start_time": "2025-01-26T14:09:34.719Z"
   },
   {
    "duration": 444,
    "start_time": "2025-01-26T14:09:35.590Z"
   },
   {
    "duration": 3,
    "start_time": "2025-01-26T14:09:36.037Z"
   },
   {
    "duration": 190,
    "start_time": "2025-01-26T14:09:36.042Z"
   },
   {
    "duration": 4,
    "start_time": "2025-01-26T14:09:36.234Z"
   },
   {
    "duration": 189,
    "start_time": "2025-01-26T14:09:36.240Z"
   },
   {
    "duration": 3,
    "start_time": "2025-01-26T14:09:36.431Z"
   },
   {
    "duration": 187,
    "start_time": "2025-01-26T14:09:36.436Z"
   },
   {
    "duration": 3,
    "start_time": "2025-01-26T14:09:36.625Z"
   },
   {
    "duration": 3,
    "start_time": "2025-01-26T14:09:36.629Z"
   },
   {
    "duration": 4,
    "start_time": "2025-01-26T14:09:36.634Z"
   },
   {
    "duration": 3,
    "start_time": "2025-01-26T14:09:36.640Z"
   },
   {
    "duration": 25,
    "start_time": "2025-01-26T14:09:36.645Z"
   },
   {
    "duration": 7,
    "start_time": "2025-01-26T14:09:36.672Z"
   },
   {
    "duration": 10,
    "start_time": "2025-01-26T14:09:36.680Z"
   },
   {
    "duration": 3,
    "start_time": "2025-01-26T14:09:36.692Z"
   },
   {
    "duration": 4,
    "start_time": "2025-01-26T14:09:36.697Z"
   },
   {
    "duration": 4,
    "start_time": "2025-01-26T14:09:36.703Z"
   },
   {
    "duration": 4,
    "start_time": "2025-01-26T14:09:36.709Z"
   },
   {
    "duration": 3,
    "start_time": "2025-01-26T14:09:36.715Z"
   },
   {
    "duration": 6,
    "start_time": "2025-01-26T14:09:36.719Z"
   },
   {
    "duration": 47,
    "start_time": "2025-01-26T14:09:36.726Z"
   },
   {
    "duration": 4,
    "start_time": "2025-01-26T14:09:36.777Z"
   },
   {
    "duration": 4,
    "start_time": "2025-01-26T14:09:36.782Z"
   },
   {
    "duration": 6,
    "start_time": "2025-01-26T14:09:36.788Z"
   },
   {
    "duration": 4,
    "start_time": "2025-01-26T14:09:36.795Z"
   },
   {
    "duration": 4,
    "start_time": "2025-01-26T14:09:36.802Z"
   },
   {
    "duration": 4,
    "start_time": "2025-01-26T14:09:36.808Z"
   },
   {
    "duration": 3,
    "start_time": "2025-01-26T14:09:36.814Z"
   },
   {
    "duration": 3,
    "start_time": "2025-01-26T14:09:36.820Z"
   },
   {
    "duration": 6,
    "start_time": "2025-01-26T14:09:36.871Z"
   },
   {
    "duration": 6,
    "start_time": "2025-01-26T14:09:36.879Z"
   },
   {
    "duration": 5,
    "start_time": "2025-01-26T14:09:36.886Z"
   },
   {
    "duration": 5,
    "start_time": "2025-01-26T14:09:36.893Z"
   },
   {
    "duration": 3,
    "start_time": "2025-01-26T14:09:36.899Z"
   },
   {
    "duration": 3,
    "start_time": "2025-01-26T14:09:36.904Z"
   },
   {
    "duration": 4,
    "start_time": "2025-01-26T14:09:36.908Z"
   },
   {
    "duration": 3,
    "start_time": "2025-01-26T14:09:36.913Z"
   },
   {
    "duration": 3,
    "start_time": "2025-01-26T14:09:36.918Z"
   },
   {
    "duration": 73611,
    "start_time": "2025-01-26T14:09:36.922Z"
   },
   {
    "duration": 2688,
    "start_time": "2025-01-26T16:19:44.315Z"
   },
   {
    "duration": 175,
    "start_time": "2025-01-26T16:19:47.005Z"
   },
   {
    "duration": 636,
    "start_time": "2025-01-26T16:19:47.182Z"
   },
   {
    "duration": 58,
    "start_time": "2025-01-26T16:19:47.820Z"
   },
   {
    "duration": 8,
    "start_time": "2025-01-26T16:19:47.881Z"
   },
   {
    "duration": 18,
    "start_time": "2025-01-26T16:19:47.891Z"
   },
   {
    "duration": 4,
    "start_time": "2025-01-26T16:19:47.911Z"
   },
   {
    "duration": 153,
    "start_time": "2025-01-26T16:19:47.917Z"
   },
   {
    "duration": 5,
    "start_time": "2025-01-26T16:19:48.072Z"
   },
   {
    "duration": 4,
    "start_time": "2025-01-26T16:19:48.079Z"
   },
   {
    "duration": 4,
    "start_time": "2025-01-26T16:19:48.084Z"
   },
   {
    "duration": 4,
    "start_time": "2025-01-26T16:19:48.090Z"
   },
   {
    "duration": 3,
    "start_time": "2025-01-26T16:19:48.096Z"
   },
   {
    "duration": 2,
    "start_time": "2025-01-26T16:19:48.104Z"
   },
   {
    "duration": 7,
    "start_time": "2025-01-26T16:19:48.109Z"
   },
   {
    "duration": 5,
    "start_time": "2025-01-26T16:19:48.117Z"
   },
   {
    "duration": 6,
    "start_time": "2025-01-26T16:19:48.170Z"
   },
   {
    "duration": 3,
    "start_time": "2025-01-26T16:19:48.178Z"
   },
   {
    "duration": 239,
    "start_time": "2025-01-26T16:19:48.183Z"
   },
   {
    "duration": 7,
    "start_time": "2025-01-26T16:19:48.426Z"
   },
   {
    "duration": 6,
    "start_time": "2025-01-26T16:19:48.434Z"
   },
   {
    "duration": 6,
    "start_time": "2025-01-26T16:19:48.443Z"
   },
   {
    "duration": 25,
    "start_time": "2025-01-26T16:19:48.451Z"
   },
   {
    "duration": 9,
    "start_time": "2025-01-26T16:19:48.478Z"
   },
   {
    "duration": 5,
    "start_time": "2025-01-26T16:19:48.488Z"
   },
   {
    "duration": 9,
    "start_time": "2025-01-26T16:19:48.494Z"
   },
   {
    "duration": 11,
    "start_time": "2025-01-26T16:19:48.505Z"
   },
   {
    "duration": 4,
    "start_time": "2025-01-26T16:19:48.518Z"
   },
   {
    "duration": 295,
    "start_time": "2025-01-26T16:19:48.524Z"
   },
   {
    "duration": 251,
    "start_time": "2025-01-26T16:19:48.821Z"
   },
   {
    "duration": 257,
    "start_time": "2025-01-26T16:19:49.073Z"
   },
   {
    "duration": 3,
    "start_time": "2025-01-26T16:19:49.332Z"
   },
   {
    "duration": 856,
    "start_time": "2025-01-26T16:19:49.337Z"
   },
   {
    "duration": 2,
    "start_time": "2025-01-26T16:19:50.195Z"
   },
   {
    "duration": 857,
    "start_time": "2025-01-26T16:19:50.199Z"
   },
   {
    "duration": 445,
    "start_time": "2025-01-26T16:19:51.058Z"
   },
   {
    "duration": 5,
    "start_time": "2025-01-26T16:19:51.505Z"
   },
   {
    "duration": 201,
    "start_time": "2025-01-26T16:19:51.513Z"
   },
   {
    "duration": 4,
    "start_time": "2025-01-26T16:19:51.716Z"
   },
   {
    "duration": 192,
    "start_time": "2025-01-26T16:19:51.721Z"
   },
   {
    "duration": 4,
    "start_time": "2025-01-26T16:19:51.917Z"
   },
   {
    "duration": 181,
    "start_time": "2025-01-26T16:19:51.922Z"
   },
   {
    "duration": 5,
    "start_time": "2025-01-26T16:19:52.105Z"
   },
   {
    "duration": 3,
    "start_time": "2025-01-26T16:19:52.111Z"
   },
   {
    "duration": 5,
    "start_time": "2025-01-26T16:19:52.115Z"
   },
   {
    "duration": 5,
    "start_time": "2025-01-26T16:19:52.121Z"
   },
   {
    "duration": 4,
    "start_time": "2025-01-26T16:19:52.128Z"
   },
   {
    "duration": 4,
    "start_time": "2025-01-26T16:19:52.133Z"
   },
   {
    "duration": 158,
    "start_time": "2025-01-26T17:27:46.412Z"
   },
   {
    "duration": 2569,
    "start_time": "2025-01-26T17:27:55.129Z"
   },
   {
    "duration": 229,
    "start_time": "2025-01-26T17:27:57.700Z"
   },
   {
    "duration": 643,
    "start_time": "2025-01-26T17:27:57.930Z"
   },
   {
    "duration": 59,
    "start_time": "2025-01-26T17:27:58.575Z"
   },
   {
    "duration": 8,
    "start_time": "2025-01-26T17:27:58.636Z"
   },
   {
    "duration": 19,
    "start_time": "2025-01-26T17:27:58.646Z"
   },
   {
    "duration": 3,
    "start_time": "2025-01-26T17:27:58.667Z"
   },
   {
    "duration": 159,
    "start_time": "2025-01-26T17:27:58.672Z"
   },
   {
    "duration": 6,
    "start_time": "2025-01-26T17:27:58.832Z"
   },
   {
    "duration": 4,
    "start_time": "2025-01-26T17:27:58.839Z"
   },
   {
    "duration": 3,
    "start_time": "2025-01-26T17:27:58.845Z"
   },
   {
    "duration": 5,
    "start_time": "2025-01-26T17:27:58.850Z"
   },
   {
    "duration": 3,
    "start_time": "2025-01-26T17:27:58.857Z"
   },
   {
    "duration": 4,
    "start_time": "2025-01-26T17:27:58.864Z"
   },
   {
    "duration": 7,
    "start_time": "2025-01-26T17:27:58.908Z"
   },
   {
    "duration": 5,
    "start_time": "2025-01-26T17:27:58.917Z"
   },
   {
    "duration": 7,
    "start_time": "2025-01-26T17:27:58.924Z"
   },
   {
    "duration": 3,
    "start_time": "2025-01-26T17:27:58.932Z"
   },
   {
    "duration": 207,
    "start_time": "2025-01-26T17:27:58.936Z"
   },
   {
    "duration": 7,
    "start_time": "2025-01-26T17:27:59.145Z"
   },
   {
    "duration": 5,
    "start_time": "2025-01-26T17:27:59.153Z"
   },
   {
    "duration": 8,
    "start_time": "2025-01-26T17:27:59.160Z"
   },
   {
    "duration": 8,
    "start_time": "2025-01-26T17:27:59.169Z"
   },
   {
    "duration": 37,
    "start_time": "2025-01-26T17:27:59.179Z"
   },
   {
    "duration": 5,
    "start_time": "2025-01-26T17:27:59.218Z"
   },
   {
    "duration": 8,
    "start_time": "2025-01-26T17:27:59.225Z"
   },
   {
    "duration": 11,
    "start_time": "2025-01-26T17:27:59.234Z"
   },
   {
    "duration": 4,
    "start_time": "2025-01-26T17:27:59.248Z"
   },
   {
    "duration": 281,
    "start_time": "2025-01-26T17:27:59.254Z"
   },
   {
    "duration": 255,
    "start_time": "2025-01-26T17:27:59.537Z"
   },
   {
    "duration": 254,
    "start_time": "2025-01-26T17:27:59.794Z"
   },
   {
    "duration": 3,
    "start_time": "2025-01-26T17:28:00.052Z"
   },
   {
    "duration": 841,
    "start_time": "2025-01-26T17:28:00.057Z"
   },
   {
    "duration": 9,
    "start_time": "2025-01-26T17:28:00.900Z"
   },
   {
    "duration": 850,
    "start_time": "2025-01-26T17:28:00.910Z"
   },
   {
    "duration": 447,
    "start_time": "2025-01-26T17:28:01.762Z"
   },
   {
    "duration": 3,
    "start_time": "2025-01-26T17:28:02.211Z"
   },
   {
    "duration": 186,
    "start_time": "2025-01-26T17:28:02.217Z"
   },
   {
    "duration": 4,
    "start_time": "2025-01-26T17:28:02.409Z"
   },
   {
    "duration": 174,
    "start_time": "2025-01-26T17:28:02.415Z"
   },
   {
    "duration": 4,
    "start_time": "2025-01-26T17:28:02.593Z"
   },
   {
    "duration": 173,
    "start_time": "2025-01-26T17:28:02.599Z"
   },
   {
    "duration": 3,
    "start_time": "2025-01-26T17:28:02.773Z"
   },
   {
    "duration": 3,
    "start_time": "2025-01-26T17:28:02.778Z"
   },
   {
    "duration": 4,
    "start_time": "2025-01-26T17:28:02.783Z"
   },
   {
    "duration": 20,
    "start_time": "2025-01-26T17:28:02.789Z"
   },
   {
    "duration": 4,
    "start_time": "2025-01-26T17:28:02.810Z"
   },
   {
    "duration": 5,
    "start_time": "2025-01-26T17:28:06.704Z"
   },
   {
    "duration": 7,
    "start_time": "2025-01-26T17:28:21.995Z"
   },
   {
    "duration": 3,
    "start_time": "2025-01-26T17:28:45.176Z"
   },
   {
    "duration": 6,
    "start_time": "2025-01-26T17:29:23.214Z"
   },
   {
    "duration": 7,
    "start_time": "2025-01-26T17:29:50.602Z"
   },
   {
    "duration": 6,
    "start_time": "2025-01-26T17:30:08.430Z"
   },
   {
    "duration": 3,
    "start_time": "2025-01-26T17:31:10.264Z"
   },
   {
    "duration": 95,
    "start_time": "2025-01-26T17:32:41.091Z"
   },
   {
    "duration": 2579,
    "start_time": "2025-01-26T18:26:47.828Z"
   },
   {
    "duration": 167,
    "start_time": "2025-01-26T18:26:50.409Z"
   },
   {
    "duration": 639,
    "start_time": "2025-01-26T18:26:50.578Z"
   },
   {
    "duration": 51,
    "start_time": "2025-01-26T18:26:51.220Z"
   },
   {
    "duration": 19,
    "start_time": "2025-01-26T18:26:51.273Z"
   },
   {
    "duration": 19,
    "start_time": "2025-01-26T18:26:51.294Z"
   },
   {
    "duration": 4,
    "start_time": "2025-01-26T18:26:51.315Z"
   },
   {
    "duration": 152,
    "start_time": "2025-01-26T18:26:51.320Z"
   },
   {
    "duration": 13,
    "start_time": "2025-01-26T18:26:51.474Z"
   },
   {
    "duration": 4,
    "start_time": "2025-01-26T18:26:51.490Z"
   },
   {
    "duration": 3,
    "start_time": "2025-01-26T18:26:51.495Z"
   },
   {
    "duration": 5,
    "start_time": "2025-01-26T18:26:51.499Z"
   },
   {
    "duration": 3,
    "start_time": "2025-01-26T18:26:51.506Z"
   },
   {
    "duration": 3,
    "start_time": "2025-01-26T18:26:51.511Z"
   },
   {
    "duration": 7,
    "start_time": "2025-01-26T18:26:51.516Z"
   },
   {
    "duration": 5,
    "start_time": "2025-01-26T18:26:51.524Z"
   },
   {
    "duration": 6,
    "start_time": "2025-01-26T18:26:51.531Z"
   },
   {
    "duration": 3,
    "start_time": "2025-01-26T18:26:51.539Z"
   },
   {
    "duration": 245,
    "start_time": "2025-01-26T18:26:51.543Z"
   },
   {
    "duration": 7,
    "start_time": "2025-01-26T18:26:51.789Z"
   },
   {
    "duration": 5,
    "start_time": "2025-01-26T18:26:51.798Z"
   },
   {
    "duration": 7,
    "start_time": "2025-01-26T18:26:51.804Z"
   },
   {
    "duration": 2,
    "start_time": "2025-01-26T18:26:51.812Z"
   },
   {
    "duration": 9,
    "start_time": "2025-01-26T18:26:51.816Z"
   },
   {
    "duration": 5,
    "start_time": "2025-01-26T18:26:51.826Z"
   },
   {
    "duration": 2,
    "start_time": "2025-01-26T18:26:51.833Z"
   },
   {
    "duration": 57,
    "start_time": "2025-01-26T18:26:51.837Z"
   },
   {
    "duration": 4,
    "start_time": "2025-01-26T18:26:51.898Z"
   },
   {
    "duration": 279,
    "start_time": "2025-01-26T18:26:57.592Z"
   },
   {
    "duration": 304,
    "start_time": "2025-01-26T18:27:03.719Z"
   },
   {
    "duration": 250,
    "start_time": "2025-01-26T18:27:18.522Z"
   },
   {
    "duration": 4,
    "start_time": "2025-01-26T18:37:48.868Z"
   },
   {
    "duration": 863,
    "start_time": "2025-01-26T18:37:51.693Z"
   },
   {
    "duration": 3,
    "start_time": "2025-01-26T18:37:56.102Z"
   },
   {
    "duration": 808,
    "start_time": "2025-01-26T18:38:00.110Z"
   },
   {
    "duration": 3,
    "start_time": "2025-01-26T18:38:05.529Z"
   },
   {
    "duration": 264,
    "start_time": "2025-01-26T18:38:06.466Z"
   },
   {
    "duration": 4,
    "start_time": "2025-01-26T18:38:10.396Z"
   },
   {
    "duration": 166,
    "start_time": "2025-01-26T18:38:11.367Z"
   },
   {
    "duration": 4,
    "start_time": "2025-01-26T18:38:14.360Z"
   },
   {
    "duration": 172,
    "start_time": "2025-01-26T18:38:15.984Z"
   },
   {
    "duration": 3,
    "start_time": "2025-01-26T18:38:20.586Z"
   },
   {
    "duration": 2,
    "start_time": "2025-01-26T18:38:21.780Z"
   },
   {
    "duration": 5,
    "start_time": "2025-01-26T18:38:22.916Z"
   },
   {
    "duration": 4,
    "start_time": "2025-01-26T18:38:24.750Z"
   },
   {
    "duration": 4,
    "start_time": "2025-01-26T18:38:27.545Z"
   },
   {
    "duration": 7,
    "start_time": "2025-01-26T18:38:28.477Z"
   },
   {
    "duration": 11,
    "start_time": "2025-01-26T18:39:10.073Z"
   },
   {
    "duration": 4,
    "start_time": "2025-01-26T18:39:11.237Z"
   },
   {
    "duration": 4,
    "start_time": "2025-01-26T18:39:13.284Z"
   },
   {
    "duration": 6,
    "start_time": "2025-01-26T18:39:14.552Z"
   },
   {
    "duration": 6,
    "start_time": "2025-01-26T18:39:20.725Z"
   },
   {
    "duration": 4,
    "start_time": "2025-01-26T18:39:25.892Z"
   },
   {
    "duration": 4,
    "start_time": "2025-01-26T18:40:28.535Z"
   },
   {
    "duration": 3,
    "start_time": "2025-01-26T18:40:34.116Z"
   },
   {
    "duration": 3,
    "start_time": "2025-01-26T18:40:34.123Z"
   },
   {
    "duration": 511,
    "start_time": "2025-01-26T18:40:34.127Z"
   },
   {
    "duration": 52,
    "start_time": "2025-01-26T18:40:34.640Z"
   },
   {
    "duration": 9,
    "start_time": "2025-01-26T18:40:34.694Z"
   },
   {
    "duration": 17,
    "start_time": "2025-01-26T18:40:34.705Z"
   },
   {
    "duration": 3,
    "start_time": "2025-01-26T18:40:34.723Z"
   },
   {
    "duration": 151,
    "start_time": "2025-01-26T18:40:34.727Z"
   },
   {
    "duration": 8,
    "start_time": "2025-01-26T18:40:34.881Z"
   },
   {
    "duration": 3,
    "start_time": "2025-01-26T18:40:34.891Z"
   },
   {
    "duration": 3,
    "start_time": "2025-01-26T18:40:34.896Z"
   },
   {
    "duration": 5,
    "start_time": "2025-01-26T18:40:34.901Z"
   },
   {
    "duration": 3,
    "start_time": "2025-01-26T18:40:34.908Z"
   },
   {
    "duration": 4,
    "start_time": "2025-01-26T18:40:34.912Z"
   },
   {
    "duration": 8,
    "start_time": "2025-01-26T18:40:34.920Z"
   },
   {
    "duration": 5,
    "start_time": "2025-01-26T18:40:34.929Z"
   },
   {
    "duration": 52,
    "start_time": "2025-01-26T18:40:34.937Z"
   },
   {
    "duration": 3,
    "start_time": "2025-01-26T18:40:34.990Z"
   },
   {
    "duration": 178,
    "start_time": "2025-01-26T18:40:34.995Z"
   },
   {
    "duration": 17,
    "start_time": "2025-01-26T18:40:35.174Z"
   },
   {
    "duration": 6,
    "start_time": "2025-01-26T18:40:35.192Z"
   },
   {
    "duration": 7,
    "start_time": "2025-01-26T18:40:35.199Z"
   },
   {
    "duration": 2,
    "start_time": "2025-01-26T18:40:35.208Z"
   },
   {
    "duration": 9,
    "start_time": "2025-01-26T18:40:35.212Z"
   },
   {
    "duration": 6,
    "start_time": "2025-01-26T18:40:35.223Z"
   },
   {
    "duration": 2,
    "start_time": "2025-01-26T18:40:35.230Z"
   },
   {
    "duration": 53,
    "start_time": "2025-01-26T18:40:35.234Z"
   },
   {
    "duration": 5,
    "start_time": "2025-01-26T18:40:35.290Z"
   },
   {
    "duration": 265,
    "start_time": "2025-01-26T18:40:35.297Z"
   },
   {
    "duration": 249,
    "start_time": "2025-01-26T18:40:35.564Z"
   },
   {
    "duration": 271,
    "start_time": "2025-01-26T18:40:35.815Z"
   },
   {
    "duration": 4,
    "start_time": "2025-01-26T18:40:36.088Z"
   },
   {
    "duration": 864,
    "start_time": "2025-01-26T18:40:36.093Z"
   },
   {
    "duration": 3,
    "start_time": "2025-01-26T18:40:36.959Z"
   },
   {
    "duration": 893,
    "start_time": "2025-01-26T18:40:36.964Z"
   },
   {
    "duration": 467,
    "start_time": "2025-01-26T18:40:37.859Z"
   },
   {
    "duration": 4,
    "start_time": "2025-01-26T18:40:38.328Z"
   },
   {
    "duration": 191,
    "start_time": "2025-01-26T18:40:38.333Z"
   },
   {
    "duration": 3,
    "start_time": "2025-01-26T18:40:38.526Z"
   },
   {
    "duration": 182,
    "start_time": "2025-01-26T18:40:38.531Z"
   },
   {
    "duration": 4,
    "start_time": "2025-01-26T18:40:38.714Z"
   },
   {
    "duration": 180,
    "start_time": "2025-01-26T18:40:38.722Z"
   },
   {
    "duration": 3,
    "start_time": "2025-01-26T18:40:38.904Z"
   },
   {
    "duration": 2,
    "start_time": "2025-01-26T18:40:38.909Z"
   },
   {
    "duration": 5,
    "start_time": "2025-01-26T18:40:38.913Z"
   },
   {
    "duration": 4,
    "start_time": "2025-01-26T18:40:42.454Z"
   },
   {
    "duration": 6,
    "start_time": "2025-01-26T18:40:44.192Z"
   },
   {
    "duration": 4,
    "start_time": "2025-01-26T18:40:45.378Z"
   },
   {
    "duration": 6,
    "start_time": "2025-01-26T18:40:46.815Z"
   },
   {
    "duration": 6,
    "start_time": "2025-01-26T18:42:00.023Z"
   },
   {
    "duration": 2870,
    "start_time": "2025-01-27T03:10:06.873Z"
   },
   {
    "duration": 214,
    "start_time": "2025-01-27T03:10:09.746Z"
   },
   {
    "duration": 657,
    "start_time": "2025-01-27T03:10:09.961Z"
   },
   {
    "duration": 66,
    "start_time": "2025-01-27T03:10:10.620Z"
   },
   {
    "duration": 8,
    "start_time": "2025-01-27T03:10:10.688Z"
   },
   {
    "duration": 36,
    "start_time": "2025-01-27T03:10:10.698Z"
   },
   {
    "duration": 4,
    "start_time": "2025-01-27T03:10:10.736Z"
   },
   {
    "duration": 168,
    "start_time": "2025-01-27T03:10:10.744Z"
   },
   {
    "duration": 4,
    "start_time": "2025-01-27T03:10:10.914Z"
   },
   {
    "duration": 5,
    "start_time": "2025-01-27T03:10:10.926Z"
   },
   {
    "duration": 5,
    "start_time": "2025-01-27T03:10:10.933Z"
   },
   {
    "duration": 12,
    "start_time": "2025-01-27T03:10:10.940Z"
   },
   {
    "duration": 6,
    "start_time": "2025-01-27T03:10:10.955Z"
   },
   {
    "duration": 8,
    "start_time": "2025-01-27T03:10:10.962Z"
   },
   {
    "duration": 9,
    "start_time": "2025-01-27T03:10:10.972Z"
   },
   {
    "duration": 4,
    "start_time": "2025-01-27T03:10:10.984Z"
   },
   {
    "duration": 33,
    "start_time": "2025-01-27T03:10:10.990Z"
   },
   {
    "duration": 4,
    "start_time": "2025-01-27T03:10:11.025Z"
   },
   {
    "duration": 225,
    "start_time": "2025-01-27T03:10:11.031Z"
   },
   {
    "duration": 8,
    "start_time": "2025-01-27T03:10:11.258Z"
   },
   {
    "duration": 7,
    "start_time": "2025-01-27T03:10:11.268Z"
   },
   {
    "duration": 6,
    "start_time": "2025-01-27T03:10:11.276Z"
   },
   {
    "duration": 2,
    "start_time": "2025-01-27T03:10:11.284Z"
   },
   {
    "duration": 38,
    "start_time": "2025-01-27T03:10:11.288Z"
   },
   {
    "duration": 9,
    "start_time": "2025-01-27T03:10:11.328Z"
   },
   {
    "duration": 3,
    "start_time": "2025-01-27T03:10:11.338Z"
   },
   {
    "duration": 14,
    "start_time": "2025-01-27T03:10:11.343Z"
   },
   {
    "duration": 5,
    "start_time": "2025-01-27T03:10:11.364Z"
   },
   {
    "duration": 376,
    "start_time": "2025-01-27T03:10:11.371Z"
   },
   {
    "duration": 310,
    "start_time": "2025-01-27T03:10:11.750Z"
   },
   {
    "duration": 296,
    "start_time": "2025-01-27T03:10:12.062Z"
   },
   {
    "duration": 9,
    "start_time": "2025-01-27T03:10:12.360Z"
   },
   {
    "duration": 1056,
    "start_time": "2025-01-27T03:10:12.371Z"
   },
   {
    "duration": 4,
    "start_time": "2025-01-27T03:10:13.429Z"
   },
   {
    "duration": 924,
    "start_time": "2025-01-27T03:10:13.437Z"
   },
   {
    "duration": 667,
    "start_time": "2025-01-27T03:10:14.363Z"
   },
   {
    "duration": 3,
    "start_time": "2025-01-27T03:10:15.032Z"
   },
   {
    "duration": 208,
    "start_time": "2025-01-27T03:10:15.037Z"
   },
   {
    "duration": 4,
    "start_time": "2025-01-27T03:10:15.247Z"
   },
   {
    "duration": 216,
    "start_time": "2025-01-27T03:10:15.253Z"
   },
   {
    "duration": 3,
    "start_time": "2025-01-27T03:10:15.471Z"
   },
   {
    "duration": 213,
    "start_time": "2025-01-27T03:10:15.476Z"
   },
   {
    "duration": 2,
    "start_time": "2025-01-27T03:10:15.691Z"
   },
   {
    "duration": 4,
    "start_time": "2025-01-27T03:10:15.694Z"
   },
   {
    "duration": 5,
    "start_time": "2025-01-27T03:10:15.700Z"
   },
   {
    "duration": 3,
    "start_time": "2025-01-27T03:10:15.724Z"
   },
   {
    "duration": 4,
    "start_time": "2025-01-27T03:10:15.729Z"
   },
   {
    "duration": 6,
    "start_time": "2025-01-27T03:10:15.735Z"
   },
   {
    "duration": 12,
    "start_time": "2025-01-27T03:10:15.743Z"
   },
   {
    "duration": 4,
    "start_time": "2025-01-27T03:10:15.757Z"
   },
   {
    "duration": 4,
    "start_time": "2025-01-27T03:10:15.763Z"
   },
   {
    "duration": 6,
    "start_time": "2025-01-27T03:10:15.768Z"
   },
   {
    "duration": 4,
    "start_time": "2025-01-27T03:10:15.775Z"
   },
   {
    "duration": 3,
    "start_time": "2025-01-27T03:10:15.781Z"
   },
   {
    "duration": 5,
    "start_time": "2025-01-27T03:10:15.826Z"
   },
   {
    "duration": 5,
    "start_time": "2025-01-27T03:10:15.833Z"
   },
   {
    "duration": 3,
    "start_time": "2025-01-27T03:10:15.840Z"
   },
   {
    "duration": 1082,
    "start_time": "2025-01-27T03:10:15.845Z"
   },
   {
    "duration": 0,
    "start_time": "2025-01-27T03:10:16.929Z"
   },
   {
    "duration": 0,
    "start_time": "2025-01-27T03:10:16.931Z"
   },
   {
    "duration": 0,
    "start_time": "2025-01-27T03:10:16.932Z"
   },
   {
    "duration": 0,
    "start_time": "2025-01-27T03:10:16.934Z"
   },
   {
    "duration": 0,
    "start_time": "2025-01-27T03:10:16.935Z"
   },
   {
    "duration": 0,
    "start_time": "2025-01-27T03:10:16.936Z"
   },
   {
    "duration": 0,
    "start_time": "2025-01-27T03:10:16.938Z"
   },
   {
    "duration": 0,
    "start_time": "2025-01-27T03:10:16.943Z"
   },
   {
    "duration": 0,
    "start_time": "2025-01-27T03:10:16.945Z"
   },
   {
    "duration": 0,
    "start_time": "2025-01-27T03:10:16.946Z"
   },
   {
    "duration": 0,
    "start_time": "2025-01-27T03:10:16.947Z"
   },
   {
    "duration": 0,
    "start_time": "2025-01-27T03:10:16.949Z"
   },
   {
    "duration": 1,
    "start_time": "2025-01-27T03:10:16.950Z"
   },
   {
    "duration": 4,
    "start_time": "2025-01-27T03:14:12.073Z"
   },
   {
    "duration": 2,
    "start_time": "2025-01-27T03:14:20.485Z"
   },
   {
    "duration": 4,
    "start_time": "2025-01-27T03:14:20.489Z"
   },
   {
    "duration": 632,
    "start_time": "2025-01-27T03:14:20.494Z"
   },
   {
    "duration": 78,
    "start_time": "2025-01-27T03:14:21.128Z"
   },
   {
    "duration": 19,
    "start_time": "2025-01-27T03:14:21.209Z"
   },
   {
    "duration": 25,
    "start_time": "2025-01-27T03:14:21.229Z"
   },
   {
    "duration": 4,
    "start_time": "2025-01-27T03:14:21.256Z"
   },
   {
    "duration": 206,
    "start_time": "2025-01-27T03:14:21.263Z"
   },
   {
    "duration": 6,
    "start_time": "2025-01-27T03:14:21.473Z"
   },
   {
    "duration": 4,
    "start_time": "2025-01-27T03:14:21.482Z"
   },
   {
    "duration": 3,
    "start_time": "2025-01-27T03:14:21.488Z"
   },
   {
    "duration": 5,
    "start_time": "2025-01-27T03:14:21.493Z"
   },
   {
    "duration": 26,
    "start_time": "2025-01-27T03:14:21.499Z"
   },
   {
    "duration": 5,
    "start_time": "2025-01-27T03:14:21.530Z"
   },
   {
    "duration": 10,
    "start_time": "2025-01-27T03:14:21.537Z"
   },
   {
    "duration": 6,
    "start_time": "2025-01-27T03:14:21.551Z"
   },
   {
    "duration": 12,
    "start_time": "2025-01-27T03:14:21.559Z"
   },
   {
    "duration": 3,
    "start_time": "2025-01-27T03:14:21.573Z"
   },
   {
    "duration": 227,
    "start_time": "2025-01-27T03:14:21.578Z"
   },
   {
    "duration": 18,
    "start_time": "2025-01-27T03:14:21.806Z"
   },
   {
    "duration": 9,
    "start_time": "2025-01-27T03:14:21.826Z"
   },
   {
    "duration": 10,
    "start_time": "2025-01-27T03:14:21.837Z"
   },
   {
    "duration": 2,
    "start_time": "2025-01-27T03:14:21.849Z"
   },
   {
    "duration": 12,
    "start_time": "2025-01-27T03:14:21.853Z"
   },
   {
    "duration": 7,
    "start_time": "2025-01-27T03:14:21.867Z"
   },
   {
    "duration": 4,
    "start_time": "2025-01-27T03:14:21.877Z"
   },
   {
    "duration": 51,
    "start_time": "2025-01-27T03:14:21.886Z"
   },
   {
    "duration": 7,
    "start_time": "2025-01-27T03:14:21.939Z"
   },
   {
    "duration": 337,
    "start_time": "2025-01-27T03:14:21.948Z"
   },
   {
    "duration": 305,
    "start_time": "2025-01-27T03:14:22.287Z"
   },
   {
    "duration": 281,
    "start_time": "2025-01-27T03:14:22.594Z"
   },
   {
    "duration": 4,
    "start_time": "2025-01-27T03:14:22.877Z"
   },
   {
    "duration": 1081,
    "start_time": "2025-01-27T03:14:22.883Z"
   },
   {
    "duration": 3,
    "start_time": "2025-01-27T03:14:23.966Z"
   },
   {
    "duration": 1120,
    "start_time": "2025-01-27T03:14:23.970Z"
   },
   {
    "duration": 512,
    "start_time": "2025-01-27T03:14:25.093Z"
   },
   {
    "duration": 3,
    "start_time": "2025-01-27T03:14:25.607Z"
   },
   {
    "duration": 358,
    "start_time": "2025-01-27T03:14:25.613Z"
   },
   {
    "duration": 5,
    "start_time": "2025-01-27T03:14:25.973Z"
   },
   {
    "duration": 188,
    "start_time": "2025-01-27T03:14:25.980Z"
   },
   {
    "duration": 3,
    "start_time": "2025-01-27T03:14:26.174Z"
   },
   {
    "duration": 193,
    "start_time": "2025-01-27T03:14:26.179Z"
   },
   {
    "duration": 3,
    "start_time": "2025-01-27T03:14:26.374Z"
   },
   {
    "duration": 3,
    "start_time": "2025-01-27T03:14:26.379Z"
   },
   {
    "duration": 5,
    "start_time": "2025-01-27T03:14:26.384Z"
   },
   {
    "duration": 5,
    "start_time": "2025-01-27T03:14:26.390Z"
   },
   {
    "duration": 4,
    "start_time": "2025-01-27T03:14:26.396Z"
   },
   {
    "duration": 28,
    "start_time": "2025-01-27T03:14:26.402Z"
   },
   {
    "duration": 11,
    "start_time": "2025-01-27T03:14:26.432Z"
   },
   {
    "duration": 4,
    "start_time": "2025-01-27T03:14:26.445Z"
   },
   {
    "duration": 6,
    "start_time": "2025-01-27T03:14:26.451Z"
   },
   {
    "duration": 6,
    "start_time": "2025-01-27T03:14:26.460Z"
   },
   {
    "duration": 6,
    "start_time": "2025-01-27T03:14:26.468Z"
   },
   {
    "duration": 4,
    "start_time": "2025-01-27T03:14:26.476Z"
   },
   {
    "duration": 43,
    "start_time": "2025-01-27T03:14:26.482Z"
   },
   {
    "duration": 6,
    "start_time": "2025-01-27T03:14:26.528Z"
   },
   {
    "duration": 5,
    "start_time": "2025-01-27T03:14:26.536Z"
   },
   {
    "duration": 7,
    "start_time": "2025-01-27T03:14:26.543Z"
   },
   {
    "duration": 6,
    "start_time": "2025-01-27T03:14:26.553Z"
   },
   {
    "duration": 12,
    "start_time": "2025-01-27T03:14:26.561Z"
   },
   {
    "duration": 5,
    "start_time": "2025-01-27T03:14:26.575Z"
   },
   {
    "duration": 3,
    "start_time": "2025-01-27T03:14:26.582Z"
   },
   {
    "duration": 42,
    "start_time": "2025-01-27T03:14:26.587Z"
   },
   {
    "duration": 4,
    "start_time": "2025-01-27T03:14:26.632Z"
   },
   {
    "duration": 5,
    "start_time": "2025-01-27T03:14:26.639Z"
   },
   {
    "duration": 6,
    "start_time": "2025-01-27T03:14:26.646Z"
   },
   {
    "duration": 41,
    "start_time": "2025-01-27T03:14:26.654Z"
   },
   {
    "duration": 0,
    "start_time": "2025-01-27T03:14:26.724Z"
   },
   {
    "duration": 0,
    "start_time": "2025-01-27T03:14:26.726Z"
   },
   {
    "duration": 0,
    "start_time": "2025-01-27T03:14:26.727Z"
   },
   {
    "duration": 0,
    "start_time": "2025-01-27T03:14:26.729Z"
   },
   {
    "duration": 4,
    "start_time": "2025-01-27T03:17:15.317Z"
   },
   {
    "duration": 5,
    "start_time": "2025-01-27T03:17:17.710Z"
   },
   {
    "duration": 6,
    "start_time": "2025-01-27T03:17:19.452Z"
   },
   {
    "duration": 3,
    "start_time": "2025-01-27T03:17:21.724Z"
   },
   {
    "duration": 5,
    "start_time": "2025-01-27T03:17:22.657Z"
   },
   {
    "duration": 3,
    "start_time": "2025-01-27T03:17:44.020Z"
   },
   {
    "duration": 3,
    "start_time": "2025-01-27T03:17:44.627Z"
   },
   {
    "duration": 2622,
    "start_time": "2025-01-27T05:00:56.200Z"
   },
   {
    "duration": 162,
    "start_time": "2025-01-27T05:00:58.824Z"
   },
   {
    "duration": 613,
    "start_time": "2025-01-27T05:00:58.988Z"
   },
   {
    "duration": 49,
    "start_time": "2025-01-27T05:00:59.603Z"
   },
   {
    "duration": 9,
    "start_time": "2025-01-27T05:00:59.655Z"
   },
   {
    "duration": 35,
    "start_time": "2025-01-27T05:00:59.666Z"
   },
   {
    "duration": 4,
    "start_time": "2025-01-27T05:00:59.703Z"
   },
   {
    "duration": 140,
    "start_time": "2025-01-27T05:00:59.709Z"
   },
   {
    "duration": 5,
    "start_time": "2025-01-27T05:00:59.851Z"
   },
   {
    "duration": 4,
    "start_time": "2025-01-27T05:00:59.857Z"
   },
   {
    "duration": 3,
    "start_time": "2025-01-27T05:00:59.862Z"
   },
   {
    "duration": 24,
    "start_time": "2025-01-27T05:00:59.867Z"
   },
   {
    "duration": 2,
    "start_time": "2025-01-27T05:00:59.893Z"
   },
   {
    "duration": 3,
    "start_time": "2025-01-27T05:00:59.900Z"
   },
   {
    "duration": 6,
    "start_time": "2025-01-27T05:00:59.904Z"
   },
   {
    "duration": 5,
    "start_time": "2025-01-27T05:00:59.911Z"
   },
   {
    "duration": 6,
    "start_time": "2025-01-27T05:00:59.918Z"
   },
   {
    "duration": 2,
    "start_time": "2025-01-27T05:00:59.926Z"
   },
   {
    "duration": 221,
    "start_time": "2025-01-27T05:00:59.930Z"
   },
   {
    "duration": 7,
    "start_time": "2025-01-27T05:01:00.153Z"
   },
   {
    "duration": 7,
    "start_time": "2025-01-27T05:01:00.162Z"
   },
   {
    "duration": 8,
    "start_time": "2025-01-27T05:01:00.187Z"
   },
   {
    "duration": 2,
    "start_time": "2025-01-27T05:01:00.197Z"
   },
   {
    "duration": 9,
    "start_time": "2025-01-27T05:01:00.201Z"
   },
   {
    "duration": 5,
    "start_time": "2025-01-27T05:01:00.212Z"
   },
   {
    "duration": 4,
    "start_time": "2025-01-27T05:01:00.220Z"
   },
   {
    "duration": 10,
    "start_time": "2025-01-27T05:01:00.225Z"
   },
   {
    "duration": 4,
    "start_time": "2025-01-27T05:01:00.237Z"
   },
   {
    "duration": 348,
    "start_time": "2025-01-27T05:01:00.242Z"
   },
   {
    "duration": 255,
    "start_time": "2025-01-27T05:01:00.592Z"
   },
   {
    "duration": 262,
    "start_time": "2025-01-27T05:01:00.849Z"
   },
   {
    "duration": 3,
    "start_time": "2025-01-27T05:01:01.113Z"
   },
   {
    "duration": 860,
    "start_time": "2025-01-27T05:01:01.118Z"
   },
   {
    "duration": 2,
    "start_time": "2025-01-27T05:01:01.986Z"
   },
   {
    "duration": 872,
    "start_time": "2025-01-27T05:01:01.992Z"
   },
   {
    "duration": 481,
    "start_time": "2025-01-27T05:01:02.865Z"
   },
   {
    "duration": 4,
    "start_time": "2025-01-27T05:01:03.348Z"
   },
   {
    "duration": 202,
    "start_time": "2025-01-27T05:01:03.353Z"
   },
   {
    "duration": 4,
    "start_time": "2025-01-27T05:01:03.557Z"
   },
   {
    "duration": 179,
    "start_time": "2025-01-27T05:01:03.562Z"
   },
   {
    "duration": 3,
    "start_time": "2025-01-27T05:01:03.747Z"
   },
   {
    "duration": 185,
    "start_time": "2025-01-27T05:01:03.751Z"
   },
   {
    "duration": 2,
    "start_time": "2025-01-27T05:01:03.938Z"
   },
   {
    "duration": 3,
    "start_time": "2025-01-27T05:01:03.941Z"
   },
   {
    "duration": 5,
    "start_time": "2025-01-27T05:01:03.946Z"
   },
   {
    "duration": 4,
    "start_time": "2025-01-27T05:01:03.952Z"
   },
   {
    "duration": 4,
    "start_time": "2025-01-27T05:01:03.958Z"
   },
   {
    "duration": 38,
    "start_time": "2025-01-27T05:01:03.963Z"
   },
   {
    "duration": 7,
    "start_time": "2025-01-27T05:01:37.783Z"
   },
   {
    "duration": 6,
    "start_time": "2025-01-27T05:02:10.567Z"
   },
   {
    "duration": 15,
    "start_time": "2025-01-27T05:02:17.975Z"
   },
   {
    "duration": 10,
    "start_time": "2025-01-27T05:02:33.344Z"
   },
   {
    "duration": 4,
    "start_time": "2025-01-27T05:02:35.656Z"
   },
   {
    "duration": 4,
    "start_time": "2025-01-27T05:02:36.989Z"
   },
   {
    "duration": 6,
    "start_time": "2025-01-27T05:02:40.024Z"
   },
   {
    "duration": 6,
    "start_time": "2025-01-27T05:02:44.057Z"
   },
   {
    "duration": 5,
    "start_time": "2025-01-27T05:03:16.859Z"
   },
   {
    "duration": 4,
    "start_time": "2025-01-27T05:03:17.332Z"
   },
   {
    "duration": 6,
    "start_time": "2025-01-27T05:03:18.405Z"
   },
   {
    "duration": 3,
    "start_time": "2025-01-27T05:03:18.818Z"
   },
   {
    "duration": 4,
    "start_time": "2025-01-27T05:03:19.046Z"
   },
   {
    "duration": 4,
    "start_time": "2025-01-27T05:03:19.459Z"
   },
   {
    "duration": 5,
    "start_time": "2025-01-27T05:03:21.410Z"
   },
   {
    "duration": 4,
    "start_time": "2025-01-27T05:03:31.304Z"
   },
   {
    "duration": 5,
    "start_time": "2025-01-27T05:03:31.486Z"
   },
   {
    "duration": 4,
    "start_time": "2025-01-27T05:03:32.535Z"
   },
   {
    "duration": 4,
    "start_time": "2025-01-27T05:03:32.704Z"
   },
   {
    "duration": 4,
    "start_time": "2025-01-27T05:03:32.870Z"
   },
   {
    "duration": 5,
    "start_time": "2025-01-27T05:03:33.076Z"
   },
   {
    "duration": 5,
    "start_time": "2025-01-27T05:03:36.788Z"
   },
   {
    "duration": 5,
    "start_time": "2025-01-27T05:03:37.732Z"
   },
   {
    "duration": 4,
    "start_time": "2025-01-27T05:03:38.266Z"
   },
   {
    "duration": 6,
    "start_time": "2025-01-27T05:04:20.459Z"
   },
   {
    "duration": 3,
    "start_time": "2025-01-27T05:07:53.905Z"
   },
   {
    "duration": 2,
    "start_time": "2025-01-27T05:07:54.008Z"
   },
   {
    "duration": 2,
    "start_time": "2025-01-27T05:07:54.112Z"
   },
   {
    "duration": 3,
    "start_time": "2025-01-27T05:07:57.246Z"
   },
   {
    "duration": 3,
    "start_time": "2025-01-27T05:08:03.932Z"
   },
   {
    "duration": 82901,
    "start_time": "2025-01-27T05:08:06.379Z"
   },
   {
    "duration": 203810,
    "start_time": "2025-01-27T05:09:29.286Z"
   },
   {
    "duration": 5,
    "start_time": "2025-01-27T05:14:08.397Z"
   },
   {
    "duration": 2,
    "start_time": "2025-01-27T05:14:10.724Z"
   },
   {
    "duration": 3,
    "start_time": "2025-01-27T05:14:11.087Z"
   },
   {
    "duration": 794426,
    "start_time": "2025-01-27T05:14:15.795Z"
   },
   {
    "duration": 969109,
    "start_time": "2025-01-27T05:27:30.223Z"
   },
   {
    "duration": 0,
    "start_time": "2025-01-27T05:43:39.334Z"
   },
   {
    "duration": 0,
    "start_time": "2025-01-27T05:43:39.335Z"
   },
   {
    "duration": 0,
    "start_time": "2025-01-27T05:43:39.337Z"
   },
   {
    "duration": 0,
    "start_time": "2025-01-27T05:43:39.337Z"
   },
   {
    "duration": 0,
    "start_time": "2025-01-27T05:43:39.339Z"
   },
   {
    "duration": 158,
    "start_time": "2025-01-27T06:32:49.258Z"
   },
   {
    "duration": 2518,
    "start_time": "2025-01-27T06:32:54.559Z"
   },
   {
    "duration": 222,
    "start_time": "2025-01-27T06:32:57.080Z"
   },
   {
    "duration": 628,
    "start_time": "2025-01-27T06:32:57.304Z"
   },
   {
    "duration": 55,
    "start_time": "2025-01-27T06:32:57.934Z"
   },
   {
    "duration": 9,
    "start_time": "2025-01-27T06:32:57.991Z"
   },
   {
    "duration": 20,
    "start_time": "2025-01-27T06:32:58.001Z"
   },
   {
    "duration": 4,
    "start_time": "2025-01-27T06:32:58.023Z"
   },
   {
    "duration": 168,
    "start_time": "2025-01-27T06:32:58.028Z"
   },
   {
    "duration": 5,
    "start_time": "2025-01-27T06:32:58.198Z"
   },
   {
    "duration": 3,
    "start_time": "2025-01-27T06:32:58.206Z"
   },
   {
    "duration": 3,
    "start_time": "2025-01-27T06:32:58.211Z"
   },
   {
    "duration": 4,
    "start_time": "2025-01-27T06:32:58.217Z"
   },
   {
    "duration": 3,
    "start_time": "2025-01-27T06:32:58.223Z"
   },
   {
    "duration": 3,
    "start_time": "2025-01-27T06:32:58.228Z"
   },
   {
    "duration": 7,
    "start_time": "2025-01-27T06:32:58.233Z"
   },
   {
    "duration": 49,
    "start_time": "2025-01-27T06:32:58.242Z"
   },
   {
    "duration": 8,
    "start_time": "2025-01-27T06:32:58.292Z"
   },
   {
    "duration": 3,
    "start_time": "2025-01-27T06:32:58.301Z"
   },
   {
    "duration": 195,
    "start_time": "2025-01-27T06:32:58.306Z"
   },
   {
    "duration": 7,
    "start_time": "2025-01-27T06:32:58.503Z"
   },
   {
    "duration": 6,
    "start_time": "2025-01-27T06:32:58.511Z"
   },
   {
    "duration": 6,
    "start_time": "2025-01-27T06:32:58.519Z"
   },
   {
    "duration": 2,
    "start_time": "2025-01-27T06:32:58.526Z"
   },
   {
    "duration": 9,
    "start_time": "2025-01-27T06:32:58.530Z"
   },
   {
    "duration": 4,
    "start_time": "2025-01-27T06:32:58.541Z"
   },
   {
    "duration": 40,
    "start_time": "2025-01-27T06:32:58.547Z"
   },
   {
    "duration": 11,
    "start_time": "2025-01-27T06:32:58.589Z"
   },
   {
    "duration": 4,
    "start_time": "2025-01-27T06:32:58.604Z"
   },
   {
    "duration": 278,
    "start_time": "2025-01-27T06:32:58.610Z"
   },
   {
    "duration": 253,
    "start_time": "2025-01-27T06:32:58.890Z"
   },
   {
    "duration": 275,
    "start_time": "2025-01-27T06:32:59.144Z"
   },
   {
    "duration": 4,
    "start_time": "2025-01-27T06:32:59.420Z"
   },
   {
    "duration": 855,
    "start_time": "2025-01-27T06:32:59.426Z"
   },
   {
    "duration": 2,
    "start_time": "2025-01-27T06:33:00.286Z"
   },
   {
    "duration": 868,
    "start_time": "2025-01-27T06:33:00.290Z"
   },
   {
    "duration": 464,
    "start_time": "2025-01-27T06:33:01.160Z"
   },
   {
    "duration": 3,
    "start_time": "2025-01-27T06:33:01.626Z"
   },
   {
    "duration": 152,
    "start_time": "2025-01-27T06:33:03.250Z"
   },
   {
    "duration": 3,
    "start_time": "2025-01-27T06:33:16.607Z"
   },
   {
    "duration": 244,
    "start_time": "2025-01-27T06:33:17.704Z"
   },
   {
    "duration": 3,
    "start_time": "2025-01-27T06:33:22.686Z"
   },
   {
    "duration": 150,
    "start_time": "2025-01-27T06:33:26.814Z"
   },
   {
    "duration": 5,
    "start_time": "2025-01-27T07:14:00.226Z"
   },
   {
    "duration": 4,
    "start_time": "2025-01-27T07:14:30.416Z"
   },
   {
    "duration": 3,
    "start_time": "2025-01-27T07:15:44.889Z"
   },
   {
    "duration": 7,
    "start_time": "2025-01-27T07:16:10.768Z"
   },
   {
    "duration": 3,
    "start_time": "2025-01-27T07:25:07.054Z"
   },
   {
    "duration": 2,
    "start_time": "2025-01-27T07:25:14.238Z"
   },
   {
    "duration": 2,
    "start_time": "2025-01-27T07:25:14.243Z"
   },
   {
    "duration": 507,
    "start_time": "2025-01-27T07:25:14.248Z"
   },
   {
    "duration": 51,
    "start_time": "2025-01-27T07:25:14.757Z"
   },
   {
    "duration": 9,
    "start_time": "2025-01-27T07:25:14.809Z"
   },
   {
    "duration": 17,
    "start_time": "2025-01-27T07:25:14.820Z"
   },
   {
    "duration": 3,
    "start_time": "2025-01-27T07:25:14.839Z"
   },
   {
    "duration": 154,
    "start_time": "2025-01-27T07:25:14.844Z"
   },
   {
    "duration": 5,
    "start_time": "2025-01-27T07:25:15.000Z"
   },
   {
    "duration": 3,
    "start_time": "2025-01-27T07:25:15.007Z"
   },
   {
    "duration": 3,
    "start_time": "2025-01-27T07:25:15.012Z"
   },
   {
    "duration": 5,
    "start_time": "2025-01-27T07:25:15.019Z"
   },
   {
    "duration": 3,
    "start_time": "2025-01-27T07:25:15.025Z"
   },
   {
    "duration": 5,
    "start_time": "2025-01-27T07:25:15.029Z"
   },
   {
    "duration": 7,
    "start_time": "2025-01-27T07:25:15.035Z"
   },
   {
    "duration": 45,
    "start_time": "2025-01-27T07:25:15.043Z"
   },
   {
    "duration": 7,
    "start_time": "2025-01-27T07:25:15.090Z"
   },
   {
    "duration": 3,
    "start_time": "2025-01-27T07:25:15.099Z"
   },
   {
    "duration": 187,
    "start_time": "2025-01-27T07:25:15.103Z"
   },
   {
    "duration": 6,
    "start_time": "2025-01-27T07:25:15.292Z"
   },
   {
    "duration": 6,
    "start_time": "2025-01-27T07:25:15.299Z"
   },
   {
    "duration": 8,
    "start_time": "2025-01-27T07:25:15.306Z"
   },
   {
    "duration": 4,
    "start_time": "2025-01-27T07:25:15.316Z"
   },
   {
    "duration": 268,
    "start_time": "2025-01-27T07:25:15.322Z"
   },
   {
    "duration": 249,
    "start_time": "2025-01-27T07:25:15.592Z"
   },
   {
    "duration": 259,
    "start_time": "2025-01-27T07:25:15.843Z"
   },
   {
    "duration": 4,
    "start_time": "2025-01-27T07:25:16.105Z"
   },
   {
    "duration": 843,
    "start_time": "2025-01-27T07:25:16.110Z"
   },
   {
    "duration": 3,
    "start_time": "2025-01-27T07:25:16.955Z"
   },
   {
    "duration": 877,
    "start_time": "2025-01-27T07:25:16.963Z"
   },
   {
    "duration": 470,
    "start_time": "2025-01-27T07:25:17.842Z"
   },
   {
    "duration": 3,
    "start_time": "2025-01-27T07:25:18.314Z"
   },
   {
    "duration": 163,
    "start_time": "2025-01-27T07:25:18.318Z"
   },
   {
    "duration": 4,
    "start_time": "2025-01-27T07:25:18.483Z"
   },
   {
    "duration": 153,
    "start_time": "2025-01-27T07:25:18.489Z"
   },
   {
    "duration": 3,
    "start_time": "2025-01-27T07:25:18.644Z"
   },
   {
    "duration": 264,
    "start_time": "2025-01-27T07:25:18.649Z"
   },
   {
    "duration": 3,
    "start_time": "2025-01-27T07:25:21.744Z"
   },
   {
    "duration": 5,
    "start_time": "2025-01-27T07:25:39.247Z"
   },
   {
    "duration": 4,
    "start_time": "2025-01-27T07:26:12.281Z"
   },
   {
    "duration": 5,
    "start_time": "2025-01-27T07:26:23.341Z"
   },
   {
    "duration": 4,
    "start_time": "2025-01-27T07:26:59.814Z"
   },
   {
    "duration": 5,
    "start_time": "2025-01-27T07:27:01.996Z"
   },
   {
    "duration": 7,
    "start_time": "2025-01-27T07:27:15.809Z"
   },
   {
    "duration": 7,
    "start_time": "2025-01-27T07:28:39.709Z"
   },
   {
    "duration": 4,
    "start_time": "2025-01-27T07:29:06.442Z"
   },
   {
    "duration": 3,
    "start_time": "2025-01-27T07:30:45.245Z"
   },
   {
    "duration": 2,
    "start_time": "2025-01-27T07:30:45.253Z"
   },
   {
    "duration": 450,
    "start_time": "2025-01-27T07:30:45.258Z"
   },
   {
    "duration": 49,
    "start_time": "2025-01-27T07:30:45.710Z"
   },
   {
    "duration": 8,
    "start_time": "2025-01-27T07:30:45.760Z"
   },
   {
    "duration": 17,
    "start_time": "2025-01-27T07:30:45.787Z"
   },
   {
    "duration": 5,
    "start_time": "2025-01-27T07:30:45.805Z"
   },
   {
    "duration": 143,
    "start_time": "2025-01-27T07:30:45.812Z"
   },
   {
    "duration": 6,
    "start_time": "2025-01-27T07:30:45.957Z"
   },
   {
    "duration": 3,
    "start_time": "2025-01-27T07:30:45.965Z"
   },
   {
    "duration": 15,
    "start_time": "2025-01-27T07:30:45.970Z"
   },
   {
    "duration": 4,
    "start_time": "2025-01-27T07:30:45.988Z"
   },
   {
    "duration": 3,
    "start_time": "2025-01-27T07:30:45.994Z"
   },
   {
    "duration": 3,
    "start_time": "2025-01-27T07:30:46.000Z"
   },
   {
    "duration": 8,
    "start_time": "2025-01-27T07:30:46.004Z"
   },
   {
    "duration": 6,
    "start_time": "2025-01-27T07:30:46.013Z"
   },
   {
    "duration": 11,
    "start_time": "2025-01-27T07:30:46.020Z"
   },
   {
    "duration": 3,
    "start_time": "2025-01-27T07:30:46.032Z"
   },
   {
    "duration": 198,
    "start_time": "2025-01-27T07:30:46.037Z"
   },
   {
    "duration": 8,
    "start_time": "2025-01-27T07:30:46.237Z"
   },
   {
    "duration": 6,
    "start_time": "2025-01-27T07:30:46.246Z"
   },
   {
    "duration": 7,
    "start_time": "2025-01-27T07:30:46.253Z"
   },
   {
    "duration": 26,
    "start_time": "2025-01-27T07:30:46.261Z"
   },
   {
    "duration": 249,
    "start_time": "2025-01-27T07:30:46.289Z"
   },
   {
    "duration": 252,
    "start_time": "2025-01-27T07:30:46.541Z"
   },
   {
    "duration": 253,
    "start_time": "2025-01-27T07:30:46.795Z"
   },
   {
    "duration": 3,
    "start_time": "2025-01-27T07:30:47.050Z"
   },
   {
    "duration": 860,
    "start_time": "2025-01-27T07:30:47.055Z"
   },
   {
    "duration": 3,
    "start_time": "2025-01-27T07:30:47.917Z"
   },
   {
    "duration": 893,
    "start_time": "2025-01-27T07:30:47.925Z"
   },
   {
    "duration": 458,
    "start_time": "2025-01-27T07:30:48.820Z"
   },
   {
    "duration": 8,
    "start_time": "2025-01-27T07:30:49.280Z"
   },
   {
    "duration": 152,
    "start_time": "2025-01-27T07:30:49.289Z"
   },
   {
    "duration": 4,
    "start_time": "2025-01-27T07:30:49.443Z"
   },
   {
    "duration": 156,
    "start_time": "2025-01-27T07:30:49.448Z"
   },
   {
    "duration": 3,
    "start_time": "2025-01-27T07:30:49.606Z"
   },
   {
    "duration": 163,
    "start_time": "2025-01-27T07:30:49.611Z"
   },
   {
    "duration": 10,
    "start_time": "2025-01-27T07:30:49.776Z"
   },
   {
    "duration": 4,
    "start_time": "2025-01-27T07:30:49.788Z"
   },
   {
    "duration": 3,
    "start_time": "2025-01-27T07:30:49.794Z"
   },
   {
    "duration": 5,
    "start_time": "2025-01-27T07:30:49.799Z"
   },
   {
    "duration": 3,
    "start_time": "2025-01-27T07:30:49.806Z"
   },
   {
    "duration": 5,
    "start_time": "2025-01-27T07:30:49.811Z"
   },
   {
    "duration": 6,
    "start_time": "2025-01-27T07:30:49.817Z"
   },
   {
    "duration": 5,
    "start_time": "2025-01-27T07:30:49.825Z"
   },
   {
    "duration": 159,
    "start_time": "2025-01-27T07:30:49.831Z"
   },
   {
    "duration": 5,
    "start_time": "2025-01-27T07:30:49.992Z"
   },
   {
    "duration": 5,
    "start_time": "2025-01-27T07:31:39.174Z"
   },
   {
    "duration": 7,
    "start_time": "2025-01-27T07:32:08.955Z"
   },
   {
    "duration": 4,
    "start_time": "2025-01-27T07:32:18.193Z"
   },
   {
    "duration": 4,
    "start_time": "2025-01-27T07:32:20.360Z"
   },
   {
    "duration": 6,
    "start_time": "2025-01-27T07:32:21.838Z"
   },
   {
    "duration": 4,
    "start_time": "2025-01-27T08:01:58.759Z"
   },
   {
    "duration": 6,
    "start_time": "2025-01-27T08:02:00.229Z"
   },
   {
    "duration": 7,
    "start_time": "2025-01-27T08:02:04.334Z"
   },
   {
    "duration": 6,
    "start_time": "2025-01-27T08:02:08.424Z"
   },
   {
    "duration": 14,
    "start_time": "2025-01-27T08:02:17.724Z"
   },
   {
    "duration": 7,
    "start_time": "2025-01-27T08:02:28.231Z"
   },
   {
    "duration": 4,
    "start_time": "2025-01-27T08:02:31.477Z"
   },
   {
    "duration": 4,
    "start_time": "2025-01-27T08:06:47.898Z"
   },
   {
    "duration": 4,
    "start_time": "2025-01-27T08:06:50.246Z"
   },
   {
    "duration": 230,
    "start_time": "2025-01-27T08:07:12.305Z"
   },
   {
    "duration": 3,
    "start_time": "2025-01-27T08:07:25.024Z"
   },
   {
    "duration": 3,
    "start_time": "2025-01-27T08:07:25.029Z"
   },
   {
    "duration": 436,
    "start_time": "2025-01-27T08:07:25.033Z"
   },
   {
    "duration": 46,
    "start_time": "2025-01-27T08:07:25.471Z"
   },
   {
    "duration": 10,
    "start_time": "2025-01-27T08:07:25.520Z"
   },
   {
    "duration": 16,
    "start_time": "2025-01-27T08:07:25.531Z"
   },
   {
    "duration": 3,
    "start_time": "2025-01-27T08:07:25.549Z"
   },
   {
    "duration": 160,
    "start_time": "2025-01-27T08:07:25.554Z"
   },
   {
    "duration": 5,
    "start_time": "2025-01-27T08:07:25.716Z"
   },
   {
    "duration": 3,
    "start_time": "2025-01-27T08:07:25.723Z"
   },
   {
    "duration": 3,
    "start_time": "2025-01-27T08:07:25.728Z"
   },
   {
    "duration": 4,
    "start_time": "2025-01-27T08:07:25.732Z"
   },
   {
    "duration": 3,
    "start_time": "2025-01-27T08:07:25.741Z"
   },
   {
    "duration": 4,
    "start_time": "2025-01-27T08:07:25.745Z"
   },
   {
    "duration": 7,
    "start_time": "2025-01-27T08:07:25.786Z"
   },
   {
    "duration": 5,
    "start_time": "2025-01-27T08:07:25.794Z"
   },
   {
    "duration": 7,
    "start_time": "2025-01-27T08:07:25.801Z"
   },
   {
    "duration": 3,
    "start_time": "2025-01-27T08:07:25.809Z"
   },
   {
    "duration": 176,
    "start_time": "2025-01-27T08:07:25.813Z"
   },
   {
    "duration": 7,
    "start_time": "2025-01-27T08:07:25.991Z"
   },
   {
    "duration": 5,
    "start_time": "2025-01-27T08:07:26.000Z"
   },
   {
    "duration": 8,
    "start_time": "2025-01-27T08:07:26.006Z"
   },
   {
    "duration": 4,
    "start_time": "2025-01-27T08:07:26.016Z"
   },
   {
    "duration": 275,
    "start_time": "2025-01-27T08:07:26.022Z"
   },
   {
    "duration": 245,
    "start_time": "2025-01-27T08:07:26.299Z"
   },
   {
    "duration": 345,
    "start_time": "2025-01-27T08:07:26.546Z"
   },
   {
    "duration": 3,
    "start_time": "2025-01-27T08:07:26.893Z"
   },
   {
    "duration": 765,
    "start_time": "2025-01-27T08:07:26.898Z"
   },
   {
    "duration": 3,
    "start_time": "2025-01-27T08:07:27.666Z"
   },
   {
    "duration": 878,
    "start_time": "2025-01-27T08:07:27.671Z"
   },
   {
    "duration": 569,
    "start_time": "2025-01-27T08:07:28.551Z"
   },
   {
    "duration": 3,
    "start_time": "2025-01-27T08:07:29.122Z"
   },
   {
    "duration": 154,
    "start_time": "2025-01-27T08:07:29.127Z"
   },
   {
    "duration": 5,
    "start_time": "2025-01-27T08:07:29.282Z"
   },
   {
    "duration": 154,
    "start_time": "2025-01-27T08:07:29.289Z"
   },
   {
    "duration": 3,
    "start_time": "2025-01-27T08:07:29.445Z"
   },
   {
    "duration": 163,
    "start_time": "2025-01-27T08:07:29.453Z"
   },
   {
    "duration": 4,
    "start_time": "2025-01-27T08:07:29.618Z"
   },
   {
    "duration": 3,
    "start_time": "2025-01-27T08:07:29.624Z"
   },
   {
    "duration": 4,
    "start_time": "2025-01-27T08:07:29.629Z"
   },
   {
    "duration": 7,
    "start_time": "2025-01-27T08:07:29.634Z"
   },
   {
    "duration": 3,
    "start_time": "2025-01-27T08:07:29.642Z"
   },
   {
    "duration": 5,
    "start_time": "2025-01-27T08:07:29.647Z"
   },
   {
    "duration": 38,
    "start_time": "2025-01-27T08:07:29.653Z"
   },
   {
    "duration": 6,
    "start_time": "2025-01-27T08:07:29.692Z"
   },
   {
    "duration": 13,
    "start_time": "2025-01-27T08:07:29.699Z"
   },
   {
    "duration": 6,
    "start_time": "2025-01-27T08:07:29.714Z"
   },
   {
    "duration": 3,
    "start_time": "2025-01-27T08:07:29.722Z"
   },
   {
    "duration": 10,
    "start_time": "2025-01-27T08:07:29.727Z"
   },
   {
    "duration": 3,
    "start_time": "2025-01-27T08:07:29.739Z"
   },
   {
    "duration": 4,
    "start_time": "2025-01-27T08:07:29.788Z"
   },
   {
    "duration": 5,
    "start_time": "2025-01-27T08:07:29.794Z"
   },
   {
    "duration": 4,
    "start_time": "2025-01-27T08:07:29.801Z"
   },
   {
    "duration": 5,
    "start_time": "2025-01-27T08:07:29.807Z"
   },
   {
    "duration": 6,
    "start_time": "2025-01-27T08:07:29.813Z"
   },
   {
    "duration": 6,
    "start_time": "2025-01-27T08:12:27.224Z"
   },
   {
    "duration": 6,
    "start_time": "2025-01-27T08:12:32.369Z"
   },
   {
    "duration": 4,
    "start_time": "2025-01-27T08:14:05.120Z"
   },
   {
    "duration": 4,
    "start_time": "2025-01-27T08:19:19.290Z"
   },
   {
    "duration": 3,
    "start_time": "2025-01-27T08:19:25.600Z"
   },
   {
    "duration": 4,
    "start_time": "2025-01-27T08:22:24.854Z"
   },
   {
    "duration": 13,
    "start_time": "2025-01-27T08:23:14.497Z"
   },
   {
    "duration": 4,
    "start_time": "2025-01-27T08:24:35.004Z"
   },
   {
    "duration": 6,
    "start_time": "2025-01-27T08:25:02.084Z"
   },
   {
    "duration": 800,
    "start_time": "2025-01-27T08:30:59.579Z"
   },
   {
    "duration": 219,
    "start_time": "2025-01-27T08:31:00.381Z"
   },
   {
    "duration": 502,
    "start_time": "2025-01-27T08:31:00.601Z"
   },
   {
    "duration": 50,
    "start_time": "2025-01-27T08:31:01.105Z"
   },
   {
    "duration": 8,
    "start_time": "2025-01-27T08:31:01.157Z"
   },
   {
    "duration": 39,
    "start_time": "2025-01-27T08:31:01.166Z"
   },
   {
    "duration": 3,
    "start_time": "2025-01-27T08:31:01.206Z"
   },
   {
    "duration": 159,
    "start_time": "2025-01-27T08:31:01.211Z"
   },
   {
    "duration": 13,
    "start_time": "2025-01-27T08:31:01.373Z"
   },
   {
    "duration": 3,
    "start_time": "2025-01-27T08:31:01.390Z"
   },
   {
    "duration": 3,
    "start_time": "2025-01-27T08:31:01.395Z"
   },
   {
    "duration": 5,
    "start_time": "2025-01-27T08:31:01.400Z"
   },
   {
    "duration": 3,
    "start_time": "2025-01-27T08:31:01.406Z"
   },
   {
    "duration": 3,
    "start_time": "2025-01-27T08:31:01.411Z"
   },
   {
    "duration": 7,
    "start_time": "2025-01-27T08:31:01.416Z"
   },
   {
    "duration": 5,
    "start_time": "2025-01-27T08:31:01.424Z"
   },
   {
    "duration": 7,
    "start_time": "2025-01-27T08:31:01.431Z"
   },
   {
    "duration": 47,
    "start_time": "2025-01-27T08:31:01.440Z"
   },
   {
    "duration": 193,
    "start_time": "2025-01-27T08:31:01.489Z"
   },
   {
    "duration": 7,
    "start_time": "2025-01-27T08:31:01.686Z"
   },
   {
    "duration": 7,
    "start_time": "2025-01-27T08:31:01.694Z"
   },
   {
    "duration": 7,
    "start_time": "2025-01-27T08:31:01.703Z"
   },
   {
    "duration": 4,
    "start_time": "2025-01-27T08:31:01.711Z"
   },
   {
    "duration": 291,
    "start_time": "2025-01-27T08:31:01.717Z"
   },
   {
    "duration": 255,
    "start_time": "2025-01-27T08:31:02.010Z"
   },
   {
    "duration": 262,
    "start_time": "2025-01-27T08:31:02.267Z"
   },
   {
    "duration": 3,
    "start_time": "2025-01-27T08:31:02.531Z"
   },
   {
    "duration": 1091,
    "start_time": "2025-01-27T08:31:02.540Z"
   },
   {
    "duration": 2,
    "start_time": "2025-01-27T08:31:03.633Z"
   },
   {
    "duration": 902,
    "start_time": "2025-01-27T08:31:03.637Z"
   },
   {
    "duration": 463,
    "start_time": "2025-01-27T08:31:04.541Z"
   },
   {
    "duration": 3,
    "start_time": "2025-01-27T08:31:05.006Z"
   },
   {
    "duration": 176,
    "start_time": "2025-01-27T08:31:05.011Z"
   },
   {
    "duration": 5,
    "start_time": "2025-01-27T08:31:05.188Z"
   },
   {
    "duration": 235,
    "start_time": "2025-01-27T08:31:05.194Z"
   },
   {
    "duration": 4,
    "start_time": "2025-01-27T08:31:05.431Z"
   },
   {
    "duration": 166,
    "start_time": "2025-01-27T08:31:05.436Z"
   },
   {
    "duration": 3,
    "start_time": "2025-01-27T08:31:05.604Z"
   },
   {
    "duration": 6,
    "start_time": "2025-01-27T08:31:05.609Z"
   },
   {
    "duration": 4,
    "start_time": "2025-01-27T08:31:05.617Z"
   },
   {
    "duration": 7,
    "start_time": "2025-01-27T08:31:05.623Z"
   },
   {
    "duration": 5,
    "start_time": "2025-01-27T08:31:05.632Z"
   },
   {
    "duration": 6,
    "start_time": "2025-01-27T08:31:05.638Z"
   },
   {
    "duration": 43,
    "start_time": "2025-01-27T08:31:05.645Z"
   },
   {
    "duration": 7,
    "start_time": "2025-01-27T08:31:05.689Z"
   },
   {
    "duration": 14,
    "start_time": "2025-01-27T08:31:05.697Z"
   },
   {
    "duration": 5,
    "start_time": "2025-01-27T08:31:05.712Z"
   },
   {
    "duration": 3,
    "start_time": "2025-01-27T08:31:05.719Z"
   },
   {
    "duration": 9,
    "start_time": "2025-01-27T08:31:05.724Z"
   },
   {
    "duration": 4,
    "start_time": "2025-01-27T08:31:05.734Z"
   },
   {
    "duration": 4,
    "start_time": "2025-01-27T08:31:05.740Z"
   },
   {
    "duration": 5,
    "start_time": "2025-01-27T08:31:05.787Z"
   },
   {
    "duration": 4,
    "start_time": "2025-01-27T08:31:05.793Z"
   },
   {
    "duration": 4,
    "start_time": "2025-01-27T08:31:05.798Z"
   },
   {
    "duration": 6,
    "start_time": "2025-01-27T08:31:05.804Z"
   },
   {
    "duration": 5,
    "start_time": "2025-01-27T08:31:05.813Z"
   },
   {
    "duration": 4,
    "start_time": "2025-01-27T08:31:05.820Z"
   },
   {
    "duration": 6,
    "start_time": "2025-01-27T08:31:05.826Z"
   },
   {
    "duration": 2,
    "start_time": "2025-01-27T08:31:05.834Z"
   },
   {
    "duration": 4,
    "start_time": "2025-01-27T08:31:05.838Z"
   },
   {
    "duration": 44,
    "start_time": "2025-01-27T08:31:05.843Z"
   },
   {
    "duration": 4,
    "start_time": "2025-01-27T08:31:05.889Z"
   },
   {
    "duration": 5,
    "start_time": "2025-01-27T08:31:05.895Z"
   },
   {
    "duration": 3,
    "start_time": "2025-01-27T08:31:05.902Z"
   },
   {
    "duration": 5,
    "start_time": "2025-01-27T08:31:05.907Z"
   },
   {
    "duration": 263,
    "start_time": "2025-01-27T08:31:05.914Z"
   },
   {
    "duration": 0,
    "start_time": "2025-01-27T08:31:06.179Z"
   },
   {
    "duration": 0,
    "start_time": "2025-01-27T08:31:06.180Z"
   },
   {
    "duration": 0,
    "start_time": "2025-01-27T08:31:06.186Z"
   },
   {
    "duration": 0,
    "start_time": "2025-01-27T08:31:06.187Z"
   },
   {
    "duration": 0,
    "start_time": "2025-01-27T08:31:06.188Z"
   },
   {
    "duration": 0,
    "start_time": "2025-01-27T08:31:06.189Z"
   },
   {
    "duration": 0,
    "start_time": "2025-01-27T08:31:06.191Z"
   },
   {
    "duration": 0,
    "start_time": "2025-01-27T08:31:06.192Z"
   },
   {
    "duration": 0,
    "start_time": "2025-01-27T08:31:06.192Z"
   },
   {
    "duration": 0,
    "start_time": "2025-01-27T08:31:06.193Z"
   },
   {
    "duration": 0,
    "start_time": "2025-01-27T08:31:06.196Z"
   },
   {
    "duration": 0,
    "start_time": "2025-01-27T08:31:06.197Z"
   },
   {
    "duration": 0,
    "start_time": "2025-01-27T08:31:06.199Z"
   },
   {
    "duration": 0,
    "start_time": "2025-01-27T08:31:06.200Z"
   },
   {
    "duration": 0,
    "start_time": "2025-01-27T08:31:06.201Z"
   },
   {
    "duration": 0,
    "start_time": "2025-01-27T08:31:06.202Z"
   },
   {
    "duration": 809,
    "start_time": "2025-01-27T08:44:19.175Z"
   },
   {
    "duration": 193,
    "start_time": "2025-01-27T08:44:19.987Z"
   },
   {
    "duration": 519,
    "start_time": "2025-01-27T08:44:20.182Z"
   },
   {
    "duration": 48,
    "start_time": "2025-01-27T08:44:20.704Z"
   },
   {
    "duration": 8,
    "start_time": "2025-01-27T08:44:20.754Z"
   },
   {
    "duration": 40,
    "start_time": "2025-01-27T08:44:20.764Z"
   },
   {
    "duration": 4,
    "start_time": "2025-01-27T08:44:20.805Z"
   },
   {
    "duration": 149,
    "start_time": "2025-01-27T08:44:20.810Z"
   },
   {
    "duration": 5,
    "start_time": "2025-01-27T08:44:20.960Z"
   },
   {
    "duration": 3,
    "start_time": "2025-01-27T08:44:20.969Z"
   },
   {
    "duration": 14,
    "start_time": "2025-01-27T08:44:20.974Z"
   },
   {
    "duration": 5,
    "start_time": "2025-01-27T08:44:20.990Z"
   },
   {
    "duration": 3,
    "start_time": "2025-01-27T08:44:20.997Z"
   },
   {
    "duration": 3,
    "start_time": "2025-01-27T08:44:21.002Z"
   },
   {
    "duration": 7,
    "start_time": "2025-01-27T08:44:21.007Z"
   },
   {
    "duration": 4,
    "start_time": "2025-01-27T08:44:21.016Z"
   },
   {
    "duration": 9,
    "start_time": "2025-01-27T08:44:21.022Z"
   },
   {
    "duration": 3,
    "start_time": "2025-01-27T08:44:21.032Z"
   },
   {
    "duration": 228,
    "start_time": "2025-01-27T08:44:21.036Z"
   },
   {
    "duration": 6,
    "start_time": "2025-01-27T08:44:21.266Z"
   },
   {
    "duration": 18,
    "start_time": "2025-01-27T08:44:21.273Z"
   },
   {
    "duration": 7,
    "start_time": "2025-01-27T08:44:21.292Z"
   },
   {
    "duration": 4,
    "start_time": "2025-01-27T08:44:21.301Z"
   },
   {
    "duration": 268,
    "start_time": "2025-01-27T08:44:21.306Z"
   },
   {
    "duration": 250,
    "start_time": "2025-01-27T08:44:21.576Z"
   },
   {
    "duration": 261,
    "start_time": "2025-01-27T08:44:21.828Z"
   },
   {
    "duration": 3,
    "start_time": "2025-01-27T08:44:22.091Z"
   },
   {
    "duration": 836,
    "start_time": "2025-01-27T08:44:22.100Z"
   },
   {
    "duration": 5,
    "start_time": "2025-01-27T08:44:22.938Z"
   },
   {
    "duration": 897,
    "start_time": "2025-01-27T08:44:22.944Z"
   },
   {
    "duration": 465,
    "start_time": "2025-01-27T08:44:23.843Z"
   },
   {
    "duration": 4,
    "start_time": "2025-01-27T08:44:24.309Z"
   },
   {
    "duration": 161,
    "start_time": "2025-01-27T08:44:24.315Z"
   },
   {
    "duration": 3,
    "start_time": "2025-01-27T08:44:24.478Z"
   },
   {
    "duration": 245,
    "start_time": "2025-01-27T08:44:24.482Z"
   },
   {
    "duration": 3,
    "start_time": "2025-01-27T08:44:24.729Z"
   },
   {
    "duration": 161,
    "start_time": "2025-01-27T08:44:24.734Z"
   },
   {
    "duration": 3,
    "start_time": "2025-01-27T08:44:24.897Z"
   },
   {
    "duration": 5,
    "start_time": "2025-01-27T08:44:24.902Z"
   },
   {
    "duration": 3,
    "start_time": "2025-01-27T08:44:24.909Z"
   },
   {
    "duration": 6,
    "start_time": "2025-01-27T08:44:24.914Z"
   },
   {
    "duration": 4,
    "start_time": "2025-01-27T08:44:24.922Z"
   },
   {
    "duration": 5,
    "start_time": "2025-01-27T08:44:24.928Z"
   },
   {
    "duration": 5,
    "start_time": "2025-01-27T08:44:24.935Z"
   },
   {
    "duration": 48,
    "start_time": "2025-01-27T08:44:24.942Z"
   },
   {
    "duration": 14,
    "start_time": "2025-01-27T08:44:24.991Z"
   },
   {
    "duration": 6,
    "start_time": "2025-01-27T08:44:25.008Z"
   },
   {
    "duration": 4,
    "start_time": "2025-01-27T08:44:25.016Z"
   },
   {
    "duration": 12,
    "start_time": "2025-01-27T08:44:25.022Z"
   },
   {
    "duration": 3,
    "start_time": "2025-01-27T08:44:25.036Z"
   },
   {
    "duration": 4,
    "start_time": "2025-01-27T08:44:25.040Z"
   },
   {
    "duration": 42,
    "start_time": "2025-01-27T08:44:25.046Z"
   },
   {
    "duration": 4,
    "start_time": "2025-01-27T08:44:25.090Z"
   },
   {
    "duration": 4,
    "start_time": "2025-01-27T08:44:25.096Z"
   },
   {
    "duration": 6,
    "start_time": "2025-01-27T08:44:25.102Z"
   },
   {
    "duration": 6,
    "start_time": "2025-01-27T08:44:25.109Z"
   },
   {
    "duration": 5,
    "start_time": "2025-01-27T08:44:25.116Z"
   },
   {
    "duration": 3,
    "start_time": "2025-01-27T08:44:25.123Z"
   },
   {
    "duration": 3,
    "start_time": "2025-01-27T08:44:25.128Z"
   },
   {
    "duration": 4,
    "start_time": "2025-01-27T08:44:25.133Z"
   },
   {
    "duration": 49,
    "start_time": "2025-01-27T08:44:25.138Z"
   },
   {
    "duration": 4,
    "start_time": "2025-01-27T08:44:25.189Z"
   },
   {
    "duration": 6,
    "start_time": "2025-01-27T08:44:25.194Z"
   },
   {
    "duration": 3,
    "start_time": "2025-01-27T08:44:25.202Z"
   },
   {
    "duration": 6,
    "start_time": "2025-01-27T08:44:25.206Z"
   },
   {
    "duration": 3,
    "start_time": "2025-01-27T08:44:25.214Z"
   },
   {
    "duration": 3,
    "start_time": "2025-01-27T08:44:25.218Z"
   },
   {
    "duration": 2,
    "start_time": "2025-01-27T08:44:25.223Z"
   },
   {
    "duration": 3,
    "start_time": "2025-01-27T08:44:25.227Z"
   },
   {
    "duration": 2,
    "start_time": "2025-01-27T08:44:25.232Z"
   },
   {
    "duration": 173672,
    "start_time": "2025-01-27T08:44:25.236Z"
   },
   {
    "duration": 168941,
    "start_time": "2025-01-27T08:47:18.909Z"
   },
   {
    "duration": 7,
    "start_time": "2025-01-27T08:50:07.852Z"
   },
   {
    "duration": 3,
    "start_time": "2025-01-27T08:50:07.862Z"
   },
   {
    "duration": 4,
    "start_time": "2025-01-27T08:50:07.867Z"
   },
   {
    "duration": 1609573,
    "start_time": "2025-01-27T08:50:07.887Z"
   },
   {
    "duration": 2589,
    "start_time": "2025-01-27T18:27:52.856Z"
   },
   {
    "duration": 165,
    "start_time": "2025-01-27T18:27:55.447Z"
   },
   {
    "duration": 600,
    "start_time": "2025-01-27T18:27:55.614Z"
   },
   {
    "duration": 50,
    "start_time": "2025-01-27T18:27:56.217Z"
   },
   {
    "duration": 8,
    "start_time": "2025-01-27T18:27:56.269Z"
   },
   {
    "duration": 19,
    "start_time": "2025-01-27T18:27:56.279Z"
   },
   {
    "duration": 24,
    "start_time": "2025-01-27T18:27:56.300Z"
   },
   {
    "duration": 138,
    "start_time": "2025-01-27T18:27:56.326Z"
   },
   {
    "duration": 5,
    "start_time": "2025-01-27T18:27:56.466Z"
   },
   {
    "duration": 3,
    "start_time": "2025-01-27T18:27:56.475Z"
   },
   {
    "duration": 3,
    "start_time": "2025-01-27T18:27:56.480Z"
   },
   {
    "duration": 4,
    "start_time": "2025-01-27T18:27:56.485Z"
   },
   {
    "duration": 34,
    "start_time": "2025-01-27T18:27:56.491Z"
   },
   {
    "duration": 4,
    "start_time": "2025-01-27T18:27:56.526Z"
   },
   {
    "duration": 7,
    "start_time": "2025-01-27T18:27:56.532Z"
   },
   {
    "duration": 5,
    "start_time": "2025-01-27T18:27:56.541Z"
   },
   {
    "duration": 7,
    "start_time": "2025-01-27T18:27:56.547Z"
   },
   {
    "duration": 3,
    "start_time": "2025-01-27T18:27:56.555Z"
   },
   {
    "duration": 258,
    "start_time": "2025-01-27T18:27:56.559Z"
   },
   {
    "duration": 6,
    "start_time": "2025-01-27T18:27:56.824Z"
   },
   {
    "duration": 6,
    "start_time": "2025-01-27T18:27:56.832Z"
   },
   {
    "duration": 7,
    "start_time": "2025-01-27T18:27:56.839Z"
   },
   {
    "duration": 3,
    "start_time": "2025-01-27T18:27:56.848Z"
   },
   {
    "duration": 281,
    "start_time": "2025-01-27T18:27:56.853Z"
   },
   {
    "duration": 252,
    "start_time": "2025-01-27T18:27:57.135Z"
   },
   {
    "duration": 274,
    "start_time": "2025-01-27T18:27:57.389Z"
   },
   {
    "duration": 4,
    "start_time": "2025-01-27T18:27:57.665Z"
   },
   {
    "duration": 879,
    "start_time": "2025-01-27T18:27:57.674Z"
   },
   {
    "duration": 2,
    "start_time": "2025-01-27T18:27:58.555Z"
   },
   {
    "duration": 919,
    "start_time": "2025-01-27T18:27:58.559Z"
   },
   {
    "duration": 452,
    "start_time": "2025-01-27T18:27:59.481Z"
   },
   {
    "duration": 3,
    "start_time": "2025-01-27T18:27:59.935Z"
   },
   {
    "duration": 166,
    "start_time": "2025-01-27T18:27:59.940Z"
   },
   {
    "duration": 3,
    "start_time": "2025-01-27T18:28:00.109Z"
   },
   {
    "duration": 152,
    "start_time": "2025-01-27T18:28:00.114Z"
   },
   {
    "duration": 3,
    "start_time": "2025-01-27T18:28:00.268Z"
   },
   {
    "duration": 161,
    "start_time": "2025-01-27T18:28:00.273Z"
   },
   {
    "duration": 4,
    "start_time": "2025-01-27T18:28:00.436Z"
   },
   {
    "duration": 5,
    "start_time": "2025-01-27T18:28:00.441Z"
   },
   {
    "duration": 4,
    "start_time": "2025-01-27T18:28:00.449Z"
   },
   {
    "duration": 6,
    "start_time": "2025-01-27T18:28:00.455Z"
   },
   {
    "duration": 4,
    "start_time": "2025-01-27T18:28:00.463Z"
   },
   {
    "duration": 5,
    "start_time": "2025-01-27T18:28:00.468Z"
   },
   {
    "duration": 6,
    "start_time": "2025-01-27T18:28:00.475Z"
   },
   {
    "duration": 42,
    "start_time": "2025-01-27T18:28:00.483Z"
   },
   {
    "duration": 136,
    "start_time": "2025-01-27T18:28:00.526Z"
   },
   {
    "duration": 7,
    "start_time": "2025-01-27T18:28:00.664Z"
   },
   {
    "duration": 3,
    "start_time": "2025-01-27T18:28:00.672Z"
   },
   {
    "duration": 12,
    "start_time": "2025-01-27T18:28:00.677Z"
   },
   {
    "duration": 4,
    "start_time": "2025-01-27T18:28:00.691Z"
   },
   {
    "duration": 28,
    "start_time": "2025-01-27T18:28:00.696Z"
   },
   {
    "duration": 5,
    "start_time": "2025-01-27T18:28:00.726Z"
   },
   {
    "duration": 4,
    "start_time": "2025-01-27T18:28:00.732Z"
   },
   {
    "duration": 5,
    "start_time": "2025-01-27T18:28:00.737Z"
   },
   {
    "duration": 5,
    "start_time": "2025-01-27T18:28:00.744Z"
   },
   {
    "duration": 5,
    "start_time": "2025-01-27T18:28:00.751Z"
   },
   {
    "duration": 5,
    "start_time": "2025-01-27T18:28:00.757Z"
   },
   {
    "duration": 4,
    "start_time": "2025-01-27T18:28:00.763Z"
   },
   {
    "duration": 3,
    "start_time": "2025-01-27T18:28:00.769Z"
   },
   {
    "duration": 5,
    "start_time": "2025-01-27T18:28:00.773Z"
   },
   {
    "duration": 3,
    "start_time": "2025-01-27T18:28:00.824Z"
   },
   {
    "duration": 4,
    "start_time": "2025-01-27T18:28:00.829Z"
   },
   {
    "duration": 7,
    "start_time": "2025-01-27T18:28:00.835Z"
   },
   {
    "duration": 3,
    "start_time": "2025-01-27T18:28:00.843Z"
   },
   {
    "duration": 5,
    "start_time": "2025-01-27T18:28:00.848Z"
   },
   {
    "duration": 2,
    "start_time": "2025-01-27T18:28:00.855Z"
   },
   {
    "duration": 3,
    "start_time": "2025-01-27T18:28:00.859Z"
   },
   {
    "duration": 4,
    "start_time": "2025-01-27T18:28:00.864Z"
   },
   {
    "duration": 3,
    "start_time": "2025-01-27T18:28:09.800Z"
   },
   {
    "duration": 3,
    "start_time": "2025-01-27T18:28:14.993Z"
   },
   {
    "duration": 1612305,
    "start_time": "2025-01-27T18:28:22.382Z"
   },
   {
    "duration": 236,
    "start_time": "2025-01-27T18:55:14.689Z"
   },
   {
    "duration": 0,
    "start_time": "2025-01-27T18:55:14.927Z"
   },
   {
    "duration": 0,
    "start_time": "2025-01-27T18:55:14.928Z"
   },
   {
    "duration": 0,
    "start_time": "2025-01-27T18:55:14.930Z"
   },
   {
    "duration": 1626709,
    "start_time": "2025-01-27T18:55:42.655Z"
   },
   {
    "duration": 5,
    "start_time": "2025-01-27T19:25:22.966Z"
   },
   {
    "duration": 3,
    "start_time": "2025-01-27T19:26:37.261Z"
   },
   {
    "duration": 3,
    "start_time": "2025-01-27T19:26:38.481Z"
   },
   {
    "duration": 174692,
    "start_time": "2025-01-27T19:26:39.617Z"
   },
   {
    "duration": 169298,
    "start_time": "2025-01-27T19:29:34.312Z"
   },
   {
    "duration": 13,
    "start_time": "2025-01-27T19:32:23.612Z"
   },
   {
    "duration": 5,
    "start_time": "2025-01-27T19:32:23.627Z"
   },
   {
    "duration": 6,
    "start_time": "2025-01-27T19:32:23.633Z"
   },
   {
    "duration": 3,
    "start_time": "2025-01-27T19:35:53.613Z"
   },
   {
    "duration": 2,
    "start_time": "2025-01-27T19:35:53.620Z"
   },
   {
    "duration": 510,
    "start_time": "2025-01-27T19:35:53.624Z"
   },
   {
    "duration": 46,
    "start_time": "2025-01-27T19:35:54.136Z"
   },
   {
    "duration": 9,
    "start_time": "2025-01-27T19:35:54.184Z"
   },
   {
    "duration": 37,
    "start_time": "2025-01-27T19:35:54.195Z"
   },
   {
    "duration": 3,
    "start_time": "2025-01-27T19:35:54.234Z"
   },
   {
    "duration": 144,
    "start_time": "2025-01-27T19:35:54.239Z"
   },
   {
    "duration": 4,
    "start_time": "2025-01-27T19:35:54.385Z"
   },
   {
    "duration": 3,
    "start_time": "2025-01-27T19:35:54.393Z"
   },
   {
    "duration": 3,
    "start_time": "2025-01-27T19:35:54.397Z"
   },
   {
    "duration": 22,
    "start_time": "2025-01-27T19:35:54.402Z"
   },
   {
    "duration": 3,
    "start_time": "2025-01-27T19:35:54.426Z"
   },
   {
    "duration": 4,
    "start_time": "2025-01-27T19:35:54.430Z"
   },
   {
    "duration": 7,
    "start_time": "2025-01-27T19:35:54.436Z"
   },
   {
    "duration": 5,
    "start_time": "2025-01-27T19:35:54.445Z"
   },
   {
    "duration": 7,
    "start_time": "2025-01-27T19:35:54.453Z"
   },
   {
    "duration": 4,
    "start_time": "2025-01-27T19:35:54.461Z"
   },
   {
    "duration": 200,
    "start_time": "2025-01-27T19:35:54.466Z"
   },
   {
    "duration": 7,
    "start_time": "2025-01-27T19:35:54.667Z"
   },
   {
    "duration": 6,
    "start_time": "2025-01-27T19:35:54.675Z"
   },
   {
    "duration": 7,
    "start_time": "2025-01-27T19:35:54.682Z"
   },
   {
    "duration": 5,
    "start_time": "2025-01-27T19:35:54.690Z"
   },
   {
    "duration": 254,
    "start_time": "2025-01-27T19:35:54.724Z"
   },
   {
    "duration": 252,
    "start_time": "2025-01-27T19:35:54.983Z"
   },
   {
    "duration": 341,
    "start_time": "2025-01-27T19:35:55.237Z"
   },
   {
    "duration": 5,
    "start_time": "2025-01-27T19:35:55.580Z"
   },
   {
    "duration": 766,
    "start_time": "2025-01-27T19:35:55.586Z"
   },
   {
    "duration": 3,
    "start_time": "2025-01-27T19:35:56.354Z"
   },
   {
    "duration": 900,
    "start_time": "2025-01-27T19:35:56.359Z"
   },
   {
    "duration": 587,
    "start_time": "2025-01-27T19:35:57.261Z"
   },
   {
    "duration": 4,
    "start_time": "2025-01-27T19:35:57.850Z"
   },
   {
    "duration": 174,
    "start_time": "2025-01-27T19:35:57.855Z"
   },
   {
    "duration": 4,
    "start_time": "2025-01-27T19:35:58.030Z"
   },
   {
    "duration": 154,
    "start_time": "2025-01-27T19:35:58.036Z"
   },
   {
    "duration": 4,
    "start_time": "2025-01-27T19:35:58.192Z"
   },
   {
    "duration": 173,
    "start_time": "2025-01-27T19:35:58.198Z"
   },
   {
    "duration": 4,
    "start_time": "2025-01-27T19:35:58.372Z"
   },
   {
    "duration": 5,
    "start_time": "2025-01-27T19:35:58.377Z"
   },
   {
    "duration": 4,
    "start_time": "2025-01-27T19:35:58.383Z"
   },
   {
    "duration": 5,
    "start_time": "2025-01-27T19:35:58.389Z"
   },
   {
    "duration": 3,
    "start_time": "2025-01-27T19:35:58.396Z"
   },
   {
    "duration": 30,
    "start_time": "2025-01-27T19:35:58.401Z"
   },
   {
    "duration": 6,
    "start_time": "2025-01-27T19:35:58.433Z"
   },
   {
    "duration": 6,
    "start_time": "2025-01-27T19:35:58.441Z"
   },
   {
    "duration": 15,
    "start_time": "2025-01-27T19:35:58.449Z"
   },
   {
    "duration": 6,
    "start_time": "2025-01-27T19:35:58.465Z"
   },
   {
    "duration": 4,
    "start_time": "2025-01-27T19:35:58.473Z"
   },
   {
    "duration": 51,
    "start_time": "2025-01-27T19:35:58.478Z"
   },
   {
    "duration": 3,
    "start_time": "2025-01-27T19:35:58.531Z"
   },
   {
    "duration": 4,
    "start_time": "2025-01-27T19:35:58.536Z"
   },
   {
    "duration": 6,
    "start_time": "2025-01-27T19:35:58.541Z"
   },
   {
    "duration": 4,
    "start_time": "2025-01-27T19:35:58.549Z"
   },
   {
    "duration": 5,
    "start_time": "2025-01-27T19:35:58.554Z"
   },
   {
    "duration": 8,
    "start_time": "2025-01-27T19:35:58.560Z"
   },
   {
    "duration": 8,
    "start_time": "2025-01-27T19:35:58.569Z"
   },
   {
    "duration": 5,
    "start_time": "2025-01-27T19:35:58.578Z"
   },
   {
    "duration": 4,
    "start_time": "2025-01-27T19:35:58.625Z"
   },
   {
    "duration": 3,
    "start_time": "2025-01-27T19:35:58.631Z"
   },
   {
    "duration": 4,
    "start_time": "2025-01-27T19:35:58.636Z"
   },
   {
    "duration": 3,
    "start_time": "2025-01-27T19:35:58.642Z"
   },
   {
    "duration": 4,
    "start_time": "2025-01-27T19:35:58.647Z"
   },
   {
    "duration": 7,
    "start_time": "2025-01-27T19:35:58.653Z"
   },
   {
    "duration": 4,
    "start_time": "2025-01-27T19:35:58.661Z"
   },
   {
    "duration": 7,
    "start_time": "2025-01-27T19:35:58.666Z"
   },
   {
    "duration": 3,
    "start_time": "2025-01-27T19:35:58.674Z"
   },
   {
    "duration": 3,
    "start_time": "2025-01-27T19:35:58.724Z"
   },
   {
    "duration": 4,
    "start_time": "2025-01-27T19:35:59.881Z"
   },
   {
    "duration": 2,
    "start_time": "2025-01-27T19:37:06.525Z"
   },
   {
    "duration": 3,
    "start_time": "2025-01-27T19:37:06.542Z"
   },
   {
    "duration": 482,
    "start_time": "2025-01-27T19:37:06.548Z"
   },
   {
    "duration": 48,
    "start_time": "2025-01-27T19:37:07.032Z"
   },
   {
    "duration": 9,
    "start_time": "2025-01-27T19:37:07.081Z"
   },
   {
    "duration": 39,
    "start_time": "2025-01-27T19:37:07.093Z"
   },
   {
    "duration": 4,
    "start_time": "2025-01-27T19:37:07.134Z"
   },
   {
    "duration": 141,
    "start_time": "2025-01-27T19:37:07.140Z"
   },
   {
    "duration": 5,
    "start_time": "2025-01-27T19:37:07.283Z"
   },
   {
    "duration": 4,
    "start_time": "2025-01-27T19:37:07.290Z"
   },
   {
    "duration": 4,
    "start_time": "2025-01-27T19:37:07.297Z"
   },
   {
    "duration": 25,
    "start_time": "2025-01-27T19:37:07.302Z"
   },
   {
    "duration": 3,
    "start_time": "2025-01-27T19:37:07.329Z"
   },
   {
    "duration": 4,
    "start_time": "2025-01-27T19:37:07.334Z"
   },
   {
    "duration": 7,
    "start_time": "2025-01-27T19:37:07.341Z"
   },
   {
    "duration": 5,
    "start_time": "2025-01-27T19:37:07.350Z"
   },
   {
    "duration": 7,
    "start_time": "2025-01-27T19:37:07.357Z"
   },
   {
    "duration": 3,
    "start_time": "2025-01-27T19:37:07.365Z"
   },
   {
    "duration": 217,
    "start_time": "2025-01-27T19:37:07.370Z"
   },
   {
    "duration": 8,
    "start_time": "2025-01-27T19:37:07.589Z"
   },
   {
    "duration": 5,
    "start_time": "2025-01-27T19:37:07.598Z"
   },
   {
    "duration": 20,
    "start_time": "2025-01-27T19:37:07.605Z"
   },
   {
    "duration": 9,
    "start_time": "2025-01-27T19:37:07.627Z"
   },
   {
    "duration": 267,
    "start_time": "2025-01-27T19:37:07.637Z"
   },
   {
    "duration": 261,
    "start_time": "2025-01-27T19:37:07.906Z"
   },
   {
    "duration": 275,
    "start_time": "2025-01-27T19:37:08.168Z"
   },
   {
    "duration": 3,
    "start_time": "2025-01-27T19:37:08.445Z"
   },
   {
    "duration": 893,
    "start_time": "2025-01-27T19:37:08.450Z"
   },
   {
    "duration": 2,
    "start_time": "2025-01-27T19:37:09.345Z"
   },
   {
    "duration": 885,
    "start_time": "2025-01-27T19:37:09.349Z"
   },
   {
    "duration": 453,
    "start_time": "2025-01-27T19:37:10.236Z"
   },
   {
    "duration": 5,
    "start_time": "2025-01-27T19:37:10.691Z"
   },
   {
    "duration": 258,
    "start_time": "2025-01-27T19:37:10.698Z"
   },
   {
    "duration": 3,
    "start_time": "2025-01-27T19:37:10.958Z"
   },
   {
    "duration": 157,
    "start_time": "2025-01-27T19:37:10.963Z"
   },
   {
    "duration": 4,
    "start_time": "2025-01-27T19:37:11.124Z"
   },
   {
    "duration": 186,
    "start_time": "2025-01-27T19:37:11.129Z"
   },
   {
    "duration": 4,
    "start_time": "2025-01-27T19:37:15.148Z"
   },
   {
    "duration": 6,
    "start_time": "2025-01-27T19:37:17.138Z"
   },
   {
    "duration": 4,
    "start_time": "2025-01-27T19:37:25.444Z"
   },
   {
    "duration": 10,
    "start_time": "2025-01-27T19:38:24.586Z"
   },
   {
    "duration": 3,
    "start_time": "2025-01-27T19:38:25.891Z"
   },
   {
    "duration": 4,
    "start_time": "2025-01-27T19:38:27.675Z"
   },
   {
    "duration": 6,
    "start_time": "2025-01-27T19:38:29.148Z"
   },
   {
    "duration": 4,
    "start_time": "2025-01-27T19:38:31.563Z"
   },
   {
    "duration": 6,
    "start_time": "2025-01-27T19:38:33.023Z"
   },
   {
    "duration": 6,
    "start_time": "2025-01-27T19:38:36.564Z"
   },
   {
    "duration": 4,
    "start_time": "2025-01-27T19:39:12.924Z"
   },
   {
    "duration": 2649,
    "start_time": "2025-01-28T02:15:14.832Z"
   },
   {
    "duration": 180,
    "start_time": "2025-01-28T02:15:17.483Z"
   },
   {
    "duration": 632,
    "start_time": "2025-01-28T02:15:17.666Z"
   },
   {
    "duration": 58,
    "start_time": "2025-01-28T02:15:18.299Z"
   },
   {
    "duration": 8,
    "start_time": "2025-01-28T02:15:18.361Z"
   },
   {
    "duration": 20,
    "start_time": "2025-01-28T02:15:18.370Z"
   },
   {
    "duration": 3,
    "start_time": "2025-01-28T02:15:18.392Z"
   },
   {
    "duration": 160,
    "start_time": "2025-01-28T02:15:18.397Z"
   },
   {
    "duration": 4,
    "start_time": "2025-01-28T02:15:18.559Z"
   },
   {
    "duration": 4,
    "start_time": "2025-01-28T02:15:18.565Z"
   },
   {
    "duration": 3,
    "start_time": "2025-01-28T02:15:18.571Z"
   },
   {
    "duration": 5,
    "start_time": "2025-01-28T02:15:18.576Z"
   },
   {
    "duration": 3,
    "start_time": "2025-01-28T02:15:18.584Z"
   },
   {
    "duration": 3,
    "start_time": "2025-01-28T02:15:18.591Z"
   },
   {
    "duration": 41,
    "start_time": "2025-01-28T02:15:18.596Z"
   },
   {
    "duration": 5,
    "start_time": "2025-01-28T02:15:18.639Z"
   },
   {
    "duration": 7,
    "start_time": "2025-01-28T02:15:18.646Z"
   },
   {
    "duration": 2,
    "start_time": "2025-01-28T02:15:18.655Z"
   },
   {
    "duration": 211,
    "start_time": "2025-01-28T02:15:18.659Z"
   },
   {
    "duration": 7,
    "start_time": "2025-01-28T02:15:18.872Z"
   },
   {
    "duration": 6,
    "start_time": "2025-01-28T02:15:18.881Z"
   },
   {
    "duration": 8,
    "start_time": "2025-01-28T02:15:18.888Z"
   },
   {
    "duration": 6,
    "start_time": "2025-01-28T02:15:18.899Z"
   },
   {
    "duration": 288,
    "start_time": "2025-01-28T02:15:18.907Z"
   },
   {
    "duration": 252,
    "start_time": "2025-01-28T02:15:19.197Z"
   },
   {
    "duration": 354,
    "start_time": "2025-01-28T02:15:19.452Z"
   },
   {
    "duration": 3,
    "start_time": "2025-01-28T02:15:19.808Z"
   },
   {
    "duration": 819,
    "start_time": "2025-01-28T02:15:19.813Z"
   },
   {
    "duration": 3,
    "start_time": "2025-01-28T02:15:20.634Z"
   },
   {
    "duration": 867,
    "start_time": "2025-01-28T02:15:20.639Z"
   },
   {
    "duration": 549,
    "start_time": "2025-01-28T02:15:21.508Z"
   },
   {
    "duration": 4,
    "start_time": "2025-01-28T02:15:22.059Z"
   },
   {
    "duration": 175,
    "start_time": "2025-01-28T02:15:22.064Z"
   },
   {
    "duration": 4,
    "start_time": "2025-01-28T02:15:22.241Z"
   },
   {
    "duration": 156,
    "start_time": "2025-01-28T02:15:22.247Z"
   },
   {
    "duration": 4,
    "start_time": "2025-01-28T02:15:22.405Z"
   },
   {
    "duration": 164,
    "start_time": "2025-01-28T02:15:22.411Z"
   },
   {
    "duration": 7,
    "start_time": "2025-01-28T02:15:22.577Z"
   },
   {
    "duration": 4,
    "start_time": "2025-01-28T02:15:22.587Z"
   },
   {
    "duration": 4,
    "start_time": "2025-01-28T02:15:22.593Z"
   },
   {
    "duration": 4,
    "start_time": "2025-01-28T02:15:22.602Z"
   },
   {
    "duration": 27,
    "start_time": "2025-01-28T02:15:22.607Z"
   },
   {
    "duration": 3,
    "start_time": "2025-01-28T02:15:22.636Z"
   },
   {
    "duration": 5,
    "start_time": "2025-01-28T02:15:22.641Z"
   },
   {
    "duration": 6,
    "start_time": "2025-01-28T02:15:22.648Z"
   },
   {
    "duration": 5,
    "start_time": "2025-01-28T02:15:22.656Z"
   },
   {
    "duration": 14,
    "start_time": "2025-01-28T02:15:22.663Z"
   },
   {
    "duration": 6,
    "start_time": "2025-01-28T02:15:22.679Z"
   },
   {
    "duration": 46,
    "start_time": "2025-01-28T02:15:22.687Z"
   },
   {
    "duration": 11,
    "start_time": "2025-01-28T02:15:22.735Z"
   },
   {
    "duration": 3,
    "start_time": "2025-01-28T02:15:22.748Z"
   },
   {
    "duration": 4,
    "start_time": "2025-01-28T02:15:22.753Z"
   },
   {
    "duration": 6,
    "start_time": "2025-01-28T02:15:22.758Z"
   },
   {
    "duration": 3,
    "start_time": "2025-01-28T02:15:22.765Z"
   },
   {
    "duration": 5,
    "start_time": "2025-01-28T02:15:22.770Z"
   },
   {
    "duration": 6,
    "start_time": "2025-01-28T02:15:22.778Z"
   },
   {
    "duration": 46,
    "start_time": "2025-01-28T02:15:22.786Z"
   },
   {
    "duration": 5,
    "start_time": "2025-01-28T02:15:22.833Z"
   },
   {
    "duration": 3,
    "start_time": "2025-01-28T02:15:22.839Z"
   },
   {
    "duration": 3,
    "start_time": "2025-01-28T02:15:22.844Z"
   },
   {
    "duration": 5,
    "start_time": "2025-01-28T02:15:22.848Z"
   },
   {
    "duration": 3,
    "start_time": "2025-01-28T02:15:22.855Z"
   },
   {
    "duration": 4,
    "start_time": "2025-01-28T02:15:22.860Z"
   },
   {
    "duration": 6,
    "start_time": "2025-01-28T02:16:32.617Z"
   },
   {
    "duration": 4,
    "start_time": "2025-01-28T02:16:32.762Z"
   },
   {
    "duration": 6,
    "start_time": "2025-01-28T02:16:33.410Z"
   },
   {
    "duration": 3,
    "start_time": "2025-01-28T02:16:38.260Z"
   },
   {
    "duration": 3,
    "start_time": "2025-01-28T02:16:38.367Z"
   },
   {
    "duration": 3,
    "start_time": "2025-01-28T02:16:38.637Z"
   }
  ],
  "kernelspec": {
   "display_name": "base",
   "language": "python",
   "name": "python3"
  },
  "language_info": {
   "codemirror_mode": {
    "name": "ipython",
    "version": 3
   },
   "file_extension": ".py",
   "mimetype": "text/x-python",
   "name": "python",
   "nbconvert_exporter": "python",
   "pygments_lexer": "ipython3",
   "version": "3.12.4"
  },
  "toc": {
   "base_numbering": 1,
   "nav_menu": {},
   "number_sections": true,
   "sideBar": true,
   "skip_h1_title": true,
   "title_cell": "Table of Contents",
   "title_sidebar": "Contents",
   "toc_cell": false,
   "toc_position": {
    "height": "calc(100% - 180px)",
    "left": "10px",
    "top": "150px",
    "width": "238.6px"
   },
   "toc_section_display": true,
   "toc_window_display": true
  }
 },
 "nbformat": 4,
 "nbformat_minor": 2
}
